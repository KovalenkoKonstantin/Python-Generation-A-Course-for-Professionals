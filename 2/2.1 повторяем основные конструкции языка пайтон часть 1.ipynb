{
 "cells": [
  {
   "cell_type": "markdown",
   "source": [
    "Задачи на функцию\n",
    "Перед тем как вы приступите к прохождению курса, мы бы хотели немного рассказать о задачах, в которых требуется реализовать функцию. Вы и ранее сталкивались с подобными упражнениями, но теперь их стало больше и все они приобрели единый формат. Рассмотрим пару таких задач и дадим несколько комментариев относительно их оформления.\n",
    "\n",
    "Задача 1. Реализуйте функцию get_sum(), которая принимает два аргумента в следующем порядке:\n",
    "\n",
    "a — вещественное число\n",
    "b — вещественное число\n",
    "Функция должна возвращать сумму чисел a и b.\n",
    "\n",
    "Решение. Требуется реализовать функцию, которая принимает два числа и возвращает их сумму. Здесь важно отметить то, что имя реализуемой функции должно быть именно тем, которое предложено в условии задачи, в данном случае — get_sum. Также функция должна принимать указанное количество аргументов, в данном случае — два.\n",
    "\n",
    "За редким исключением, параметры функции можно именовать как угодно. Если же функция имеет параметр со значением по умолчанию, его имя должно совпадать с тем, что указано в условии задачи.\n",
    "\n",
    "Итак, наша функция может иметь вид:\n",
    "\n",
    "def get_sum(a, b):\n",
    "    return a + b\n",
    "Приведенный выше код является ответом на задачу, и именно его следует вставить в окошко ввода. Дополнительно считывать\\выводить данные и вызывать функцию не нужно, требуется лишь реализовать.\n",
    "\n",
    "Задача 2. Реализуйте функцию get_log(), которая принимает два аргумента в следующем порядке:\n",
    "\n",
    "value — положительное число\n",
    "base — положительное число, не равное 1; по умолчанию имеет значение 2\n",
    "Функция должна возвращать логарифм числа value по основанию base.\n",
    "\n",
    "Решение. Так как в задаче требуется вычисление логарифма, воспользуемся встроенной библиотекой math.\n",
    "\n",
    "   Все функции и типы данных, не являющиеся встроенными, нужно импортировать вручную.\n",
    "\n",
    "Итак, наша функция может иметь вид:\n",
    "\n",
    "from math import log\n",
    "\n",
    "def get_log(value, base=2):\n",
    "    return log(value, base)\n",
    "Приведенный выше код является ответом на задачу, и именно его следует вставить в окошко ввода. Дополнительно считывать\\выводить данные и вызывать функцию не нужно, требуется лишь реализовать.\n",
    "\n",
    "Примечания\n",
    "Примечание 1. Допускается использование вспомогательных функций, то есть вы можете дополнительно реализовать несколько функций и вызывать их внутри основной.\n",
    "\n",
    "Примечание 2. Не рекомендуется определять и использовать глобальные переменные.\n",
    "\n",
    "Примечание 3. В задачах на функцию нет входных и выходных данных, тем не менее в тестовых данных вы увидите строки кода и соответствующий вывод: это именно то, как мы будем вызывать и тестировать реализованную вами функцию.\n",
    "\n",
    "Примечание 4. Иногда от функции требуется, чтобы она не возвращала значение, а выводила текст, в данном случае возвращаемым значением функции считается None, так как в Python любая функция имеет возвращаемое значение, и если оно не указано явно, им является именно None."
   ],
   "metadata": {
    "collapsed": false
   },
   "id": "f6e2491f6f50b9db"
  },
  {
   "cell_type": "markdown",
   "source": [
    "Реализуйте функцию hide_card(), которая принимает один аргумент:\n",
    "\n",
    "card_number — строка, представляющая собой корректный номер банковской карты из 16 цифр, между которыми могут присутствовать символы пробела\n",
    "Функция должна заменять первые 12 цифр в строке card_number на символ * и возвращать полученный результат. Если между цифрами в номере имелись символы пробела, их следует удалить.\n",
    "\n",
    "Примечание 1. В тестирующую систему сдайте программу, содержащую только необходимую функцию hide_card(), но не код, вызывающий ее."
   ],
   "metadata": {
    "collapsed": false
   },
   "id": "6fc034fa1626a60f"
  },
  {
   "cell_type": "code",
   "execution_count": 34,
   "outputs": [
    {
     "name": "stdout",
     "output_type": "stream",
     "text": [
      "True\n"
     ]
    }
   ],
   "source": [
    "from typing import Tuple, Dict, Any\n",
    "\n",
    "in_put = '3456 9012 5678 1234'\n",
    "out_put = '************1234'\n",
    "\n",
    "\n",
    "def hide_card(in_put: str):\n",
    "    return 12 * '*' + ''.join(in_put.split())[-4:]\n",
    "\n",
    "\n",
    "print(hide_card(in_put) == out_put)"
   ],
   "metadata": {
    "collapsed": false,
    "ExecuteTime": {
     "end_time": "2024-09-10T12:19:00.523195400Z",
     "start_time": "2024-09-10T12:19:00.520271Z"
    }
   },
   "id": "4fca17a237523863"
  },
  {
   "cell_type": "markdown",
   "source": [
    "Реализуйте функцию same_parity(), которая принимает один аргумент:\n",
    "\n",
    "numbers — список целых чисел\n",
    "Функция должна возвращать новый список, элементами которого являются числа из списка numbers, имеющие ту же четность, что и первый элемент этого списка.\n",
    "\n",
    "Примечание 1. Числа в возвращаемом функцией списке должны располагаться в своем исходном порядке. \n",
    "\n",
    "Примечание 2. В тестирующую систему сдайте программу, содержащую только необходимую функцию same_parity(), но не код, вызывающий ее."
   ],
   "metadata": {
    "collapsed": false
   },
   "id": "9c6f69534fe93a7c"
  },
  {
   "cell_type": "code",
   "execution_count": 45,
   "outputs": [
    {
     "name": "stdout",
     "output_type": "stream",
     "text": [
      "True\n"
     ]
    }
   ],
   "source": [
    "in_put = [6, 0, 67, -7, 10, -20]\n",
    "out_put = [6, 0, 10, -20]\n",
    "\n",
    "\n",
    "def same_parity(numbers: list):\n",
    "    return [i for i in numbers if i % 2 == numbers[0] % 2]\n",
    "\n",
    "\n",
    "print(same_parity(in_put) == out_put)"
   ],
   "metadata": {
    "collapsed": false,
    "ExecuteTime": {
     "end_time": "2024-09-10T12:30:34.459323700Z",
     "start_time": "2024-09-10T12:30:34.455307900Z"
    }
   },
   "id": "48651f3b63ee2c36"
  },
  {
   "cell_type": "markdown",
   "source": [
    "Функция filter():\n",
    "- filter(function, iterable) — это встроенная функция Python, которая позволяет фильтровать элементы из итерируемого объекта (в данном случае, списка numbers).\n",
    "- lambda elem: elem % 2 == numbers[0] % 2 — это анонимная (лямбда) функция, которая принимает отдельный элемент elem из списка и проверяет, имеет ли он ту же четность, что и первый элемент numbers. Если четность совпадает (то есть результат выражения равен True), элемент будет включен в результирующий список."
   ],
   "metadata": {
    "collapsed": false
   },
   "id": "66474af66bf16015"
  },
  {
   "cell_type": "code",
   "execution_count": null,
   "outputs": [],
   "source": [
    "def same_parity(numbers):\n",
    "    # Проверим, что входной список не пустой\n",
    "    if not numbers:\n",
    "        return []  # Возвращаем пустой список, если входной массив пуст\n",
    "\n",
    "    # Вычисляем четность первого элемента\n",
    "    parity = numbers[0] % 2\n",
    "\n",
    "    # Фильтруем элементы по четности\n",
    "    return list(filter(lambda elem: elem % 2 == parity, numbers))"
   ],
   "metadata": {
    "collapsed": false
   },
   "id": "d9ae9385d76be092"
  },
  {
   "cell_type": "markdown",
   "source": [
    "Функция is_valid()\n",
    "Будем считать, что PIN-код является корректным, если он удовлетворяет следующим условиям:\n",
    "\n",
    "состоит из 4, 5 или 6 символов\n",
    "состоит только из цифр (0−9)\n",
    "не содержит пробелов\n",
    "Реализуйте функцию is_valid(), которая принимает один аргумент:\n",
    "\n",
    "string — произвольная строка\n",
    "Функция должна возвращать значение True, если строка string представляет собой корректный PIN-код, или False в противном случае.\n",
    "\n",
    "Примечание 1. Если в функцию передается пустая строка, функция должна возвращать значение False.\n",
    "\n",
    "Примечание 2. В тестирующую систему сдайте программу, содержащую только необходимую функцию is_valid(), но не код, вызывающий ее."
   ],
   "metadata": {
    "collapsed": false
   },
   "id": "e709c7694d7c4dd0"
  },
  {
   "cell_type": "code",
   "execution_count": null,
   "outputs": [],
   "source": [
    "def is_valid(string: str) -> bool:\n",
    "    ln = len(string) in range(4, 7)\n",
    "    dgt = string.isdigit()\n",
    "    spaces = len(string) == len(string.replace(' ', ''))\n",
    "    return all([ln, dgt, spaces])"
   ],
   "metadata": {
    "collapsed": false
   },
   "id": "d187b59f9edab3"
  },
  {
   "cell_type": "code",
   "execution_count": null,
   "outputs": [],
   "source": [
    "def is_valid(pin):\n",
    "    return pin.isdigit() and len(pin) in (4, 5, 6)"
   ],
   "metadata": {
    "collapsed": false
   },
   "id": "28818509d57ee46"
  },
  {
   "cell_type": "markdown",
   "source": [
    "Функция print_given()\n",
    "Реализуйте функцию print_given(), которая принимает произвольное количество позиционных и именованных аргументов и выводит все переданные аргументы, указывая тип каждого. Пары аргумент-тип должны выводиться каждая на отдельной строке, в следующем формате:\n",
    "\n",
    "для позиционных аргументов:\n",
    "<значение аргумента> <тип аргумента>\n",
    "для именованных аргументов:\n",
    "<имя переменной> <значение аргумента> <тип аргумента>\n",
    "Примечание 1. При выводе позиционные аргументы должны быть расположены в порядке их передачи, именованные — в лексикографическом порядке имен переменных.\n",
    "\n",
    "Примечание 2. При выводе сначала должны следовать все позиционные аргументы, затем — все именованные.\n",
    "\n",
    "Примечание 3. Если в функцию ничего не передается, функция ничего не должна выводить.\n",
    "\n",
    "Примечание 4. В тестирующую систему сдайте программу, содержащую только необходимую функцию print_given(), но не код, вызывающий ее."
   ],
   "metadata": {
    "collapsed": false
   },
   "id": "d2347fd71a1247b7"
  },
  {
   "cell_type": "code",
   "execution_count": null,
   "outputs": [],
   "source": [
    "in_put = (1, [1, 2, 3], 'three', two=2)\n",
    "out_put = [1 <\n",
    "\n",
    "\n",
    "class 'int'>\n",
    "\n",
    "\n",
    "[1, 2, 3] <\n",
    "\n",
    "\n",
    "class 'list'>\n",
    "\n",
    "\n",
    "three <\n",
    "\n",
    "\n",
    "class 'str'>\n",
    "\n",
    "\n",
    "two\n",
    "2 <\n",
    "\n",
    "\n",
    "class 'int'>]\n",
    "\n",
    "\n",
    "def print_given(*args, **kwargs):\n",
    "    try:\n",
    "        for i in sorted(args):\n",
    "            print(i, type(i))\n",
    "    except:\n",
    "        for i in args:\n",
    "            print(i, type(i))\n",
    "    for i, j in sorted(kwargs.items()):\n",
    "        print(*(i, j, type(j)))\n",
    "\n",
    "\n",
    "print_given(in_put)"
   ],
   "metadata": {
    "collapsed": false
   },
   "id": "710e8297856343bd"
  },
  {
   "cell_type": "code",
   "execution_count": null,
   "outputs": [],
   "source": [
    "def print_given(*args, **kwargs):\n",
    "    [print(a, type(a)) for a in args]\n",
    "    [print(k, v, type(v)) for k, v in sorted(kwargs.items())]"
   ],
   "metadata": {
    "collapsed": false
   },
   "id": "488b1ab760bf419d"
  },
  {
   "cell_type": "markdown",
   "source": [
    "Функция convert()\n",
    "Реализуйте функцию convert(), которая принимает один аргумент:\n",
    "\n",
    "string — произвольная строка\n",
    "Функция должна возвращать строку string:\n",
    "\n",
    "полностью в нижнем регистре, если букв в нижнем регистре в этой строке больше\n",
    "полностью в верхнем регистре, если букв в верхнем регистре в этой строке больше\n",
    "полностью в нижнем регистре, если количество букв в верхнем и нижнем регистрах в этой строке совпадает\n",
    "Примечание 1. Символы строки, не являющиеся буквами, следует игнорировать.\n",
    "\n",
    "Примечание 2. В тестирующую систему сдайте программу, содержащую только необходимую функцию convert(), но не код, вызывающий ее."
   ],
   "metadata": {
    "collapsed": false
   },
   "id": "17a44c41ad359011"
  },
  {
   "cell_type": "code",
   "execution_count": null,
   "outputs": [],
   "source": [
    "def convert(string: str) -> str:\n",
    "    check = len([i for i in string if i.isalpha() and i.islower()]) >= len(\n",
    "        [i for i in string if i.isalpha() and i.isupper()])\n",
    "    return ''.join([i.lower() if check else i.upper() for i in string])"
   ],
   "metadata": {
    "collapsed": false
   },
   "id": "d49ac7c2da36a6a4"
  },
  {
   "cell_type": "code",
   "execution_count": null,
   "outputs": [],
   "source": [
    "def convert(string):\n",
    "    if sum(1 if c.isupper() else -1 for c in string if c.isalpha()) > 0:\n",
    "        return string.upper()\n",
    "    return string.lower()"
   ],
   "metadata": {
    "collapsed": false
   },
   "id": "884119ae95dd7407"
  },
  {
   "cell_type": "markdown",
   "source": [
    "Функция filter_anagrams()\n",
    "Анаграммы — это слова, которые состоят из одинаковых букв. Например:\n",
    "\n",
    "адаптер — петарда\n",
    "адресочек — середочка\n",
    "азбука — базука\n",
    "аистенок — осетинка\n",
    "Реализуйте функцию filter_anagrams(), которая принимает два аргумента в следующем порядке:\n",
    "\n",
    "word — слово в нижнем регистре\n",
    "words — список слов в нижнем регистре\n",
    "Функция должна возвращать список, элементами которого являются слова из списка words, которые представляют анаграмму слова word. Если список words пуст или не содержит анаграмм, функция должна вернуть пустой список.\n",
    "\n",
    "Примечание 1. Слова в возвращаемом функцией списке должны располагаться в своем исходном порядке. \n",
    "\n",
    "Примечание 2. Считайте, что слово является анаграммой самого себя.\n",
    "\n",
    "Примечание 3. В тестирующую систему сдайте программу, содержащую только необходимую функцию filter_anagrams(), но не код, вызывающий ее."
   ],
   "metadata": {
    "collapsed": false
   },
   "id": "91ac5247a555a658"
  },
  {
   "cell_type": "code",
   "execution_count": null,
   "outputs": [],
   "source": [
    "def filter_anagrams(word: str, words: list) -> list:\n",
    "    l = []\n",
    "    for i in words:\n",
    "        if sorted(i) == sorted(word):\n",
    "            l.append(i)\n",
    "    return l"
   ],
   "metadata": {
    "collapsed": false
   },
   "id": "4143996ffb1ec31a"
  },
  {
   "cell_type": "markdown",
   "source": [
    "Функция likes()\n",
    "В различных социальных сетях существуют системы лайков, которые в зависимости от количества людей, оценивших запись, показывают соответствующую информацию.\n",
    "\n",
    "Реализуйте функцию likes(), которая принимает один аргумент:\n",
    "\n",
    "names — список имён\n",
    "Функция должна возвращать строку в соответствии с примерами ниже, содержание которой зависит от количества имён в списке names.\n",
    "\n",
    "Приведенный ниже код:\n",
    "\n",
    "print(likes([]))\n",
    "print(likes(['Тимур']))\n",
    "print(likes(['Тимур', 'Артур']))\n",
    "print(likes(['Тимур', 'Артур', 'Руслан']))\n",
    "print(likes(['Тимур', 'Артур', 'Руслан', 'Анри']))\n",
    "print(likes(['Тимур', 'Артур', 'Руслан', 'Анри', 'Дима']))\n",
    "print(likes(['Тимур', 'Артур', 'Руслан', 'Анри', 'Дима', 'Рома', 'Гвидо', 'Марк']))\n",
    "должен выводить:\n",
    "\n",
    "Никто не оценил данную запись\n",
    "Тимур оценил(а) данную запись\n",
    "Тимур и Артур оценили данную запись\n",
    "Тимур, Артур и Руслан оценили данную запись\n",
    "Тимур, Артур и 2 других оценили данную запись\n",
    "Тимур, Артур и 3 других оценили данную запись\n",
    "Тимур, Артур и 6 других оценили данную запись\n",
    "Примечание 1. Имена в формируемой и возвращаемой функцией строке должны располагаться в своем исходном порядке.\n",
    "\n",
    "Примечание 2. Обратите внимание, что если в передаваемом в функцию списке более трех имен, то явно указываются лишь первые два из них. \n",
    "\n",
    "Примечание 3. В тестирующую систему сдайте программу, содержащую только необходимую функцию likes(), но не код, вызывающий ее."
   ],
   "metadata": {
    "collapsed": false
   },
   "id": "2ccd41e8471c085c"
  },
  {
   "cell_type": "code",
   "execution_count": null,
   "outputs": [],
   "source": [
    "def likes(names: list) -> str:\n",
    "    if len(names) == 0:\n",
    "        return 'Никто не оценил данную запись'\n",
    "    elif len(names) == 1:\n",
    "        return f'{''.join(names)} оценил(а) данную запись'\n",
    "    elif len(names) == 2:\n",
    "        return f'{' и '.join(names)} оценили данную запись'\n",
    "    elif len(names) == 3:\n",
    "        return f'{', '.join(names[:-1])} и {''.join(names[-1])} оценили данную запись'\n",
    "    else:\n",
    "        return f'{', '.join(names[:2])} и {len(names[2:])} других оценили данную запись'"
   ],
   "metadata": {
    "collapsed": false
   },
   "id": "c08488a22baf67c4"
  },
  {
   "cell_type": "markdown",
   "source": [
    "Функция index_of_nearest()\n",
    "Реализуйте функцию index_of_nearest(), которая принимает два аргумента в следующем порядке:\n",
    "\n",
    "numbers — список целых чисел\n",
    "number — целое число\n",
    "Функция должна находить в списке numbers ближайшее по значению число к числу number и возвращать его индекс. Если список numbers пуст, функция должна вернуть число \n",
    "−1.\n",
    "\n",
    "Примечание 1. Если в функцию передается список, содержащий несколько чисел, одновременно являющихся ближайшими к искомому числу, функция должна возвращать наименьший из индексов ближайших чисел.\n",
    "\n",
    "Примечание 2. Рассмотрим третий тест. Ближайшими числами к числу 4 являются 5 и 3, имеющие индексы 1 и 2 соответственно. Наименьший из индексов равен 1.\n",
    "\n",
    "Примечание 3. В тестирующую систему сдайте программу, содержащую только необходимую функцию index_of_nearest(), но не код, вызывающий ее."
   ],
   "metadata": {
    "collapsed": false
   },
   "id": "6224de962b75cdad"
  },
  {
   "cell_type": "code",
   "execution_count": null,
   "outputs": [],
   "source": [
    "def index_of_nearest(numbers: list, number: int) -> int:\n",
    "    dic = {i: j for i, j in enumerate(numbers)}\n",
    "\n",
    "    if not len(numbers):\n",
    "        return -1\n",
    "    for i in numbers:\n",
    "        if i == number:\n",
    "            return list(dic.values()).index(i)\n",
    "            break\n",
    "    mn = max(i for i in numbers if i < number) if any(i < number for i in numbers) else False\n",
    "    mx = min(i for i in numbers if i > number) if any(i > number for i in numbers) else False\n",
    "    # print(mn, mx)\n",
    "    # print(dic)\n",
    "    # print(list(dic.values()).index(mx))\n",
    "    if not mn:\n",
    "        return list(dic.values()).index(mx)\n",
    "    elif not mx:\n",
    "        return list(dic.values()).index(mn)\n",
    "    elif abs(abs(mn) - abs(number)) == abs(abs(mx) - abs(number)):\n",
    "        l = sorted([list(dic.values()).index(mx), list(dic.values()).index(mn)])[0]\n",
    "        # print(l)\n",
    "        return l\n",
    "    else:\n",
    "        search = min(mn + number, mx + number)\n",
    "        # print(search)\n",
    "        return list(dic.values()).index(search)"
   ],
   "metadata": {
    "collapsed": false
   },
   "id": "3dbcf0f6a8376b17"
  },
  {
   "cell_type": "code",
   "execution_count": null,
   "outputs": [],
   "source": [
    "def index_of_nearest(nums, n):\n",
    "    if nums:\n",
    "        minimum = min(nums, key=lambda num: abs(num - n))\n",
    "        return nums.index(minimum)\n",
    "    return -1"
   ],
   "metadata": {
    "collapsed": false
   },
   "id": "ede05a50eadd139e"
  },
  {
   "cell_type": "markdown",
   "source": [
    "Функция spell()\n",
    "Реализуйте функцию spell(), которая принимает произвольное количество позиционных аргументов-слов и возвращает словарь, ключи которого — первые буквы слов, а значения — максимальные длины слов на эту букву.\n",
    "\n",
    "Примечание 1. Если в функцию не передается ни одного аргумента, функция должна возвращать пустой словарь.\n",
    "\n",
    "Примечание 2. Функция должна игнорировать регистр слов, при этом в результирующий словарь должны попасть именно буквы в нижнем регистре.\n",
    "\n",
    "Примечание 3. В тестирующую систему сдайте программу, содержащую только необходимую функцию, но не код, вызывающий ее."
   ],
   "metadata": {
    "collapsed": false
   },
   "id": "7ad9125ba49f6da0"
  },
  {
   "cell_type": "code",
   "execution_count": null,
   "outputs": [],
   "source": [
    "def spell(*args: list) -> dict:\n",
    "    args = sorted([i.lower() for i in args], key=lambda x: len(x))\n",
    "    print(args)\n",
    "    return {i.lower()[0]: len(i) for i in args}"
   ],
   "metadata": {
    "collapsed": false
   },
   "id": "bba3c8cd638038c"
  },
  {
   "cell_type": "code",
   "execution_count": null,
   "outputs": [],
   "source": [
    "def spell(*args):\n",
    "    return {i[0].lower(): len(i) for i in sorted(args, key=len)}"
   ],
   "metadata": {
    "collapsed": false
   },
   "id": "ba72bf00e318143f"
  },
  {
   "cell_type": "markdown",
   "source": [
    "Функция choose_plural() 🌶️🌶️\n",
    "Реализуйте функцию choose_plural(), которая принимает два аргумента в следующем порядке:\n",
    "\n",
    "amount — натуральное число, количество\n",
    "declensions — кортеж из трех вариантов склонения существительного\n",
    "Функция должна возвращать строку, полученную путем объединения подходящего существительного из кортежа declensions и количества amount, в следующем формате:\n",
    "\n",
    "<количество> <существительное>\n",
    "Примечание 1. Передаваемый в функцию кортеж легко составить по мнемоническому правилу: один, два, пять. Например:\n",
    "\n",
    "для слова «арбуз»: арбуз, арбуза, арбузов\n",
    "для слова «рубль»: рубль, рубля, рублей\n",
    "Примечание 2. В тестирующую систему сдайте программу, содержащую только необходимую функцию choose_plural(), но не код, вызывающий ее."
   ],
   "metadata": {
    "collapsed": false
   },
   "id": "4c8a4d78751c3042"
  },
  {
   "cell_type": "code",
   "execution_count": null,
   "outputs": [],
   "source": [
    "def choose_plural(amount: int, declensions: tuple) -> str:\n",
    "    suffixes = {0: 2, 1: 0, 2: 1, 3: 1, 4: 1, 5: 2, 6: 2, 7: 2, 8: 2, 9: 2, 10: 2, 11: 2, 12: 2, 13: 2, 14: 2}\n",
    "    # print(str(amount)[-2:])\n",
    "    # print(suffixes[int(str(amount)[-2:])])\n",
    "    if int(str(amount)[-2:]) < 10:\n",
    "        search = suffixes[int(str(amount)[-1])]\n",
    "    elif int(str(amount)[-2:]) in (10, 11, 12, 13, 14):\n",
    "        search = suffixes[int(str(amount)[-2:])]\n",
    "    else:\n",
    "        search = suffixes[int(str(amount)[-1])]\n",
    "    return f'{amount} {declensions[search]}'\n"
   ],
   "metadata": {
    "collapsed": false
   },
   "id": "56e3ef2834f2ed6f"
  },
  {
   "cell_type": "markdown",
   "source": [
    "Функция get_biggest() 🌶️🌶️\n",
    "Реализуйте функцию get_biggest(), которая принимает один аргумент:\n",
    "\n",
    "numbers — список целых неотрицательных чисел\n",
    "Функция должна возвращать наибольшее число, которое можно составить из чисел из списка numbers. Если список numbers пуст, функция должна вернуть число −1.\n",
    "\n",
    "Примечание 1. Рассмотрим первый тест со списком чисел [1, 2, 3], из которых можно составить следующие числа: 123,132,213,231,312,321\n",
    "Наибольшим из представленных является 321.\n",
    "\n",
    "Примечание 2. В тестирующую систему сдайте программу, содержащую только необходимую функцию get_biggest(), но не код, вызывающий ее."
   ],
   "metadata": {
    "collapsed": false
   },
   "id": "8120c050c2ff3080"
  },
  {
   "cell_type": "code",
   "execution_count": 115,
   "outputs": [],
   "source": [
    "def get_biggest(numbers: list) -> int:\n",
    "    if numbers:\n",
    "        amount_dig_max_el = max(len(str(i)) for i in numbers)\n",
    "        numbers.sort(key=lambda x: str(x) * amount_dig_max_el, reverse=True)\n",
    "        return int(''.join(str(i) for i in numbers))\n",
    "    return -1"
   ],
   "metadata": {
    "collapsed": false,
    "ExecuteTime": {
     "end_time": "2024-09-11T12:20:39.758250Z",
     "start_time": "2024-09-11T12:20:39.753455500Z"
    }
   },
   "id": "1a6f7d4c57cf7f85"
  },
  {
   "cell_type": "code",
   "execution_count": 114,
   "outputs": [
    {
     "name": "stdout",
     "output_type": "stream",
     "text": [
      "[72, 71, 7]\n",
      "72717\n"
     ]
    }
   ],
   "source": [
    "l = [61, 228, 9, 3, 11]\n",
    "l = [7, 71, 72]\n",
    "# l.sort(i for i in enumerate(l), key=lambda x: int(str(x)[0]), reverse=True)\n",
    "# print(l)\n",
    "    \n",
    "l.sort(key=lambda x: str(x), reverse=True)\n",
    "print(l)\n",
    "print(*l, sep='')"
   ],
   "metadata": {
    "collapsed": false,
    "ExecuteTime": {
     "end_time": "2024-09-11T12:20:32.422285200Z",
     "start_time": "2024-09-11T12:20:32.417488400Z"
    }
   },
   "id": "d2046ad1b65fb97"
  }
 ],
 "metadata": {
  "kernelspec": {
   "display_name": "Python 3",
   "language": "python",
   "name": "python3"
  },
  "language_info": {
   "codemirror_mode": {
    "name": "ipython",
    "version": 2
   },
   "file_extension": ".py",
   "mimetype": "text/x-python",
   "name": "python",
   "nbconvert_exporter": "python",
   "pygments_lexer": "ipython2",
   "version": "2.7.6"
  }
 },
 "nbformat": 4,
 "nbformat_minor": 5
}
