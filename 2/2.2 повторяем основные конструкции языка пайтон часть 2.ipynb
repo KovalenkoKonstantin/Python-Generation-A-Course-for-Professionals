{
 "cells": [
  {
   "cell_type": "markdown",
   "source": [
    "Тимур, Артур и новый курс"
   ],
   "metadata": {
    "collapsed": false
   },
   "id": "4117b414642dc98c"
  },
  {
   "cell_type": "markdown",
   "source": [
    "Сегодня Тимур ждёт в гости своего друга Артура, чтобы спланировать работу по новому курсу \"ООП на Python\". Чтобы подготовиться к встрече, Тимуру необходимо посетить два магазина, расположенных рядом с его домом. От дома до первого магазина ведёт дорожка длиной d1  метров, а до второго магазина ведёт дорожка длиной d2  метров. Также существует дорожка, соединяющая два магазина друг с другом, длиной d 3  метров.\n",
    "\n",
    "Напишите программу, которая вычисляет минимальное расстояние, которое потребуется пройти Тимуру, чтобы посетить оба магазина и вернуться домой. Тимур всегда стартует из дома. Он должен посетить оба магазина, перемещаясь только по имеющимся трём дорожкам, и вернуться назад домой. При этом его совершенно не смутит, если ему придётся посетить один и тот же магазин или пройти по одной и той же дорожке более одного раза. Единственная его задача — минимизировать суммарное пройденное расстояние.\n",
    "\n",
    "Формат входных данных\n",
    "На вход программе подаются 3 натуральных числа  d1, d2, d3  — длины дорожек, каждое на отдельной строке:\n",
    "\n",
    "d1  — длина дорожки, соединяющая дом Тимура и первый магазин\n",
    "d2  — длина дорожки, соединяющая дом Тимура и второй магазин\n",
    "d3  — длина дорожки, соединяющая магазины\n",
    "Формат выходных данных\n",
    "Программа должна вывести минимальное количество метров, которое придётся пройти Тимуру, чтобы посетить оба магазина и вернуться домой.\n",
    "\n",
    "Примечание 1. \n",
    "Одним из оптимальных маршрутов является: дом ⟶ первый магазин ⟶ второй магазин ⟶ дом.\n",
    "\n",
    "Во втором примере одним из оптимальных маршрутов является: дом ⟶ первый магазин ⟶ дом ⟶ второй магазин ⟶дом."
   ],
   "metadata": {
    "collapsed": false
   },
   "id": "b76f000dcc30bde8"
  },
  {
   "cell_type": "code",
   "execution_count": null,
   "outputs": [],
   "source": [
    "d1, d2, d3 = int(input()), int(input()), int(input())\n",
    "\n",
    "variant1 = d1 + d2 + d3\n",
    "variant2 = d1 + d1 + d2 + d2\n",
    "variant3 = d2 + d3 + d3 + d2\n",
    "variant4 = d1 + d3 + d3 + d1\n",
    "\n",
    "print(min(variant1, variant2, variant3, variant4))"
   ],
   "metadata": {
    "collapsed": false
   },
   "id": "542c158d7f737b7a"
  },
  {
   "cell_type": "code",
   "execution_count": null,
   "outputs": [],
   "source": [
    "d1, d2, d3 = [int(input()) for _ in range(3)]\n",
    "\n",
    "print(min(d1 + d2 + d3, 2 * (d1 + d2), 2 * (d2 + d3), 2 * (d1 + d3)))"
   ],
   "metadata": {
    "collapsed": false
   },
   "id": "c8d2e53c76fb54a5"
  },
  {
   "cell_type": "markdown",
   "source": [
    "Схожие буквы"
   ],
   "metadata": {
    "collapsed": false
   },
   "id": "41f58ed53b58cef7"
  },
  {
   "cell_type": "markdown",
   "source": [
    "В русском и английском языках есть буквы, которые выглядят одинаково. Вот список английских букв \"AaBCcEeHKMOoPpTXxy\", а вот их русские аналоги \"АаВСсЕеНКМОоРрТХху\". Напишите программу, которая для трёх букв из данных списков букв определяет, русские они, английские или и те и другие (смесь русских и английских букв).\n",
    "\n",
    "Формат входных данных\n",
    "На вход программе подаются три буквы из указанных в условии наборов букв, каждая на отдельной строке.\n",
    "\n",
    "Формат выходных данных\n",
    "Программа должна вывести\n",
    "\n",
    "ru, если все три буквы русские\n",
    " en, если все три буквы английские\n",
    " mix, если среди букв есть как русские, так и английские\n",
    "Примечание 1. Гарантируется, что введенные три буквы находятся в наборе \"AaBCcEeHKMOoPpTXxy\" + \"АаВСсЕеНКМОоРрТХху\" (английские + русские буквы)."
   ],
   "metadata": {
    "collapsed": false
   },
   "id": "25dabf3030240d3d"
  },
  {
   "cell_type": "code",
   "execution_count": null,
   "outputs": [],
   "source": [
    "ru = 'АаВСсЕеНКМОоРрТХху'\n",
    "en = 'AaBCcEeHKMOoPpTXxy'\n",
    "\n",
    "l = [input() for _ in range(3)]\n",
    "\n",
    "\n",
    "def check(lst: list) -> str:\n",
    "    if all(char in ru for char in l):\n",
    "        return 'ru'\n",
    "    elif all(char in en for char in l):\n",
    "        return 'en'\n",
    "    else:\n",
    "        return 'mix'\n",
    "\n",
    "\n",
    "print(check(l))"
   ],
   "metadata": {
    "collapsed": false
   },
   "id": "9205070520e626bf"
  },
  {
   "cell_type": "code",
   "execution_count": 21,
   "outputs": [
    {
     "data": {
      "text/plain": "True"
     },
     "execution_count": 21,
     "metadata": {},
     "output_type": "execute_result"
    }
   ],
   "source": [
    "ru = 'АаВСсЕеНКМОоРрТХху'\n",
    "en = ['AaBCcEeHKMOoPpTXxy']\n",
    "\n",
    "l = ['Р', 'О', 'А']\n",
    "all(char in ru for char in l)"
   ],
   "metadata": {
    "collapsed": false,
    "ExecuteTime": {
     "end_time": "2024-09-11T13:15:52.723353100Z",
     "start_time": "2024-09-11T13:15:52.718688Z"
    }
   },
   "id": "45a1a94fa06038dd"
  },
  {
   "cell_type": "code",
   "execution_count": null,
   "outputs": [],
   "source": [
    "langs = ['ru', 'mix', 'mix', 'en']\n",
    "eng = 'AaBCcEeHKMOoPpTXxy'\n",
    "# Счётчик, который будет подсчитывать количество введённых символов, содержащихся в строке 'eng'\n",
    "# Запрашивает три ввода от пользователя и подсчитывает, сколько из введённых символов содержится в строке eng. sum складывает True (1) и False (0), получая общее количество символов, которые есть в eng.\n",
    "ind = sum(input() in eng for _ in range(3))\n",
    "print(langs[ind])"
   ],
   "metadata": {
    "collapsed": false
   },
   "id": "2f16364565a19764"
  },
  {
   "cell_type": "markdown",
   "source": [
    "Переворатор"
   ],
   "metadata": {
    "collapsed": false
   },
   "id": "95f526ad67843f80"
  },
  {
   "cell_type": "markdown",
   "source": [
    "Дана последовательность натуральных чисел от 1 до n включительно. Напишите программу, которая сначала располагает в обратном порядке часть элементов этой последовательности от элемента с номером X до элемента с номером Y, а затем от элемента с номером A до элемента с номером B.\n",
    "\n",
    "Формат входных данных\n",
    "На вход программе подаются 5 натуральных чисел, разделенных пробелом: \n",
    "n,X, Y,A,B (X<Y,A<B,  1≤X,Y,A,B≤ n).\n",
    "\n",
    "Формат выходных данных\n",
    "Программа должна сформировать последовательность чисел, согласно условию задачи, и вывести их, разделяя пробелом.\n",
    "\n",
    "Примечание 1. Нумерация членов последовательности начинается с единицы.\n",
    "\n",
    "Примечание 2. Рассмотрим первый тест, в котором \n",
    "n=9,X=2,Y=5,A=6,B=9. Запишем последовательность от \n",
    "1,2,3,4,5,6,7,8,9\n",
    "\n",
    "Перевернем в этой последовательности сначала элементы со 2 по 5 (2,3,4,5), затем с 6 по 9 (6,7,8,9). Получим искомую последовательность: 1,5,4,3,2,9,8,7,6"
   ],
   "metadata": {
    "collapsed": false
   },
   "id": "ef2d4d6c5dfb70a"
  },
  {
   "cell_type": "code",
   "execution_count": null,
   "outputs": [],
   "source": [
    "# 9 2 5 6 9\n",
    "# 1 5 4 3 2 9 8 7 6 \n",
    "n, X, Y, A, B = input().split()\n",
    "\n",
    "l = [i for i in range(1, int(n) + 1)]\n",
    "print(l)\n",
    "l1 = l[:int(X) - 1]\n",
    "l2 = l[int(X) - 1:int(Y)][::-1]\n",
    "l3 = l[int(Y):]\n",
    "l = l1 + l2 + l3\n",
    "print(l1)\n",
    "print(l2)\n",
    "print(l3)\n",
    "print(l)\n",
    "l1 = l[:int(A) - 1]\n",
    "l2 = l[int(A) - 1:int(B)][::-1]\n",
    "l3 = l[int(B):]\n",
    "l = l1 + l2 + l3\n",
    "print(l1)\n",
    "print(l2)\n",
    "print(l3)\n",
    "print(*l)"
   ],
   "metadata": {
    "collapsed": false
   },
   "id": "3393534d7a4981ac"
  },
  {
   "cell_type": "code",
   "execution_count": null,
   "outputs": [],
   "source": [
    "n, x, y, a, b = [int(i) for i in input().split()]\n",
    "nums = list(range(1, n + 1))\n",
    "\n",
    "nums[x - 1:y] = reversed(nums[x - 1:y])\n",
    "nums[a - 1:b] = reversed(nums[a - 1:b])\n",
    "\n",
    "print(*nums)"
   ],
   "metadata": {
    "collapsed": false
   },
   "id": "40bdb0f0304379e9"
  },
  {
   "cell_type": "markdown",
   "source": [
    "Более одного"
   ],
   "metadata": {
    "collapsed": false
   },
   "id": "d5cd988bf79c3e1"
  },
  {
   "cell_type": "markdown",
   "source": [
    "Дана последовательность неотрицательных целых чисел. Напишите программу, которая выводит те числа, которые встречаются в данной последовательности более одного раза.\n",
    "\n",
    "Формат входных данных\n",
    "На вход программе подается строка, содержащая целые неотрицательные числа, разделенные пробелом.\n",
    "\n",
    "Формат выходных данных\n",
    "Программа должна вывести те числа, которые встречаются в данной строке более одного раза, разделяя их пробелом. Числа должны быть расположены в порядке возрастания и не должны повторяться.\n",
    "\n",
    "Примечание 1. Если повторяющихся чисел в исходной строке нет, программа ничего не должна выводить."
   ],
   "metadata": {
    "collapsed": false
   },
   "id": "3d25561b5c5d2421"
  },
  {
   "cell_type": "code",
   "execution_count": null,
   "outputs": [],
   "source": [
    "from collections import Counter\n",
    "\n",
    "l1 = [int(i) for i in input().split()]\n",
    "# print(l1)\n",
    "cc = Counter(l1)\n",
    "l2 = [i for i, j in cc.items() if j > 1]\n",
    "print(*sorted(l2))"
   ],
   "metadata": {
    "collapsed": false
   },
   "id": "d1f5b4ed4c630cde"
  },
  {
   "cell_type": "code",
   "execution_count": null,
   "outputs": [],
   "source": [
    "nums = [int(i) for i in input().split()]\n",
    "print(*sorted(filter(lambda i: nums.count(i) > 1, set(nums))))\n",
    "\"\"\"\n",
    "filter() применяет функцию к каждому элементу множества.\n",
    "В данном случае, функция lambda i: nums.count(i) > 1 возвращает True для тех элементов, которые встречаются в списке nums более одного раза.\n",
    "nums.count(i) подсчитывает, сколько раз элемент i встречается в списке nums.\n",
    "\n",
    "Таким образом, функция фильтрует элементы, которые встречаются более одного раза.\n",
    "\"\"\""
   ],
   "metadata": {
    "collapsed": false
   },
   "id": "bdaa735cc810d706"
  },
  {
   "cell_type": "code",
   "execution_count": null,
   "outputs": [],
   "source": [
    "nums = list(map(int, input().split()))\n",
    "print(*set(i for i in nums if nums.count(i) > 1))"
   ],
   "metadata": {
    "collapsed": false
   },
   "id": "f026cd72e6ff4189"
  },
  {
   "cell_type": "markdown",
   "source": [
    "Максимальная группа"
   ],
   "metadata": {
    "collapsed": false
   },
   "id": "6ade16c53e1c7237"
  },
  {
   "cell_type": "markdown",
   "source": [
    "Назовем набор различных натуральных чисел группой. Например: (13,4,22,40). Тогда длиной группы будем считать количество чисел в группе. Например, длина группы (13,4,22,40) равна 4.\n",
    "\n",
    "Дана последовательность натуральных чисел от 1 до n включительно. Напишите программу, которая группирует все числа данной последовательности по сумме их цифр и определяет длину группы, содержащей наибольшее количество чисел.\n",
    "\n",
    "Формат входных данных\n",
    "На вход программе подается натуральное число n.\n",
    "\n",
    "Формат выходных данных\n",
    "Программа должна сгруппировать все числа из натуральной последовательности от 1 до n по сумме их цифр и определить длину группы, содержащей наибольшее количество чисел.\n",
    "\n",
    "Примечание 1. Рассмотрим третий тест, в котором n=20. Запишем последовательность чисел от 1 до 20: 1,2,3,4,5,6,7,8,9,10,11,12,13,14,15,16,17,18,19,20\n",
    "Сгруппируем полученные числа по сумме их цифр:(1,10),(2,11,20),(3,12),(4,13),(5,14),(6,15),(7,16),(8,17),(9,18),(19)\n",
    "\n",
    "Итак, длина группы с наибольшим количеством чисел равна 3."
   ],
   "metadata": {
    "collapsed": false
   },
   "id": "eab6a6850857bd18"
  },
  {
   "cell_type": "code",
   "execution_count": null,
   "outputs": [],
   "source": [
    "from collections import Counter\n",
    "\n",
    "x = [int(i) for i in range(1, int(input()) + 1)]\n",
    "nums = [sum(map(int, str(i))) for i in x]\n",
    "print(nums)\n",
    "print(max(i for i, j in Counter(nums).items()))"
   ],
   "metadata": {
    "collapsed": false
   },
   "id": "443542cd141c92b4"
  },
  {
   "cell_type": "markdown",
   "source": [
    "Трудности перевода"
   ],
   "metadata": {
    "collapsed": false
   },
   "id": "fe5b447670ffc040"
  },
  {
   "cell_type": "markdown",
   "source": [
    "Зачастую переводить сериалы, не теряя изначальный смысл, невозможно, особенно за счет игр слов. Сумасшедший режиссер хочет снять сериал, в котором бы в целях эксперимента задействовал как можно больше языков, чтобы пользоваться красотой каждого из них. Тем не менее если задействовать слишком много языков, то сериал станет непонятен абсолютно всем, поэтому режиссер достает случайных людей на улице и спрашивает их, какие языки они знают, таким образом он будет использовать языки которые знают все из них.\n",
    "\n",
    "Напишите программу, которая определяет, какие языки будут использоваться в сериале.\n",
    "\n",
    "Формат входных данных\n",
    "На вход программе в первой строке подается число n — количество людей, которых донимает режиссер. В каждой из следующих n строк через запятую и пробел указывается список языков, которые знает человек.\n",
    "\n",
    "Формат выходных данных\n",
    "Программа должна вывести список языков для сериала в лексикографическом порядке. Если такой список составить нельзя, необходимо вывести текст: \n",
    "\n",
    "Сериал снять не удастся"
   ],
   "metadata": {
    "collapsed": false
   },
   "id": "316dfc08ef61aef0"
  },
  {
   "cell_type": "code",
   "execution_count": null,
   "outputs": [],
   "source": [
    "n = int(input())\n",
    "\n",
    "lt = [input().split(', ') for _ in range(n)]\n",
    "print(lt)\n",
    "\n",
    "unique_items = set(i for sublist in lt for i in sublist)\n",
    "\n",
    "count_dict = {i: sum(i in sublist for sublist in lt) for i in unique_items}\n",
    "print(count_dict)\n",
    "\n",
    "result = [item for item, count in count_dict.items() if count == n]\n",
    "\n",
    "if result:\n",
    "    print(*sorted(result), sep=', ')\n",
    "else:\n",
    "    print('Сериал снять не удастся')"
   ],
   "metadata": {
    "collapsed": false
   },
   "id": "a414233c576ac6e1"
  },
  {
   "cell_type": "markdown",
   "source": [
    "Схожие слова"
   ],
   "metadata": {
    "collapsed": false
   },
   "id": "36da0b966f69e95d"
  },
  {
   "cell_type": "markdown",
   "source": [
    "Напишите программу, которая находит все схожие слова для заданного слова. Слова называются схожими, если имеют одинаковое количество и расположение гласных букв. При этом сами гласные могут различаться.\n",
    "\n",
    "Формат входных данных\n",
    "На вход программе подается одно слово, записанное в первой строке, затем натуральное число n — количество слов для сравнения и n строк со словами.\n",
    "\n",
    "Формат выходных данных\n",
    "Программа должна вывести все схожие слова для заданного слова, сохранив их исходный порядок следования.\n",
    "\n",
    "Примечание 1. После последней гласной в начальном и проверяемом слове может быть любое количество согласных.\n",
    "\n",
    "Примечание 2. В русском языке 10 гласных букв (а, у, о, ы, и, э, я, ю, ё, е) и 21 согласная буква (б, в, г, д, ж, з, й, к, л, м, н, п, р, с, т, ф, х, ц, ч, ш, щ)."
   ],
   "metadata": {
    "collapsed": false
   },
   "id": "7a898892a7639e88"
  },
  {
   "cell_type": "code",
   "execution_count": null,
   "outputs": [],
   "source": [
    "vowel = ['а', 'у', 'о', 'ы', 'и', 'э', 'я', 'ю', 'ё', 'е']\n",
    "\n",
    "check_word = ''.join(['0' if ch in vowel else '1' for ch in input().replace('ь', '')])\n",
    "print(check_word)\n",
    "trimmed_string = check_word.rstrip('1')\n",
    "print(trimmed_string)\n",
    "\n",
    "initial_words = [input() for _ in range(int(input()))]\n",
    "print(initial_words)\n",
    "\n",
    "list_of_numbers = [''.join(['0' if ch in vowel else '1' for ch in word]) for word in initial_words]\n",
    "print(list_of_numbers)\n",
    "\n",
    "dic = {i: j for i, j in zip(initial_words, list_of_numbers)}\n",
    "print(dic)\n",
    "\n",
    "result = [i for i, j in dic.items() if trimmed_string == j[:len(trimmed_string)]]\n",
    "print(result)\n",
    "print(*result, sep='\\n')"
   ],
   "metadata": {
    "collapsed": false
   },
   "id": "1886d5a501a8929a"
  },
  {
   "cell_type": "markdown",
   "source": [
    "машинист\n",
    "дорога\n",
    "работа\n",
    "железо\n",
    "ветеран"
   ],
   "metadata": {
    "collapsed": false
   },
   "id": "3accf0389c4b061a"
  },
  {
   "cell_type": "code",
   "execution_count": null,
   "outputs": [],
   "source": [
    "trimmed_string = '101010'\n",
    "j = '10101011'\n",
    "j[:len(trimmed_string)]"
   ],
   "metadata": {
    "collapsed": false
   },
   "id": "6276166ec3b0cf7e"
  },
  {
   "cell_type": "code",
   "execution_count": null,
   "outputs": [],
   "source": [
    "vowels = ('а', 'у', 'о', 'ы', 'и', 'э', 'я', 'ю', 'ё', 'е')\n",
    "pattern = [i for i, c in enumerate(input()) if c in vowels]\n",
    "\n",
    "for _ in range(int(input())):\n",
    "    word = input()\n",
    "    if [i for i, c in enumerate(word) if c in vowels] == pattern:\n",
    "        print(word)"
   ],
   "metadata": {
    "collapsed": false
   },
   "id": "5dc6fe676c69577d"
  },
  {
   "cell_type": "markdown",
   "source": [
    "Корпоративная почта 🌶️"
   ],
   "metadata": {
    "collapsed": false
   },
   "id": "b8e36aadbae45d86"
  },
  {
   "cell_type": "markdown",
   "source": [
    "В онлайн-школе \"BEEGEEK\" сотрудникам положена корпоративная почта, которая формируется как <имя-фамилия>@beegeek.bzz, например, timyr-guev@beegeek.bzz. При таком подходе существует проблема тёзок. Для решения такой проблемы было решено приписывать справа номер.\n",
    "\n",
    "Тогда первый Тимур Гуев получает ящик timyr-guev@beegeek.bzz (без номера), второй — timyr-guev1@beegeek.bzz, третий — timyr-guev2@beegeek.bzz, и так далее.\n",
    "\n",
    "Вам дан список уже занятых ящиков в порядке их выдачи и имена-фамилии новых сотрудников в заранее подготовленном виде (латиницей с символом - между ними). Напишите программу, которая раздает корпоративные ящики новым сотрудникам школы.\n",
    "\n",
    "Формат входных данных\n",
    "На вход программе в первой строке подается целое неотрицательное число n — количество выданных ящиков. В следующих n строках перечислены сами ящики в порядке выдачи, по одному на строке. На следующей строке задано целое неотрицательное число m — количество новых сотрудников, которым нужно раздать корпоративные ящики. Каждая из последующих m строк представляет собой имя и фамилию сотрудника в подготовленном к использованию формате.\n",
    "\n",
    "Формат выходных данных\n",
    "Программа должна вывести почтовые ящики (m строк) для новых сотрудников в том порядке, в котором они раздавались."
   ],
   "metadata": {
    "collapsed": false
   },
   "id": "b2db6724ac17ea96"
  },
  {
   "cell_type": "code",
   "execution_count": null,
   "outputs": [],
   "source": [
    "domain = '@beegeek.bzz'\n",
    "\n",
    "existing_names = [input().rstrip(domain) for _ in range(int(input()))]\n",
    "\n",
    "new_names = [input() for _ in range(int(input()))]\n",
    "\n",
    "# Проверяем каждое новое имя\n",
    "for new_name in new_names:\n",
    "    if new_name not in existing_names:\n",
    "        # Если имя уникально, печатаем с доменом и добавляем в список\n",
    "        email = new_name + domain\n",
    "        print(email)\n",
    "        existing_names.append(new_name)  # Добавляем имя в существующий список\n",
    "    else:\n",
    "        # Если имя уже существует, добавляем счетчик\n",
    "        counter = 1\n",
    "        m = new_name  # Сохраняем текущее имя\n",
    "        while m in existing_names:\n",
    "            m = new_name + str(counter)  # Создаем новое имя с счетчиком\n",
    "            counter += 1\n",
    "        \n",
    "        # Печатаем уникальный email и добавляем его в существующий список\n",
    "        email = m + domain\n",
    "        print(email)\n",
    "        existing_names.append(m)  # Добавляем имя без домена в существующий список  "
   ],
   "metadata": {
    "collapsed": false
   },
   "id": "c6af9a86c822306a"
  },
  {
   "cell_type": "code",
   "execution_count": null,
   "outputs": [],
   "source": [
    "emails = set(input() for _ in range(int(input())))\n",
    "for _ in range(int(input())):\n",
    "    emp = input()\n",
    "    email = f'{emp}@beegeek.bzz'\n",
    "    count = 0\n",
    "    while email in emails:\n",
    "        count += 1\n",
    "        email = f'{emp}{count}@beegeek.bzz'\n",
    "    emails.add(email)\n",
    "    print(email)"
   ],
   "metadata": {
    "collapsed": false
   },
   "id": "df5564e2dcdf438f"
  },
  {
   "cell_type": "markdown",
   "source": [
    "Файлы в файле 🌶️🌶️"
   ],
   "metadata": {
    "collapsed": false
   },
   "id": "d60af4779b78f43"
  },
  {
   "cell_type": "markdown",
   "source": [
    "Вам доступен текстовый файл files.txt, содержащий информацию о файлах. Каждая строка файла содержит три значения, разделенные символом пробела — имя файла, его размер (целое число) и единицы измерения:\n",
    "\n",
    "cant-help-myself.mp3 7 MB\n",
    "keep-yourself-alive.mp3 6 MB\n",
    "bones.mp3 5 MB\n",
    "...\n",
    "Напишите программу, которая группирует данные файлы по расширению, определяя общий объем файлов каждой группы, и выводит полученные группы файлов, указывая для каждой ее общий объем. Группы должны быть расположены в лексикографическом порядке названий расширений, файлы в группах — в лексикографическом порядке их имен.\n",
    "\n",
    "Примечание 1. Например, если бы файл files.txt имел вид:\n",
    "\n",
    "input.txt 3000 B\n",
    "scratch.zip 300 MB\n",
    "output.txt 1 KB\n",
    "temp.txt 4 KB\n",
    "boy.bmp 2000 KB\n",
    "mario.bmp 1 MB\n",
    "data.zip 900 MB\n",
    "то программа должна была бы вывести:\n",
    "\n",
    "boy.bmp\n",
    "mario.bmp\n",
    "----------\n",
    "Summary: 3 MB\n",
    "\n",
    "input.txt\n",
    "output.txt\n",
    "temp.txt\n",
    "----------\n",
    "Summary: 8 KB\n",
    "\n",
    "data.zip\n",
    "scratch.zip\n",
    "----------\n",
    "Summary: 1 GB\n",
    "где Summary — общий объем файлов группы.\n",
    "\n",
    "Примечание 2. Гарантируется, что все имена файлов содержат расширение.\n",
    "\n",
    "Примечание 3. Общий объем файлов группы записывается в самых крупных (максимально возможных) единицах измерения с округлением до целых. Другими словами, сначала следует определить суммарный объем всех файлов группы, скажем, в байтах, а затем перевести полученное значение в самые крупные (максимально возможные) единицы измерения. Примеры перевода:\n",
    "\n",
    "1023 B -> 1023 B\n",
    "1300 B -> 1 KB\n",
    "1900 B -> 2 KB\n",
    "Примечание 4. Значения единиц измерения такие же, какие приняты в информатике:\n",
    "\n",
    "1 KB = 1024 B\n",
    "1 MB = 1024 KB\n",
    "1 GB = 1024 MB\n",
    "Примечание 5. Указанный файл доступен по ссылке. Ответ на задачу доступен по ссылке.\n",
    "\n",
    "Примечание 6. При открытии файла используйте явное указание кодировки UTF-8."
   ],
   "metadata": {
    "collapsed": false
   },
   "id": "fcb8abab1f872dab"
  },
  {
   "cell_type": "code",
   "execution_count": 43,
   "outputs": [
    {
     "name": "stdout",
     "output_type": "stream",
     "text": [
      "classes.csv\n",
      "exam_results.csv\n",
      "grades.csv\n",
      "students.csv\n",
      "tab.csv\n",
      "----------\n",
      "Summary: 92 KB\n",
      "\n",
      "artmoney.exe\n",
      "cheats.exe\n",
      "chrome.exe\n",
      "discord.exe\n",
      "eac.exe\n",
      "god_of_war.exe\n",
      "hamachi.exe\n",
      "hollow_knight_silksong.exe\n",
      "microsoft_edge.exe\n",
      "nvidia_gf.exe\n",
      "photoshop.exe\n",
      "sony_vegas11.exe\n",
      "spiritfarer.exe\n",
      "steam.exe\n",
      "teamspeak3.exe\n",
      "telegram.exe\n",
      "uncharted4.exe\n",
      "whatsapp.exe\n",
      "yandex_browser.exe\n",
      "yandexdisc.exe\n",
      "----------\n",
      "Summary: 10 MB\n",
      "\n",
      "beauty.jpeg\n",
      "city.jpeg\n",
      "emoji_angry.jpeg\n",
      "emoji_smile.jpeg\n",
      "flowers.jpeg\n",
      "forest.jpeg\n",
      "friends.jpeg\n",
      "galaxy.jpeg\n",
      "girls.jpeg\n",
      "just_beauty.jpeg\n",
      "la.jpeg\n",
      "los_angeles.jpeg\n",
      "me.jpeg\n",
      "moon.jpeg\n",
      "new_year2020.jpeg\n",
      "night_city.jpeg\n",
      "planets.jpeg\n",
      "summer2011.jpeg\n",
      "summer2012.jpeg\n",
      "sun.jpeg\n",
      "sunlight.jpeg\n",
      "watterfall.jpeg\n",
      "winter2016.jpeg\n",
      "----------\n",
      "Summary: 13 MB\n",
      "\n",
      "backups.json\n",
      "carl_backups.json\n",
      "dhook_hw.json\n",
      "dhook_lsns.json\n",
      "----------\n",
      "Summary: 94 KB\n",
      "\n",
      "alladin.mkv\n",
      "dallass_club_byers.mkv\n",
      "harry_potter2.mkv\n",
      "jaws.mkv\n",
      "place_in_the_sun.mkv\n",
      "spider_man2.mkv\n",
      "spider_man3.mkv\n",
      "star_wars.mkv\n",
      "the_godfather.mkv\n",
      "tom_and_jerry.mkv\n",
      "toy_story3.mkv\n",
      "----------\n",
      "Summary: 33 GB\n",
      "\n",
      "bad-disease.mp3\n",
      "bones.mp3\n",
      "but-you.mp3\n",
      "cant-help-myself.mp3\n",
      "city-of-the-sun.mp3\n",
      "crying-all-the-time.mp3\n",
      "death-stranding.mp3\n",
      "gold-guns-girls.mp3\n",
      "howl.mp3\n",
      "keep-yourself-alive.mp3\n",
      "kissing-in-the-wind.mp3\n",
      "saving-grace.mp3\n",
      "send-her-back.mp3\n",
      "soft-currents.mp3\n",
      "summertime-sadness.mp3\n",
      "the-archer.mp3\n",
      "the-phantom.mp3\n",
      "what-else-is-there.mp3\n",
      "ya-videl-son.mp3\n",
      "youve-got-time.mp3\n",
      "----------\n",
      "Summary: 109 MB\n",
      "\n",
      "best_of_guev.mp4\n",
      "geometry_lesson1.mp4\n",
      "geometry_lesson2.mp4\n",
      "geometry_lesson3.mp4\n",
      "math_lesson11.mp4\n",
      "math_lesson3.mp4\n",
      "math_lesson4.mp4\n",
      "math_lesson7.mp4\n",
      "old_memories.mp4\n",
      "python_for_beg1.mp4\n",
      "python_for_pro8.mp4\n",
      "----------\n",
      "Summary: 4 GB\n",
      "\n",
      "exam.py\n",
      "homework.py\n",
      "mini_game.py\n",
      "myanalysis.py\n",
      "mygeometry.py\n",
      "mymath.py\n",
      "project_main.py\n",
      "project_module1.py\n",
      "project_module2.py\n",
      "project_module3.py\n",
      "stepik_problems.py\n",
      "test.py\n",
      "----------\n",
      "Summary: 213 KB\n",
      "\n",
      "note.xml\n",
      "nothing.xml\n",
      "plants.xml\n",
      "sample.xml\n",
      "----------\n",
      "Summary: 3 KB\n",
      "\n",
      "7z.zip\n",
      "emojis.zip\n",
      "python3.zip\n",
      "small_txt.zip\n",
      "songs.zip\n",
      "summer_vacation.zip\n",
      "wallpapers.zip\n",
      "winrar.zip\n",
      "winter_vacation.zip\n",
      "----------\n",
      "Summary: 74 MB\n"
     ]
    }
   ],
   "source": [
    "import math\n",
    "\n",
    "# В этом словаре `units` определяются единицы измерения. Каждой единице измерения соответствует значение в байтах\n",
    "units = {'B': 1, 'KB': 1024, 'MB': 1024 ** 2, 'GB': 1024 ** 3}\n",
    "# Этот словарь будет использоваться для хранения информации о файлах. Ключом будет расширение файла, а значением — другой словарь, который содержит имена файлов и их размеры.\n",
    "f_list = {}\n",
    "\n",
    "\n",
    "def get_unit_name(size: int) -> str:\n",
    "    \"\"\"Принимает число в байтах и возвращает число в B, KB, MB, GB\"\"\"\n",
    "    unit_names = ('B', 'KB', 'MB', 'GB', 'TB')\n",
    "    # с помощью логарифма (`math.log`) вычисляется порядок\n",
    "    # (показатель степени) для определения соответствующей единицы измерения.\n",
    "    pwr = math.floor(math.log(size, 1024))\n",
    "    return f'{size / 1024 ** pwr:.0f} {unit_names[pwr]}'\n",
    "\n",
    "\n",
    "with open('files.txt', encoding='utf-8') as file:\n",
    "    for s in file:\n",
    "        # Каждая строка разбивается на части, где предполагается, что первая часть — это имя файла с расширением, а вторая — его размер.\n",
    "        f = s.split()\n",
    "        # Имя файла и его расширение выделяются (`f_name, f_ext`)\n",
    "        f_name, f_ext = f[0].split('.')\n",
    "        f_size = int(f[1]) * units.get(f[2])\n",
    "        # Размер файла добавляется в словарь `f_list`, где ключом является расширение файла.\n",
    "        f_list[f_ext] = f_list.get(f_ext, {}) | {f_name: f_size}\n",
    "\n",
    "for k, v in sorted(f_list.items()):\n",
    "    [print(f'{s}.{k}') for s in sorted(v.keys())]\n",
    "    print('-' * 10)\n",
    "    total_size = sum(i for i in v.values())\n",
    "    print(f'Summary: {get_unit_name(total_size)}')\n",
    "    print()"
   ],
   "metadata": {
    "collapsed": false,
    "ExecuteTime": {
     "end_time": "2024-09-13T13:41:44.911404Z",
     "start_time": "2024-09-13T13:41:44.898173800Z"
    }
   },
   "id": "3b21583d228ad83f"
  },
  {
   "cell_type": "code",
   "execution_count": null,
   "outputs": [],
   "source": [
    "# Объявление словаря единиц измерения\n",
    "UNITS = {\n",
    "    'B': 1,\n",
    "    'KB': 1024,\n",
    "    'MB': 1024 ** 2,\n",
    "    'GB': 1024 ** 3,\n",
    "}\n",
    "\n",
    "# Функция для преобразования байтов\n",
    "def convert_bytes(num: int) -> str:\n",
    "    step_unit = 1024\n",
    "    for unit in UNITS.keys():\n",
    "        # Если текущее значение `num` меньше `step_unit`, возвращается отформатированное значение с соответствующей единицей измерения.\n",
    "        if num < step_unit:\n",
    "            return f'{round(num)} {unit}'\n",
    "        # Если значение больше, то оно делится на `step_unit`, и цикл продолжается.\n",
    "        num /= step_unit\n",
    "\n",
    "\n",
    "with open('files.txt', encoding='utf-8') as f:\n",
    "    files = [file.strip() for file in f.readlines()]\n",
    "\n",
    "file_extensions = {}\n",
    "for file in files:\n",
    "    file_name, file_size, file_unit = file.split()\n",
    "    # Получает расширение файла с помощью `rfind()`\n",
    "    index = file_name.rfind('.')\n",
    "    key = file_name[index:]\n",
    "    # Вычисляет размер файла в байтах, умножая на соответствующее значение из словаря `UNITS`\n",
    "    bytes_size = int(file_size) * UNITS[file_unit]\n",
    "    # Добавляет файл в словарь `file_extensions`, где ключ — это расширение\n",
    "    file_extensions.setdefault(key, []).append((file_name, bytes_size))\n",
    "\n",
    "for extension in sorted(file_extensions.keys()):\n",
    "    # Для каждого уникального расширения (отсортированного по ключам) создается переменная `size` для хранения общей суммы размеров файлов\n",
    "    size = 0\n",
    "    # Перебираются пары (имя файла, размер) для текущего расширения\n",
    "    for file_name, file_size in sorted(file_extensions[extension]):\n",
    "        # Каждое имя файла выводится, и его размер добавляется к общей сумме\n",
    "        print(file_name)\n",
    "        size += file_size\n",
    "    # После вывода имен файлов добавляется разделитель, и выводится сводка по размеру всех файлов с этим расширением, используя функцию `convert_bytes` для форматирования\n",
    "    print('-' * 10)\n",
    "    print(f'Summary: {convert_bytes(size)}\\n')"
   ],
   "metadata": {
    "collapsed": false
   },
   "id": "eb974a5becdc1900"
  }
 ],
 "metadata": {
  "kernelspec": {
   "display_name": "Python 3",
   "language": "python",
   "name": "python3"
  },
  "language_info": {
   "codemirror_mode": {
    "name": "ipython",
    "version": 2
   },
   "file_extension": ".py",
   "mimetype": "text/x-python",
   "name": "python",
   "nbconvert_exporter": "python",
   "pygments_lexer": "ipython2",
   "version": "2.7.6"
  }
 },
 "nbformat": 4,
 "nbformat_minor": 5
}
