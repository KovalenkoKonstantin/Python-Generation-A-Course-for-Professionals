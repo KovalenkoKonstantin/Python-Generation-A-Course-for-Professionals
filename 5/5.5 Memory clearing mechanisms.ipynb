{
 "cells": [
  {
   "cell_type": "markdown",
   "source": [
    "Механизмы очистки памяти"
   ],
   "metadata": {
    "collapsed": false
   },
   "id": "3d371c8197c4c695"
  },
  {
   "cell_type": "markdown",
   "source": [
    "Как мы уже знаем, язык Python является языком с автоматически управляемой памятью, то есть программисту, пишущему код на Python, не нужно беспокоиться о работе с памятью, в частности заниматься ее освобождением. Как только данные программы (объекты в Python) больше не нужны, Python автоматически освобождает память, которую они занимали. Несмотря на это, понимание того, как работает механизм очистки памяти, может помочь писать более качественный и производительный код."
   ],
   "metadata": {
    "collapsed": false
   },
   "id": "9bfbe9baa4026154"
  },
  {
   "cell_type": "markdown",
   "source": [
    "Стандартный интерпретатор Python использует сразу два механизма очистки памяти:\n",
    "\n",
    "подсчет ссылок\n",
    "сборщик мусора (Garbage Collector, GC)"
   ],
   "metadata": {
    "collapsed": false
   },
   "id": "53e224323ecf244e"
  },
  {
   "cell_type": "markdown",
   "source": [
    "Подсчет ссылок"
   ],
   "metadata": {
    "collapsed": false
   },
   "id": "4f24cf552aa86d7f"
  },
  {
   "cell_type": "markdown",
   "source": [
    "Алгоритм подсчета ссылок — это один из самых простых механизмов очистки памяти. Объекты удаляются как только на них больше нет ссылок."
   ],
   "metadata": {
    "collapsed": false
   },
   "id": "dece4183d0ee4ee0"
  },
  {
   "cell_type": "markdown",
   "source": [
    "Каждый объект в Python унаследован от базового класса PyObject, который содержит специальное поле Reference Count (ob_refcnt), в котором хранится количество ссылок на данный объект. Как только кто-то начинает ссылаться на объект, значение этого поля увеличивается на единицу. Если по какой-то причине ссылка пропадает, то это поле уменьшается на один. При этом если счетчик ссылок для определенного объекта достигает нуля, то интерпретатор запускает процесс уничтожения объекта. Если удаленный объект содержал ссылки на другие объекты, то эти ссылки также удаляются. Таким образом, удаление одного объекта может повлечь за собой удаление других."
   ],
   "metadata": {
    "collapsed": false
   },
   "id": "a0dc97002f800a1"
  },
  {
   "cell_type": "markdown",
   "source": [
    "Механизм подсчета ссылок работает в режиме реального времени."
   ],
   "metadata": {
    "collapsed": false
   },
   "id": "be1d040641bf8233"
  },
  {
   "cell_type": "code",
   "execution_count": null,
   "outputs": [],
   "source": [
    "nums = [1, 2, 3]"
   ],
   "metadata": {
    "collapsed": false
   },
   "id": "79b9b81e55c00f1f"
  },
  {
   "cell_type": "markdown",
   "source": [
    "создает объект, у которого поле Reference Count (ob_refcnt) равно 1."
   ],
   "metadata": {
    "collapsed": false
   },
   "id": "d4431e4a573042bd"
  },
  {
   "cell_type": "code",
   "execution_count": 1,
   "outputs": [
    {
     "data": {
      "image/png": "[encoded data removed]",
      "text/plain": "<IPython.core.display.Image object>"
     },
     "metadata": {},
     "output_type": "display_data"
    }
   ],
   "source": [
    "from functions import picture\n",
    "picture('память8 (1).png')"
   ],
   "metadata": {
    "collapsed": false,
    "ExecuteTime": {
     "end_time": "2024-11-01T09:40:58.683307400Z",
     "start_time": "2024-11-01T09:40:58.675195100Z"
    }
   },
   "id": "fedb7f39a8b917c"
  }
 ],
 "metadata": {
  "kernelspec": {
   "display_name": "Python 3",
   "language": "python",
   "name": "python3"
  },
  "language_info": {
   "codemirror_mode": {
    "name": "ipython",
    "version": 2
   },
   "file_extension": ".py",
   "mimetype": "text/x-python",
   "name": "python",
   "nbconvert_exporter": "python",
   "pygments_lexer": "ipython2",
   "version": "2.7.6"
  }
 },
 "nbformat": 4,
 "nbformat_minor": 5
}
