{
 "cells": [
  {
   "cell_type": "markdown",
   "source": [
    "Рекурсивный обход коллекций"
   ],
   "metadata": {
    "collapsed": false
   },
   "id": "fd72983b46e5e1c4"
  },
  {
   "cell_type": "markdown",
   "source": [
    "Рекурсия является незаменимым помощником при работе с вложенными структурами данных. Рассмотрим несколько задач."
   ],
   "metadata": {
    "collapsed": false
   },
   "id": "256754f6f4697c6e"
  },
  {
   "cell_type": "markdown",
   "source": [
    "Задача 1. Дан список, элементами которого могут быть только строки или аналогичные списки, содержащие строки и вложенные списки. Необходимо вывести все строки из данного списка и из всех вложенных, разделив пробелом."
   ],
   "metadata": {
    "collapsed": false
   },
   "id": "f7739dfb3e400a61"
  },
  {
   "cell_type": "markdown",
   "source": [
    "Решение. Реализуем рекурсивную функцию get_all_str(), которая принимает в качестве аргумента указанный список и выводит его содержимое в соответствии с условием задачи."
   ],
   "metadata": {
    "collapsed": false
   },
   "id": "e5369cdcd186bae9"
  },
  {
   "cell_type": "markdown",
   "source": [
    "Итак, для начала определимся с базовым случаем. Он простой: если элемент является строкой, вернем ее саму."
   ],
   "metadata": {
    "collapsed": false
   },
   "id": "7796bae8a5a8f079"
  },
  {
   "cell_type": "markdown",
   "source": [
    "В противном случае нам нужно с помощью цикла for пройтись по всем элементам списка, чтобы понять, есть ли среди них вложенные списки. И если есть, то мы используем рекурсию: вызываем нашу же функцию и передаем ей в качестве аргумента новый список."
   ],
   "metadata": {
    "collapsed": false
   },
   "id": "eb0a36eb420bfb9a"
  },
  {
   "cell_type": "markdown",
   "source": [
    "Рекурсивная реализация функции get_all_str():"
   ],
   "metadata": {
    "collapsed": false
   },
   "id": "7f1277ad28b6cbd7"
  },
  {
   "cell_type": "code",
   "execution_count": 1,
   "outputs": [],
   "source": [
    "def get_all_str(data):\n",
    "    if type(data) == str:\n",
    "        print(data, end=' ')            # базовый случай\n",
    "    if type(data) == list:\n",
    "        for i in data:\n",
    "            get_all_str(i)              # рекурсивный случай"
   ],
   "metadata": {
    "collapsed": false,
    "ExecuteTime": {
     "end_time": "2024-12-06T12:56:55.609683200Z",
     "start_time": "2024-12-06T12:56:55.606640400Z"
    }
   },
   "id": "ac7b9ca1a9d11531"
  },
  {
   "cell_type": "code",
   "execution_count": 2,
   "outputs": [
    {
     "name": "stdout",
     "output_type": "stream",
     "text": [
      "1 2 3 4 5 6 7 "
     ]
    }
   ],
   "source": [
    "numbers = ['1', ['2', '3', ['4'], ['5', ['6', '7']]]]\n",
    "get_all_str(numbers)"
   ],
   "metadata": {
    "collapsed": false,
    "ExecuteTime": {
     "end_time": "2024-12-06T12:57:04.744491600Z",
     "start_time": "2024-12-06T12:57:04.740466500Z"
    }
   },
   "id": "ba5b6fb160d6350e"
  },
  {
   "cell_type": "markdown",
   "source": [
    "Задача 2. Дан словарь произвольной вложенности, то есть значениями в словаре могут быть другие словари. Необходимо определить значение, которое соответствует заданному ключу, и вернуть его. При этом гарантируется, что такой ключ имеется в словаре, причем он единственный. "
   ],
   "metadata": {
    "collapsed": false
   },
   "id": "f787bf09d03101a6"
  },
  {
   "cell_type": "markdown",
   "source": [
    "Решение. Реализуем рекурсивную функцию find_key(), которая принимает два аргумента в следующем порядке:\n",
    "\n",
    "data — словарь произвольной вложенности\n",
    "key — ключ, значение которого нужно вернуть"
   ],
   "metadata": {
    "collapsed": false
   },
   "id": "516fa06c1a13407f"
  },
  {
   "cell_type": "markdown",
   "source": [
    "Итак, для начала определимся с базовым случаем. Он простой: если ключ есть в словаре, вернем его значение.\n",
    "\n",
    "В противном случае нам нужно с помощью цикла for пройтись по всем ключам и значениям словаря, чтобы понять, есть ли среди значений вложенные словари. И если значением является вложенный словарь, то мы используем рекурсию: вызываем нашу же функцию и передаем ей в качестве аргумента новый словарь. \n",
    "\n",
    " Рекурсивная реализация функции find_key():"
   ],
   "metadata": {
    "collapsed": false
   },
   "id": "bf204f58a69782da"
  },
  {
   "cell_type": "code",
   "execution_count": 4,
   "outputs": [],
   "source": [
    "def find_key(data, key):\n",
    "    if key in data:\n",
    "        return data[key]                # базовый случай\n",
    "    \n",
    "    for v in data.values():\n",
    "        if type(v) == dict:\n",
    "            value = find_key(v, key)    # рекурсивный случай\n",
    "            if value is not None:\n",
    "                return value"
   ],
   "metadata": {
    "collapsed": false,
    "ExecuteTime": {
     "end_time": "2024-12-06T13:00:02.210299100Z",
     "start_time": "2024-12-06T13:00:02.207786400Z"
    }
   },
   "id": "420103e5ddca4baf"
  },
  {
   "cell_type": "code",
   "execution_count": 5,
   "outputs": [
    {
     "name": "stdout",
     "output_type": "stream",
     "text": [
      "1974\n",
      "Alan Hannigan\n"
     ]
    }
   ],
   "source": [
    "info = {'name': 'Alyson', \n",
    "        'surname': 'Hannigan', \n",
    "        'birthday': {'day': 24, 'month': 'March', 'year': 1974},\n",
    "        'family': {'parents': {'mother': 'Emilie Posner', 'father': 'Alan Hannigan'}}}\n",
    "\n",
    "print(find_key(info, 'year'))\n",
    "print(find_key(info, 'father'))"
   ],
   "metadata": {
    "collapsed": false,
    "ExecuteTime": {
     "end_time": "2024-12-06T13:00:03.213074800Z",
     "start_time": "2024-12-06T13:00:03.207952700Z"
    }
   },
   "id": "82940ce30e7ea572"
  },
  {
   "cell_type": "markdown",
   "source": [
    "Настройка глубины рекурсии в Python"
   ],
   "metadata": {
    "collapsed": false
   },
   "id": "e690d695a9c159f9"
  },
  {
   "cell_type": "markdown",
   "source": [
    "По умолчанию Python имеет ограничение на максимальную глубину рекурсивных вызовов. Это ограничение не позволяет бесконечной рекурсии вызывать переполнение стека.\n",
    "\n",
    "Получить значение по умолчанию для максимальной глубины рекурсии можно с помощью функции getrecursionlimit() из модуля sys."
   ],
   "metadata": {
    "collapsed": false
   },
   "id": "ad143791c2e47882"
  },
  {
   "cell_type": "code",
   "execution_count": 6,
   "outputs": [
    {
     "name": "stdout",
     "output_type": "stream",
     "text": [
      "3000\n"
     ]
    }
   ],
   "source": [
    "from sys import getrecursionlimit\n",
    "\n",
    "limit = getrecursionlimit()\n",
    "\n",
    "print(limit)"
   ],
   "metadata": {
    "collapsed": false,
    "ExecuteTime": {
     "end_time": "2024-12-06T13:00:39.536627Z",
     "start_time": "2024-12-06T13:00:39.529604700Z"
    }
   },
   "id": "6ab1c6c6aac6e9e8"
  },
  {
   "cell_type": "markdown",
   "source": [
    "Мы также можем явно установить значение максимальной глубины рекурсии. Для этого используется функция setrecursionlimit() из модуля sys."
   ],
   "metadata": {
    "collapsed": false
   },
   "id": "fc2449611a1248b7"
  },
  {
   "cell_type": "code",
   "execution_count": null,
   "outputs": [],
   "source": [
    "import sys\n",
    "\n",
    "limit = sys.getrecursionlimit()\n",
    "print(limit)\n",
    "\n",
    "sys.setrecursionlimit(6000)\n",
    "new_limit = sys.getrecursionlimit()\n",
    "print(new_limit)"
   ],
   "metadata": {
    "collapsed": false
   },
   "id": "fd596db0af11e55a"
  },
  {
   "cell_type": "markdown",
   "source": [
    "Зачастую значения по умолчанию хватает для любых задач, и изменять его следует с осторожностью, потому что слишком высокий предел может привести к сбою. Если текущего значения глубины не хватает, то имеет смысл для безопасности использовать итеративный алгоритм, а не рекурсивный."
   ],
   "metadata": {
    "collapsed": false
   },
   "id": "c20999bd3fa57256"
  },
  {
   "cell_type": "markdown",
   "source": [
    "Примечание\n",
    "Примечание. Рекомендуемые книги для дальнейшего углубленного изучения рекурсии:\n",
    "\n",
    "Рубио-Санчес М. \"Введение в рекурсивное программирование\"\n",
    "Eric S. Roberts \"Thinking Recursively\""
   ],
   "metadata": {
    "collapsed": false
   },
   "id": "54b1a3e49c220cab"
  }
 ],
 "metadata": {
  "kernelspec": {
   "display_name": "Python 3",
   "language": "python",
   "name": "python3"
  },
  "language_info": {
   "codemirror_mode": {
    "name": "ipython",
    "version": 2
   },
   "file_extension": ".py",
   "mimetype": "text/x-python",
   "name": "python",
   "nbconvert_exporter": "python",
   "pygments_lexer": "ipython2",
   "version": "2.7.6"
  }
 },
 "nbformat": 4,
 "nbformat_minor": 5
}
