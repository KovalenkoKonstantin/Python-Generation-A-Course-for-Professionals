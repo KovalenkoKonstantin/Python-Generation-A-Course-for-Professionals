{
 "cells": [
  {
   "cell_type": "markdown",
   "source": [
    "Архивирование данных"
   ],
   "metadata": {
    "collapsed": false
   },
   "id": "8b97ab76363ecf2b"
  },
  {
   "cell_type": "markdown",
   "source": [
    "Сжатие информации – это процесс преобразования информации, хранящейся в файле, при котором уменьшается избыточность в ее представлении и, соответственно, требуется меньший объем памяти для хранения."
   ],
   "metadata": {
    "collapsed": false
   },
   "id": "e9f01cece0c405cf"
  },
  {
   "cell_type": "markdown",
   "source": [
    "Сжатие информации в файлах производится за счет устранения избыточности различными способами, например, за счет упрощения кодов, исключения из них постоянных битов или представления повторяющихся символов или повторяющейся последовательности символов в виде коэффициента повторения и соответствующих символов."
   ],
   "metadata": {
    "collapsed": false
   },
   "id": "b3795354ebc46403"
  },
  {
   "cell_type": "markdown",
   "source": [
    "Архивация файлов — упаковка нескольких файлов в один файл или поток — архив. Не следует путать архивацию со сжатием, которое далеко не всегда применяется при создании архива."
   ],
   "metadata": {
    "collapsed": false
   },
   "id": "e98ca23ed956d346"
  },
  {
   "cell_type": "markdown",
   "source": [
    "Архивный файл – это специальным образом организованный файл, содержащий в себе один или несколько файлов в сжатом или несжатом виде и служебную информацию об именах файлов, дате и времени их создания или модификации, размерах и т.д."
   ],
   "metadata": {
    "collapsed": false
   },
   "id": "c1080f75ba96b8f1"
  },
  {
   "cell_type": "markdown",
   "source": [
    "Целью архивации (упаковки) файлов обычно являются обеспечение более компактного размещения информации на диске, сокращение времени и соответственно стоимости передачи информации по каналам связи в компьютерных сетях. Кроме того, упаковка в один архивный файл группы файлов существенно упрощает их перенос с одного компьютера на другой и сокращает время копирования файлов на диски."
   ],
   "metadata": {
    "collapsed": false
   },
   "id": "3f72bb688c56b503"
  },
  {
   "cell_type": "markdown",
   "source": [
    "Степень сжатия файлов характеризуется коэффициентом K, определяемым как отношение объема сжатого файла Vc к объему исходного файла Vo, выраженным в процентах:"
   ],
   "metadata": {
    "collapsed": false
   },
   "id": "569dd76a7d549c6b"
  },
  {
   "cell_type": "markdown",
   "source": [
    "Степень сжатия зависит от используемой программы, метода сжатия и типа исходного файла. Наиболее хорошо сжимаются файлы графических образов, текстовые файлы и файлы данных, для которых степень сжатия может достигать 5−40%, меньше сжимаются файлы исполняемых программ и загрузочных модулей – 60−90%. Почти не сжимаются архивные файлы."
   ],
   "metadata": {
    "collapsed": false
   },
   "id": "23035485aa42ff8a"
  },
  {
   "cell_type": "markdown",
   "source": [
    "Архивация (упаковка) – помещение (загрузка) исходных файлов в архивный файл в сжатом или несжатом виде."
   ],
   "metadata": {
    "collapsed": false
   },
   "id": "3772f7d25b8ad246"
  },
  {
   "cell_type": "markdown",
   "source": [
    "Разархивация (распаковка) – процесс восстановления файлов из архива точно в таком виде, какой они имели до загрузки в архив. При распаковке файлы извлекаются из архива и помещаются на диск или в оперативную память;"
   ],
   "metadata": {
    "collapsed": false
   },
   "id": "e405a6b4a431d3ff"
  },
  {
   "cell_type": "markdown",
   "source": [
    "Программы, осуществляющие упаковку и распаковку файлов, называются программами – архиваторами."
   ],
   "metadata": {
    "collapsed": false
   },
   "id": "e756a34bf28e0ddd"
  },
  {
   "cell_type": "markdown",
   "source": [
    "Формат zip"
   ],
   "metadata": {
    "collapsed": false
   },
   "id": "96fdacc55719bb27"
  },
  {
   "cell_type": "markdown",
   "source": [
    "В реальной жизни применяется большое количество различных форматов архивов: zip, 7z, rar и многие другие. В нашем уроке мы остановимся на zip архивах."
   ],
   "metadata": {
    "collapsed": false
   },
   "id": "8890aa3d6d23f823"
  },
  {
   "cell_type": "markdown",
   "source": [
    "zip — это формат сжатия без потерь: после распаковки данные будут такими же, как перед сжатием. Алгоритм ищет избыточности в исходных данных и эффективнее представляет информацию."
   ],
   "metadata": {
    "collapsed": false
   },
   "id": "eafa85fdc36d4854"
  },
  {
   "cell_type": "markdown",
   "source": [
    "Формат сжатия без потерь отличается от сжатия с потерями, который используется в таких форматах, как JPEG и MP3: при сжатии выбрасывается часть информации, которая менее заметна для человеческого глаза или уха."
   ],
   "metadata": {
    "collapsed": false
   },
   "id": "81919f277386a721"
  },
  {
   "cell_type": "markdown",
   "source": [
    "Формат zip обладает следующими преимуществами:\n",
    "\n",
    "является полностью открытым\n",
    "является очень популярным (большинство архивов в Internet – это архивы zip)\n",
    "является очень быстрым"
   ],
   "metadata": {
    "collapsed": false
   },
   "id": "7b3564d9c8b269b7"
  },
  {
   "cell_type": "markdown",
   "source": [
    "Работа с zip файлами в Python"
   ],
   "metadata": {
    "collapsed": false
   },
   "id": "e275d9c08b254f97"
  },
  {
   "cell_type": "markdown",
   "source": [
    "В Python для работы с zip архивами используется встроенный модуль zipfile. Основное преимущество данного модуля заключается в том, что он позволяет работать с архивом, как с обычной папкой, содержащей файлы и другие каталоги."
   ],
   "metadata": {
    "collapsed": false
   },
   "id": "a93963aa52eb49af"
  },
  {
   "cell_type": "markdown",
   "source": [
    "Не забывайте, что в архив может быть помещена целая структура каталогов."
   ],
   "metadata": {
    "collapsed": false
   },
   "id": "b2262e844e60a634"
  },
  {
   "cell_type": "markdown",
   "source": [
    "Модуль zipfile"
   ],
   "metadata": {
    "collapsed": false
   },
   "id": "57aad687489c0505"
  },
  {
   "cell_type": "markdown",
   "source": [
    "Для того чтобы начать работать с zip архивами в Python, нам потребуется импортировать модуль zipfile, в частности нам потребуется создать объект ZipFile."
   ],
   "metadata": {
    "collapsed": false
   },
   "id": "3065607f4de43a9f"
  },
  {
   "cell_type": "code",
   "execution_count": null,
   "outputs": [],
   "source": [
    "from zipfile import ZipFile"
   ],
   "metadata": {
    "collapsed": false
   },
   "id": "f0b23d4d19f0427c"
  },
  {
   "cell_type": "markdown",
   "source": [
    "Объекты ZipFile похожи на файловые объекты, возвращаемые функцией open()."
   ],
   "metadata": {
    "collapsed": false
   },
   "id": "eb0e92c81d21140c"
  },
  {
   "cell_type": "markdown",
   "source": [
    "Метод printdir()"
   ],
   "metadata": {
    "collapsed": false
   },
   "id": "82ee0af7f013fb6c"
  },
  {
   "cell_type": "markdown",
   "source": [
    "В начале работы мы создаем объект типа ZipFile, передавая ему имя архива (архив лежит в той же папке, что и программа).\n",
    "\n",
    "Метод printdir() выводит таблицу с информацией о содержимом архива: полные названия файлов с указанием даты изменения и размера в байтах."
   ],
   "metadata": {
    "collapsed": false
   },
   "id": "c39780f82013715f"
  },
  {
   "cell_type": "code",
   "execution_count": 1,
   "outputs": [
    {
     "name": "stdout",
     "output_type": "stream",
     "text": [
      "File Name                                             Modified             Size\n",
      "test/                                          2021-11-27 12:47:10            0\n",
      "test/Картинки/                                 2021-11-27 12:49:02            0\n",
      "test/Картинки/1.jpg                            2021-09-02 12:30:20        90156\n",
      "test/Картинки/avatar.png                       2021-08-20 09:38:44        19053\n",
      "test/Картинки/certificate.png                  2021-10-23 09:46:36        43699\n",
      "test/Картинки/py.png                           2021-07-28 17:55:56        33522\n",
      "test/Картинки/World_Time_Zones_Map.png         2021-11-08 07:30:06      2324421\n",
      "test/Картинки/Снимок экрана.png                2021-10-01 20:47:02        10878\n",
      "test/Неравенства.djvu                          2021-08-19 08:39:06      5283010\n",
      "test/Программы/                                2021-11-27 12:48:20            0\n",
      "test/Программы/image_util.py                   2021-11-18 12:42:22         4955\n",
      "test/Программы/sort.py                         2021-11-14 19:31:02           61\n",
      "test/Разные файлы/                             2021-11-27 12:48:10            0\n",
      "test/Разные файлы/astros.json                  2021-11-08 09:29:58          505\n"
     ]
    }
   ],
   "source": [
    "from zipfile import ZipFile\n",
    "\n",
    "with ZipFile('test.zip') as zip_file:\n",
    "    zip_file.printdir()"
   ],
   "metadata": {
    "collapsed": false,
    "ExecuteTime": {
     "end_time": "2024-10-25T07:03:57.862324700Z",
     "start_time": "2024-10-25T07:03:57.855862500Z"
    }
   },
   "id": "a58abcf2138c0bf3"
  },
  {
   "cell_type": "markdown",
   "source": [
    "При создании объекта ZipFile мы также можем передать необязательный аргумент mode, который задает режим работы (по аналогии с обычными файлами):\n",
    "\n",
    "r — файл будет открыт для чтения\n",
    "w — если файл существует, то он будет уничтожен и вместо него будет создан новый файл\n",
    "a — существующий файл будет открыт в режиме добавления в конец"
   ],
   "metadata": {
    "collapsed": false
   },
   "id": "db6cf30a47926114"
  },
  {
   "cell_type": "markdown",
   "source": [
    "По умолчанию параметр mode имеет значение mode='r', то есть архив открывается для чтения."
   ],
   "metadata": {
    "collapsed": false
   },
   "id": "364986836463b821"
  },
  {
   "cell_type": "markdown",
   "source": [
    "Метод infolist()"
   ],
   "metadata": {
    "collapsed": false
   },
   "id": "b014f880b0fb68ff"
  },
  {
   "cell_type": "markdown",
   "source": [
    "Метод infolist() позволяет получить информацию о файлах из архива в виде списка специальных объектов (тип ZipInfo), которые содержат дополнительную информацию о каждом файле:\n",
    "\n",
    "file_size\n",
    "compress_size\n",
    "filename\n",
    "date_time\n",
    "..."
   ],
   "metadata": {
    "collapsed": false
   },
   "id": "a94022296ac5f372"
  },
  {
   "cell_type": "code",
   "execution_count": 2,
   "outputs": [
    {
     "name": "stdout",
     "output_type": "stream",
     "text": [
      "2324421\n",
      "2322032\n",
      "test/Картинки/World_Time_Zones_Map.png\n",
      "(2021, 11, 8, 7, 30, 6)\n"
     ]
    }
   ],
   "source": [
    "from zipfile import ZipFile\n",
    "\n",
    "with ZipFile('test.zip') as zip_file:\n",
    "    info = zip_file.infolist()\n",
    "    print(info[6].file_size)                # размер начального файла в байтах\n",
    "    print(info[6].compress_size)            # размер сжатого файла в байтах\n",
    "    print(info[6].filename)                 # имя файла\n",
    "    print(info[6].date_time)                # дата изменения файла"
   ],
   "metadata": {
    "collapsed": false,
    "ExecuteTime": {
     "end_time": "2024-10-25T08:31:39.109468900Z",
     "start_time": "2024-10-25T08:31:39.105538500Z"
    }
   },
   "id": "12418be593f16266"
  },
  {
   "cell_type": "markdown",
   "source": [
    "Помимо указанных атрибутов (свойств) file_size, compress_size, filename, date_time доступны и другие, о которых можно почитать в официальной документации."
   ],
   "metadata": {
    "collapsed": false
   },
   "id": "2cf181eb1b7c822a"
  },
  {
   "cell_type": "markdown",
   "source": [
    "Обратите внимание на то, что атрибут date_time представляет из себя кортеж (год, месяц, день, час, минута, секунда)."
   ],
   "metadata": {
    "collapsed": false
   },
   "id": "cff861d7095c13d7"
  },
  {
   "cell_type": "markdown",
   "source": [
    "Также мы можем использовать метод is_dir(), чтобы проверить тип объекта: файл или папка. Он возвращает True, если объект является папкой, или False в противном случае."
   ],
   "metadata": {
    "collapsed": false
   },
   "id": "9980bc07c975947"
  },
  {
   "cell_type": "code",
   "execution_count": 3,
   "outputs": [
    {
     "name": "stdout",
     "output_type": "stream",
     "text": [
      "True\n",
      "False\n"
     ]
    }
   ],
   "source": [
    "from zipfile import ZipFile\n",
    "\n",
    "with ZipFile('test.zip') as zip_file:\n",
    "    info = zip_file.infolist()\n",
    "    print(info[0].is_dir())\n",
    "    print(info[6].is_dir())"
   ],
   "metadata": {
    "collapsed": false,
    "ExecuteTime": {
     "end_time": "2024-10-25T08:34:05.133344400Z",
     "start_time": "2024-10-25T08:34:05.128497800Z"
    }
   },
   "id": "4fbc8b89c4cb27a"
  },
  {
   "cell_type": "markdown",
   "source": [
    "Метод namelist()"
   ],
   "metadata": {
    "collapsed": false
   },
   "id": "7a1205743910a0c9"
  },
  {
   "cell_type": "markdown",
   "source": [
    "Метод namelist() возвращает список названий файлов и директорий, содержащихся в архиве."
   ],
   "metadata": {
    "collapsed": false
   },
   "id": "fba4013a900abfb0"
  },
  {
   "cell_type": "code",
   "execution_count": 4,
   "outputs": [
    {
     "name": "stdout",
     "output_type": "stream",
     "text": [
      "test/\n",
      "test/Картинки/\n",
      "test/Картинки/1.jpg\n",
      "test/Картинки/avatar.png\n",
      "test/Картинки/certificate.png\n",
      "test/Картинки/py.png\n",
      "test/Картинки/World_Time_Zones_Map.png\n",
      "test/Картинки/Снимок экрана.png\n",
      "test/Неравенства.djvu\n",
      "test/Программы/\n",
      "test/Программы/image_util.py\n",
      "test/Программы/sort.py\n",
      "test/Разные файлы/\n",
      "test/Разные файлы/astros.json\n"
     ]
    }
   ],
   "source": [
    "from zipfile import ZipFile\n",
    "\n",
    "with ZipFile('test.zip') as zip_file:\n",
    "    info = zip_file.namelist()\n",
    "    print(*info, sep='\\n')"
   ],
   "metadata": {
    "collapsed": false,
    "ExecuteTime": {
     "end_time": "2024-10-25T08:35:11.091332800Z",
     "start_time": "2024-10-25T08:35:11.084179400Z"
    }
   },
   "id": "5d1af2621382bd67"
  },
  {
   "cell_type": "markdown",
   "source": [
    "Метод getinfo()"
   ],
   "metadata": {
    "collapsed": false
   },
   "id": "b27fa4b4f61cfabd"
  },
  {
   "cell_type": "markdown",
   "source": [
    "В отличие от метода infolist(), который позволяет получить информацию о всех файлах из архива в виде списка специальных объектов (тип ZipInfo), метод getinfo() позволяет получить информацию о конкретном файле по его имени в архиве."
   ],
   "metadata": {
    "collapsed": false
   },
   "id": "68b6a9984747b86c"
  },
  {
   "cell_type": "code",
   "execution_count": 5,
   "outputs": [
    {
     "name": "stdout",
     "output_type": "stream",
     "text": [
      "4955\n",
      "1641\n",
      "test/Программы/image_util.py\n",
      "(2021, 11, 18, 12, 42, 22)\n"
     ]
    }
   ],
   "source": [
    "from zipfile import ZipFile\n",
    "\n",
    "with ZipFile('test.zip') as zip_file:\n",
    "    info = zip_file.namelist()                # получаем названия всех файлов архива\n",
    "    last_file = zip_file.getinfo(info[-4])    # получаем информацию об отдельном файле\n",
    "    print(last_file.file_size)\n",
    "    print(last_file.compress_size)\n",
    "    print(last_file.filename)\n",
    "    print(last_file.date_time)"
   ],
   "metadata": {
    "collapsed": false,
    "ExecuteTime": {
     "end_time": "2024-10-25T08:36:06.972100Z",
     "start_time": "2024-10-25T08:36:06.966612Z"
    }
   },
   "id": "b27c635712390fbf"
  },
  {
   "cell_type": "markdown",
   "source": [
    "Работа с конкретными файлами из архива"
   ],
   "metadata": {
    "collapsed": false
   },
   "id": "cccc0472e25a84f"
  },
  {
   "cell_type": "markdown",
   "source": [
    "Структуру архива мы получили, «вытащим» теперь и конкретный файл."
   ],
   "metadata": {
    "collapsed": false
   },
   "id": "d0953f172e37ae43"
  },
  {
   "cell_type": "code",
   "execution_count": 6,
   "outputs": [
    {
     "name": "stdout",
     "output_type": "stream",
     "text": [
      "b'{\"number\": 10, \"people\": [{\"craft\": \"ISS\", \"name\": \"Mark Vande Hei\"}, {\"craft\": \"ISS\", \"name\": \"Pyotr Dubrov\"}, {\"craft\": \"ISS\", \"name\": \"Thomas Pesquet\"}, {\"craft\": \"ISS\", \"name\": \"Megan McArthur\"}, {\"craft\": \"ISS\", \"name\": \"Shane Kimbrough\"}, {\"craft\": \"ISS\", \"name\": \"Akihiko Hoshide\"}, {\"craft\": \"ISS\", \"name\": \"Anton Shkaplerov\"}, {\"craft\": \"Shenzhou 13\", \"name\": \"Zhai Zhigang\"}, {\"craft\": \"Shenzhou 13\", \"name\": \"Wang Yaping\"}, {\"craft\": \"Shenzhou 13\", \"name\": \"Ye Guangfu\"}], \"message\": \"success\"}'\n"
     ]
    }
   ],
   "source": [
    "from zipfile import ZipFile\n",
    "\n",
    "with ZipFile('test.zip') as zip_file:\n",
    "    with zip_file.open('test/Разные файлы/astros.json') as file:\n",
    "        print(file.read())"
   ],
   "metadata": {
    "collapsed": false,
    "ExecuteTime": {
     "end_time": "2024-10-25T08:37:52.618382300Z",
     "start_time": "2024-10-25T08:37:52.615547800Z"
    }
   },
   "id": "9f423fd91e24f5e0"
  },
  {
   "cell_type": "markdown",
   "source": [
    "Обратите внимание на символ b перед выводом. Это бинарная строка. Метод file.read() возвращает сырые байты (тип bytes). Для того чтобы преобразовать их в строку (тип str), нужно использовать метод decode(), указав нужную кодировку (файл astros.json имеет кодировку UTF-8)."
   ],
   "metadata": {
    "collapsed": false
   },
   "id": "31e8af5eae18116c"
  },
  {
   "cell_type": "markdown",
   "source": [
    "Метод ZipFile.open() открывает файл именно в бинарном виде, не в текстовом."
   ],
   "metadata": {
    "collapsed": false
   },
   "id": "f96a718051701326"
  },
  {
   "cell_type": "code",
   "execution_count": 7,
   "outputs": [
    {
     "name": "stdout",
     "output_type": "stream",
     "text": [
      "{\"number\": 10, \"people\": [{\"craft\": \"ISS\", \"name\": \"Mark Vande Hei\"}, {\"craft\": \"ISS\", \"name\": \"Pyotr Dubrov\"}, {\"craft\": \"ISS\", \"name\": \"Thomas Pesquet\"}, {\"craft\": \"ISS\", \"name\": \"Megan McArthur\"}, {\"craft\": \"ISS\", \"name\": \"Shane Kimbrough\"}, {\"craft\": \"ISS\", \"name\": \"Akihiko Hoshide\"}, {\"craft\": \"ISS\", \"name\": \"Anton Shkaplerov\"}, {\"craft\": \"Shenzhou 13\", \"name\": \"Zhai Zhigang\"}, {\"craft\": \"Shenzhou 13\", \"name\": \"Wang Yaping\"}, {\"craft\": \"Shenzhou 13\", \"name\": \"Ye Guangfu\"}], \"message\": \"success\"}\n"
     ]
    }
   ],
   "source": [
    "from zipfile import ZipFile\n",
    "\n",
    "with ZipFile('test.zip') as zip_file:\n",
    "    with zip_file.open('test/Разные файлы/astros.json') as file:\n",
    "        print(file.read().decode('utf-8'))"
   ],
   "metadata": {
    "collapsed": false,
    "ExecuteTime": {
     "end_time": "2024-10-25T08:38:41.734281800Z",
     "start_time": "2024-10-25T08:38:41.730436900Z"
    }
   },
   "id": "b83ee860b11651ce"
  },
  {
   "cell_type": "markdown",
   "source": [
    "Обратите внимание на отсутствие символа b."
   ],
   "metadata": {
    "collapsed": false
   },
   "id": "701165208abd028e"
  },
  {
   "cell_type": "markdown",
   "source": [
    "Запись в zip архив"
   ],
   "metadata": {
    "collapsed": false
   },
   "id": "dcf94d5c85b811ea"
  },
  {
   "cell_type": "markdown",
   "source": [
    "По аналогии с чтением файлов из архива их можно туда и записывать, для этого необходимо создать объект ZipFile в режимах mode='w' или mode='a'.\n",
    "\n",
    "Для записи файла в архив используется метод write(), который принимает имя существующего файла."
   ],
   "metadata": {
    "collapsed": false
   },
   "id": "bb8f9cc29e4e43d9"
  },
  {
   "cell_type": "code",
   "execution_count": 12,
   "outputs": [
    {
     "name": "stdout",
     "output_type": "stream",
     "text": [
      "['program.py', 'lse.jpeg']\n"
     ]
    }
   ],
   "source": [
    "from zipfile import ZipFile\n",
    "\n",
    "with ZipFile('archive.zip', mode='w') as zip_file:\n",
    "    zip_file.write('program.py')\n",
    "    zip_file.write('lse.jpeg')\n",
    "    print(zip_file.namelist())"
   ],
   "metadata": {
    "collapsed": false,
    "ExecuteTime": {
     "end_time": "2024-10-25T08:46:37.117514700Z",
     "start_time": "2024-10-25T08:46:37.110886800Z"
    }
   },
   "id": "29acb245d2272e19"
  },
  {
   "cell_type": "markdown",
   "source": [
    "cоздает в папке с программой архив с именем archive.zip и записывает в него содержимое файлов program.py и lse.jpeg, которые так же находятся в папке с программой, а затем выводит список всех файлов данного архива:\n",
    "\n",
    "['program.py', 'lse.jpeg']"
   ],
   "metadata": {
    "collapsed": false
   },
   "id": "fd3b1f97d32b7579"
  },
  {
   "cell_type": "markdown",
   "source": [
    "Если файлы для записи в архив не будут найдены, то возникнет ошибка (исключение) FileNotFoundError."
   ],
   "metadata": {
    "collapsed": false
   },
   "id": "ed829fc8b13b300"
  },
  {
   "cell_type": "markdown",
   "source": [
    "Метод write() может принимать еще один строковый аргумент, задающий новое имя файла в архиве."
   ],
   "metadata": {
    "collapsed": false
   },
   "id": "6fad1598497d4885"
  },
  {
   "cell_type": "code",
   "execution_count": 13,
   "outputs": [
    {
     "name": "stdout",
     "output_type": "stream",
     "text": [
      "['new_program.py', 'lse1.jpeg']\n"
     ]
    }
   ],
   "source": [
    "from zipfile import ZipFile\n",
    "\n",
    "with ZipFile('archive.zip', mode='w') as zip_file:\n",
    "    zip_file.write('program.py', 'new_program.py')  # первый аргумент - это имя файла\n",
    "    zip_file.write('lse.jpeg', 'lse1.jpeg')         # второй аргумент - это имя файла в архиве\n",
    "    print(zip_file.namelist())"
   ],
   "metadata": {
    "collapsed": false,
    "ExecuteTime": {
     "end_time": "2024-10-25T08:46:40.698285600Z",
     "start_time": "2024-10-25T08:46:40.691743500Z"
    }
   },
   "id": "cf3849603d44cc7e"
  },
  {
   "cell_type": "markdown",
   "source": [
    "cоздает в папке с программой архив с именем archive.zip и записывает в него содержимое файлов program.py и lse.jpeg, которые так же находятся в папке с программой, а затем выводит список всех файлов данного архива:\n",
    "\n",
    "['new_program.py', 'lse1.jpeg']"
   ],
   "metadata": {
    "collapsed": false
   },
   "id": "e601f7fc207f2eef"
  },
  {
   "cell_type": "markdown",
   "source": [
    "Для добавления файлов в уже существующий архив необходимо создать объект ZipFile в режиме mode='a'."
   ],
   "metadata": {
    "collapsed": false
   },
   "id": "47e11b92a9327fb9"
  },
  {
   "cell_type": "code",
   "execution_count": 14,
   "outputs": [
    {
     "name": "stdout",
     "output_type": "stream",
     "text": [
      "test/\n",
      "test/Картинки/\n",
      "test/Картинки/1.jpg\n",
      "test/Картинки/avatar.png\n",
      "test/Картинки/certificate.png\n",
      "test/Картинки/py.png\n",
      "test/Картинки/World_Time_Zones_Map.png\n",
      "test/Картинки/Снимок экрана.png\n",
      "test/Неравенства.djvu\n",
      "test/Программы/\n",
      "test/Программы/image_util.py\n",
      "test/Программы/sort.py\n",
      "test/Разные файлы/\n",
      "test/Разные файлы/astros.json\n",
      "test/program.py\n",
      "lse.jpeg\n"
     ]
    }
   ],
   "source": [
    "from zipfile import ZipFile\n",
    "\n",
    "with ZipFile('test.zip', mode='a') as zip_file:\n",
    "    zip_file.write('program.py', 'test/program.py')\n",
    "    zip_file.write('lse.jpeg')\n",
    "    print(*zip_file.namelist(), sep='\\n')"
   ],
   "metadata": {
    "collapsed": false,
    "ExecuteTime": {
     "end_time": "2024-10-25T08:46:44.918699400Z",
     "start_time": "2024-10-25T08:46:44.914278600Z"
    }
   },
   "id": "679d93de17464aca"
  },
  {
   "cell_type": "markdown",
   "source": [
    "Извлечение содержимого zip-файла в каталог"
   ],
   "metadata": {
    "collapsed": false
   },
   "id": "97f8e41f4500ab9b"
  },
  {
   "cell_type": "markdown",
   "source": [
    "Для извлечения данных из архива в каталог используются методы extract() и extractall().\n",
    "\n",
    "Если требуется извлечь отдельные файлы, то используется метод extract(), он принимает два аргумента: название файла и путь, по которому требуется извлечь файл. Если путь не указывать, то файл будет извлечен в папку, где находится файл с программой."
   ],
   "metadata": {
    "collapsed": false
   },
   "id": "99e7757c20717fa2"
  },
  {
   "cell_type": "code",
   "execution_count": 15,
   "outputs": [],
   "source": [
    "from zipfile import ZipFile\n",
    "\n",
    "with ZipFile('test.zip') as zip_file:\n",
    "    zip_file.extract('test/Картинки/avatar.png')\n",
    "    zip_file.extract('test/Программы/image_util.py')\n",
    "    zip_file.extract('lse.jpeg')"
   ],
   "metadata": {
    "collapsed": false,
    "ExecuteTime": {
     "end_time": "2024-10-25T08:48:10.549781400Z",
     "start_time": "2024-10-25T08:48:10.538629700Z"
    }
   },
   "id": "abcc5cb9a4f2569e"
  },
  {
   "cell_type": "markdown",
   "source": [
    "извлекает файлы из обновленного архива test.zip"
   ],
   "metadata": {
    "collapsed": false
   },
   "id": "f6187daa4bb89fa6"
  },
  {
   "cell_type": "markdown",
   "source": [
    "Если требуется извлечь все содержимое архива, то используется метод extractall(), он принимает в качестве аргумента путь, по которому требуется извлечь все файлы. Если путь не указывать, то файл будет извлечен в папку, где находится файл с программой."
   ],
   "metadata": {
    "collapsed": false
   },
   "id": "f6104ab97692dc5b"
  },
  {
   "cell_type": "code",
   "execution_count": 16,
   "outputs": [],
   "source": [
    "from zipfile import ZipFile\n",
    "\n",
    "with ZipFile('test.zip') as zip_file:\n",
    "    zip_file.extractall()"
   ],
   "metadata": {
    "collapsed": false,
    "ExecuteTime": {
     "end_time": "2024-10-25T08:49:29.239379300Z",
     "start_time": "2024-10-25T08:49:29.214795500Z"
    }
   },
   "id": "e109e539eabbb777"
  },
  {
   "cell_type": "markdown",
   "source": [
    "извлекает все содержимое файла test.zip в папку, где находится файл с программой, при этом структура каталогов архива сохраняется."
   ],
   "metadata": {
    "collapsed": false
   },
   "id": "235fc6b6d576990c"
  },
  {
   "cell_type": "markdown",
   "source": [
    "Примечания"
   ],
   "metadata": {
    "collapsed": false
   },
   "id": "382a9e77f1ed3ec6"
  },
  {
   "cell_type": "markdown",
   "source": [
    "https://habr.com/ru/company/vk/blog/490790/"
   ],
   "metadata": {
    "collapsed": false
   },
   "id": "f75a3c5e488d4f86"
  },
  {
   "cell_type": "markdown",
   "source": [
    "При создании объекта ZipFile мы также можем передать еще два необязательных аргумента:\n",
    "\n",
    "compression, который определяет метод сжатия, который должен использоваться при записи в архив. Он принимает одно из значений: ZIP_STORED, ZIP_DEFLATED, ZIP_BZIP2, ZIP_LZMA. По умолчанию используется значение compression=ZIP_STORED\n",
    "\n",
    "allowZip64, который позволяет разрешить использование расширений zip64, которые дают возможность создавать архивы размером больше 4 гигабайт. По умолчанию равен allowZip64=True"
   ],
   "metadata": {
    "collapsed": false
   },
   "id": "828a1ed8649c4906"
  },
  {
   "cell_type": "markdown",
   "source": [
    " Для того чтобы проверить является ли некоторый файл zip архивом, используется функция zipfile.is_zipfile(), которая принимает на вход путь к файлу (или сам файловый объект) и возвращает значение True, если указанный файл является zip архивом, или False в противном случае."
   ],
   "metadata": {
    "collapsed": false
   },
   "id": "7b2c7214795b5f97"
  },
  {
   "cell_type": "markdown",
   "source": [
    "Количество файлов\n",
    "Вам доступен архив workbook.zip, содержащий различные папки и файлы. Напишите программу, которая выводит единственное число — количество файлов в этом архиве.\n",
    "\n",
    "Примечание 1. Обратите внимание, что папка не считается файлом."
   ],
   "metadata": {
    "collapsed": false
   },
   "id": "3e350bbce93bbbf"
  },
  {
   "cell_type": "code",
   "execution_count": 34,
   "outputs": [
    {
     "name": "stdout",
     "output_type": "stream",
     "text": [
      "18\n"
     ]
    }
   ],
   "source": [
    "from zipfile import ZipFile\n",
    "\n",
    "with ZipFile('workbook.zip') as zip_file:\n",
    "    # zip_file.printdir()\n",
    "    # info = zip_file.namelist()                # получаем названия всех файлов архива\n",
    "    info = zip_file.infolist()\n",
    "    # print(*info, sep='\\n')\n",
    "    # print(len(info))\n",
    "    counter = 0\n",
    "    for i in range(len(info)):\n",
    "        if not info[i].is_dir():\n",
    "            counter += 1\n",
    "\n",
    "print(counter)"
   ],
   "metadata": {
    "collapsed": false,
    "ExecuteTime": {
     "end_time": "2024-10-25T11:58:31.830979400Z",
     "start_time": "2024-10-25T11:58:31.826776Z"
    }
   },
   "id": "eadc1ee6c301f3e8"
  }
 ],
 "metadata": {
  "kernelspec": {
   "display_name": "Python 3",
   "language": "python",
   "name": "python3"
  },
  "language_info": {
   "codemirror_mode": {
    "name": "ipython",
    "version": 2
   },
   "file_extension": ".py",
   "mimetype": "text/x-python",
   "name": "python",
   "nbconvert_exporter": "python",
   "pygments_lexer": "ipython2",
   "version": "2.7.6"
  }
 },
 "nbformat": 4,
 "nbformat_minor": 5
}
