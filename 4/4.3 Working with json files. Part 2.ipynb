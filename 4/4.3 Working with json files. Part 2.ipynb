{
 "cells": [
  {
   "cell_type": "markdown",
   "source": [
    "Дополните приведенный ниже код, чтобы он вывел содержимое словаря countries, расположив его элементы в лексикографическом порядке ключей, указав в качестве разделителя элементов , (запятая без пробела), в качестве разделителя пар ключ-значение — строку   -  (пробел дефис пробел), а в качестве отступов — три пробела.\n",
    "\n",
    "Примечание 1. Начальная часть ответа выглядит так:\n",
    "\n",
    "{\n",
    "   \"Angola\" - \"Luanda\",\n",
    "   \"Australia\" - \"Canberra\",\n",
    "   ...\n",
    "Примечание 2. Используйте необязательные аргументы indent, separators и sort_keys."
   ],
   "metadata": {
    "collapsed": false
   },
   "id": "da99056c121dd7e1"
  },
  {
   "cell_type": "code",
   "execution_count": 6,
   "outputs": [
    {
     "name": "stdout",
     "output_type": "stream",
     "text": [
      "{\n",
      "   \"Angola\" - \"Luanda\",\n",
      "   \"Australia\" - \"Canberra\",\n",
      "   \"Canada\" - \"Ottawa\",\n",
      "   \"Colombia\" - \"Bogota\",\n",
      "   \"Costa Rica\" - \"San Jose\",\n",
      "   \"Cuba\" - \"Havana\",\n",
      "   \"Finland\" - \"Helsinki\",\n",
      "   \"France\" - \"Paris\",\n",
      "   \"Gabon\" - \"Libreville\",\n",
      "   \"Iceland\" - \"Reykjavik\",\n",
      "   \"India\" - \"New Delhi\",\n",
      "   \"Kazakhstan\" - \"Nur-Sultan\",\n",
      "   \"Kenya\" - \"Nairobi\",\n",
      "   \"Liberia\" - \"Monrovia\",\n",
      "   \"Mali\" - \"Bamako\",\n",
      "   \"Monaco\" - \"Monaco\"\n",
      "}\n"
     ]
    }
   ],
   "source": [
    "import json\n",
    "\n",
    "countries = {'Monaco': 'Monaco', 'Iceland': 'Reykjavik', 'Kenya': 'Nairobi', 'Kazakhstan': 'Nur-Sultan',\n",
    "             'Mali': 'Bamako', 'Colombia': 'Bogota', 'Finland': 'Helsinki', 'Costa Rica': 'San Jose',\n",
    "             'Cuba': 'Havana', 'France': 'Paris', 'Gabon': 'Libreville', 'Liberia': 'Monrovia',\n",
    "             'Angola': 'Luanda', 'India': 'New Delhi', 'Canada': 'Ottawa', 'Australia': 'Canberra'}\n",
    "\n",
    "json_string = json.dumps(countries, indent='   ', sort_keys=True, separators=(',', ' - '))\n",
    "print(json_string)"
   ],
   "metadata": {
    "collapsed": false,
    "ExecuteTime": {
     "end_time": "2024-10-07T13:11:13.703350300Z",
     "start_time": "2024-10-07T13:11:13.698946500Z"
    }
   },
   "id": "27624ff66ddbd381"
  },
  {
   "cell_type": "markdown",
   "source": [
    "Дополните приведенный ниже код, чтобы он преобразовал словарь words в строку в формате JSON, пропуская пары, которые имеют недопустимые ключи, и присвоил полученный результат переменной data_json.\n",
    "\n",
    "Примечание. Используйте необязательный аргумент skipkeys."
   ],
   "metadata": {
    "collapsed": false
   },
   "id": "f7d33f691c6c77cb"
  },
  {
   "cell_type": "code",
   "execution_count": 8,
   "outputs": [
    {
     "name": "stdout",
     "output_type": "stream",
     "text": [
      "{\"travel\": \"tr\\u00e6vl\", \"moonlight\": \"mu\\u02d0n.la\\u026at\", \"sunshine\": \"\\u02c8s\\u028cn.\\u0283a\\u026an\", \"adventure\": \"\\u0259d\\u02c8vent\\u0283\\u0259r\", \"beautiful\": \"\\u02c8bju\\u02d0t\\u026afl\", \"bicycle\": \"baisikl\"}\n"
     ]
    }
   ],
   "source": [
    "import json\n",
    "\n",
    "words = {\n",
    "         frozenset([\"tap\", \"telephone\"]): (\"tæp\", \"telifəun\"),\n",
    "         \"travel\": \"trævl\",\n",
    "         (\"hello\", \"world\"): (\"həˈləʊ\", \"wɜːld\"),\n",
    "         \"moonlight\": \"muːn.laɪt\",\n",
    "         \"sunshine\": \"ˈsʌn.ʃaɪn\",\n",
    "         (\"why\", \"is\", \"so\", \"difficult\"): (\"waɪ\", \"ɪz\", \"səʊ\", \"ˈdɪfɪkəlt\"),\n",
    "         \"adventure\": \"ədˈventʃər\",\n",
    "         \"beautiful\": \"ˈbjuːtɪfl\",\n",
    "         frozenset([\"spoon\", \"block\"]): (\"spu:n\", \"blɔk\"),\n",
    "         \"bicycle\": \"baisikl\",\n",
    "         (\"pilot\", \"fly\"): (\"pailət\", \"flai\")\n",
    "        }\n",
    "\n",
    "data_json = json.dumps(words, skipkeys=True)\n",
    "print(data_json)"
   ],
   "metadata": {
    "collapsed": false,
    "ExecuteTime": {
     "end_time": "2024-10-08T12:25:23.449798700Z",
     "start_time": "2024-10-08T12:25:23.443800300Z"
    }
   },
   "id": "60442eb98cc66008"
  },
  {
   "cell_type": "markdown",
   "source": [
    "Вам доступны словари club1, club2 и club3, содержащие данные о различных футбольных клубах. Дополните приведенный ниже код, чтобы он объединил данные словари в список и записал полученную структуру данных в файл data.json, указав в качестве отступов три символа пробела.\n",
    "\n",
    "Примечание 1. Словари в списке должны располагаться в своем исходном порядке.\n",
    "\n",
    "Примечание 2. Начальная часть файла data.json выглядит так:"
   ],
   "metadata": {
    "collapsed": false
   },
   "id": "eeb4a800324f7489"
  },
  {
   "cell_type": "code",
   "execution_count": null,
   "outputs": [],
   "source": [
    "[\n",
    "   {\n",
    "      \"name\": \"FC Byern Munchen\",\n",
    "      \"country\": \"Germany\",\n",
    "      ...\n",
    "   },\n",
    "   ...\n",
    "]"
   ],
   "metadata": {
    "collapsed": false
   },
   "id": "6b71d4ee600e7166"
  },
  {
   "cell_type": "markdown",
   "source": [
    "Примечание 3. Используйте необязательный аргумент indent. "
   ],
   "metadata": {
    "collapsed": false
   },
   "id": "1f14d374878905c0"
  },
  {
   "cell_type": "code",
   "execution_count": 10,
   "outputs": [],
   "source": [
    "import json\n",
    "\n",
    "club1 = {\"name\": \"FC Byern Munchen\", \"country\": \"Germany\", \"founded\": 1900,\n",
    "         \"trainer\": \"Julian Nagelsmann\", \"goalkeeper\": \"M. Neuer\", \"league_position\": 1}\n",
    "\n",
    "club2 = {\"name\": \"FC Barcelona\", \"country\": \"Spain\", \"founded\": 1899,\n",
    "         \"trainer\": \"Xavier Creus\", \"goalkeeper\": \"M. Ter Stegen\", \"league_position\": 7}\n",
    "\n",
    "club3 = {\"name\": \"FC Manchester United\", \"country\": \"England\", \"founded\": 1878,\n",
    "         \"trainer\": \"Michael Carrick\", \"goalkeeper\": \"D. De Gea\", \"league_position\": 8}\n",
    "\n",
    "# Создаем список клубов\n",
    "l = [club1, club2, club3]\n",
    "\n",
    "with open('data.json', 'w') as file:\n",
    "    json.dump(l, file, indent='   ')"
   ],
   "metadata": {
    "collapsed": false,
    "ExecuteTime": {
     "end_time": "2024-10-08T12:35:48.214388600Z",
     "start_time": "2024-10-08T12:35:48.209380Z"
    }
   },
   "id": "aa889adcb763125f"
  }
 ],
 "metadata": {
  "kernelspec": {
   "display_name": "Python 3",
   "language": "python",
   "name": "python3"
  },
  "language_info": {
   "codemirror_mode": {
    "name": "ipython",
    "version": 2
   },
   "file_extension": ".py",
   "mimetype": "text/x-python",
   "name": "python",
   "nbconvert_exporter": "python",
   "pygments_lexer": "ipython2",
   "version": "2.7.6"
  }
 },
 "nbformat": 4,
 "nbformat_minor": 5
}
