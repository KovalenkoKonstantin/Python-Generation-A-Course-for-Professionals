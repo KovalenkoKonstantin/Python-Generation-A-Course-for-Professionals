{
 "cells": [
  {
   "cell_type": "markdown",
   "source": [
    "Дополните приведенный ниже код, чтобы он вывел содержимое словаря countries, расположив его элементы в лексикографическом порядке ключей, указав в качестве разделителя элементов , (запятая без пробела), в качестве разделителя пар ключ-значение — строку   -  (пробел дефис пробел), а в качестве отступов — три пробела.\n",
    "\n",
    "Примечание 1. Начальная часть ответа выглядит так:\n",
    "\n",
    "{\n",
    "   \"Angola\" - \"Luanda\",\n",
    "   \"Australia\" - \"Canberra\",\n",
    "   ...\n",
    "Примечание 2. Используйте необязательные аргументы indent, separators и sort_keys."
   ],
   "metadata": {
    "collapsed": false
   },
   "id": "da99056c121dd7e1"
  },
  {
   "cell_type": "code",
   "execution_count": 6,
   "outputs": [
    {
     "name": "stdout",
     "output_type": "stream",
     "text": [
      "{\n",
      "   \"Angola\" - \"Luanda\",\n",
      "   \"Australia\" - \"Canberra\",\n",
      "   \"Canada\" - \"Ottawa\",\n",
      "   \"Colombia\" - \"Bogota\",\n",
      "   \"Costa Rica\" - \"San Jose\",\n",
      "   \"Cuba\" - \"Havana\",\n",
      "   \"Finland\" - \"Helsinki\",\n",
      "   \"France\" - \"Paris\",\n",
      "   \"Gabon\" - \"Libreville\",\n",
      "   \"Iceland\" - \"Reykjavik\",\n",
      "   \"India\" - \"New Delhi\",\n",
      "   \"Kazakhstan\" - \"Nur-Sultan\",\n",
      "   \"Kenya\" - \"Nairobi\",\n",
      "   \"Liberia\" - \"Monrovia\",\n",
      "   \"Mali\" - \"Bamako\",\n",
      "   \"Monaco\" - \"Monaco\"\n",
      "}\n"
     ]
    }
   ],
   "source": [
    "import json\n",
    "\n",
    "countries = {'Monaco': 'Monaco', 'Iceland': 'Reykjavik', 'Kenya': 'Nairobi', 'Kazakhstan': 'Nur-Sultan',\n",
    "             'Mali': 'Bamako', 'Colombia': 'Bogota', 'Finland': 'Helsinki', 'Costa Rica': 'San Jose',\n",
    "             'Cuba': 'Havana', 'France': 'Paris', 'Gabon': 'Libreville', 'Liberia': 'Monrovia',\n",
    "             'Angola': 'Luanda', 'India': 'New Delhi', 'Canada': 'Ottawa', 'Australia': 'Canberra'}\n",
    "\n",
    "json_string = json.dumps(countries, indent='   ', sort_keys=True, separators=(',', ' - '))\n",
    "print(json_string)"
   ],
   "metadata": {
    "collapsed": false,
    "ExecuteTime": {
     "end_time": "2024-10-07T13:11:13.703350300Z",
     "start_time": "2024-10-07T13:11:13.698946500Z"
    }
   },
   "id": "27624ff66ddbd381"
  },
  {
   "cell_type": "markdown",
   "source": [
    "Дополните приведенный ниже код, чтобы он преобразовал словарь words в строку в формате JSON, пропуская пары, которые имеют недопустимые ключи, и присвоил полученный результат переменной data_json.\n",
    "\n",
    "Примечание. Используйте необязательный аргумент skipkeys."
   ],
   "metadata": {
    "collapsed": false
   },
   "id": "f7d33f691c6c77cb"
  },
  {
   "cell_type": "code",
   "execution_count": 8,
   "outputs": [
    {
     "name": "stdout",
     "output_type": "stream",
     "text": [
      "{\"travel\": \"tr\\u00e6vl\", \"moonlight\": \"mu\\u02d0n.la\\u026at\", \"sunshine\": \"\\u02c8s\\u028cn.\\u0283a\\u026an\", \"adventure\": \"\\u0259d\\u02c8vent\\u0283\\u0259r\", \"beautiful\": \"\\u02c8bju\\u02d0t\\u026afl\", \"bicycle\": \"baisikl\"}\n"
     ]
    }
   ],
   "source": [
    "import json\n",
    "\n",
    "words = {\n",
    "         frozenset([\"tap\", \"telephone\"]): (\"tæp\", \"telifəun\"),\n",
    "         \"travel\": \"trævl\",\n",
    "         (\"hello\", \"world\"): (\"həˈləʊ\", \"wɜːld\"),\n",
    "         \"moonlight\": \"muːn.laɪt\",\n",
    "         \"sunshine\": \"ˈsʌn.ʃaɪn\",\n",
    "         (\"why\", \"is\", \"so\", \"difficult\"): (\"waɪ\", \"ɪz\", \"səʊ\", \"ˈdɪfɪkəlt\"),\n",
    "         \"adventure\": \"ədˈventʃər\",\n",
    "         \"beautiful\": \"ˈbjuːtɪfl\",\n",
    "         frozenset([\"spoon\", \"block\"]): (\"spu:n\", \"blɔk\"),\n",
    "         \"bicycle\": \"baisikl\",\n",
    "         (\"pilot\", \"fly\"): (\"pailət\", \"flai\")\n",
    "        }\n",
    "\n",
    "data_json = json.dumps(words, skipkeys=True)\n",
    "print(data_json)"
   ],
   "metadata": {
    "collapsed": false,
    "ExecuteTime": {
     "end_time": "2024-10-08T12:25:23.449798700Z",
     "start_time": "2024-10-08T12:25:23.443800300Z"
    }
   },
   "id": "60442eb98cc66008"
  },
  {
   "cell_type": "markdown",
   "source": [
    "Вам доступны словари club1, club2 и club3, содержащие данные о различных футбольных клубах. Дополните приведенный ниже код, чтобы он объединил данные словари в список и записал полученную структуру данных в файл data.json, указав в качестве отступов три символа пробела.\n",
    "\n",
    "Примечание 1. Словари в списке должны располагаться в своем исходном порядке.\n",
    "\n",
    "Примечание 2. Начальная часть файла data.json выглядит так:"
   ],
   "metadata": {
    "collapsed": false
   },
   "id": "eeb4a800324f7489"
  },
  {
   "cell_type": "code",
   "execution_count": null,
   "outputs": [],
   "source": [
    "[\n",
    "   {\n",
    "      \"name\": \"FC Byern Munchen\",\n",
    "      \"country\": \"Germany\",\n",
    "      ...\n",
    "   },\n",
    "   ...\n",
    "]"
   ],
   "metadata": {
    "collapsed": false
   },
   "id": "6b71d4ee600e7166"
  },
  {
   "cell_type": "markdown",
   "source": [
    "Примечание 3. Используйте необязательный аргумент indent. "
   ],
   "metadata": {
    "collapsed": false
   },
   "id": "1f14d374878905c0"
  },
  {
   "cell_type": "code",
   "execution_count": 10,
   "outputs": [],
   "source": [
    "import json\n",
    "\n",
    "club1 = {\"name\": \"FC Byern Munchen\", \"country\": \"Germany\", \"founded\": 1900,\n",
    "         \"trainer\": \"Julian Nagelsmann\", \"goalkeeper\": \"M. Neuer\", \"league_position\": 1}\n",
    "\n",
    "club2 = {\"name\": \"FC Barcelona\", \"country\": \"Spain\", \"founded\": 1899,\n",
    "         \"trainer\": \"Xavier Creus\", \"goalkeeper\": \"M. Ter Stegen\", \"league_position\": 7}\n",
    "\n",
    "club3 = {\"name\": \"FC Manchester United\", \"country\": \"England\", \"founded\": 1878,\n",
    "         \"trainer\": \"Michael Carrick\", \"goalkeeper\": \"D. De Gea\", \"league_position\": 8}\n",
    "\n",
    "# Создаем список клубов\n",
    "l = [club1, club2, club3]\n",
    "\n",
    "with open('data.json', 'w') as file:\n",
    "    json.dump(l, file, indent='   ')"
   ],
   "metadata": {
    "collapsed": false,
    "ExecuteTime": {
     "end_time": "2024-10-08T12:35:48.214388600Z",
     "start_time": "2024-10-08T12:35:48.209380Z"
    }
   },
   "id": "aa889adcb763125f"
  },
  {
   "cell_type": "markdown",
   "source": [
    "Ниже представлена программа, которая должна преобразовать словарь specs в строку в формате JSON и вывести ее с отступами в три пробела, не заменяя кириллические символы на их коды. В программе допущена ошибка, поэтому она выводит:\n",
    "\n",
    "{\"\\u041c\\u043e\\u0434\\u0435\\u043b\\u044c\": \"AMD Ryzen 5 5600G\", \"\\u0413\\u043e\\u0434 \\u0440\\u0435\\u043b\\u0438\\u0437\\u0430\": 2021, \"\\u0421\\u043e\\u043a\\u0435\\u0442\": \"AM4\", \"\\u0422\\u0435\\u0445\\u043f\\u0440\\u043e\\u0446\\u0435\\u0441\\u0441\": \"7 \\u043d\\u043c\", \"\\u042f\\u0434\\u0440\\u043e\": \"Cezanne\", \"\\u041e\\u0431\\u044a\\u0435\\u043c \\u043a\\u044d\\u0448\\u0430 L2\": \"3 \\u041c\\u0411\", \"\\u041e\\u0431\\u044a\\u0435\\u043c \\u043a\\u044d\\u0448\\u0430 L3\": \"16 \\u041c\\u0411\", \"\\u0411\\u0430\\u0437\\u043e\\u0432\\u0430\\u044f \\u0447\\u0430\\u0441\\u0442\\u043e\\u0442\\u0430 \\u043f\\u0440\\u043e\\u0446\\u0435\\u0441\\u0441\\u043e\\u0440\\u0430\": \"3900 \\u041c\\u0413\\u0446\"}\n",
    "Найдите и исправьте ее, чтобы программа преобразовала словарь specs в строку в формате JSON и вывела ее с отступами в три пробела, не заменяя кириллические символы на их коды.\n",
    "\n",
    "Примечание 1. Начальная часть ответа выглядит так:\n",
    "\n",
    "{\n",
    "   \"Модель\": \"AMD Ryzen 5 5600G\",\n",
    "   \"Год релиза\": 2021,\n",
    "   ...\n",
    "Примечание 2. Используйте необязательный аргумент ensure_ascii."
   ],
   "metadata": {
    "collapsed": false
   },
   "id": "bdbad45d00a76d78"
  },
  {
   "cell_type": "code",
   "execution_count": 13,
   "outputs": [
    {
     "name": "stdout",
     "output_type": "stream",
     "text": [
      "{\n",
      "   \"Модель\": \"AMD Ryzen 5 5600G\",\n",
      "   \"Год релиза\": 2021,\n",
      "   \"Сокет\": \"AM4\",\n",
      "   \"Техпроцесс\": \"7 нм\",\n",
      "   \"Ядро\": \"Cezanne\",\n",
      "   \"Объем кэша L2\": \"3 МБ\",\n",
      "   \"Объем кэша L3\": \"16 МБ\",\n",
      "   \"Базовая частота\": \"3900 МГц\"\n",
      "}\n"
     ]
    }
   ],
   "source": [
    "import json\n",
    "\n",
    "specs = {\n",
    "         'Модель': 'AMD Ryzen 5 5600G',\n",
    "         'Год релиза': 2021,\n",
    "         'Сокет': 'AM4',\n",
    "         'Техпроцесс': '7 нм',\n",
    "         'Ядро': 'Cezanne',\n",
    "         'Объем кэша L2': '3 МБ',\n",
    "         'Объем кэша L3': '16 МБ',\n",
    "         'Базовая частота': '3900 МГц'\n",
    "        }\n",
    "\n",
    "specs_json = json.dumps(specs, ensure_ascii=False, indent='   ')\n",
    "\n",
    "print(specs_json)"
   ],
   "metadata": {
    "collapsed": false,
    "ExecuteTime": {
     "end_time": "2024-10-11T13:27:04.858905Z",
     "start_time": "2024-10-11T13:27:04.851487700Z"
    }
   },
   "id": "a594edd7f25333a6"
  },
  {
   "cell_type": "markdown",
   "source": [
    "Функция is_correct_json()\n",
    "Реализуйте функцию is_correct_json(), которая принимает один аргумент:\n",
    "\n",
    "string — произвольная строка\n",
    "Функция должна возвращать True, если строка string удовлетворяет формату JSON, или False в противном случае.\n",
    "\n",
    "Примечание 1. Вспомните про конструкцию try-except из урока. \n",
    "\n",
    "Примечание 2. В тестирующую систему сдайте программу, содержащую только необходимую функцию is_correct_json(), но не код, вызывающий ее"
   ],
   "metadata": {
    "collapsed": false
   },
   "id": "2a36020be19f8af6"
  },
  {
   "cell_type": "code",
   "execution_count": 18,
   "outputs": [
    {
     "name": "stdout",
     "output_type": "stream",
     "text": [
      "True\n",
      "True\n"
     ]
    }
   ],
   "source": [
    "import json\n",
    "\n",
    "def is_correct_json(string: str) -> bool:\n",
    "    try:\n",
    "        st = json.dumps(string)        \n",
    "        return True\n",
    "    except:\n",
    "        return False\n",
    "\n",
    "data = '{\"name\": \"Barsik\", \"age\": 7, \"meal\": \"Wiskas\"}'\n",
    "\n",
    "print(is_correct_json(data))\n",
    "print(is_correct_json('number = 17'))"
   ],
   "metadata": {
    "collapsed": false,
    "ExecuteTime": {
     "end_time": "2024-10-11T13:54:54.413086800Z",
     "start_time": "2024-10-11T13:54:54.409738900Z"
    }
   },
   "id": "5c49ab72ea3cc648"
  }
 ],
 "metadata": {
  "kernelspec": {
   "display_name": "Python 3",
   "language": "python",
   "name": "python3"
  },
  "language_info": {
   "codemirror_mode": {
    "name": "ipython",
    "version": 2
   },
   "file_extension": ".py",
   "mimetype": "text/x-python",
   "name": "python",
   "nbconvert_exporter": "python",
   "pygments_lexer": "ipython2",
   "version": "2.7.6"
  }
 },
 "nbformat": 4,
 "nbformat_minor": 5
}
