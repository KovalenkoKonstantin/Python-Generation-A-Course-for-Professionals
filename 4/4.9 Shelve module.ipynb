{
 "cells": [
  {
   "cell_type": "markdown",
   "source": [
    "Для работы с бинарными файлами в Python может применяться еще один модуль - shelve. Он сохраняет объекты в файл с определенным ключом. Затем по этому ключу может извлечь ранее сохраненный объект из файла. Процесс работы с данными через модуль shelve напоминает работу со словарями, которые также используют ключи для сохранения и извлечения объектов."
   ],
   "metadata": {
    "collapsed": false
   },
   "id": "a9b589bfc79c7555"
  },
  {
   "cell_type": "markdown",
   "source": [
    "open(путь_к_файлу[, flag=\"c\"[, protocol=None[, writeback=False]]])"
   ],
   "metadata": {
    "collapsed": false
   },
   "id": "2a82a628414c53c3"
  },
  {
   "cell_type": "markdown",
   "source": [
    "Где параметр flag может принимать значения:\n",
    "\n",
    "c: файл открывается для чтения и записи (значение по умолчанию). Если файл не существует, то он создается.\n",
    "\n",
    "r: файл открывается только для чтения.\n",
    "\n",
    "w: файл открывается для записи.\n",
    "\n",
    "n: файл открывается для записи Если файл не существует, то он создается. Если он существует, то он перезаписывается\n",
    "\n",
    "Для закрытия подключения к файлу вызывается метод close():"
   ],
   "metadata": {
    "collapsed": false
   },
   "id": "be953af44215eac4"
  },
  {
   "cell_type": "code",
   "execution_count": null,
   "outputs": [],
   "source": [
    "import shelve\n",
    "d = shelve.open('D:\\Data\\Temporary.xlsx')\n",
    "d.close()"
   ],
   "metadata": {
    "collapsed": false
   },
   "id": "ce42e723a47dadb2"
  },
  {
   "cell_type": "markdown",
   "source": [
    "Либо можно открывать файл с помощью оператора with. Сохраним и считаем в файл несколько объектов:"
   ],
   "metadata": {
    "collapsed": false
   },
   "id": "ccc81b8cfcace5a5"
  },
  {
   "cell_type": "code",
   "execution_count": 1,
   "outputs": [
    {
     "name": "stdout",
     "output_type": "stream",
     "text": [
      "Great Britain\n",
      "Spain\n"
     ]
    }
   ],
   "source": [
    "import shelve\n",
    " \n",
    "FILENAME = \"states2\"\n",
    "with shelve.open(FILENAME) as states:\n",
    "    states[\"London\"] = \"Great Britain\"\n",
    "    states[\"Paris\"] = \"France\"\n",
    "    states[\"Berlin\"] = \"Germany\"\n",
    "    states[\"Madrid\"] = \"Spain\"\n",
    " \n",
    "with shelve.open(FILENAME) as states:\n",
    "    print(states[\"London\"])\n",
    "    print(states[\"Madrid\"])"
   ],
   "metadata": {
    "collapsed": false,
    "ExecuteTime": {
     "end_time": "2024-10-30T08:04:40.073460500Z",
     "start_time": "2024-10-30T08:04:40.045096800Z"
    }
   },
   "id": "795a9b6f8cdbbadc"
  },
  {
   "cell_type": "markdown",
   "source": [
    "Запись данных предполагает установку значения для определенного ключа:"
   ],
   "metadata": {
    "collapsed": false
   },
   "id": "2f7adb37b6ac19a3"
  },
  {
   "cell_type": "code",
   "execution_count": null,
   "outputs": [],
   "source": [
    "states[\"London\"] = \"Great Britain\""
   ],
   "metadata": {
    "collapsed": false
   },
   "id": "eaa3df26ed4ed8b4"
  },
  {
   "cell_type": "markdown",
   "source": [
    "А чтение из файла эквивалентно получению значения по ключу:"
   ],
   "metadata": {
    "collapsed": false
   },
   "id": "db1c31b3ea7032dd"
  },
  {
   "cell_type": "code",
   "execution_count": null,
   "outputs": [],
   "source": [
    "print(states[\"London\"])"
   ],
   "metadata": {
    "collapsed": false
   },
   "id": "ab6cf66568a0bff"
  },
  {
   "cell_type": "markdown",
   "source": [
    "Чтение данных"
   ],
   "metadata": {
    "collapsed": false
   },
   "id": "b762fe2413b6214e"
  },
  {
   "cell_type": "markdown",
   "source": [
    "При чтении данных, если запрашиваемый ключ отсутствует, то генерируется исключение. В этом случае перед получением мы можем проверять на наличие ключа с помощью оператора in:"
   ],
   "metadata": {
    "collapsed": false
   },
   "id": "e50a8da4c59b4590"
  },
  {
   "cell_type": "code",
   "execution_count": 4,
   "outputs": [],
   "source": [
    "with shelve.open(FILENAME) as states:\n",
    "    key = \"Brussels\"\n",
    "    if key in states:\n",
    "        print(states[key])"
   ],
   "metadata": {
    "collapsed": false,
    "ExecuteTime": {
     "end_time": "2024-10-30T08:06:27.596979900Z",
     "start_time": "2024-10-30T08:06:27.589376800Z"
    }
   },
   "id": "182a0a2a3113293c"
  },
  {
   "cell_type": "markdown",
   "source": [
    "Также мы можем использовать метод get(). Первый параметр метода - ключ, по которому следует получить значение, а второй - значение по умолчанию, которое возвращается, если ключ не найден."
   ],
   "metadata": {
    "collapsed": false
   },
   "id": "e8303c799975ff14"
  },
  {
   "cell_type": "code",
   "execution_count": 5,
   "outputs": [
    {
     "name": "stdout",
     "output_type": "stream",
     "text": [
      "Undefined\n"
     ]
    }
   ],
   "source": [
    "with shelve.open(FILENAME) as states:\n",
    "    state = states.get(\"Brussels\", \"Undefined\")\n",
    "    print(state)"
   ],
   "metadata": {
    "collapsed": false,
    "ExecuteTime": {
     "end_time": "2024-10-30T08:06:56.509657400Z",
     "start_time": "2024-10-30T08:06:56.502893800Z"
    }
   },
   "id": "98643174d2eaae47"
  },
  {
   "cell_type": "markdown",
   "source": [
    "Используя цикл for, можно перебрать все значения из файла:"
   ],
   "metadata": {
    "collapsed": false
   },
   "id": "9ac0e6ae755c82e2"
  },
  {
   "cell_type": "code",
   "execution_count": 6,
   "outputs": [
    {
     "name": "stdout",
     "output_type": "stream",
     "text": [
      "London  -  Great Britain\n",
      "Paris  -  France\n",
      "Berlin  -  Germany\n",
      "Madrid  -  Spain\n"
     ]
    }
   ],
   "source": [
    "with shelve.open(FILENAME) as states:\n",
    "    for key in states:\n",
    "        print(key,\" - \", states[key])"
   ],
   "metadata": {
    "collapsed": false,
    "ExecuteTime": {
     "end_time": "2024-10-30T08:07:15.670656100Z",
     "start_time": "2024-10-30T08:07:15.666815900Z"
    }
   },
   "id": "961f0405529be726"
  },
  {
   "cell_type": "markdown",
   "source": [
    "Метод keys() возвращает все ключи из файла, а метод values() - все значения:"
   ],
   "metadata": {
    "collapsed": false
   },
   "id": "26804365cfd6821d"
  },
  {
   "cell_type": "code",
   "execution_count": 7,
   "outputs": [
    {
     "name": "stdout",
     "output_type": "stream",
     "text": [
      "London Paris Berlin Madrid \n",
      "Great Britain France Germany Spain "
     ]
    }
   ],
   "source": [
    "with shelve.open(FILENAME) as states:\n",
    " \n",
    "    for city in states.keys():\n",
    "        print(city, end=\" \")        # London Paris Berlin Madrid \n",
    "    print()\n",
    "    for country in states.values():\n",
    "        print(country, end=\" \")     # Great Britain France Germany Spain "
   ],
   "metadata": {
    "collapsed": false,
    "ExecuteTime": {
     "end_time": "2024-10-30T08:07:34.635004700Z",
     "start_time": "2024-10-30T08:07:34.628264300Z"
    }
   },
   "id": "ae1bfcec0e92e357"
  },
  {
   "cell_type": "markdown",
   "source": [
    "Еще один метод items() возвращает набор кортежей. Каждый кортеж содержит ключ и значение."
   ],
   "metadata": {
    "collapsed": false
   },
   "id": "1953d27b8f8e25b1"
  },
  {
   "cell_type": "code",
   "execution_count": 8,
   "outputs": [
    {
     "name": "stdout",
     "output_type": "stream",
     "text": [
      "('London', 'Great Britain')\n",
      "('Paris', 'France')\n",
      "('Berlin', 'Germany')\n",
      "('Madrid', 'Spain')\n"
     ]
    }
   ],
   "source": [
    "with shelve.open(FILENAME) as states:\n",
    " \n",
    "    for state in states.items():\n",
    "        print(state)"
   ],
   "metadata": {
    "collapsed": false,
    "ExecuteTime": {
     "end_time": "2024-10-30T08:07:54.298535600Z",
     "start_time": "2024-10-30T08:07:54.290230200Z"
    }
   },
   "id": "285aa206fe55b88d"
  },
  {
   "cell_type": "markdown",
   "source": [
    "Обновление данных"
   ],
   "metadata": {
    "collapsed": false
   },
   "id": "76b0cba761eb0f79"
  },
  {
   "cell_type": "markdown",
   "source": [
    "Для изменения данных достаточно присвоить по ключу новое значение, а для добавления данных - определить новый ключ:"
   ],
   "metadata": {
    "collapsed": false
   },
   "id": "1f9955c239ff91af"
  },
  {
   "cell_type": "code",
   "execution_count": 9,
   "outputs": [
    {
     "name": "stdout",
     "output_type": "stream",
     "text": [
      "London  -  United Kingdom\n",
      "Paris  -  France\n",
      "Berlin  -  Germany\n",
      "Madrid  -  Spain\n",
      "Brussels  -  Belgium\n"
     ]
    }
   ],
   "source": [
    "import shelve\n",
    " \n",
    "FILENAME = \"states2\"\n",
    "with shelve.open(FILENAME) as states:\n",
    "    states[\"London\"] = \"Great Britain\"\n",
    "    states[\"Paris\"] = \"France\"\n",
    "    states[\"Berlin\"] = \"Germany\"\n",
    "    states[\"Madrid\"] = \"Spain\"\n",
    " \n",
    "with shelve.open(FILENAME) as states:\n",
    " \n",
    "    states[\"London\"] = \"United Kingdom\"\n",
    "    states[\"Brussels\"] = \"Belgium\"\n",
    "    for key in states:\n",
    "        print(key, \" - \", states[key])"
   ],
   "metadata": {
    "collapsed": false,
    "ExecuteTime": {
     "end_time": "2024-10-30T08:08:20.792113400Z",
     "start_time": "2024-10-30T08:08:20.781674800Z"
    }
   },
   "id": "db0f92aa3ca245a5"
  },
  {
   "cell_type": "markdown",
   "source": [
    "Удаление данных"
   ],
   "metadata": {
    "collapsed": false
   },
   "id": "636062e95b0ca6dd"
  },
  {
   "cell_type": "markdown",
   "source": [
    "Для удаления с одновременным получением можно использовать функцию pop(), в которую передается ключ элемента и значение по умолчанию, если ключ не найден:"
   ],
   "metadata": {
    "collapsed": false
   },
   "id": "4584e41b4c803a0d"
  },
  {
   "cell_type": "code",
   "execution_count": 10,
   "outputs": [
    {
     "name": "stdout",
     "output_type": "stream",
     "text": [
      "United Kingdom\n"
     ]
    }
   ],
   "source": [
    "with shelve.open(FILENAME) as states:\n",
    " \n",
    "    state = states.pop(\"London\", \"NotFound\")\n",
    "    print(state)"
   ],
   "metadata": {
    "collapsed": false,
    "ExecuteTime": {
     "end_time": "2024-10-30T08:08:53.757709100Z",
     "start_time": "2024-10-30T08:08:53.748095200Z"
    }
   },
   "id": "7da72532a8cff303"
  },
  {
   "cell_type": "markdown",
   "source": [
    "Также для удаления может применяться оператор del:"
   ],
   "metadata": {
    "collapsed": false
   },
   "id": "18733a9adccc373d"
  },
  {
   "cell_type": "code",
   "execution_count": 11,
   "outputs": [],
   "source": [
    "with shelve.open(FILENAME) as states: \n",
    "    del states[\"Madrid\"]    # удаляем объект с ключом Madrid"
   ],
   "metadata": {
    "collapsed": false,
    "ExecuteTime": {
     "end_time": "2024-10-30T08:09:16.990065800Z",
     "start_time": "2024-10-30T08:09:16.981043200Z"
    }
   },
   "id": "1fb86f44e62838e0"
  },
  {
   "cell_type": "markdown",
   "source": [
    "Для удаления всех элементов можно использовать метод clear():"
   ],
   "metadata": {
    "collapsed": false
   },
   "id": "5058c5696d2bee3e"
  },
  {
   "cell_type": "code",
   "execution_count": 12,
   "outputs": [],
   "source": [
    "with shelve.open(FILENAME) as states: \n",
    "    states.clear()"
   ],
   "metadata": {
    "collapsed": false,
    "ExecuteTime": {
     "end_time": "2024-10-30T08:09:31.712494700Z",
     "start_time": "2024-10-30T08:09:31.702306800Z"
    }
   },
   "id": "4411dfca83e242d"
  }
 ],
 "metadata": {
  "kernelspec": {
   "display_name": "Python 3",
   "language": "python",
   "name": "python3"
  },
  "language_info": {
   "codemirror_mode": {
    "name": "ipython",
    "version": 2
   },
   "file_extension": ".py",
   "mimetype": "text/x-python",
   "name": "python",
   "nbconvert_exporter": "python",
   "pygments_lexer": "ipython2",
   "version": "2.7.6"
  }
 },
 "nbformat": 4,
 "nbformat_minor": 5
}
