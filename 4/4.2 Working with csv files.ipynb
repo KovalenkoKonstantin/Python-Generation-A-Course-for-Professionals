{
 "cells": [
  {
   "cell_type": "markdown",
   "source": [
    "Формат CSV"
   ],
   "metadata": {
    "collapsed": false
   },
   "id": "62fe89d5d9ca6374"
  },
  {
   "cell_type": "markdown",
   "source": [
    "CSV (от англ. Comma-Separated Values — значения, разделённые запятыми) — текстовый формат, предназначенный для представления табличных данных. Строка таблицы соответствует строке текста, которая содержит одно или несколько полей, разделенных запятыми."
   ],
   "metadata": {
    "collapsed": false
   },
   "id": "5525ac5c49d9828c"
  },
  {
   "cell_type": "markdown",
   "source": [
    "Например, таблица:\n",
    "\n",
    "    Rank   \t       Language     \t        Share       \n",
    "1\tPython\t31.17%\n",
    "2\tJava\t17.75%\n",
    "3\tJavaScript\t8%\n",
    "4\tC#\t7.05%\n",
    "5\tPHP\t6.09%\n",
    "в формате csv будет выглядеть так:"
   ],
   "metadata": {
    "collapsed": false
   },
   "id": "334234aea3f810e3"
  },
  {
   "cell_type": "markdown",
   "source": [
    "Rank,Language,Share\n",
    "1,Python,31.17%\n",
    "2,Java,17.75%\n",
    "3,JavaScript,8%\n",
    "4,C#,7.05%\n",
    "5,PHP,6.09%"
   ],
   "metadata": {
    "collapsed": false
   },
   "id": "5b820c2f7a5def6f"
  },
  {
   "cell_type": "markdown",
   "source": [
    "Обратите внимание, пробелов после запятой быть не должно."
   ],
   "metadata": {
    "collapsed": false
   },
   "id": "79fbe9b1c01cee0e"
  },
  {
   "cell_type": "markdown",
   "source": [
    "Ручная работа с файлами"
   ],
   "metadata": {
    "collapsed": false
   },
   "id": "88cbcf39fddc8ca3"
  },
  {
   "cell_type": "markdown",
   "source": [
    "Рассмотрим текстовый файл products.csv, содержащий информацию о товарах некоторого интернет магазина. Файл содержит информацию о трех столбцах:\n",
    "\n",
    "keywords (ключевые слова)\n",
    "price (цена)\n",
    "product_name (имя продукта)\n",
    "и имеет следующее содержимое:"
   ],
   "metadata": {
    "collapsed": false
   },
   "id": "9bc79ea6b4b07afb"
  },
  {
   "cell_type": "markdown",
   "source": [
    "keywords,price,product_name\n",
    "Садовый стул,1699,ВЭДДО\n",
    "Садовый стул,2999,ЭПЛАРО\n",
    "Садовый табурет,1699,ЭПЛАРО\n",
    "Садовый стол,1999,ТЭРНО\n",
    "Складной стол,7499,ЭПЛАРО\n",
    "Настил,1299,РУННЕН\n",
    "Стеллаж,1299,ХИЛЛИС\n",
    "Кружка,39,СТЕЛЬНА\n",
    "Молочник,299,ВАРДАГЕН\n",
    "Термос для еды,699,ЭФТЕРФРОГАД\n",
    "Ситечко,59,ИДЕАЛИСК\n",
    "Чайник заварочный,499,РИКЛИГ\n",
    "Кофе-пресс,699,УПХЕТТА\n",
    "Чашка с блюдцем,249,ИКЕА\n",
    "Кружка,249,ЭМНТ\n",
    "Ситечко,199,САККУННИГ\n",
    "Кружка,199,ФИНСТИЛТ\n",
    "Тарелка,269,ЭВЕРЕНС"
   ],
   "metadata": {
    "collapsed": false
   },
   "id": "d2c6516ddf0e23cc"
  },
  {
   "cell_type": "markdown",
   "source": [
    "Разделителем записей был выбран символ новой строки, а разделителем полей — символ запятой.\n",
    "\n",
    "В результате мы получили текстовый файл, который легко читается и человеком и компьютерной программой.\n",
    "\n",
    "Поскольку любой csv файл является текстовым, то нам не составит труда обработать его \"руками\", подобно тому, как мы обрабатываем обычный текстовый файл."
   ],
   "metadata": {
    "collapsed": false
   },
   "id": "67b3f221f65495a9"
  },
  {
   "cell_type": "code",
   "execution_count": 6,
   "outputs": [
    {
     "name": "stdout",
     "output_type": "stream",
     "text": [
      "['keywords', 'price', 'product_name']\n",
      "['Садовый стул', '1699', 'ВЭДДО']\n",
      "['Садовый стул', '2999', 'ЭПЛАРО']\n",
      "['Садовый табурет', '1699', 'ЭПЛАРО']\n",
      "['Садовый стол', '1999', 'ТЭРНО']\n",
      "['Складной стол', '7499', 'ЭПЛАРО']\n",
      "['Настил', '1299', 'РУННЕН']\n",
      "['Стеллаж', '1299', 'ХИЛЛИС']\n",
      "['Кружка', '39', 'СТЕЛЬНА']\n",
      "['Молочник', '299', 'ВАРДАГЕН']\n",
      "['Термос для еды', '699', 'ЭФТЕРФРОГАД']\n",
      "['Ситечко', '59', 'ИДЕАЛИСК']\n",
      "['Чайник заварочный', '499', 'РИКЛИГ']\n",
      "['Кофе-пресс', '699', 'УПХЕТТА']\n",
      "['Чашка с блюдцем', '249', 'ИКЕА']\n",
      "['Кружка', '249', 'ЭМНТ']\n",
      "['Ситечко', '199', 'САККУННИГ']\n",
      "['Кружка', '199', 'ФИНСТИЛТ']\n",
      "['Тарелка', '269', 'ЭВЕРЕНС']\n"
     ]
    }
   ],
   "source": [
    "with open('products.csv', encoding='utf-8') as file:\n",
    "    data = file.read()\n",
    "    for line in data.splitlines():\n",
    "        print(line.split(','))"
   ],
   "metadata": {
    "collapsed": false,
    "ExecuteTime": {
     "end_time": "2024-09-30T06:04:10.320389Z",
     "start_time": "2024-09-30T06:04:10.314637Z"
    }
   },
   "id": "f56fbc5b9b20adb4"
  },
  {
   "cell_type": "markdown",
   "source": [
    "Для построчного разделения текста удобно использовать строковый метод splitlines(), вместо метода split('\\n')"
   ],
   "metadata": {
    "collapsed": false
   },
   "id": "4154c373d08823a1"
  },
  {
   "cell_type": "markdown",
   "source": [
    "Мы также можем создать вложенный список (таблицу) для более удобного взаимодействия с данными:"
   ],
   "metadata": {
    "collapsed": false
   },
   "id": "e58c513e1bba7569"
  },
  {
   "cell_type": "code",
   "execution_count": 12,
   "outputs": [
    {
     "name": "stdout",
     "output_type": "stream",
     "text": [
      "['keywords', 'price', 'product_name']\n",
      "['Садовый стул', '1699', 'ВЭДДО']\n",
      "['Садовый стул', '2999', 'ЭПЛАРО']\n",
      "['Садовый табурет', '1699', 'ЭПЛАРО']\n",
      "['Садовый стол', '1999', 'ТЭРНО']\n",
      "['Складной стол', '7499', 'ЭПЛАРО']\n",
      "['Настил', '1299', 'РУННЕН']\n",
      "['Стеллаж', '1299', 'ХИЛЛИС']\n",
      "['Кружка', '39', 'СТЕЛЬНА']\n",
      "['Молочник', '299', 'ВАРДАГЕН']\n",
      "['Термос для еды', '699', 'ЭФТЕРФРОГАД']\n",
      "['Ситечко', '59', 'ИДЕАЛИСК']\n",
      "['Чайник заварочный', '499', 'РИКЛИГ']\n",
      "['Кофе-пресс', '699', 'УПХЕТТА']\n",
      "['Чашка с блюдцем', '249', 'ИКЕА']\n",
      "['Кружка', '249', 'ЭМНТ']\n",
      "['Ситечко', '199', 'САККУННИГ']\n",
      "['Кружка', '199', 'ФИНСТИЛТ']\n",
      "['Тарелка', '269', 'ЭВЕРЕНС']\n"
     ]
    }
   ],
   "source": [
    "with open('products.csv', encoding='utf-8') as file:\n",
    "    data = file.read()\n",
    "    table = [r.split(',') for r in data.splitlines()]\n",
    "    # print(*table)\n",
    "    for line in table:\n",
    "        print(line)"
   ],
   "metadata": {
    "collapsed": false,
    "ExecuteTime": {
     "end_time": "2024-09-30T06:08:52.932217400Z",
     "start_time": "2024-09-30T06:08:52.927992100Z"
    }
   },
   "id": "12104165c499bc30"
  },
  {
   "cell_type": "markdown",
   "source": [
    "С помощью такой таблицы мы можем обратиться к цене седьмого по счету товара:"
   ],
   "metadata": {
    "collapsed": false
   },
   "id": "bdf871fb132582e8"
  },
  {
   "cell_type": "code",
   "execution_count": 10,
   "outputs": [
    {
     "name": "stdout",
     "output_type": "stream",
     "text": [
      "1299\n"
     ]
    }
   ],
   "source": [
    "print(table[7][1])"
   ],
   "metadata": {
    "collapsed": false,
    "ExecuteTime": {
     "end_time": "2024-09-30T06:07:14.407392200Z",
     "start_time": "2024-09-30T06:07:14.401043600Z"
    }
   },
   "id": "f946f52df080b4e0"
  },
  {
   "cell_type": "markdown",
   "source": [
    "Или мы можем также отсортировать товары по цене и напечатать 5 самых дешевых товаров."
   ],
   "metadata": {
    "collapsed": false
   },
   "id": "fbc5da54f6432155"
  },
  {
   "cell_type": "code",
   "execution_count": 11,
   "outputs": [
    {
     "name": "stdout",
     "output_type": "stream",
     "text": [
      "['Кружка', '39', 'СТЕЛЬНА']\n",
      "['Ситечко', '59', 'ИДЕАЛИСК']\n",
      "['Ситечко', '199', 'САККУННИГ']\n",
      "['Кружка', '199', 'ФИНСТИЛТ']\n",
      "['Чашка с блюдцем', '249', 'ИКЕА']\n"
     ]
    }
   ],
   "source": [
    "with open('products.csv', encoding='utf-8') as file:\n",
    "    data = file.read()\n",
    "    table = [r.split(',') for r in data.splitlines()]\n",
    "    del table[0]                                        # удаляем заголовок\n",
    "    table.sort(key=lambda item: int(item[1]))\n",
    "    for line in table[:5]:\n",
    "        print(line)"
   ],
   "metadata": {
    "collapsed": false,
    "ExecuteTime": {
     "end_time": "2024-09-30T06:08:26.079146500Z",
     "start_time": "2024-09-30T06:08:26.072248300Z"
    }
   },
   "id": "4ef38ec4d0591ee9"
  },
  {
   "cell_type": "markdown",
   "source": [
    "Обратите внимание на то, что мы удалили первый элемент из списка, так как он содержит не данные, а заголовки. Также стоит обратить внимание на то, что в лямбда-функции мы преобразуем элемент item[1] к числовому типу, иначе сортировка будет работать не так, как полагается."
   ],
   "metadata": {
    "collapsed": false
   },
   "id": "933e70aa6b9f69b7"
  },
  {
   "cell_type": "markdown",
   "source": [
    "В приведенном выше файле products.csv символ запятой использовался в качестве разделителя полей. Однако бывают ситуации, в которых сам символ запятой является легитимным символом. Например, столбец keywords может содержать (и как правило на практике содержит) несколько ключевых слов. В таком случае структура файла нарушается. Для решения такой проблемы можно использовать два подхода."
   ],
   "metadata": {
    "collapsed": false
   },
   "id": "a84562b699c021c4"
  },
  {
   "cell_type": "markdown",
   "source": [
    "1 подход. Если поле содержит запятые, то это поле должно быть заключено в двойные кавычки. Если этого не сделать, то данные невозможно будет корректно обработать.\n",
    "\n",
    "Содержимое файла products.csv может иметь вид:"
   ],
   "metadata": {
    "collapsed": false
   },
   "id": "9a3c2a64473ae6a1"
  },
  {
   "cell_type": "markdown",
   "source": [
    "keywords,price,product_name\n",
    "\"Садовый стул, стул для дачи\",1699,ВЭДДО\n",
    "Садовый стул,2999,ЭПЛАРО\n",
    "Садовый табурет,1699,ЭПЛАРО\n",
    "Садовый стол,1999,ТЭРНО\n",
    "\"Складной стол, обеденный стол\",7499,ЭПЛАРО\n",
    "Настил,1299,РУННЕН\n",
    "Стеллаж,1299,ХИЛЛИС\n",
    "\"Кружка, сосуд, стакан с ручкой\",39,СТЕЛЬНА\n",
    "Молочник,299,ВАРДАГЕН\n",
    "Термос для еды,699,ЭФТЕРФРОГАД\n",
    "Ситечко,59,ИДЕАЛИСК\n",
    "Чайник заварочный,499,РИКЛИГ\n",
    "Кофе-пресс,699,УПХЕТТА\n",
    "Чашка с блюдцем,249,ИКЕА\n",
    "\"Кружка, стакан с ручкой\",249,ЭМНТ\n",
    "Ситечко,199,САККУННИГ\n",
    "Кружка,199,ФИНСТИЛТ\n",
    "\"Тарелка, блюдце\",269,ЭВЕРЕНС"
   ],
   "metadata": {
    "collapsed": false
   },
   "id": "66f5ff70422d7afe"
  },
  {
   "cell_type": "markdown",
   "source": [
    "Обратите внимание на записи с номерами 1, 5, 8, 15 и 18. В этих записях в столбце keywords используется символ запятой, и для правильной обработки данных нам необходимо соответствующее поле обрамить символом двойных кавычек."
   ],
   "metadata": {
    "collapsed": false
   },
   "id": "d28c325c14d86b05"
  },
  {
   "cell_type": "markdown",
   "source": [
    "Обратите внимание на то, что при таком содержимом файла products.csv наш код, написанный выше, является нерабочим, так как он разделит каждую строку через символ запятой."
   ],
   "metadata": {
    "collapsed": false
   },
   "id": "a1d5610cd9c88989"
  },
  {
   "cell_type": "markdown",
   "source": [
    "2 подход. Использовать в качестве разделителя другой символ, например, символ табуляции (\\t), который весьма редко встречается в качестве валидного содержимого файла."
   ],
   "metadata": {
    "collapsed": false
   },
   "id": "4c100558587dfbda"
  },
  {
   "cell_type": "markdown",
   "source": [
    "keywords\tprice\tproduct_name\n",
    "Садовый стул, стул для дачи\t1699\tВЭДДО\n",
    "Садовый стул\t2999\tЭПЛАРО\n",
    "Садовый табурет\t1699\tЭПЛАРО\n",
    "Садовый стол\t1999\tТЭРНО\n",
    "Складной стол, обеденный стол\t7499\tЭПЛАРО\n",
    "Настил\t1299\tРУННЕН\n",
    "Стеллаж\t1299\tХИЛЛИС\n",
    "Кружка, сосуд, стакан с ручкой\t39\tСТЕЛЬНА\n",
    "Молочник\t299\tВАРДАГЕН\n",
    "Термос для еды\t699\tЭФТЕРФРОГАД\n",
    "Ситечко\t59\tИДЕАЛИСК\n",
    "Чайник заварочный\t499\tРИКЛИГ\n",
    "Кофе-пресс\t699\tУПХЕТТА\n",
    "Чашка с блюдцем\t249\tИКЕА\n",
    "Кружка, стакан с ручкой\t249\tЭМНТ\n",
    "Ситечко\t199\tСАККУННИГ\n",
    "Кружка\t199\tФИНСТИЛТ\n",
    "Тарелка, блюдце\t269\tЭВЕРЕНС"
   ],
   "metadata": {
    "collapsed": false
   },
   "id": "aab9d0181dfa70cf"
  },
  {
   "cell_type": "markdown",
   "source": [
    "Формат данных csv, в котором разделителем является символ табуляции, называют tsv (англ. tab separated values — «значения, разделенные табуляцией»)."
   ],
   "metadata": {
    "collapsed": false
   },
   "id": "b29b1390a7ff9e43"
  },
  {
   "cell_type": "markdown",
   "source": [
    "tsv — текстовый формат для представления табличных данных. Каждая запись в таблице — строка текстового файла. Каждое поле записи отделяется от других символом табуляции, а точнее — горизонтальной табуляции."
   ],
   "metadata": {
    "collapsed": false
   },
   "id": "7833aa7c6153ef1a"
  },
  {
   "cell_type": "markdown",
   "source": [
    "tsv и csv — формы более общего формата dsv (англ. delimiter separated values — «значения, разграниченные разделителем»)."
   ],
   "metadata": {
    "collapsed": false
   },
   "id": "1ab57d240c840bbe"
  },
  {
   "cell_type": "markdown",
   "source": [
    "Приведенный ниже код правильно обрабатывает файл products.tsv, в котором символом разделителя выбран символ табуляции (\\t):"
   ],
   "metadata": {
    "collapsed": false
   },
   "id": "bbca2ed083205c3b"
  },
  {
   "cell_type": "code",
   "execution_count": 13,
   "outputs": [
    {
     "name": "stdout",
     "output_type": "stream",
     "text": [
      "['Кружка, сосуд, стакан с ручкой', '39', 'СТЕЛЬНА']\n",
      "['Ситечко', '59', 'ИДЕАЛИСК']\n",
      "['Ситечко', '199', 'САККУННИГ']\n",
      "['Кружка', '199', 'ФИНСТИЛТ']\n",
      "['Чашка с блюдцем', '249', 'ИКЕА']\n"
     ]
    }
   ],
   "source": [
    "with open('products.tsv', encoding='utf-8') as file:\n",
    "    data = file.read()\n",
    "    table = [r.split('\\t') for r in data.splitlines()]\n",
    "    del table[0]\n",
    "    table.sort(key=lambda item: int(item[1]))\n",
    "    for line in table[:5]:\n",
    "        print(line)"
   ],
   "metadata": {
    "collapsed": false,
    "ExecuteTime": {
     "end_time": "2024-09-30T06:14:59.806820200Z",
     "start_time": "2024-09-30T06:14:59.793432100Z"
    }
   },
   "id": "fbcc910c7fc5f14a"
  },
  {
   "cell_type": "markdown",
   "source": [
    "Модуль csv"
   ],
   "metadata": {
    "collapsed": false
   },
   "id": "32e7148cef7d5b00"
  },
  {
   "cell_type": "markdown",
   "source": [
    "Несмотря на то что csv формат очень прост и мы можем работать с ним, как с обычным текстовым файлом, на практике используется встроенный модуль csv.\n",
    "\n",
    "В данном модуле есть два основных объекта: reader и writer, созданные, чтобы читать и создавать csv файлы соответственно."
   ],
   "metadata": {
    "collapsed": false
   },
   "id": "91bd9dfe6a09f0ab"
  },
  {
   "cell_type": "markdown",
   "source": [
    "Чтение данных с помощью reader"
   ],
   "metadata": {
    "collapsed": false
   },
   "id": "7692b15e33a7ee02"
  },
  {
   "cell_type": "markdown",
   "source": [
    "Для импорта модуля мы используем строку кода:"
   ],
   "metadata": {
    "collapsed": false
   },
   "id": "b9f72a2724338100"
  },
  {
   "cell_type": "code",
   "execution_count": 14,
   "outputs": [],
   "source": [
    "import csv"
   ],
   "metadata": {
    "collapsed": false,
    "ExecuteTime": {
     "end_time": "2024-09-30T06:16:40.631035500Z",
     "start_time": "2024-09-30T06:16:40.629974800Z"
    }
   },
   "id": "d60ed39ddac7e1a9"
  },
  {
   "cell_type": "markdown",
   "source": [
    "Этот модуль входит в стандартную библиотеку, и его не нужно устанавливать каким‑то особенным способом.\n",
    "\n",
    "Рассмотрим все тот же файл products.csv, содержащий информацию о товарах интернет магазина:"
   ],
   "metadata": {
    "collapsed": false
   },
   "id": "743807ca9203fd34"
  },
  {
   "cell_type": "markdown",
   "source": [
    "keywords,price,product_name\n",
    "Садовый стул,1699,ВЭДДО\n",
    "Садовый стул,2999,ЭПЛАРО\n",
    "Садовый табурет,1699,ЭПЛАРО\n",
    "Садовый стол,1999,ТЭРНО\n",
    "Складной стол,7499,ЭПЛАРО\n",
    "Настил,1299,РУННЕН\n",
    "Стеллаж,1299,ХИЛЛИС\n",
    "Кружка,39,СТЕЛЬНА\n",
    "Молочник,299,ВАРДАГЕН\n",
    "Термос для еды,699,ЭФТЕРФРОГАД\n",
    "Ситечко,59,ИДЕАЛИСК\n",
    "Чайник заварочный,499,РИКЛИГ\n",
    "Кофе-пресс,699,УПХЕТТА\n",
    "Чашка с блюдцем,249,ИКЕА\n",
    "Кружка,249,ЭМНТ\n",
    "Ситечко,199,САККУННИГ\n",
    "Кружка,199,ФИНСТИЛТ\n",
    "Тарелка,269,ЭВЕРЕНС"
   ],
   "metadata": {
    "collapsed": false
   },
   "id": "71ab3cec494a8a54"
  },
  {
   "cell_type": "code",
   "execution_count": 15,
   "outputs": [
    {
     "name": "stdout",
     "output_type": "stream",
     "text": [
      "['keywords', 'price', 'product_name']\n",
      "['Садовый стул', '1699', 'ВЭДДО']\n",
      "['Садовый стул', '2999', 'ЭПЛАРО']\n",
      "['Садовый табурет', '1699', 'ЭПЛАРО']\n",
      "['Садовый стол', '1999', 'ТЭРНО']\n",
      "['Складной стол', '7499', 'ЭПЛАРО']\n",
      "['Настил', '1299', 'РУННЕН']\n",
      "['Стеллаж', '1299', 'ХИЛЛИС']\n",
      "['Кружка', '39', 'СТЕЛЬНА']\n",
      "['Молочник', '299', 'ВАРДАГЕН']\n",
      "['Термос для еды', '699', 'ЭФТЕРФРОГАД']\n",
      "['Ситечко', '59', 'ИДЕАЛИСК']\n",
      "['Чайник заварочный', '499', 'РИКЛИГ']\n",
      "['Кофе-пресс', '699', 'УПХЕТТА']\n",
      "['Чашка с блюдцем', '249', 'ИКЕА']\n",
      "['Кружка', '249', 'ЭМНТ']\n",
      "['Ситечко', '199', 'САККУННИГ']\n",
      "['Кружка', '199', 'ФИНСТИЛТ']\n",
      "['Тарелка', '269', 'ЭВЕРЕНС']\n"
     ]
    }
   ],
   "source": [
    "import csv\n",
    "\n",
    "with open('products.csv', encoding='utf-8') as file:\n",
    "    rows = csv.reader(file)                               # создаем reader объект\n",
    "    for row in rows:\n",
    "        print(row)"
   ],
   "metadata": {
    "collapsed": false,
    "ExecuteTime": {
     "end_time": "2024-09-30T06:17:09.009268800Z",
     "start_time": "2024-09-30T06:17:09.003978200Z"
    }
   },
   "id": "f95b00fd9cacbe6"
  },
  {
   "cell_type": "markdown",
   "source": [
    "Самая важная строка кода в программе — это строка с созданием reader объекта:"
   ],
   "metadata": {
    "collapsed": false
   },
   "id": "1426b925d3e7dca0"
  },
  {
   "cell_type": "code",
   "execution_count": null,
   "outputs": [],
   "source": [
    "rows = csv.reader(file)"
   ],
   "metadata": {
    "collapsed": false
   },
   "id": "681056af9a532bad"
  },
  {
   "cell_type": "markdown",
   "source": [
    "Объект reader дает доступ к построчному итератору, полностью аналогичному работе с файлом или списком."
   ],
   "metadata": {
    "collapsed": false
   },
   "id": "ba3b9fb2179520d1"
  },
  {
   "cell_type": "markdown",
   "source": [
    "После выполнения этой строки в переменную rows будет записан итератор, с помощью которого можно «пробежаться» циклом по файлу. В каждой итерации цикла при этом будет доступна соответствующая строка файла, уже разбитая по запятым и представляющая собой список. При этом автоматически будут учтены все нюансы с запятыми внутри кавычек и самими кавычками."
   ],
   "metadata": {
    "collapsed": false
   },
   "id": "8d15f2011f72a9d1"
  },
  {
   "cell_type": "code",
   "execution_count": 38,
   "outputs": [
    {
     "name": "stdout",
     "output_type": "stream",
     "text": [
      "['keywords', 'price', 'product_name']\n",
      "['Садовый стул, стул для дачи', '1699', 'ВЭДДО']\n",
      "['Садовый стул', '2999', 'ЭПЛАРО']\n",
      "['Садовый табурет', '1699', 'ЭПЛАРО']\n",
      "['Садовый стол', '1999', 'ТЭРНО']\n",
      "['Складной стол, обеденный стол', '7499', 'ЭПЛАРО']\n",
      "['Настил', '1299', 'РУННЕН']\n",
      "['Стеллаж', '1299', 'ХИЛЛИС']\n",
      "['Кружка, сосуд, стакан с ручкой', '39', 'СТЕЛЬНА']\n",
      "['Молочник', '299', 'ВАРДАГЕН']\n",
      "['Термос для еды', '699', 'ЭФТЕРФРОГАД']\n",
      "['Ситечко', '59', 'ИДЕАЛИСК']\n",
      "['Чайник заварочный', '499', 'РИКЛИГ']\n",
      "['Кофе-пресс', '699', 'УПХЕТТА']\n",
      "['Чашка с блюдцем', '249', 'ИКЕА']\n",
      "['Кружка, стакан с ручкой', '249', 'ЭМНТ']\n",
      "['Ситечко', '199', 'САККУННИГ']\n",
      "['Кружка', '199', 'ФИНСТИЛТ']\n",
      "['Тарелка, блюдце', '269', 'ЭВЕРЕНС']\n"
     ]
    }
   ],
   "source": [
    "import csv\n",
    "\n",
    "with open('products1.csv', encoding='utf-8') as file:\n",
    "    rows = csv.reader(file)\n",
    "    # for row in rows:\n",
    "    #     print(row)\n",
    "    # table = [row for row in rows]\n",
    "    table = list(rows)\n",
    "    for row in table:\n",
    "        print(row)"
   ],
   "metadata": {
    "collapsed": false,
    "ExecuteTime": {
     "end_time": "2024-09-30T06:57:29.592613500Z",
     "start_time": "2024-09-30T06:57:29.586842600Z"
    }
   },
   "id": "8844639e0220da2d"
  },
  {
   "cell_type": "code",
   "execution_count": 39,
   "outputs": [
    {
     "name": "stdout",
     "output_type": "stream",
     "text": [
      "Садовый стул, стул для дачи\n",
      "Садовый стул\n"
     ]
    }
   ],
   "source": [
    "print(table[1][0])\n",
    "print(table[2][0])"
   ],
   "metadata": {
    "collapsed": false,
    "ExecuteTime": {
     "end_time": "2024-09-30T06:57:33.377038100Z",
     "start_time": "2024-09-30T06:57:33.370024400Z"
    }
   },
   "id": "cb041f75a29d1ece"
  },
  {
   "cell_type": "markdown",
   "source": [
    "Так как каждая строка файла, полученная из итератора, является списком, к ней можно применять все способы работы со списками."
   ],
   "metadata": {
    "collapsed": false
   },
   "id": "90038227dafd0f64"
  },
  {
   "cell_type": "code",
   "execution_count": 40,
   "outputs": [
    {
     "name": "stdout",
     "output_type": "stream",
     "text": [
      "Ключевые слова: keywords, цена: price, название: product_name\n",
      "Ключевые слова: Садовый стул, цена: 1699, название: ВЭДДО\n",
      "Ключевые слова: Садовый стул, цена: 2999, название: ЭПЛАРО\n",
      "Ключевые слова: Садовый табурет, цена: 1699, название: ЭПЛАРО\n",
      "Ключевые слова: Садовый стол, цена: 1999, название: ТЭРНО\n",
      "Ключевые слова: Складной стол, цена: 7499, название: ЭПЛАРО\n",
      "Ключевые слова: Настил, цена: 1299, название: РУННЕН\n",
      "Ключевые слова: Стеллаж, цена: 1299, название: ХИЛЛИС\n",
      "Ключевые слова: Кружка, цена: 39, название: СТЕЛЬНА\n",
      "Ключевые слова: Молочник, цена: 299, название: ВАРДАГЕН\n",
      "Ключевые слова: Термос для еды, цена: 699, название: ЭФТЕРФРОГАД\n",
      "Ключевые слова: Ситечко, цена: 59, название: ИДЕАЛИСК\n",
      "Ключевые слова: Чайник заварочный, цена: 499, название: РИКЛИГ\n",
      "Ключевые слова: Кофе-пресс, цена: 699, название: УПХЕТТА\n",
      "Ключевые слова: Чашка с блюдцем, цена: 249, название: ИКЕА\n",
      "Ключевые слова: Кружка, цена: 249, название: ЭМНТ\n",
      "Ключевые слова: Ситечко, цена: 199, название: САККУННИГ\n",
      "Ключевые слова: Кружка, цена: 199, название: ФИНСТИЛТ\n",
      "Ключевые слова: Тарелка, цена: 269, название: ЭВЕРЕНС\n"
     ]
    }
   ],
   "source": [
    "import csv\n",
    "\n",
    "with open('products.csv', encoding='utf-8') as file:\n",
    "    rows = csv.reader(file)\n",
    "    for keywords, price, product_name in rows:\n",
    "        print(f'Ключевые слова: {keywords}, цена: {price}, название: {product_name}')"
   ],
   "metadata": {
    "collapsed": false,
    "ExecuteTime": {
     "end_time": "2024-09-30T07:05:08.842174500Z",
     "start_time": "2024-09-30T07:05:08.840615400Z"
    }
   },
   "id": "ba797bb0d7f91a86"
  },
  {
   "cell_type": "markdown",
   "source": [
    "При создании reader объекта мы можем его настраивать, указывая:"
   ],
   "metadata": {
    "collapsed": false
   },
   "id": "970c61bcd7549a41"
  },
  {
   "cell_type": "markdown",
   "source": [
    "аргумент delimiter — односимвольная строка, используемая для разделения полей, по умолчанию имеет значение ','\n",
    "аргумент quotechar — односимвольная строка, используемая для кавычек в полях, содержащих специальные символы, по умолчанию имеет значение '\"'."
   ],
   "metadata": {
    "collapsed": false
   },
   "id": "e4797982493bd47b"
  },
  {
   "cell_type": "markdown",
   "source": [
    "Пусть содержимое файла products.csv имеет вид (в качестве разделителя выбран символ ';'):"
   ],
   "metadata": {
    "collapsed": false
   },
   "id": "3ebf65474f54472b"
  },
  {
   "cell_type": "markdown",
   "source": [
    "keywords;price;product_name\n",
    "\"Садовый стул, стул для дачи\";1699;ВЭДДО\n",
    "Садовый стул;2999;ЭПЛАРО\n",
    "Садовый табурет;1699;ЭПЛАРО\n",
    "Садовый стол;1999;ТЭРНО\n",
    "\"Складной стол, обеденный стол\";7499;ЭПЛАРО\n",
    "Настил;1299;РУННЕН\n",
    "Стеллаж;1299;ХИЛЛИС\n",
    "\"Кружка, сосуд, стакан с ручкой\";39;СТЕЛЬНА\n",
    "Молочник;299;ВАРДАГЕН\n",
    "Термос для еды;699;ЭФТЕРФРОГАД\n",
    "Ситечко;59;ИДЕАЛИСК\n",
    "Чайник заварочный;499;РИКЛИГ\n",
    "Кофе-пресс;699;УПХЕТТА\n",
    "Чашка с блюдцем;249;ИКЕА\n",
    "\"Кружка, стакан с ручкой\";249;ЭМНТ\n",
    "Ситечко;199;САККУННИГ\n",
    "Кружка;199;ФИНСТИЛТ\n",
    "\"Тарелка, блюдце\";269;ЭВЕРЕНС"
   ],
   "metadata": {
    "collapsed": false
   },
   "id": "7fa0430caef27627"
  },
  {
   "cell_type": "code",
   "execution_count": 41,
   "outputs": [
    {
     "name": "stdout",
     "output_type": "stream",
     "text": [
      "['keywords', 'price', 'product_name']\n",
      "['Садовый стул, стул для дачи', '1699', 'ВЭДДО']\n",
      "['Садовый стул', '2999', 'ЭПЛАРО']\n",
      "['Садовый табурет', '1699', 'ЭПЛАРО']\n",
      "['Садовый стол', '1999', 'ТЭРНО']\n",
      "['Складной стол, обеденный стол', '7499', 'ЭПЛАРО']\n"
     ]
    }
   ],
   "source": [
    "import csv\n",
    "\n",
    "with open('products2.csv', encoding='utf-8') as file:\n",
    "    rows = csv.reader(file, delimiter=';', quotechar='\"')\n",
    "    for index, row in enumerate(rows):\n",
    "        if index > 5:\n",
    "            break\n",
    "        print(row)"
   ],
   "metadata": {
    "collapsed": false,
    "ExecuteTime": {
     "end_time": "2024-09-30T07:11:15.032626200Z",
     "start_time": "2024-09-30T07:11:15.031024Z"
    }
   },
   "id": "73988bfe3f0c4838"
  },
  {
   "cell_type": "markdown",
   "source": [
    "При создании reader объекта мы указываем, что символ-разделитель записей delimiter в нашем файле — точка с запятой, а символ кавычек quotechar — двойные кавычки. Кроме того, мы используем встроенную функцию enumerate() для нумерации строк."
   ],
   "metadata": {
    "collapsed": false
   },
   "id": "5668698374243881"
  },
  {
   "cell_type": "markdown",
   "source": [
    "Обратите внимание на то, что для корректной обработки данных мы должны все еще исключить первую строку из обработки, которая содержит названия столбцов."
   ],
   "metadata": {
    "collapsed": false
   },
   "id": "62eb3f69f4012588"
  },
  {
   "cell_type": "markdown",
   "source": [
    "Чтение данных с помощью DictReader"
   ],
   "metadata": {
    "collapsed": false
   },
   "id": "e4231870f861418"
  },
  {
   "cell_type": "markdown",
   "source": [
    "Иcпользовать reader объект не всегда удобно, так как он возвращает сырые списки из строк файла, к тому же первой строкой является строка с названиями столбцов, которая практически всегда удаляется, так как мешает правильной обработке данных.\n",
    "\n",
    "В модуле csv есть специальный объект DictReader, который поддерживает создание объекта-словаря на основе названий столбцов. С помощью DictReader объекта мы можем обращаться к полям не по индексу, а по названию, что делает код более понятным."
   ],
   "metadata": {
    "collapsed": false
   },
   "id": "cdbed65cd67040b0"
  },
  {
   "cell_type": "code",
   "execution_count": 43,
   "outputs": [
    {
     "name": "stdout",
     "output_type": "stream",
     "text": [
      "{'keywords': 'Садовый стул, стул для дачи', 'price': '1699', 'product_name': 'ВЭДДО'}\n",
      "{'keywords': 'Садовый стул', 'price': '2999', 'product_name': 'ЭПЛАРО'}\n",
      "{'keywords': 'Садовый табурет', 'price': '1699', 'product_name': 'ЭПЛАРО'}\n",
      "{'keywords': 'Садовый стол', 'price': '1999', 'product_name': 'ТЭРНО'}\n",
      "{'keywords': 'Складной стол, обеденный стол', 'price': '7499', 'product_name': 'ЭПЛАРО'}\n",
      "{'keywords': 'Настил', 'price': '1299', 'product_name': 'РУННЕН'}\n",
      "{'keywords': 'Стеллаж', 'price': '1299', 'product_name': 'ХИЛЛИС'}\n",
      "{'keywords': 'Кружка, сосуд, стакан с ручкой', 'price': '39', 'product_name': 'СТЕЛЬНА'}\n",
      "{'keywords': 'Молочник', 'price': '299', 'product_name': 'ВАРДАГЕН'}\n",
      "{'keywords': 'Термос для еды', 'price': '699', 'product_name': 'ЭФТЕРФРОГАД'}\n",
      "{'keywords': 'Ситечко', 'price': '59', 'product_name': 'ИДЕАЛИСК'}\n",
      "{'keywords': 'Чайник заварочный', 'price': '499', 'product_name': 'РИКЛИГ'}\n",
      "{'keywords': 'Кофе-пресс', 'price': '699', 'product_name': 'УПХЕТТА'}\n",
      "{'keywords': 'Чашка с блюдцем', 'price': '249', 'product_name': 'ИКЕА'}\n",
      "{'keywords': 'Кружка, стакан с ручкой', 'price': '249', 'product_name': 'ЭМНТ'}\n",
      "{'keywords': 'Ситечко', 'price': '199', 'product_name': 'САККУННИГ'}\n",
      "{'keywords': 'Кружка', 'price': '199', 'product_name': 'ФИНСТИЛТ'}\n",
      "{'keywords': 'Тарелка, блюдце', 'price': '269', 'product_name': 'ЭВЕРЕНС'}\n"
     ]
    }
   ],
   "source": [
    "import csv\n",
    "\n",
    "with open('products3.csv', encoding='utf-8') as file:\n",
    "    rows = csv.DictReader(file, delimiter=';', quotechar='\"')\n",
    "    for row in rows:\n",
    "        print(row)"
   ],
   "metadata": {
    "collapsed": false,
    "ExecuteTime": {
     "end_time": "2024-09-30T07:18:23.580274800Z",
     "start_time": "2024-09-30T07:18:23.572945800Z"
    }
   },
   "id": "55a7f07db2652c86"
  },
  {
   "cell_type": "markdown",
   "source": [
    "Обратите внимание на то, что переменная row имеет тип dict в Python 3.8+. В более ранних версиях переменная row имела тип OrderedDict, который мы изучим чуть позже."
   ],
   "metadata": {
    "collapsed": false
   },
   "id": "2ed1b223e2b8be16"
  },
  {
   "cell_type": "code",
   "execution_count": 44,
   "outputs": [
    {
     "name": "stdout",
     "output_type": "stream",
     "text": [
      "{'keywords': 'Складной стол, обеденный стол', 'price': '7499', 'product_name': 'ЭПЛАРО'}\n",
      "{'keywords': 'Садовый стул', 'price': '2999', 'product_name': 'ЭПЛАРО'}\n",
      "{'keywords': 'Садовый стол', 'price': '1999', 'product_name': 'ТЭРНО'}\n",
      "{'keywords': 'Садовый стул, стул для дачи', 'price': '1699', 'product_name': 'ВЭДДО'}\n",
      "{'keywords': 'Садовый табурет', 'price': '1699', 'product_name': 'ЭПЛАРО'}\n"
     ]
    }
   ],
   "source": [
    "import csv\n",
    "\n",
    "with open('products3.csv', encoding='utf-8') as file:\n",
    "    rows = csv.DictReader(file, delimiter=';', quotechar='\"')\n",
    "    expensive = sorted(rows, key=lambda item: int(item['price']), reverse=True)\n",
    "    for record in expensive[:5]:\n",
    "        print(record)"
   ],
   "metadata": {
    "collapsed": false,
    "ExecuteTime": {
     "end_time": "2024-09-30T07:19:23.967837300Z",
     "start_time": "2024-09-30T07:19:23.958853600Z"
    }
   },
   "id": "39c43c9b917f0d3e"
  },
  {
   "cell_type": "markdown",
   "source": [
    "При создании DictReader объекта значениями по умолчанию для аргументов delimiter и quotechar являются ',' (символ запятой) и '\"' (символ двойной кавычки) соответственно."
   ],
   "metadata": {
    "collapsed": false
   },
   "id": "72f1fa14ecef3eff"
  },
  {
   "cell_type": "markdown",
   "source": [
    "Обратите внимание на то, что при использовании DictReader мы не избавляемся от первой строки, содержащей названия столбцов. Они хранятся в атрибуте fieldnames объекта DictReader. При этом к элементам строк мы обращаемся теперь не по индексам (int(item[1])), а по их названиям (int(item['price'])), что намного удобнее."
   ],
   "metadata": {
    "collapsed": false
   },
   "id": "3a5debc16b5bd00e"
  },
  {
   "cell_type": "markdown",
   "source": [
    "Запись данных с помощью writer"
   ],
   "metadata": {
    "collapsed": false
   },
   "id": "ad3710d38619301"
  },
  {
   "cell_type": "markdown",
   "source": [
    "Для записи данных в csv файл можно использовать специальный writer объект."
   ],
   "metadata": {
    "collapsed": false
   },
   "id": "378e0cf5b3f6d02f"
  },
  {
   "cell_type": "code",
   "execution_count": 45,
   "outputs": [],
   "source": [
    "import csv\n",
    "\n",
    "columns = ['first_name', 'second_name', 'class_number', 'class_letter']\n",
    "data = [['Тимур', 'Гуев', 11, 'А'], ['Руслан', 'Чаниев', 9, 'Б'], ['Артур', 'Харисов', 10, 'В']]\n",
    "\n",
    "with open('students.csv', 'w', encoding='utf-8', newline='') as file:\n",
    "    writer = csv.writer(file)\n",
    "    writer.writerow(columns)                 # запись заголовков\n",
    "    for row in data:                         # запись строк\n",
    "        writer.writerow(row)"
   ],
   "metadata": {
    "collapsed": false,
    "ExecuteTime": {
     "end_time": "2024-09-30T07:23:06.176948600Z",
     "start_time": "2024-09-30T07:23:06.167876700Z"
    }
   },
   "id": "4784e98ab293043a"
  },
  {
   "cell_type": "markdown",
   "source": [
    "создает файл students.csv с содержимым:"
   ],
   "metadata": {
    "collapsed": false
   },
   "id": "32afab795d1528e3"
  },
  {
   "cell_type": "markdown",
   "source": [
    "first_name,second_name,class_number,class_letter\n",
    "Тимур,Гуев,11,А\n",
    "Руслан,Чаниев,9,Б\n",
    "Артур,Харисов,10,В"
   ],
   "metadata": {
    "collapsed": false
   },
   "id": "fa9e2157e5e2eb29"
  },
  {
   "cell_type": "markdown",
   "source": [
    "Обратите внимание на необязательный параметр newline функции open(), который имеет значение '' (пустой строки). Он отвечает за переводы строк при чтении или записи в текстовый файл. По умолчанию имеет значение None, в этом случае все разделители строк преобразуются в '\\n'. Если в файле оказывается лишний перевод строки, то следует использовать этот параметр в режиме newline='', тогда '\\n' будет преобразован в пустую строку."
   ],
   "metadata": {
    "collapsed": false
   },
   "id": "c27b2d7059f4a888"
  },
  {
   "cell_type": "markdown",
   "source": [
    "При создании writer объекта мы так же можем его настраивать, задавая delimiter и многие другие параметры."
   ],
   "metadata": {
    "collapsed": false
   },
   "id": "f71001ea5013131a"
  },
  {
   "cell_type": "code",
   "execution_count": null,
   "outputs": [],
   "source": [
    "import csv\n",
    "\n",
    "columns = ['first_name', 'second_name', 'class_number', 'class_letter']\n",
    "data = [['Тимур', 'Гуев', 11, 'А'], ['Руслан', 'Чаниев', 9, 'Б'], ['Роман', 'Белых', 10, 'В']]\n",
    "\n",
    "with open('students.csv', 'w', encoding='utf-8', newline='') as file:\n",
    "    writer = csv.writer(file, delimiter=';', quoting=csv.QUOTE_NONNUMERIC)\n",
    "    writer.writerow(columns)\n",
    "    for row in data:\n",
    "        writer.writerow(row)"
   ],
   "metadata": {
    "collapsed": false
   },
   "id": "4ec3662d004c329e"
  },
  {
   "cell_type": "markdown",
   "source": [
    "создает файл с содержимым:"
   ],
   "metadata": {
    "collapsed": false
   },
   "id": "fd995c593072122f"
  },
  {
   "cell_type": "markdown",
   "source": [
    "\"first_name\";\"second_name\";\"class_number\";\"class_letter\"\n",
    "\"Тимур\";\"Гуев\";11;\"А\"\n",
    "\"Руслан\";\"Чаниев\";9;\"Б\"\n",
    "\"Роман\";\"Белых\";10;\"В\""
   ],
   "metadata": {
    "collapsed": false
   },
   "id": "e1267eb1ab14c5e3"
  },
  {
   "cell_type": "markdown",
   "source": [
    "Значение аргумента quoting=csv.QUOTE_NONNUMERIC означает, что в кавычки будут браться все нечисловые значения. По умолчанию символом кавычки является \", если нужно поменять символ, то используйте уже знакомый нам именованный аргумент quotechar"
   ],
   "metadata": {
    "collapsed": false
   },
   "id": "45e20a3ca56c6264"
  },
  {
   "cell_type": "markdown",
   "source": [
    "Для задания параметра quoting используются специальные константы из модуля csv:\n",
    "\n",
    "QUOTE_ALL: указывает объектам записи указывать все поля\n",
    "QUOTE_MINIMAL: указывает объектам записи заключать в кавычки только те поля, которые содержат специальные символы, такие как разделитель delimiter, кавычка quotechar или любой из символов в lineterminator\n",
    "QUOTE_NONNUMERIC: указывает объектам записи указывать все нечисловые поля\n",
    "QUOTE_NONE: указывает объектам записи никогда не заключать в кавычки поля"
   ],
   "metadata": {
    "collapsed": false
   },
   "id": "4be3562d0574f59"
  },
  {
   "cell_type": "markdown",
   "source": [
    "Помимо метода writerow() можно использовать и метод writerows(), чтобы записать сразу несколько строк. Единственным аргументом этого метода может быть коллекция коллекций. То есть, каждый элемент списка rows в нашем случае должен быть коллекцией. Если rows будет, например, списком чисел, программа завершится с ошибкой."
   ],
   "metadata": {
    "collapsed": false
   },
   "id": "62b37fb327ebc039"
  },
  {
   "cell_type": "code",
   "execution_count": null,
   "outputs": [],
   "source": [
    "import csv\n",
    "\n",
    "columns = ['first_name', 'second_name', 'class_number', 'class_letter']\n",
    "data = [['Тимур', 'Гуев', 11, 'А'], ['Руслан', 'Чаниев', 9, 'Б'], ['Роман', 'Белых', 10, 'В']]\n",
    "\n",
    "with open('students.csv', 'w', encoding='utf-8', newline='') as file:\n",
    "    writer = csv.writer(file, delimiter=';', quoting=csv.QUOTE_NONNUMERIC)\n",
    "    writer.writerow(columns)\n",
    "    writer.writerows(data)"
   ],
   "metadata": {
    "collapsed": false
   },
   "id": "23170ec9ba8f1f16"
  },
  {
   "cell_type": "markdown",
   "source": [
    "создает файл students.csv с содержимым:"
   ],
   "metadata": {
    "collapsed": false
   },
   "id": "408fa8710a514302"
  },
  {
   "cell_type": "markdown",
   "source": [
    "\"first_name\";\"second_name\";\"class_number\";\"class_letter\"\n",
    "\"Тимур\";\"Гуев\";11;\"А\"\n",
    "\"Руслан\";\"Чаниев\";9;\"Б\"\n",
    "\"Роман\";\"Белых\";10;\"В\""
   ],
   "metadata": {
    "collapsed": false
   },
   "id": "9a360ce0597dd786"
  },
  {
   "cell_type": "markdown",
   "source": [
    "Запись данных с помощью DictWriter"
   ],
   "metadata": {
    "collapsed": false
   },
   "id": "1a227aa92bee426e"
  },
  {
   "cell_type": "markdown",
   "source": [
    "Для записи данных в csv файл также можно использовать DictWriter объект, который позволяет записывать содержимое словаря в файл."
   ],
   "metadata": {
    "collapsed": false
   },
   "id": "470cdfeeeb25670e"
  },
  {
   "cell_type": "code",
   "execution_count": null,
   "outputs": [],
   "source": [
    "import csv\n",
    "\n",
    "data = [{'first_name': 'Тимур', 'second_name': 'Гуев', 'class_number': 11, 'class_letter': 'А'},\n",
    "        {'first_name': 'Руслан', 'second_name': 'Чаниев', 'class_number': 9, 'class_letter': 'Б'},\n",
    "        {'first_name': 'Роман', 'second_name': 'Белых', 'class_number': 10, 'class_letter': 'В'}]\n",
    "\n",
    "columns = ['first_name', 'second_name', 'class_number', 'class_letter']\n",
    "\n",
    "with open('students.csv', 'w', encoding='utf-8', newline='') as file:\n",
    "    writer = csv.DictWriter(file, fieldnames=columns, delimiter=';', quoting=csv.QUOTE_NONNUMERIC)\n",
    "    writer.writeheader()                 # запись заголовков\n",
    "    for row in data:                     # запись строк\n",
    "        writer.writerow(row)"
   ],
   "metadata": {
    "collapsed": false
   },
   "id": "6c55b61a4bffad95"
  },
  {
   "cell_type": "markdown",
   "source": [
    "создает файл students.csv с содержимым:"
   ],
   "metadata": {
    "collapsed": false
   },
   "id": "f65131ccba66eeb3"
  },
  {
   "cell_type": "markdown",
   "source": [
    "\"first_name\";\"second_name\";\"class_number\";\"class_letter\"\n",
    "\"Тимур\";\"Гуев\";11;\"А\"\n",
    "\"Руслан\";\"Чаниев\";9;\"Б\"\n",
    "\"Роман\";\"Белых\";10;\"В\""
   ],
   "metadata": {
    "collapsed": false
   },
   "id": "f92d8875ba0c688b"
  },
  {
   "cell_type": "markdown",
   "source": [
    "Мы также можем использовать метод writerows() объекта DictWriter для записи сразу нескольких строк. Таким образом вместо строк кода:"
   ],
   "metadata": {
    "collapsed": false
   },
   "id": "61cf6b0b825851b9"
  },
  {
   "cell_type": "code",
   "execution_count": null,
   "outputs": [],
   "source": [
    "for row in data:\n",
    "    writer.writerow(row)"
   ],
   "metadata": {
    "collapsed": false
   },
   "id": "5b42849ff710353"
  },
  {
   "cell_type": "markdown",
   "source": [
    "можно написать:"
   ],
   "metadata": {
    "collapsed": false
   },
   "id": "ca9004811a702de5"
  },
  {
   "cell_type": "code",
   "execution_count": null,
   "outputs": [],
   "source": [
    "writer.writerows(data)"
   ],
   "metadata": {
    "collapsed": false
   },
   "id": "e3bc92e09afb142e"
  },
  {
   "cell_type": "markdown",
   "source": [
    "Обратите внимание на то, что ключи словарей, которые записываются в файл, должны совпадать с названиями полей, которые переданы в качестве аргумента fieldnames, иначе будет возникать ошибка ValueError."
   ],
   "metadata": {
    "collapsed": false
   },
   "id": "561f5031000d86"
  },
  {
   "cell_type": "markdown",
   "source": [
    "Примечания"
   ],
   "metadata": {
    "collapsed": false
   },
   "id": "e99d38119daeb79a"
  },
  {
   "cell_type": "markdown",
   "source": [
    "Примечание 1. Спецификация формата csv:\n",
    "\n",
    "каждая строка файла — это одна строка таблицы\n",
    "разделителем (delimiter) значений колонок является символ запятой ,. Однако на практике часто используются другие разделители, например: ; или символ табуляции \\t (формат TSV)\n",
    "значения, содержащие зарезервированные символы (двойная кавычка, запятая, точка с запятой, новая строка), обрамляются двойными кавычками \". Если в значении встречаются кавычки — они представляются в файле в виде двух кавычек подряд"
   ],
   "metadata": {
    "collapsed": false
   },
   "id": "fd6c2be8e308dddf"
  },
  {
   "cell_type": "markdown",
   "source": [
    "Примечание 4. Достаточно распространенная ошибка при чтении данных из csv файла — это передача в csv.reader (csv.DictReader) не файлового объекта, а текстовых данных, считанных из файла. Это не вызывает ошибки, но результат будет отличаться от ожидаемого."
   ],
   "metadata": {
    "collapsed": false
   },
   "id": "3486ea8075cc1b14"
  },
  {
   "cell_type": "markdown",
   "source": [
    "Примечание 5. При создании reader объекта важно, чтобы файл был открыт в режиме чтения ('r'), аналогично при создании writer объекта — в режиме записи ('w')."
   ],
   "metadata": {
    "collapsed": false
   },
   "id": "fa0b94e86dfa2f84"
  },
  {
   "cell_type": "markdown",
   "source": [
    "Примечание 6. Так как reader объект является итератором, мы можем преобразовать его в список или кортеж с помощью встроенных функций list() и tuple() соответственно, но не можем преобразовать в множество, т.к. его элементами могут быть только неизменяемые объекты, которыми списки не являются."
   ],
   "metadata": {
    "collapsed": false
   },
   "id": "12874e781de64b91"
  },
  {
   "cell_type": "markdown",
   "source": [
    "метод  pandas.read_csv  принимает .csv файл и возвращает pandas.DataFrame (это что-то наподобие  экселевской   таблички). Если указать неверный разделитель, ошибки не возникнет -  просто получим винегрет с одной колонкой. Атрибут pandas.shape содержит кортеж из количества строк и столбцов. Идея в том, что  перебирая разделители находим корректный  DataFrame с количеством столбцов  больше одного и добавляем его в список датафреймов."
   ],
   "metadata": {
    "collapsed": false
   },
   "id": "6709c64c8f2836c1"
  },
  {
   "cell_type": "code",
   "execution_count": 50,
   "outputs": [
    {
     "data": {
      "text/plain": "[             keywords  price product_name\n 0        Садовый стул   1699        ВЭДДО\n 1        Садовый стул   2999       ЭПЛАРО\n 2     Садовый табурет   1699       ЭПЛАРО\n 3        Садовый стол   1999        ТЭРНО\n 4       Складной стол   7499       ЭПЛАРО\n 5              Настил   1299       РУННЕН\n 6             Стеллаж   1299       ХИЛЛИС\n 7              Кружка     39      СТЕЛЬНА\n 8            Молочник    299     ВАРДАГЕН\n 9      Термос для еды    699  ЭФТЕРФРОГАД\n 10            Ситечко     59     ИДЕАЛИСК\n 11  Чайник заварочный    499       РИКЛИГ\n 12         Кофе-пресс    699      УПХЕТТА\n 13    Чашка с блюдцем    249         ИКЕА\n 14             Кружка    249         ЭМНТ\n 15            Ситечко    199    САККУННИГ\n 16             Кружка    199     ФИНСТИЛТ\n 17            Тарелка    269      ЭВЕРЕНС]"
     },
     "execution_count": 50,
     "metadata": {},
     "output_type": "execute_result"
    }
   ],
   "source": [
    "import pandas as pd\n",
    "\n",
    "# Функция, которая получает список файлов и возвращает список DataFrames\n",
    "def get_list_df(list_src_topics: list) -> list:\n",
    "    list_df = []  # Инициализируем пустой список для хранения DataFrames\n",
    "    for file in list_src_topics:  # Итерируемся по каждому файлу в переданном списке\n",
    "        for s in [';', ',', '|']:  # Перебираем возможные разделители\n",
    "            # Пытаемся считать файл, используя текущий разделитель\n",
    "            df = pd.read_csv(file, encoding='utf-8-sig', sep=s)\n",
    "            # Проверяем, сформировался ли DataFrame с более чем одной колонкой\n",
    "            if df.shape[1] > 1:  # Если DataFrame имеет более одной колонки\n",
    "                list_df.append(df)  # Добавляем DataFrame в список\n",
    "                break  # Выходим из внутреннего цикла, если успешное считывание\n",
    "    return list_df  # Возвращаем список DataFrames\n",
    "\n",
    "# Пример вызова функции с файлом 'products.csv'\n",
    "get_list_df(['products.csv'])"
   ],
   "metadata": {
    "collapsed": false,
    "ExecuteTime": {
     "end_time": "2024-09-30T09:48:33.076763300Z",
     "start_time": "2024-09-30T09:48:33.066694800Z"
    }
   },
   "id": "688a248702b8f300"
  },
  {
   "cell_type": "markdown",
   "source": [
    "Вам доступен csv файл grades.csv, имеющий следующее содержание:"
   ],
   "metadata": {
    "collapsed": false
   },
   "id": "d9ba63fb5c6f8663"
  },
  {
   "cell_type": "markdown",
   "source": [
    "name;grade\n",
    "Timur;100\n",
    "Ruslan;97"
   ],
   "metadata": {
    "collapsed": false
   },
   "id": "b7bd32cd8e776b18"
  },
  {
   "cell_type": "markdown",
   "source": [
    "Ниже представлена программа, которая должна открывать данный файл и выводить содержимое каждой строки в виде списка. В программе допущена ошибка, поэтому она выводит:"
   ],
   "metadata": {
    "collapsed": false
   },
   "id": "10d35c1a03286ed"
  },
  {
   "cell_type": "markdown",
   "source": [
    "['n']\n",
    "['a']\n",
    "['m']\n",
    "['e']\n",
    "['', '']\n",
    "['g']\n",
    "['r']\n",
    "['a']\n",
    "['d']\n",
    "['e']\n",
    "[]\n",
    "['T']\n",
    "..."
   ],
   "metadata": {
    "collapsed": false
   },
   "id": "7ee793a8ac08d01d"
  },
  {
   "cell_type": "markdown",
   "source": [
    "Найдите и исправьте ее, чтобы результатом работы программы были строки:"
   ],
   "metadata": {
    "collapsed": false
   },
   "id": "1a828c9409068a"
  },
  {
   "cell_type": "markdown",
   "source": [
    "['name', 'grade']\n",
    "['Timur', '100']\n",
    "['Ruslan', '97']"
   ],
   "metadata": {
    "collapsed": false
   },
   "id": "82fb2f943bafa087"
  },
  {
   "cell_type": "code",
   "execution_count": 57,
   "outputs": [
    {
     "name": "stdout",
     "output_type": "stream",
     "text": [
      "['name', 'grade']\n",
      "['Timur', '100']\n",
      "['Ruslan', '97']\n"
     ]
    }
   ],
   "source": [
    "import csv\n",
    "\n",
    "with open('grades.csv', encoding='utf-8') as csv_file:\n",
    "    # считываем содержимое файла\n",
    "    # text = csv_file.read()\n",
    "    # создаем reader объект и указываем в качестве разделителя символ ;\n",
    "    # rows = csv.reader(text, delimiter=';')\n",
    "    rows = csv.reader(csv_file, delimiter=';')\n",
    "    # выводим каждую строку\n",
    "    for row in rows:\n",
    "        print(row)"
   ],
   "metadata": {
    "collapsed": false,
    "ExecuteTime": {
     "end_time": "2024-09-30T10:15:59.620857700Z",
     "start_time": "2024-09-30T10:15:59.618194700Z"
    }
   },
   "id": "e2e21f2f5ecbf0aa"
  },
  {
   "cell_type": "markdown",
   "source": [
    "При попытке выполнить приведенную ниже программу возникает ошибка. Найдите и исправьте ее, чтобы программа создала файл writing_test.csv, имеющий следующее содержание:"
   ],
   "metadata": {
    "collapsed": false
   },
   "id": "1a5725f16581d449"
  },
  {
   "cell_type": "markdown",
   "source": [
    "first_col,second_col\n",
    "value1,value2"
   ],
   "metadata": {
    "collapsed": false
   },
   "id": "641c4122dab7b456"
  },
  {
   "cell_type": "code",
   "execution_count": 62,
   "outputs": [],
   "source": [
    "import csv\n",
    "\n",
    "with open('writing_test.csv', 'w', encoding='utf-8', newline='') as csv_file:\n",
    "    # создаем writer объект и указываем названия столбцов\n",
    "    writer = csv.DictWriter(csv_file, fieldnames=['first_col', 'second_col'])\n",
    "    # записываем первую строку с названиями столбцов\n",
    "    writer.writeheader()\n",
    "    # записываем строку с данными\n",
    "    writer.writerows([{'first_col': 'value1', 'second_col': 'value2'}])"
   ],
   "metadata": {
    "collapsed": false,
    "ExecuteTime": {
     "end_time": "2024-09-30T10:21:45.880742200Z",
     "start_time": "2024-09-30T10:21:45.875832300Z"
    }
   },
   "id": "af3ae220f99fea11"
  },
  {
   "cell_type": "code",
   "execution_count": null,
   "outputs": [],
   "source": [
    "import csv\n",
    "\n",
    "with open('writing_test.csv', 'w', encoding='utf-8') as csv_file:\n",
    "    keys, data = ['first_col', 'second_col'], ['value1', 'value2']\n",
    "    writer = csv.DictWriter(csv_file, fieldnames=keys)\n",
    "    writer.writeheader()\n",
    "    writer.writerow(dict(zip(keys, data)))"
   ],
   "metadata": {
    "collapsed": false
   },
   "id": "cae3710074ca7b46"
  },
  {
   "cell_type": "markdown",
   "source": [
    "Скидки\n",
    "Наступил ноябрь, и во многих магазинах начались распродажи, но как многим известно, зачастую товары со скидкой оказываются дороже, чем без нее. Вам доступен файл sales.csv, который содержит данные о ценообразовании различной бытовой техники. В первом столбце записано название товара, во втором — старая цена, в третьем — новая цена со скидкой:\n",
    "\n",
    "name;old_price;new_price\n",
    "Встраиваемая посудомоечная машина De'Longhi DDW 06S;23089;31862\n",
    "Вытяжка Falmec Afrodite 60/600;27694;18001\n",
    "...\n",
    "Напишите программу, которая выводит названия тех товаров, цена на которые уменьшилась. Товары должны быть расположены в своем исходном порядке, каждый на отдельной строке.\n",
    "\n",
    "Примечание 1. Разделителем в файле sales.csv является точка с запятой, при этом кавычки не используются."
   ],
   "metadata": {
    "collapsed": false
   },
   "id": "6499085fc7cecb1d"
  },
  {
   "cell_type": "markdown",
   "source": [
    "Примечание 3. Начальная часть ответа выглядит так:"
   ],
   "metadata": {
    "collapsed": false
   },
   "id": "e5cdfd2d76d0fc10"
  },
  {
   "cell_type": "markdown",
   "source": [
    "Вытяжка Falmec Afrodite 60/600\n",
    "Духовой шкаф AEG BS 5836600\n",
    "Вытяжка MAUNFELD PLYM 60\n",
    "..."
   ],
   "metadata": {
    "collapsed": false
   },
   "id": "880ab6ca3347e452"
  },
  {
   "cell_type": "markdown",
   "source": [
    "Примечание 4. При открытии файла используйте явное указание кодировки UTF-8."
   ],
   "metadata": {
    "collapsed": false
   },
   "id": "a8e9ec499dfa9955"
  },
  {
   "cell_type": "code",
   "execution_count": 106,
   "outputs": [
    {
     "name": "stdout",
     "output_type": "stream",
     "text": [
      "Вытяжка Falmec Afrodite 60/600\n",
      "Духовой шкаф AEG BS 5836600\n",
      "Вытяжка MAUNFELD PLYM 60\n",
      "Весы Momert 7462\n",
      "Кухонная мойка Blanco Classic Pro 5 S-IF\n",
      "Вакуумный упаковщик Hurakan HKN-V300\n",
      "Морозильная камера Frostor F2000B\n",
      "Холодильник Atlant XM-4210\n",
      "Стиральная машина Bosch WLK 20263\n",
      "Швейная машина, оверлок Toyota JET B 224\n",
      "Весы Mystery MES-1805\n",
      "Винный шкаф Caso WineMaster 38\n",
      "Варочная поверхность Gorenje G6 N40\n",
      "Вытяжка Kuppersberg Onda 50\n",
      "Весы Energy ENM-408\n",
      "Фен Centek CT-2234\n",
      "Встраиваемый холодильник Liebherr ICS 3013\n",
      "Массажер для тела Yamaguchi Axiom Matrix\n",
      "Варочная поверхность Neff N 74TD00N0\n",
      "Духовой шкаф Smeg SF99\n",
      "Вытяжка Korting KHC 6956\n",
      "Варочная поверхность Smeg SR775OT\n",
      "Вытяжка Cata TF 5250\n",
      "Стиральная машина Miele WMV 960 WPS\n",
      "Электрочайник Bugatti VERA\n",
      "Стиральная машина Bosch WAW 24440\n",
      "Тостер Velikie Reki Pyshka-8\n",
      "Пылесос Karcher CV 38/2\n",
      "Вакуумный упаковщик Rommelsbacher VAC 155\n",
      "Швейная машина, оверлок Jaguar EL-109\n",
      "Встраиваемая посудомоечная машина Electrolux ESL 8820\n",
      "Стиральная машина Whirlpool AWOC 8100\n",
      "Духовой шкаф Siemens HB 56LS552\n",
      "Фен Atlanta ATH-882\n",
      "Весы Beurer BF480\n",
      "Вытяжка Kuppersbusch KD 6210.2 E\n",
      "Вытяжка DACH TIFANI 50\n",
      "Утюг Philips Azur Advanced GC 4939\n",
      "Кухонный комбайн First FA-5113\n",
      "Электрочайник Maxwell MW-1014\n",
      "Пылесос Karcher SE 4001\n",
      "Вытяжка Elica Empty Sky Sense F/120\n",
      "Хлебопечка MAXIMA MBM-0219\n",
      "Кофеварка Maxwell MW-1657\n",
      "Варочная поверхность Teka VR TC 95 4I\n",
      "Весы Caso Body Solar\n",
      "Эпилятор Braun SE 9941\n",
      "Весы Sanitas SGS43\n",
      "Встраиваемая посудомоечная машина Electrolux ESI 7510\n",
      "Кулер для воды HotFrost V127B\n",
      "Фен Philips BHB 868\n",
      "Мясорубка Zelmer 987.83\n",
      "Кухонный комбайн Gemlux GL-SM4.5G\n",
      "Плита Beko CSG 62000\n",
      "Электродуховка Redber EO-1810\n",
      "Вытяжка Lex Biston Eco 600\n",
      "Фен Ermila  4430-0040\n",
      "Кухонная мойка Blanco Favos\n",
      "Весы Sima-land 722627\n",
      "Водонагреватель Thermex ID [ID-80 V]\n",
      "Швейная машина, оверлок Janome 5522\n",
      "Варочная поверхность MAUNFELD EGHG 64 33CBG R\n",
      "Фен Centek CT-2017\n",
      "Массажер для тела AMMA Drive 3D\n",
      "Кухонная мойка AquaGranitEx M-14\n",
      "Пылесос Rolsen C-2221 THF\n",
      "Утюг Galaxy GL6107\n",
      "Электрочайник Irit IR-1228\n",
      "Плита Bosch HGA 23W125R\n",
      "Вытяжка Shindo Emi 60\n",
      "Пылесос KITFORT KT-510\n",
      "Духовой шкаф ARDESIA HX 060\n",
      "Холодильник Nord 70\n",
      "Мясорубка Aksion M 33.03\n",
      "Пылесос Redmond RV-329\n",
      "Фен Dewal 03-95\n",
      "Вытяжка Teka DOS 60\n",
      "Вытяжка De'Longhi Monte Pollino 60\n",
      "Электрочайник De'Longhi KBJ 2001\n",
      "Стиральная машина Siemens WM 12E145\n",
      "Фен Ksitex F-1400 ION\n",
      "Весы Delta D9231\n",
      "Холодильник Liebherr T 1710\n",
      "Стиральная машина Candy GV4 137 TC1\n",
      "Вытяжка Lex Mini 600\n",
      "Варочная поверхность Gorenje GHS 64 ORA\n",
      "Швейная машина, оверлок Janome CoverPro D Max\n",
      "Кофеварка Philips Senseo Sarista HD 8030\n",
      "Стиральная машина Siemens WM 14N290\n",
      "Стиральная машина Samsung WF70F5E5W2X\n",
      "Варочная поверхность Franke FHC 604 4C T BP\n",
      "Весы Delta KCE-32\n",
      "Вытяжка Falmec Spring 80/600 Isola\n",
      "Швейная машина, оверлок Jaguar Katty\n",
      "Вытяжка Elikor Epsilon 50\n",
      "Вытяжка Smeg KSED95P\n",
      "Кофемолка Delta DL-93K\n",
      "Весы AEG PW 5571\n",
      "Вытяжка MAUNFELD LONDA 90\n",
      "Картридж для воды Gejzer BAF-10SL\n",
      "Массажер для тела Medisana MC 810\n",
      "Стиральная машина Hotpoint-Ariston AQS70F 05\n",
      "Швейная машина, оверлок Leader VS 320\n",
      "Духовой шкаф Zanussi ZOG-11311\n",
      "Весы Centek CT-2412\n",
      "Электрочайник Centek CT-0038\n",
      "Вытяжка Gorenje DK 6335 X\n",
      "Кофеварка De'Longhi EN 125\n",
      "Духовой шкаф ARDESIA HEN 083\n",
      "Плита Artel Milagro E\n",
      "Вытяжка Whirlpool AKR 773\n",
      "Весы Mayer & Boch MB 21301\n",
      "Утюг Ladomir CA106\n",
      "Вытяжка Best EYE-EYE 80\n",
      "Холодильник Hitachi R-C6200U\n",
      "Встраиваемая посудомоечная машина Bosch SMV 24AX01\n",
      "Вытяжка Elikor Venta 60\n",
      "Электродуховка Artel MD 4212 E\n",
      "Вытяжка Krona Mila 500 3P\n",
      "Пароочиститель Polti Vaporetto SV300\n",
      "Встраиваемая посудомоечная машина De'Longhi DDW 08S\n",
      "Духовой шкаф Neff B45E42 N0\n",
      "Посудомоечная машина Bomann GSP 849\n",
      "Стиральная машина Beko ELB 57021\n",
      "Варочная поверхность Smeg SEFR536X\n",
      "Водонагреватель Austria Email VT FRMR [VT 2500 FRMR]\n",
      "Фен Remington AS 8090 Keratin Therapy Pro\n",
      "Пылесос LG V-K75W02HY\n",
      "Фен Hairway 04090\n",
      "Варочная поверхность Darina 1T16 BGM 341 11\n",
      "Стиральная машина AEG L 16950\n",
      "Весы Kromax Aurora-533\n",
      "Водонагреватель Hajdu AQ [AQ100]\n",
      "Медицинский термометр Maman FDTH-V0-3\n",
      "Пылесос LG V-K75W02HY\n",
      "Массажер для тела Beurer MG 261\n",
      "Весы Supra BSS-6051\n",
      "Духовой шкаф Miele H6260B\n",
      "Варочная поверхность Bosch PPS 816 M91E\n",
      "Духовой шкаф MAUNFELD MEOF 676\n",
      "Духовой шкаф AEG KS 8100001\n",
      "Электробритва Sakura SA-5415\n",
      "Холодильник GRAUDE SBS 180.0\n",
      "Электродуховка Artel MD 3216\n",
      "Микроволновая печь Candy CMW 2070 DW\n",
      "Плита Scarlett SC-HP700S01\n",
      "Весы Unit UBS-2150\n",
      "Кухонная мойка Zorg SZR-4438\n",
      "Пылесос Hammer PIL50A\n",
      "Кухонная мойка Franke Peak PKX 110-34\n",
      "Вытяжка Whirlpool AKR 773\n",
      "Весы Atlanta ATH-6202\n",
      "Швейная машина, оверлок Toyota Super Jeans 34\n",
      "Швейная машина, оверлок Janome 843\n",
      "Весы Eurostek EKS-5000\n",
      "Электробритва Panasonic ES-LT2N\n",
      "Весы Maxwell MW-1477\n",
      "Весы Aresa SK-409\n",
      "Вытяжка Korting KHC 6431\n",
      "Плита Hansa FCGW54001017\n",
      "Кухонная мойка Smeg LSEG860A-2\n",
      "Стиральная машина LG FH0H3NDS1\n",
      "Вытяжка Jet Air Erika 60\n",
      "Гладильная доска Leifheit AirSteam Premium L\n",
      "Стиральная машина Miele WKH 132 WPS\n",
      "Водонагреватель Hajdu IND F [IND 100 F]\n",
      "Встраиваемая пароварка Miele DGC 6805\n",
      "Пылесос Galaxy GL 6256\n",
      "Кухонная мойка Omoikiri Yonaka 61\n",
      "Вытяжка MAUNFELD CLYDE C 50\n",
      "Духовой шкаф Zigmund&Shtain BN 20.504\n",
      "Духовой шкаф Zigmund&Shtain EN 68.511\n",
      "Весы Delta D9238\n",
      "Вытяжка Akpo Dandys 60\n",
      "Посудомоечная машина Hansa ZWM-646\n",
      "Кухонная мойка Elleci Sirex 400\n",
      "Вытяжка Kuppersbusch EDIP 6450.0 E\n",
      "Весы KITFORT KT-802\n",
      "Вытяжка MAUNFELD CORSA LIGHT 60\n",
      "Маникюрный набор Gess GESS-604\n",
      "Вытяжка Krona Natali 900 3P-S\n",
      "Соковыжималка Clatronic ZP 3066\n",
      "Вытяжка Zigmund&Shtain K 326.61\n",
      "Машинка для удаления катышков Luazon LUK-01\n",
      "Кухонный комбайн KitchenAid 5KSM175\n",
      "Варочная поверхность Teka TBR 620\n",
      "Кофеварка Promac Green P161\n",
      "Миксер Eurostek EHM-354\n",
      "Кухонная мойка GranFest Standart GF-S645L\n",
      "Микроволновая печь Caso IMCG 25\n",
      "Духовой шкаф Gorenje BO 637 ST\n",
      "Весы Clatronic KW 3416\n",
      "Холодильник Smeg SBS963N\n",
      "Массажная ванночка для ног Medisana WBB 88373\n",
      "Кухонная мойка Teka Texina 45E TG\n",
      "Духовой шкаф Kaiser EH 6967\n",
      "Водонагреватель Drazice OKCV [OKCV 200]\n",
      "Плита Gorenje EC 57302\n",
      "Фен Philips BHB 876\n",
      "Весы Vigor HX-8221\n",
      "Вибротренажер HANSUN HS311C\n",
      "Встраиваемая пароварка Smeg SC45V2\n",
      "Вытяжка Kaiser AT-6408\n",
      "Духовой шкаф Smeg F610\n",
      "Медицинский термометр Canpol Babies 9/104\n",
      "Электрочайник Energy E-266\n",
      "Электрочайник Sinbo SK-7319\n",
      "Вытяжка MAUNFELD IRWELL G 90\n",
      "Плита Gemlux GL-IC5100PRO\n",
      "Плита Darina 1D1 GM 241-022\n",
      "Пылесос Scarlett SC-VC80C93\n",
      "Духовой шкаф Simfer B 6EM 45001\n",
      "Электрочайник Sinbo SK-7364\n",
      "Соковыжималка Kuvings NS-993\n",
      "Вытяжка Darina UMBRELLA 503\n",
      "Вытяжка Falmec Dora 90/600\n",
      "Холодильник Panasonic NR-BW465V\n",
      "Весы Delta BA-4001\n",
      "Духовой шкаф Kuppersberg HO 657\n",
      "Холодильник Hitachi R-E6800U\n",
      "Весы Yunmai Mini Smart Scale\n",
      "Микроволновая печь BBK 20MWG-738M\n",
      "Вытяжка Exiteq Standard 601\n",
      "Плита Kromax IP-35\n",
      "Посудомоечная машина Zanussi ZDS 3010\n",
      "Плита Vitek VT-3701\n",
      "Фен CoifIn CL5H-R\n",
      "Мясорубка StarWind SMG2521\n",
      "Фен Braun HD 550\n",
      "Варочная поверхность Nardi BH 40 HAV\n",
      "Швейная машина, оверлок Janome DC 4100\n",
      "Миксер Unit UBI 402\n",
      "Стиральная машина Vestfrost VFWM 1041\n",
      "Вытяжка Fulgor Milano CHDD 12010\n",
      "Вытяжка Cata GL 75\n",
      "Холодильник Vestfrost VF 185 MH\n",
      "Кухонная мойка Seaman ECO Glass SMG-730\n",
      "Вытяжка MAUNFELD PLYM LIGHT 90\n",
      "Эпилятор Braun SE 7931\n",
      "Кухонная мойка Florentina Vega 160\n",
      "Вытяжка Elikor Agat 60\n",
      "Пылесос Panda X1\n",
      "Утюг Irit IR-2215\n",
      "Картридж для воды Gejzer RO-25308\n",
      "Электрочайник Supra KES-1709\n",
      "Кухонная мойка AquaGranitEx M-09\n",
      "Эпилятор Braun BD 3003\n",
      "Электрочайник VES 1022\n",
      "Стиральная машина Electrolux EWT 1567\n",
      "Электрочайник LUMME LU-249\n",
      "Утюг Atlanta ATH-5494\n",
      "Варочная поверхность Siemens EH 651FFB1\n",
      "Духовой шкаф Neff B57CS24 N0\n",
      "Швейная машина, оверлок Pfaff Performance 5.0\n",
      "Пылесос Polaris PVC 1617\n",
      "Посудомоечная машина Electrolux ESF 4500\n",
      "Холодильник Liebherr T 1714\n",
      "Духовой шкаф Bosch HBN 211S6\n",
      "Пылесос Karcher CV 30/1\n",
      "Вытяжка MAUNFELD RETRO FRAME 60\n",
      "Весы Scarlett SC-BS33E057\n",
      "Вытяжка Whirlpool AKR 672\n",
      "Электрочайник LUMME LU-134\n",
      "Кухонная мойка Reginox Nevada 30-40\n",
      "Вытяжка Akpo Feniks Isla 90\n",
      "Вытяжка Neff D 76MH52 N0\n",
      "Духовой шкаф Bompani Forno Retro\n",
      "Стиральная машина AEG L 99691\n",
      "Стиральная машина Bosch WAW 28740\n",
      "Духовой шкаф Candy FPP 602/1\n",
      "Электрочайник Midea MK-8052\n",
      "Уборочная машина Cleanfix R 44-120\n",
      "Вытяжка Faber Scrigno Hip A 60\n",
      "Весы Galaxy GL4802\n",
      "Пылесос Dyson V8 Absolute\n",
      "Микроволновая печь Bosch HMT 75M451\n",
      "Швейная машина, оверлок Jaguar 714D\n",
      "Швейная машина, оверлок Pfaff Quilt Expression 3.0\n",
      "Кухонная мойка Omoikiri Manmaru 62\n",
      "Вытяжка Best P 740\n",
      "Весы Dobrynia DO-3004\n",
      "Весы Redmond RS-708\n",
      "Микроволновая печь Samsung ME83ARW\n",
      "Фен Remington AS 8110\n",
      "Вытяжка Krona Seliya 500 Push Button\n",
      "Кухонный комбайн Kenwood KHH 326 MultiOne\n",
      "Плита Indesit KN 1M117\n",
      "Массажер для тела Medisana ITM\n",
      "Винный шкаф IP Industrie C 501\n",
      "Вытяжка Falmec Platinum 97/800\n",
      "Водонагреватель Mora Vega [Vega 16]\n",
      "Йогуртница Maxwell MW-1443\n",
      "Духовой шкаф Hansa BOEI69422\n",
      "Холодильник Kraft BR-50\n",
      "Весы Scarlett SC-1215\n",
      "Вытяжка Zigmund&Shtain K 129.51\n",
      "Вытяжка Krona Ella 600\n",
      "Кухонная мойка Reginox L18 4035\n",
      "Фен Remington D 5219 Your Style\n",
      "Посудомоечная машина Bosch SPS 58M18\n",
      "Вытяжка Schaub Lorenz SLD WB6500\n",
      "Водонагреватель Atlantic Steatite Cube S4CM [Steatite Cube 150 S4CM]\n",
      "Пылесос Dyson V7 Absolute\n",
      "Морозильная камера Gorenje FH 400\n",
      "Вытяжка Krona Kamilla Slim 2M 600 3P\n",
      "Весы SOEHNLE 66160 Flip\n",
      "Весы Smile KSE 3265\n",
      "Пароочиститель Karcher SC 5 Iron Kit\n",
      "Вытяжка Centek CT-1820 60\n",
      "Пылесос Supra VCS-1615\n",
      "Гладильная доска Brabantia 510342\n",
      "Холодильник DON R 291\n",
      "Встраиваемая посудомоечная машина Beko DIS 5831\n",
      "Швейная машина, оверлок Elna 3005\n",
      "Духовой шкаф Midea MO 47000\n",
      "Весы Redmond RS-715\n",
      "Плита Beko FSM 62320\n",
      "Холодильник Samsung RB33J3420EF\n",
      "Весы Delta KCE-41\n",
      "Водонагреватель Garanterm MGR [MGR 30]\n",
      "Холодильник Bosch KGS39XL20\n",
      "Вытяжка Akpo Zefir ECO 90\n",
      "Встраиваемая посудомоечная машина Electrolux ESL 97540\n",
      "Электрочайник Kelli KL-1313\n",
      "Электродуховка Simfer M4297\n",
      "Кухонная мойка Dr. Gans Nika 580\n",
      "Пылесос Scarlett SC-VC80B01\n",
      "Плита Zanussi ZCV965201\n",
      "Вытяжка Bosch DWA 09D651\n",
      "Кухонная мойка RODI Box Line 34\n",
      "Водонагреватель Thermex Ultra Slim [IU-40 V]\n",
      "Вытяжка Whirlpool AKR 759\n",
      "Плита Bosch HGA 23W125R\n",
      "Вытяжка Falmec Iris Piastrelata 120/600\n",
      "Встраиваемый холодильник Liebherr IK 1620\n",
      "Машинка для стрижки волос LUMME LU-2506\n",
      "Фен Centek CT-2020\n",
      "Кухонная мойка Blanco Subline 375-U\n",
      "Микроволновая печь Supra MWS-1806MW\n",
      "Швейная машина, оверлок Brother SL-10\n",
      "Весы Kromax KS-522\n",
      "Весы MAGNIT RMX-6182\n",
      "Пылесос KITFORT KT-517\n",
      "Плита Gefest 3200-05\n",
      "Вытяжка Kaiser A-9414\n",
      "Кухонная мойка Whinstone Mungo 760\n",
      "Вытяжка Falmec Iris Malizia 60/600\n",
      "Микроволновая печь Midea AW 925 EHU\n",
      "Фен Delta DL-0442\n",
      "Вытяжка MAUNFELD CLYDE C 60\n",
      "Электродуховка AVEX TR350BCL\n",
      "Плита Gorenje K 6121\n",
      "Кулер для воды Aqua Work 712-S-W\n",
      "Весы Unit UBS-2153\n",
      "Маникюрный набор Smile MPS 3400\n",
      "Плита Bosch HCA 644150R\n",
      "Мясорубка Apach ATI22UT\n",
      "Маникюрный набор GEZAtone 126D\n",
      "Пылесос Daewoo RGJ-220\n",
      "Плита De Luxe 5040.30\n",
      "Холодильник Shivaki BMR 1881 DNF\n",
      "Вытяжка Falmec Diamante 90/800\n",
      "Вытяжка Falmec Torcello 65/800 Isola\n",
      "Вытяжка Lex Simple 500\n",
      "Швейная машина, оверлок AstraLux SR38\n",
      "Кухонная мойка GranFest Practic GF-P420\n",
      "Вытяжка Faber Lithos A 45\n",
      "Весы Medisana PS 72\n",
      "Варочная поверхность Lex EVH 430\n",
      "Вытяжка Elikor Graphite 60\n",
      "Уборочная машина Ghibli ROLLY 7 1/2 M 33 BC 10 Ah\n",
      "Стиральная машина Siemens WM 12N290\n",
      "Плита Kromax IP-46\n",
      "Швейная машина, оверлок Brother RS-45S\n",
      "Кухонная мойка Mixline ML-GM11\n",
      "Кухонная мойка Blanco Zenar XL 6S\n",
      "Посудомоечная машина Indesit DSG 263\n",
      "Стиральная машина Candy GVS34 116 D2\n",
      "Кухонная мойка Eurodomo BLX-720\n",
      "Пароочиститель Kromax Rimmini-7100\n",
      "Вытяжка Falmec Ellittica 70/800 Isola\n",
      "Фен Supra HSS-1220\n",
      "Фен Irit IR-3162\n",
      "Кухонная мойка Franke Argos AGX 211-86\n",
      "Фен Philips HPS 910\n",
      "Водонагреватель Hotpoint-Ariston ABS PRO ECO PW Slim [ABS PRO ECO PW 30V Slim]\n",
      "Холодильник Electrolux ERF 4162\n",
      "Пылесос Bort BSS-1440-Pro\n",
      "Весы Scarlett SC-BS33ED85\n",
      "Хлебопечка Midea EHS20Q3\n",
      "Пылесос Cleanfix S 20\n",
      "Плита Gorenje GI 532 IN\n",
      "Вытяжка NODOR Icon\n",
      "Вытяжка Elica Cube A/60\n",
      "Встраиваемый винный шкаф Dunavox DX-181.490DBK\n",
      "Холодильник Smeg SMEG500\n",
      "Вытяжка MAUNFELD VENERA 70\n",
      "Холодильник POZIS RD-149\n",
      "Микроволновая печь Gorenje MO-200 MS\n",
      "Вытяжка Faber Life A 80\n",
      "Маникюрный набор Supra MPS-110\n",
      "Духовой шкаф Asko OT 8636\n",
      "Микроволновая печь MAUNFELD MFSMO.20.7 SGW\n",
      "Мультиварка LUMME LU-1450\n",
      "Швейная машина, оверлок Jaguar 145\n",
      "Винный шкаф La Sommeliere LS28\n",
      "Вытяжка Teka DG3 60\n",
      "Холодильник Beko DS 325000\n",
      "Варочная поверхность Leran GH 64521\n",
      "Духовой шкаф Nardi FEX 9758\n",
      "Пароочиститель Polti Vaporetto SV330 Multibrush\n",
      "Пылесос Miele Complete C3\n",
      "Швейная машина, оверлок Toyota Oekaki 50\n",
      "Вытяжка Elikor Onyx 60\n",
      "Электрочайник Polaris PWK 1843CA\n",
      "Вытяжка Krona Kirsa 500 Push Button\n",
      "Вытяжка Elikor Amethyst 50\n",
      "Электрочайник Panasonic NC-EG3000\n",
      "Весы Supra BSS-4077\n",
      "Варочная поверхность Weissgauff HV 6540\n",
      "Холодильник Liebherr CU 3311\n",
      "Варочная поверхность Zigmund&Shtain CNS 302.30\n",
      "Вытяжка Teka NC2 90\n",
      "Электрочайник Zimber ZM-10861\n",
      "Пароочиститель VAX S86-SF-C-R\n",
      "Стиральная машина Hansa AWB510DR\n",
      "Тостер Saturn ST EC7023\n",
      "Фен Polaris PHD 1315T\n",
      "Стиральная машина Indesit IWDC 7105\n",
      "Водонагреватель Hotpoint-Ariston TI STI [TI 500 STI]\n",
      "Встраиваемая микроволновая печь Hansa AMM20BEXH\n",
      "Водонагреватель Bosch Tronic 8000 [ES 035-5E 0 WIR-B]\n",
      "Массажное кресло US Medica Indigo\n",
      "Вытяжка Krona Natali 600 3P-S\n",
      "Стиральная машина LG F14A8TDS\n",
      "Весы Atlanta ATH-6212\n",
      "Вытяжка Kaiser A-9412\n",
      "Весы Sanitas SBF70\n",
      "Весы Aksion BHE-32\n",
      "Винный шкаф Gemlux GL-WC-28C\n",
      "Массажер для тела Medisana HP 620\n",
      "Фен Dewal 03-7728\n",
      "Кухонная мойка Alveus Classic 70\n",
      "Вытяжка Neff D 76B21 N1\n",
      "Электрочайник LUMME LU-139\n",
      "Пылесос Bosch BGL 35SPORT\n",
      "Весы Beurer KS44\n",
      "Кофеварка Aresa CM-144\n",
      "Электродуховка Rommelsbacher BG 1650\n",
      "Стиральная машина Assol XPB45-168\n",
      "Весы Vitek   VT-2406\n",
      "Швейная машина, оверлок Minerva M190\n",
      "Весы US Medica Promo S1\n",
      "Электрочайник Atlanta ATH 2425\n",
      "Посудомоечная машина Bosch SMS 68M52\n",
      "Варочная поверхность Neff T 46BD53N0\n",
      "Вытяжка Siemens LC 91BA582\n",
      "Пылесос Hotpoint-Ariston SL B20 AAO\n",
      "Варочная поверхность Neff T 36FB40X0\n",
      "Стиральная машина Electrolux EWT 1377\n",
      "Вытяжка MAUNFELD CORSA LIGHT 50\n",
      "Пылесос Shop-Vac Pro 60-I\n",
      "Плита Greta 1470-00-07\n",
      "Вытяжка Falmec Spring 80/600 Isola\n",
      "Электрочайник Kromax KR-342\n",
      "Кофемолка Rommelsbacher EKM 200\n",
      "Духовой шкаф Beltratto FSM 6401\n",
      "Весы Beurer GS225\n",
      "Кулер для воды AEL YLR2-5-X 28L-B/B\n",
      "Духовой шкаф Hankel OKB 4228\n",
      "Утюг Bosch TDS 1601\n",
      "Швейная машина, оверлок Brother Hanami 37S\n",
      "Водонагреватель Reflex Storatherm Aqua AB/1 [Storatherm Aqua AB 150/1]\n",
      "Духовой шкаф Electrolux EOC 6851\n",
      "Встраиваемая посудомоечная машина Smeg STA4523\n",
      "Машинка для стрижки волос Philips QG-3327\n",
      "Варочная поверхность Foster Vitroline 7351000\n",
      "Духовой шкаф Korting OKB 9112 CJN\n",
      "Вытяжка Darina FLAP 501\n",
      "Вытяжка AEG X 78263 BV10\n",
      "Вытяжка De'Longhi Argentella 50\n",
      "Холодильник Candy CCPN 6180\n",
      "Вытяжка Elikor Gamma 60\n",
      "Вытяжка Rainford RCH-1502\n",
      "Пылесос Philips FC 8820\n",
      "Духовой шкаф Kaiser EH 6920\n",
      "Варочная поверхность Simfer H 60Q40 O401\n",
      "Кухонная мойка Smeg LMEPB77\n",
      "Кухонная мойка Elleci Easy Round 600\n",
      "Утюг Kelli KL-1633\n",
      "Электродуховка Delta DL-24\n",
      "Варочная поверхность Kuppersberg TS 62\n",
      "Фен Vitek VT-8238\n",
      "Швейная машина, оверлок Janome 1143\n",
      "Холодильник LG GA-B499ZVSP\n",
      "Вытяжка Elica Elite 14 STD A/60\n",
      "Швейная машина, оверлок Brother Innov-is 97E\n",
      "Вытяжка Lex Inbox 500\n",
      "Кулер для воды Ecotronic K1-TN\n",
      "Холодильник Liebherr CNef 3515\n",
      "Духовой шкаф Weissgauff OE 19\n",
      "Плита Galaxy GL 3053\n",
      "Пароочиститель Bradex TD 0064\n"
     ]
    }
   ],
   "source": [
    "import csv\n",
    "\n",
    "with open('sales.csv', encoding='utf-8-sig') as file:\n",
    "    rows = csv.DictReader(file, delimiter=';')\n",
    "    # best = sorted(rows, key=lambda x:int(x['old_price'])-int(x['new_price'])>0, reverse=True)\n",
    "    for row in rows:\n",
    "        if int(row['old_price']) > int(row['new_price']): \n",
    "            print(row['name'])"
   ],
   "metadata": {
    "collapsed": false,
    "ExecuteTime": {
     "end_time": "2024-09-30T12:37:07.875549700Z",
     "start_time": "2024-09-30T12:37:07.870046Z"
    }
   },
   "id": "cf5f0ad9d84f027b"
  },
  {
   "cell_type": "code",
   "execution_count": 102,
   "outputs": [
    {
     "name": "stdout",
     "output_type": "stream",
     "text": [
      "Вытяжка Falmec Afrodite 60/600\n",
      "Духовой шкаф AEG BS 5836600\n",
      "Вытяжка MAUNFELD PLYM 60\n",
      "Весы Momert 7462\n",
      "Кухонная мойка Blanco Classic Pro 5 S-IF\n"
     ]
    }
   ],
   "source": [
    "import csv\n",
    "\n",
    "with open('sales.csv', encoding='utf-8-sig') as file:\n",
    "    data = file.read()\n",
    "    table = [i.split(';') for i in data.splitlines()]\n",
    "    del table[0]\n",
    "    table.sort(key=lambda x: int(x[1]) - int(x[2]) > 0, reverse=True)\n",
    "    for row in table[:5]:\n",
    "        print(row[0])"
   ],
   "metadata": {
    "collapsed": false,
    "ExecuteTime": {
     "end_time": "2024-09-30T12:32:03.714253400Z",
     "start_time": "2024-09-30T12:32:03.708421600Z"
    }
   },
   "id": "7e6f34a4dad0a9e2"
  },
  {
   "cell_type": "markdown",
   "source": [
    "Средняя зарплата\n",
    "Вам доступен файл salary_data.csv, который содержит анонимную информацию о зарплатах сотрудников в различных компаниях. В первом столбце записано название компании, а во втором — зарплата очередного сотрудника:\n",
    "\n",
    "company_name;salary\n",
    "Atos;135000\n",
    "ХайТэк;24400\n",
    "Philax;128600\n",
    "Инлайн Груп;43900\n",
    "IBS;70600\n",
    "Oracle;131600\n",
    "Atos;91000\n",
    "...\n",
    "Напишите программу, которая упорядочивает компании по возрастанию средней зарплаты ее сотрудников и выводит их названия, каждое на отдельной строке. Если две компании имеют одинаковые средние зарплаты, они должны быть расположены в лексикографическом порядке их названий.\n",
    "\n",
    "Примечание 1. Средняя зарплата компании определяется как отношение суммы всех зарплат к их количеству.\n",
    "\n",
    "Примечание 2. Разделителем в файле salary_data.csv является точка с запятой, при этом кавычки не используются."
   ],
   "metadata": {
    "collapsed": false
   },
   "id": "345743de8e2c8645"
  },
  {
   "cell_type": "markdown",
   "source": [
    "Примечание 4. Начальная часть ответа выглядит так:\n",
    "\n",
    "Информзащита\n",
    "Форс\n",
    "OFT group\n",
    "...\n",
    "Примечание 5. При открытии файла используйте явное указание кодировки UTF-8."
   ],
   "metadata": {
    "collapsed": false
   },
   "id": "b5d40a140c3b4902"
  },
  {
   "cell_type": "code",
   "execution_count": 129,
   "outputs": [
    {
     "name": "stdout",
     "output_type": "stream",
     "text": [
      "('Информзащита', {'total_salary': 25626900, 'count': 333})\n",
      "('Форс', {'total_salary': 25669500, 'count': 333})\n",
      "('OFT group', {'total_salary': 28535000, 'count': 367})\n",
      "('Oracle', {'total_salary': 27215700, 'count': 349})\n",
      "('Atos', {'total_salary': 24573800, 'count': 313})\n",
      "('Микрон', {'total_salary': 27246900, 'count': 347})\n",
      "('Гринатом', {'total_salary': 22899700, 'count': 291})\n",
      "('ХайТэк', {'total_salary': 26530200, 'count': 336})\n",
      "('Сател', {'total_salary': 26060100, 'count': 329})\n",
      "('Лига Цифровой Экономики', {'total_salary': 27095200, 'count': 342})\n",
      "('TerraLink', {'total_salary': 27271700, 'count': 341})\n",
      "('АйТеко', {'total_salary': 25771700, 'count': 322})\n",
      "('Itransition', {'total_salary': 26908400, 'count': 336})\n",
      "('Эвотор', {'total_salary': 26689300, 'count': 333})\n",
      "('Angara', {'total_salary': 24971800, 'count': 311})\n",
      "('OCS Distribution', {'total_salary': 27508100, 'count': 342})\n",
      "('Hikvision', {'total_salary': 26626700, 'count': 331})\n",
      "('Тринити', {'total_salary': 27397100, 'count': 339})\n",
      "('iCore', {'total_salary': 25919400, 'count': 320})\n",
      "('Ростелеком', {'total_salary': 27098500, 'count': 334})\n",
      "('Сигма', {'total_salary': 27843400, 'count': 343})\n",
      "('Аквариус', {'total_salary': 27390100, 'count': 337})\n",
      "('Philax', {'total_salary': 26595900, 'count': 326})\n",
      "('Softline', {'total_salary': 25546200, 'count': 312})\n",
      "('IBS', {'total_salary': 29579100, 'count': 359})\n",
      "('Инфосистемы Джет', {'total_salary': 28598200, 'count': 347})\n",
      "('Ситроникс', {'total_salary': 26042100, 'count': 315})\n",
      "('ИнфоТеКС', {'total_salary': 27040100, 'count': 322})\n",
      "('Инлайн Груп', {'total_salary': 31073600, 'count': 370})\n",
      "('Элтекс', {'total_salary': 26935000, 'count': 320})\n"
     ]
    }
   ],
   "source": [
    "import csv\n",
    "\n",
    "best = {}\n",
    "with open('salary_data.csv', encoding='utf-8-sig') as file:\n",
    "    rows = csv.DictReader(file, delimiter=';', quotechar='\"')\n",
    "    for row in rows:\n",
    "        company = row['company_name']\n",
    "        salary = int(row['salary'])\n",
    "        \n",
    "        if company in best:\n",
    "            best[company]['total_salary'] += salary\n",
    "            best[company]['count'] += 1\n",
    "        else:\n",
    "            best[company] = {'total_salary': salary, 'count': 1}\n",
    "            \n",
    "very_best = sorted(best.items(), key=lambda x:x[1]['total_salary']/x[1]['count'])\n",
    "\n",
    "for i in very_best:\n",
    "    print(i)"
   ],
   "metadata": {
    "collapsed": false,
    "ExecuteTime": {
     "end_time": "2024-09-30T13:43:11.121964400Z",
     "start_time": "2024-09-30T13:43:11.088229100Z"
    }
   },
   "id": "9b567f7a2a01edd6"
  },
  {
   "cell_type": "code",
   "execution_count": null,
   "outputs": [],
   "source": [
    "import csv\n",
    "d = {}\n",
    "with open('salary_data.csv', encoding='utf-8') as file:\n",
    "    rows = list(csv.reader(file, delimiter=';'))\n",
    "    for key, value in rows[1:]:\n",
    "        d[key] = d.get(key, []) + [int(value)]\n",
    "\n",
    "    d_sort = sorted(d, key=lambda x: (sum(d[x]) / len(d[x]), x)) # упорядочивает список сначала по средней зарплате, затем лексикографически.\n",
    "    print(*d_sort, sep='\\n')"
   ],
   "metadata": {
    "collapsed": false
   },
   "id": "d64d46a3ba3c3970"
  }
 ],
 "metadata": {
  "kernelspec": {
   "display_name": "Python 3",
   "language": "python",
   "name": "python3"
  },
  "language_info": {
   "codemirror_mode": {
    "name": "ipython",
    "version": 2
   },
   "file_extension": ".py",
   "mimetype": "text/x-python",
   "name": "python",
   "nbconvert_exporter": "python",
   "pygments_lexer": "ipython2",
   "version": "2.7.6"
  }
 },
 "nbformat": 4,
 "nbformat_minor": 5
}
