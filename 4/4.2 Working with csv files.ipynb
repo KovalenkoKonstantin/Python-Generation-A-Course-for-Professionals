{
 "cells": [
  {
   "cell_type": "markdown",
   "source": [
    "Формат CSV"
   ],
   "metadata": {
    "collapsed": false
   },
   "id": "62fe89d5d9ca6374"
  },
  {
   "cell_type": "markdown",
   "source": [
    "CSV (от англ. Comma-Separated Values — значения, разделённые запятыми) — текстовый формат, предназначенный для представления табличных данных. Строка таблицы соответствует строке текста, которая содержит одно или несколько полей, разделенных запятыми."
   ],
   "metadata": {
    "collapsed": false
   },
   "id": "5525ac5c49d9828c"
  },
  {
   "cell_type": "markdown",
   "source": [
    "Например, таблица:\n",
    "\n",
    "    Rank   \t       Language     \t        Share       \n",
    "1\tPython\t31.17%\n",
    "2\tJava\t17.75%\n",
    "3\tJavaScript\t8%\n",
    "4\tC#\t7.05%\n",
    "5\tPHP\t6.09%\n",
    "в формате csv будет выглядеть так:"
   ],
   "metadata": {
    "collapsed": false
   },
   "id": "334234aea3f810e3"
  },
  {
   "cell_type": "markdown",
   "source": [
    "Rank,Language,Share\n",
    "1,Python,31.17%\n",
    "2,Java,17.75%\n",
    "3,JavaScript,8%\n",
    "4,C#,7.05%\n",
    "5,PHP,6.09%"
   ],
   "metadata": {
    "collapsed": false
   },
   "id": "5b820c2f7a5def6f"
  },
  {
   "cell_type": "markdown",
   "source": [
    "Обратите внимание, пробелов после запятой быть не должно."
   ],
   "metadata": {
    "collapsed": false
   },
   "id": "79fbe9b1c01cee0e"
  },
  {
   "cell_type": "markdown",
   "source": [
    "Ручная работа с файлами"
   ],
   "metadata": {
    "collapsed": false
   },
   "id": "88cbcf39fddc8ca3"
  },
  {
   "cell_type": "markdown",
   "source": [
    "Рассмотрим текстовый файл products.csv, содержащий информацию о товарах некоторого интернет магазина. Файл содержит информацию о трех столбцах:\n",
    "\n",
    "keywords (ключевые слова)\n",
    "price (цена)\n",
    "product_name (имя продукта)\n",
    "и имеет следующее содержимое:"
   ],
   "metadata": {
    "collapsed": false
   },
   "id": "9bc79ea6b4b07afb"
  },
  {
   "cell_type": "markdown",
   "source": [
    "keywords,price,product_name\n",
    "Садовый стул,1699,ВЭДДО\n",
    "Садовый стул,2999,ЭПЛАРО\n",
    "Садовый табурет,1699,ЭПЛАРО\n",
    "Садовый стол,1999,ТЭРНО\n",
    "Складной стол,7499,ЭПЛАРО\n",
    "Настил,1299,РУННЕН\n",
    "Стеллаж,1299,ХИЛЛИС\n",
    "Кружка,39,СТЕЛЬНА\n",
    "Молочник,299,ВАРДАГЕН\n",
    "Термос для еды,699,ЭФТЕРФРОГАД\n",
    "Ситечко,59,ИДЕАЛИСК\n",
    "Чайник заварочный,499,РИКЛИГ\n",
    "Кофе-пресс,699,УПХЕТТА\n",
    "Чашка с блюдцем,249,ИКЕА\n",
    "Кружка,249,ЭМНТ\n",
    "Ситечко,199,САККУННИГ\n",
    "Кружка,199,ФИНСТИЛТ\n",
    "Тарелка,269,ЭВЕРЕНС"
   ],
   "metadata": {
    "collapsed": false
   },
   "id": "d2c6516ddf0e23cc"
  },
  {
   "cell_type": "markdown",
   "source": [
    "Разделителем записей был выбран символ новой строки, а разделителем полей — символ запятой.\n",
    "\n",
    "В результате мы получили текстовый файл, который легко читается и человеком и компьютерной программой.\n",
    "\n",
    "Поскольку любой csv файл является текстовым, то нам не составит труда обработать его \"руками\", подобно тому, как мы обрабатываем обычный текстовый файл."
   ],
   "metadata": {
    "collapsed": false
   },
   "id": "67b3f221f65495a9"
  },
  {
   "cell_type": "code",
   "execution_count": 6,
   "outputs": [
    {
     "name": "stdout",
     "output_type": "stream",
     "text": [
      "['keywords', 'price', 'product_name']\n",
      "['Садовый стул', '1699', 'ВЭДДО']\n",
      "['Садовый стул', '2999', 'ЭПЛАРО']\n",
      "['Садовый табурет', '1699', 'ЭПЛАРО']\n",
      "['Садовый стол', '1999', 'ТЭРНО']\n",
      "['Складной стол', '7499', 'ЭПЛАРО']\n",
      "['Настил', '1299', 'РУННЕН']\n",
      "['Стеллаж', '1299', 'ХИЛЛИС']\n",
      "['Кружка', '39', 'СТЕЛЬНА']\n",
      "['Молочник', '299', 'ВАРДАГЕН']\n",
      "['Термос для еды', '699', 'ЭФТЕРФРОГАД']\n",
      "['Ситечко', '59', 'ИДЕАЛИСК']\n",
      "['Чайник заварочный', '499', 'РИКЛИГ']\n",
      "['Кофе-пресс', '699', 'УПХЕТТА']\n",
      "['Чашка с блюдцем', '249', 'ИКЕА']\n",
      "['Кружка', '249', 'ЭМНТ']\n",
      "['Ситечко', '199', 'САККУННИГ']\n",
      "['Кружка', '199', 'ФИНСТИЛТ']\n",
      "['Тарелка', '269', 'ЭВЕРЕНС']\n"
     ]
    }
   ],
   "source": [
    "with open('products.csv', encoding='utf-8') as file:\n",
    "    data = file.read()\n",
    "    for line in data.splitlines():\n",
    "        print(line.split(','))"
   ],
   "metadata": {
    "collapsed": false,
    "ExecuteTime": {
     "end_time": "2024-09-30T06:04:10.320389Z",
     "start_time": "2024-09-30T06:04:10.314637Z"
    }
   },
   "id": "f56fbc5b9b20adb4"
  },
  {
   "cell_type": "markdown",
   "source": [
    "Для построчного разделения текста удобно использовать строковый метод splitlines(), вместо метода split('\\n')"
   ],
   "metadata": {
    "collapsed": false
   },
   "id": "4154c373d08823a1"
  },
  {
   "cell_type": "markdown",
   "source": [
    "Мы также можем создать вложенный список (таблицу) для более удобного взаимодействия с данными:"
   ],
   "metadata": {
    "collapsed": false
   },
   "id": "e58c513e1bba7569"
  },
  {
   "cell_type": "code",
   "execution_count": 12,
   "outputs": [
    {
     "name": "stdout",
     "output_type": "stream",
     "text": [
      "['keywords', 'price', 'product_name']\n",
      "['Садовый стул', '1699', 'ВЭДДО']\n",
      "['Садовый стул', '2999', 'ЭПЛАРО']\n",
      "['Садовый табурет', '1699', 'ЭПЛАРО']\n",
      "['Садовый стол', '1999', 'ТЭРНО']\n",
      "['Складной стол', '7499', 'ЭПЛАРО']\n",
      "['Настил', '1299', 'РУННЕН']\n",
      "['Стеллаж', '1299', 'ХИЛЛИС']\n",
      "['Кружка', '39', 'СТЕЛЬНА']\n",
      "['Молочник', '299', 'ВАРДАГЕН']\n",
      "['Термос для еды', '699', 'ЭФТЕРФРОГАД']\n",
      "['Ситечко', '59', 'ИДЕАЛИСК']\n",
      "['Чайник заварочный', '499', 'РИКЛИГ']\n",
      "['Кофе-пресс', '699', 'УПХЕТТА']\n",
      "['Чашка с блюдцем', '249', 'ИКЕА']\n",
      "['Кружка', '249', 'ЭМНТ']\n",
      "['Ситечко', '199', 'САККУННИГ']\n",
      "['Кружка', '199', 'ФИНСТИЛТ']\n",
      "['Тарелка', '269', 'ЭВЕРЕНС']\n"
     ]
    }
   ],
   "source": [
    "with open('products.csv', encoding='utf-8') as file:\n",
    "    data = file.read()\n",
    "    table = [r.split(',') for r in data.splitlines()]\n",
    "    # print(*table)\n",
    "    for line in table:\n",
    "        print(line)"
   ],
   "metadata": {
    "collapsed": false,
    "ExecuteTime": {
     "end_time": "2024-09-30T06:08:52.932217400Z",
     "start_time": "2024-09-30T06:08:52.927992100Z"
    }
   },
   "id": "12104165c499bc30"
  },
  {
   "cell_type": "markdown",
   "source": [
    "С помощью такой таблицы мы можем обратиться к цене седьмого по счету товара:"
   ],
   "metadata": {
    "collapsed": false
   },
   "id": "bdf871fb132582e8"
  },
  {
   "cell_type": "code",
   "execution_count": 10,
   "outputs": [
    {
     "name": "stdout",
     "output_type": "stream",
     "text": [
      "1299\n"
     ]
    }
   ],
   "source": [
    "print(table[7][1])"
   ],
   "metadata": {
    "collapsed": false,
    "ExecuteTime": {
     "end_time": "2024-09-30T06:07:14.407392200Z",
     "start_time": "2024-09-30T06:07:14.401043600Z"
    }
   },
   "id": "f946f52df080b4e0"
  },
  {
   "cell_type": "markdown",
   "source": [
    "Или мы можем также отсортировать товары по цене и напечатать 5 самых дешевых товаров."
   ],
   "metadata": {
    "collapsed": false
   },
   "id": "fbc5da54f6432155"
  },
  {
   "cell_type": "code",
   "execution_count": 11,
   "outputs": [
    {
     "name": "stdout",
     "output_type": "stream",
     "text": [
      "['Кружка', '39', 'СТЕЛЬНА']\n",
      "['Ситечко', '59', 'ИДЕАЛИСК']\n",
      "['Ситечко', '199', 'САККУННИГ']\n",
      "['Кружка', '199', 'ФИНСТИЛТ']\n",
      "['Чашка с блюдцем', '249', 'ИКЕА']\n"
     ]
    }
   ],
   "source": [
    "with open('products.csv', encoding='utf-8') as file:\n",
    "    data = file.read()\n",
    "    table = [r.split(',') for r in data.splitlines()]\n",
    "    del table[0]                                        # удаляем заголовок\n",
    "    table.sort(key=lambda item: int(item[1]))\n",
    "    for line in table[:5]:\n",
    "        print(line)"
   ],
   "metadata": {
    "collapsed": false,
    "ExecuteTime": {
     "end_time": "2024-09-30T06:08:26.079146500Z",
     "start_time": "2024-09-30T06:08:26.072248300Z"
    }
   },
   "id": "4ef38ec4d0591ee9"
  },
  {
   "cell_type": "markdown",
   "source": [
    "Обратите внимание на то, что мы удалили первый элемент из списка, так как он содержит не данные, а заголовки. Также стоит обратить внимание на то, что в лямбда-функции мы преобразуем элемент item[1] к числовому типу, иначе сортировка будет работать не так, как полагается."
   ],
   "metadata": {
    "collapsed": false
   },
   "id": "933e70aa6b9f69b7"
  },
  {
   "cell_type": "markdown",
   "source": [
    "В приведенном выше файле products.csv символ запятой использовался в качестве разделителя полей. Однако бывают ситуации, в которых сам символ запятой является легитимным символом. Например, столбец keywords может содержать (и как правило на практике содержит) несколько ключевых слов. В таком случае структура файла нарушается. Для решения такой проблемы можно использовать два подхода."
   ],
   "metadata": {
    "collapsed": false
   },
   "id": "a84562b699c021c4"
  },
  {
   "cell_type": "markdown",
   "source": [
    "1 подход. Если поле содержит запятые, то это поле должно быть заключено в двойные кавычки. Если этого не сделать, то данные невозможно будет корректно обработать.\n",
    "\n",
    "Содержимое файла products.csv может иметь вид:"
   ],
   "metadata": {
    "collapsed": false
   },
   "id": "9a3c2a64473ae6a1"
  },
  {
   "cell_type": "markdown",
   "source": [
    "keywords,price,product_name\n",
    "\"Садовый стул, стул для дачи\",1699,ВЭДДО\n",
    "Садовый стул,2999,ЭПЛАРО\n",
    "Садовый табурет,1699,ЭПЛАРО\n",
    "Садовый стол,1999,ТЭРНО\n",
    "\"Складной стол, обеденный стол\",7499,ЭПЛАРО\n",
    "Настил,1299,РУННЕН\n",
    "Стеллаж,1299,ХИЛЛИС\n",
    "\"Кружка, сосуд, стакан с ручкой\",39,СТЕЛЬНА\n",
    "Молочник,299,ВАРДАГЕН\n",
    "Термос для еды,699,ЭФТЕРФРОГАД\n",
    "Ситечко,59,ИДЕАЛИСК\n",
    "Чайник заварочный,499,РИКЛИГ\n",
    "Кофе-пресс,699,УПХЕТТА\n",
    "Чашка с блюдцем,249,ИКЕА\n",
    "\"Кружка, стакан с ручкой\",249,ЭМНТ\n",
    "Ситечко,199,САККУННИГ\n",
    "Кружка,199,ФИНСТИЛТ\n",
    "\"Тарелка, блюдце\",269,ЭВЕРЕНС"
   ],
   "metadata": {
    "collapsed": false
   },
   "id": "66f5ff70422d7afe"
  },
  {
   "cell_type": "markdown",
   "source": [
    "Обратите внимание на записи с номерами 1, 5, 8, 15 и 18. В этих записях в столбце keywords используется символ запятой, и для правильной обработки данных нам необходимо соответствующее поле обрамить символом двойных кавычек."
   ],
   "metadata": {
    "collapsed": false
   },
   "id": "d28c325c14d86b05"
  },
  {
   "cell_type": "markdown",
   "source": [
    "Обратите внимание на то, что при таком содержимом файла products.csv наш код, написанный выше, является нерабочим, так как он разделит каждую строку через символ запятой."
   ],
   "metadata": {
    "collapsed": false
   },
   "id": "a1d5610cd9c88989"
  },
  {
   "cell_type": "markdown",
   "source": [
    "2 подход. Использовать в качестве разделителя другой символ, например, символ табуляции (\\t), который весьма редко встречается в качестве валидного содержимого файла."
   ],
   "metadata": {
    "collapsed": false
   },
   "id": "4c100558587dfbda"
  },
  {
   "cell_type": "markdown",
   "source": [
    "keywords\tprice\tproduct_name\n",
    "Садовый стул, стул для дачи\t1699\tВЭДДО\n",
    "Садовый стул\t2999\tЭПЛАРО\n",
    "Садовый табурет\t1699\tЭПЛАРО\n",
    "Садовый стол\t1999\tТЭРНО\n",
    "Складной стол, обеденный стол\t7499\tЭПЛАРО\n",
    "Настил\t1299\tРУННЕН\n",
    "Стеллаж\t1299\tХИЛЛИС\n",
    "Кружка, сосуд, стакан с ручкой\t39\tСТЕЛЬНА\n",
    "Молочник\t299\tВАРДАГЕН\n",
    "Термос для еды\t699\tЭФТЕРФРОГАД\n",
    "Ситечко\t59\tИДЕАЛИСК\n",
    "Чайник заварочный\t499\tРИКЛИГ\n",
    "Кофе-пресс\t699\tУПХЕТТА\n",
    "Чашка с блюдцем\t249\tИКЕА\n",
    "Кружка, стакан с ручкой\t249\tЭМНТ\n",
    "Ситечко\t199\tСАККУННИГ\n",
    "Кружка\t199\tФИНСТИЛТ\n",
    "Тарелка, блюдце\t269\tЭВЕРЕНС"
   ],
   "metadata": {
    "collapsed": false
   },
   "id": "aab9d0181dfa70cf"
  },
  {
   "cell_type": "markdown",
   "source": [
    "Формат данных csv, в котором разделителем является символ табуляции, называют tsv (англ. tab separated values — «значения, разделенные табуляцией»)."
   ],
   "metadata": {
    "collapsed": false
   },
   "id": "b29b1390a7ff9e43"
  },
  {
   "cell_type": "markdown",
   "source": [
    "tsv — текстовый формат для представления табличных данных. Каждая запись в таблице — строка текстового файла. Каждое поле записи отделяется от других символом табуляции, а точнее — горизонтальной табуляции."
   ],
   "metadata": {
    "collapsed": false
   },
   "id": "7833aa7c6153ef1a"
  },
  {
   "cell_type": "markdown",
   "source": [
    "tsv и csv — формы более общего формата dsv (англ. delimiter separated values — «значения, разграниченные разделителем»)."
   ],
   "metadata": {
    "collapsed": false
   },
   "id": "1ab57d240c840bbe"
  },
  {
   "cell_type": "markdown",
   "source": [
    "Приведенный ниже код правильно обрабатывает файл products.tsv, в котором символом разделителя выбран символ табуляции (\\t):"
   ],
   "metadata": {
    "collapsed": false
   },
   "id": "bbca2ed083205c3b"
  },
  {
   "cell_type": "code",
   "execution_count": 13,
   "outputs": [
    {
     "name": "stdout",
     "output_type": "stream",
     "text": [
      "['Кружка, сосуд, стакан с ручкой', '39', 'СТЕЛЬНА']\n",
      "['Ситечко', '59', 'ИДЕАЛИСК']\n",
      "['Ситечко', '199', 'САККУННИГ']\n",
      "['Кружка', '199', 'ФИНСТИЛТ']\n",
      "['Чашка с блюдцем', '249', 'ИКЕА']\n"
     ]
    }
   ],
   "source": [
    "with open('products.tsv', encoding='utf-8') as file:\n",
    "    data = file.read()\n",
    "    table = [r.split('\\t') for r in data.splitlines()]\n",
    "    del table[0]\n",
    "    table.sort(key=lambda item: int(item[1]))\n",
    "    for line in table[:5]:\n",
    "        print(line)"
   ],
   "metadata": {
    "collapsed": false,
    "ExecuteTime": {
     "end_time": "2024-09-30T06:14:59.806820200Z",
     "start_time": "2024-09-30T06:14:59.793432100Z"
    }
   },
   "id": "fbcc910c7fc5f14a"
  },
  {
   "cell_type": "markdown",
   "source": [
    "Модуль csv"
   ],
   "metadata": {
    "collapsed": false
   },
   "id": "32e7148cef7d5b00"
  },
  {
   "cell_type": "markdown",
   "source": [
    "Несмотря на то что csv формат очень прост и мы можем работать с ним, как с обычным текстовым файлом, на практике используется встроенный модуль csv.\n",
    "\n",
    "В данном модуле есть два основных объекта: reader и writer, созданные, чтобы читать и создавать csv файлы соответственно."
   ],
   "metadata": {
    "collapsed": false
   },
   "id": "91bd9dfe6a09f0ab"
  },
  {
   "cell_type": "markdown",
   "source": [
    "Чтение данных с помощью reader"
   ],
   "metadata": {
    "collapsed": false
   },
   "id": "7692b15e33a7ee02"
  },
  {
   "cell_type": "markdown",
   "source": [
    "Для импорта модуля мы используем строку кода:"
   ],
   "metadata": {
    "collapsed": false
   },
   "id": "b9f72a2724338100"
  },
  {
   "cell_type": "code",
   "execution_count": 14,
   "outputs": [],
   "source": [
    "import csv"
   ],
   "metadata": {
    "collapsed": false,
    "ExecuteTime": {
     "end_time": "2024-09-30T06:16:40.631035500Z",
     "start_time": "2024-09-30T06:16:40.629974800Z"
    }
   },
   "id": "d60ed39ddac7e1a9"
  },
  {
   "cell_type": "markdown",
   "source": [
    "Этот модуль входит в стандартную библиотеку, и его не нужно устанавливать каким‑то особенным способом.\n",
    "\n",
    "Рассмотрим все тот же файл products.csv, содержащий информацию о товарах интернет магазина:"
   ],
   "metadata": {
    "collapsed": false
   },
   "id": "743807ca9203fd34"
  },
  {
   "cell_type": "markdown",
   "source": [
    "keywords,price,product_name\n",
    "Садовый стул,1699,ВЭДДО\n",
    "Садовый стул,2999,ЭПЛАРО\n",
    "Садовый табурет,1699,ЭПЛАРО\n",
    "Садовый стол,1999,ТЭРНО\n",
    "Складной стол,7499,ЭПЛАРО\n",
    "Настил,1299,РУННЕН\n",
    "Стеллаж,1299,ХИЛЛИС\n",
    "Кружка,39,СТЕЛЬНА\n",
    "Молочник,299,ВАРДАГЕН\n",
    "Термос для еды,699,ЭФТЕРФРОГАД\n",
    "Ситечко,59,ИДЕАЛИСК\n",
    "Чайник заварочный,499,РИКЛИГ\n",
    "Кофе-пресс,699,УПХЕТТА\n",
    "Чашка с блюдцем,249,ИКЕА\n",
    "Кружка,249,ЭМНТ\n",
    "Ситечко,199,САККУННИГ\n",
    "Кружка,199,ФИНСТИЛТ\n",
    "Тарелка,269,ЭВЕРЕНС"
   ],
   "metadata": {
    "collapsed": false
   },
   "id": "71ab3cec494a8a54"
  },
  {
   "cell_type": "code",
   "execution_count": 15,
   "outputs": [
    {
     "name": "stdout",
     "output_type": "stream",
     "text": [
      "['keywords', 'price', 'product_name']\n",
      "['Садовый стул', '1699', 'ВЭДДО']\n",
      "['Садовый стул', '2999', 'ЭПЛАРО']\n",
      "['Садовый табурет', '1699', 'ЭПЛАРО']\n",
      "['Садовый стол', '1999', 'ТЭРНО']\n",
      "['Складной стол', '7499', 'ЭПЛАРО']\n",
      "['Настил', '1299', 'РУННЕН']\n",
      "['Стеллаж', '1299', 'ХИЛЛИС']\n",
      "['Кружка', '39', 'СТЕЛЬНА']\n",
      "['Молочник', '299', 'ВАРДАГЕН']\n",
      "['Термос для еды', '699', 'ЭФТЕРФРОГАД']\n",
      "['Ситечко', '59', 'ИДЕАЛИСК']\n",
      "['Чайник заварочный', '499', 'РИКЛИГ']\n",
      "['Кофе-пресс', '699', 'УПХЕТТА']\n",
      "['Чашка с блюдцем', '249', 'ИКЕА']\n",
      "['Кружка', '249', 'ЭМНТ']\n",
      "['Ситечко', '199', 'САККУННИГ']\n",
      "['Кружка', '199', 'ФИНСТИЛТ']\n",
      "['Тарелка', '269', 'ЭВЕРЕНС']\n"
     ]
    }
   ],
   "source": [
    "import csv\n",
    "\n",
    "with open('products.csv', encoding='utf-8') as file:\n",
    "    rows = csv.reader(file)                               # создаем reader объект\n",
    "    for row in rows:\n",
    "        print(row)"
   ],
   "metadata": {
    "collapsed": false,
    "ExecuteTime": {
     "end_time": "2024-09-30T06:17:09.009268800Z",
     "start_time": "2024-09-30T06:17:09.003978200Z"
    }
   },
   "id": "f95b00fd9cacbe6"
  },
  {
   "cell_type": "markdown",
   "source": [
    "Самая важная строка кода в программе — это строка с созданием reader объекта:"
   ],
   "metadata": {
    "collapsed": false
   },
   "id": "1426b925d3e7dca0"
  },
  {
   "cell_type": "code",
   "execution_count": null,
   "outputs": [],
   "source": [
    "rows = csv.reader(file)"
   ],
   "metadata": {
    "collapsed": false
   },
   "id": "681056af9a532bad"
  },
  {
   "cell_type": "markdown",
   "source": [
    "Объект reader дает доступ к построчному итератору, полностью аналогичному работе с файлом или списком."
   ],
   "metadata": {
    "collapsed": false
   },
   "id": "ba3b9fb2179520d1"
  },
  {
   "cell_type": "markdown",
   "source": [
    "После выполнения этой строки в переменную rows будет записан итератор, с помощью которого можно «пробежаться» циклом по файлу. В каждой итерации цикла при этом будет доступна соответствующая строка файла, уже разбитая по запятым и представляющая собой список. При этом автоматически будут учтены все нюансы с запятыми внутри кавычек и самими кавычками."
   ],
   "metadata": {
    "collapsed": false
   },
   "id": "8d15f2011f72a9d1"
  },
  {
   "cell_type": "code",
   "execution_count": 38,
   "outputs": [
    {
     "name": "stdout",
     "output_type": "stream",
     "text": [
      "['keywords', 'price', 'product_name']\n",
      "['Садовый стул, стул для дачи', '1699', 'ВЭДДО']\n",
      "['Садовый стул', '2999', 'ЭПЛАРО']\n",
      "['Садовый табурет', '1699', 'ЭПЛАРО']\n",
      "['Садовый стол', '1999', 'ТЭРНО']\n",
      "['Складной стол, обеденный стол', '7499', 'ЭПЛАРО']\n",
      "['Настил', '1299', 'РУННЕН']\n",
      "['Стеллаж', '1299', 'ХИЛЛИС']\n",
      "['Кружка, сосуд, стакан с ручкой', '39', 'СТЕЛЬНА']\n",
      "['Молочник', '299', 'ВАРДАГЕН']\n",
      "['Термос для еды', '699', 'ЭФТЕРФРОГАД']\n",
      "['Ситечко', '59', 'ИДЕАЛИСК']\n",
      "['Чайник заварочный', '499', 'РИКЛИГ']\n",
      "['Кофе-пресс', '699', 'УПХЕТТА']\n",
      "['Чашка с блюдцем', '249', 'ИКЕА']\n",
      "['Кружка, стакан с ручкой', '249', 'ЭМНТ']\n",
      "['Ситечко', '199', 'САККУННИГ']\n",
      "['Кружка', '199', 'ФИНСТИЛТ']\n",
      "['Тарелка, блюдце', '269', 'ЭВЕРЕНС']\n"
     ]
    }
   ],
   "source": [
    "import csv\n",
    "\n",
    "with open('products1.csv', encoding='utf-8') as file:\n",
    "    rows = csv.reader(file)\n",
    "    # for row in rows:\n",
    "    #     print(row)\n",
    "    # table = [row for row in rows]\n",
    "    table = list(rows)\n",
    "    for row in table:\n",
    "        print(row)"
   ],
   "metadata": {
    "collapsed": false,
    "ExecuteTime": {
     "end_time": "2024-09-30T06:57:29.592613500Z",
     "start_time": "2024-09-30T06:57:29.586842600Z"
    }
   },
   "id": "8844639e0220da2d"
  },
  {
   "cell_type": "code",
   "execution_count": 39,
   "outputs": [
    {
     "name": "stdout",
     "output_type": "stream",
     "text": [
      "Садовый стул, стул для дачи\n",
      "Садовый стул\n"
     ]
    }
   ],
   "source": [
    "print(table[1][0])\n",
    "print(table[2][0])"
   ],
   "metadata": {
    "collapsed": false,
    "ExecuteTime": {
     "end_time": "2024-09-30T06:57:33.377038100Z",
     "start_time": "2024-09-30T06:57:33.370024400Z"
    }
   },
   "id": "cb041f75a29d1ece"
  },
  {
   "cell_type": "markdown",
   "source": [
    "Так как каждая строка файла, полученная из итератора, является списком, к ней можно применять все способы работы со списками."
   ],
   "metadata": {
    "collapsed": false
   },
   "id": "90038227dafd0f64"
  },
  {
   "cell_type": "code",
   "execution_count": 40,
   "outputs": [
    {
     "name": "stdout",
     "output_type": "stream",
     "text": [
      "Ключевые слова: keywords, цена: price, название: product_name\n",
      "Ключевые слова: Садовый стул, цена: 1699, название: ВЭДДО\n",
      "Ключевые слова: Садовый стул, цена: 2999, название: ЭПЛАРО\n",
      "Ключевые слова: Садовый табурет, цена: 1699, название: ЭПЛАРО\n",
      "Ключевые слова: Садовый стол, цена: 1999, название: ТЭРНО\n",
      "Ключевые слова: Складной стол, цена: 7499, название: ЭПЛАРО\n",
      "Ключевые слова: Настил, цена: 1299, название: РУННЕН\n",
      "Ключевые слова: Стеллаж, цена: 1299, название: ХИЛЛИС\n",
      "Ключевые слова: Кружка, цена: 39, название: СТЕЛЬНА\n",
      "Ключевые слова: Молочник, цена: 299, название: ВАРДАГЕН\n",
      "Ключевые слова: Термос для еды, цена: 699, название: ЭФТЕРФРОГАД\n",
      "Ключевые слова: Ситечко, цена: 59, название: ИДЕАЛИСК\n",
      "Ключевые слова: Чайник заварочный, цена: 499, название: РИКЛИГ\n",
      "Ключевые слова: Кофе-пресс, цена: 699, название: УПХЕТТА\n",
      "Ключевые слова: Чашка с блюдцем, цена: 249, название: ИКЕА\n",
      "Ключевые слова: Кружка, цена: 249, название: ЭМНТ\n",
      "Ключевые слова: Ситечко, цена: 199, название: САККУННИГ\n",
      "Ключевые слова: Кружка, цена: 199, название: ФИНСТИЛТ\n",
      "Ключевые слова: Тарелка, цена: 269, название: ЭВЕРЕНС\n"
     ]
    }
   ],
   "source": [
    "import csv\n",
    "\n",
    "with open('products.csv', encoding='utf-8') as file:\n",
    "    rows = csv.reader(file)\n",
    "    for keywords, price, product_name in rows:\n",
    "        print(f'Ключевые слова: {keywords}, цена: {price}, название: {product_name}')"
   ],
   "metadata": {
    "collapsed": false,
    "ExecuteTime": {
     "end_time": "2024-09-30T07:05:08.842174500Z",
     "start_time": "2024-09-30T07:05:08.840615400Z"
    }
   },
   "id": "ba797bb0d7f91a86"
  },
  {
   "cell_type": "markdown",
   "source": [
    "При создании reader объекта мы можем его настраивать, указывая:"
   ],
   "metadata": {
    "collapsed": false
   },
   "id": "970c61bcd7549a41"
  },
  {
   "cell_type": "markdown",
   "source": [
    "аргумент delimiter — односимвольная строка, используемая для разделения полей, по умолчанию имеет значение ','\n",
    "аргумент quotechar — односимвольная строка, используемая для кавычек в полях, содержащих специальные символы, по умолчанию имеет значение '\"'."
   ],
   "metadata": {
    "collapsed": false
   },
   "id": "e4797982493bd47b"
  },
  {
   "cell_type": "markdown",
   "source": [
    "Пусть содержимое файла products.csv имеет вид (в качестве разделителя выбран символ ';'):"
   ],
   "metadata": {
    "collapsed": false
   },
   "id": "3ebf65474f54472b"
  },
  {
   "cell_type": "markdown",
   "source": [
    "keywords;price;product_name\n",
    "\"Садовый стул, стул для дачи\";1699;ВЭДДО\n",
    "Садовый стул;2999;ЭПЛАРО\n",
    "Садовый табурет;1699;ЭПЛАРО\n",
    "Садовый стол;1999;ТЭРНО\n",
    "\"Складной стол, обеденный стол\";7499;ЭПЛАРО\n",
    "Настил;1299;РУННЕН\n",
    "Стеллаж;1299;ХИЛЛИС\n",
    "\"Кружка, сосуд, стакан с ручкой\";39;СТЕЛЬНА\n",
    "Молочник;299;ВАРДАГЕН\n",
    "Термос для еды;699;ЭФТЕРФРОГАД\n",
    "Ситечко;59;ИДЕАЛИСК\n",
    "Чайник заварочный;499;РИКЛИГ\n",
    "Кофе-пресс;699;УПХЕТТА\n",
    "Чашка с блюдцем;249;ИКЕА\n",
    "\"Кружка, стакан с ручкой\";249;ЭМНТ\n",
    "Ситечко;199;САККУННИГ\n",
    "Кружка;199;ФИНСТИЛТ\n",
    "\"Тарелка, блюдце\";269;ЭВЕРЕНС"
   ],
   "metadata": {
    "collapsed": false
   },
   "id": "7fa0430caef27627"
  },
  {
   "cell_type": "code",
   "execution_count": 41,
   "outputs": [
    {
     "name": "stdout",
     "output_type": "stream",
     "text": [
      "['keywords', 'price', 'product_name']\n",
      "['Садовый стул, стул для дачи', '1699', 'ВЭДДО']\n",
      "['Садовый стул', '2999', 'ЭПЛАРО']\n",
      "['Садовый табурет', '1699', 'ЭПЛАРО']\n",
      "['Садовый стол', '1999', 'ТЭРНО']\n",
      "['Складной стол, обеденный стол', '7499', 'ЭПЛАРО']\n"
     ]
    }
   ],
   "source": [
    "import csv\n",
    "\n",
    "with open('products2.csv', encoding='utf-8') as file:\n",
    "    rows = csv.reader(file, delimiter=';', quotechar='\"')\n",
    "    for index, row in enumerate(rows):\n",
    "        if index > 5:\n",
    "            break\n",
    "        print(row)"
   ],
   "metadata": {
    "collapsed": false,
    "ExecuteTime": {
     "end_time": "2024-09-30T07:11:15.032626200Z",
     "start_time": "2024-09-30T07:11:15.031024Z"
    }
   },
   "id": "73988bfe3f0c4838"
  },
  {
   "cell_type": "markdown",
   "source": [
    "При создании reader объекта мы указываем, что символ-разделитель записей delimiter в нашем файле — точка с запятой, а символ кавычек quotechar — двойные кавычки. Кроме того, мы используем встроенную функцию enumerate() для нумерации строк."
   ],
   "metadata": {
    "collapsed": false
   },
   "id": "5668698374243881"
  },
  {
   "cell_type": "markdown",
   "source": [
    "Обратите внимание на то, что для корректной обработки данных мы должны все еще исключить первую строку из обработки, которая содержит названия столбцов."
   ],
   "metadata": {
    "collapsed": false
   },
   "id": "62eb3f69f4012588"
  },
  {
   "cell_type": "markdown",
   "source": [
    "Чтение данных с помощью DictReader"
   ],
   "metadata": {
    "collapsed": false
   },
   "id": "e4231870f861418"
  },
  {
   "cell_type": "markdown",
   "source": [
    "Иcпользовать reader объект не всегда удобно, так как он возвращает сырые списки из строк файла, к тому же первой строкой является строка с названиями столбцов, которая практически всегда удаляется, так как мешает правильной обработке данных.\n",
    "\n",
    "В модуле csv есть специальный объект DictReader, который поддерживает создание объекта-словаря на основе названий столбцов. С помощью DictReader объекта мы можем обращаться к полям не по индексу, а по названию, что делает код более понятным."
   ],
   "metadata": {
    "collapsed": false
   },
   "id": "cdbed65cd67040b0"
  },
  {
   "cell_type": "code",
   "execution_count": 43,
   "outputs": [
    {
     "name": "stdout",
     "output_type": "stream",
     "text": [
      "{'keywords': 'Садовый стул, стул для дачи', 'price': '1699', 'product_name': 'ВЭДДО'}\n",
      "{'keywords': 'Садовый стул', 'price': '2999', 'product_name': 'ЭПЛАРО'}\n",
      "{'keywords': 'Садовый табурет', 'price': '1699', 'product_name': 'ЭПЛАРО'}\n",
      "{'keywords': 'Садовый стол', 'price': '1999', 'product_name': 'ТЭРНО'}\n",
      "{'keywords': 'Складной стол, обеденный стол', 'price': '7499', 'product_name': 'ЭПЛАРО'}\n",
      "{'keywords': 'Настил', 'price': '1299', 'product_name': 'РУННЕН'}\n",
      "{'keywords': 'Стеллаж', 'price': '1299', 'product_name': 'ХИЛЛИС'}\n",
      "{'keywords': 'Кружка, сосуд, стакан с ручкой', 'price': '39', 'product_name': 'СТЕЛЬНА'}\n",
      "{'keywords': 'Молочник', 'price': '299', 'product_name': 'ВАРДАГЕН'}\n",
      "{'keywords': 'Термос для еды', 'price': '699', 'product_name': 'ЭФТЕРФРОГАД'}\n",
      "{'keywords': 'Ситечко', 'price': '59', 'product_name': 'ИДЕАЛИСК'}\n",
      "{'keywords': 'Чайник заварочный', 'price': '499', 'product_name': 'РИКЛИГ'}\n",
      "{'keywords': 'Кофе-пресс', 'price': '699', 'product_name': 'УПХЕТТА'}\n",
      "{'keywords': 'Чашка с блюдцем', 'price': '249', 'product_name': 'ИКЕА'}\n",
      "{'keywords': 'Кружка, стакан с ручкой', 'price': '249', 'product_name': 'ЭМНТ'}\n",
      "{'keywords': 'Ситечко', 'price': '199', 'product_name': 'САККУННИГ'}\n",
      "{'keywords': 'Кружка', 'price': '199', 'product_name': 'ФИНСТИЛТ'}\n",
      "{'keywords': 'Тарелка, блюдце', 'price': '269', 'product_name': 'ЭВЕРЕНС'}\n"
     ]
    }
   ],
   "source": [
    "import csv\n",
    "\n",
    "with open('products3.csv', encoding='utf-8') as file:\n",
    "    rows = csv.DictReader(file, delimiter=';', quotechar='\"')\n",
    "    for row in rows:\n",
    "        print(row)"
   ],
   "metadata": {
    "collapsed": false,
    "ExecuteTime": {
     "end_time": "2024-09-30T07:18:23.580274800Z",
     "start_time": "2024-09-30T07:18:23.572945800Z"
    }
   },
   "id": "55a7f07db2652c86"
  },
  {
   "cell_type": "markdown",
   "source": [
    "Обратите внимание на то, что переменная row имеет тип dict в Python 3.8+. В более ранних версиях переменная row имела тип OrderedDict, который мы изучим чуть позже."
   ],
   "metadata": {
    "collapsed": false
   },
   "id": "2ed1b223e2b8be16"
  },
  {
   "cell_type": "code",
   "execution_count": 44,
   "outputs": [
    {
     "name": "stdout",
     "output_type": "stream",
     "text": [
      "{'keywords': 'Складной стол, обеденный стол', 'price': '7499', 'product_name': 'ЭПЛАРО'}\n",
      "{'keywords': 'Садовый стул', 'price': '2999', 'product_name': 'ЭПЛАРО'}\n",
      "{'keywords': 'Садовый стол', 'price': '1999', 'product_name': 'ТЭРНО'}\n",
      "{'keywords': 'Садовый стул, стул для дачи', 'price': '1699', 'product_name': 'ВЭДДО'}\n",
      "{'keywords': 'Садовый табурет', 'price': '1699', 'product_name': 'ЭПЛАРО'}\n"
     ]
    }
   ],
   "source": [
    "import csv\n",
    "\n",
    "with open('products3.csv', encoding='utf-8') as file:\n",
    "    rows = csv.DictReader(file, delimiter=';', quotechar='\"')\n",
    "    expensive = sorted(rows, key=lambda item: int(item['price']), reverse=True)\n",
    "    for record in expensive[:5]:\n",
    "        print(record)"
   ],
   "metadata": {
    "collapsed": false,
    "ExecuteTime": {
     "end_time": "2024-09-30T07:19:23.967837300Z",
     "start_time": "2024-09-30T07:19:23.958853600Z"
    }
   },
   "id": "39c43c9b917f0d3e"
  },
  {
   "cell_type": "markdown",
   "source": [
    "При создании DictReader объекта значениями по умолчанию для аргументов delimiter и quotechar являются ',' (символ запятой) и '\"' (символ двойной кавычки) соответственно."
   ],
   "metadata": {
    "collapsed": false
   },
   "id": "72f1fa14ecef3eff"
  },
  {
   "cell_type": "markdown",
   "source": [
    "Обратите внимание на то, что при использовании DictReader мы не избавляемся от первой строки, содержащей названия столбцов. Они хранятся в атрибуте fieldnames объекта DictReader. При этом к элементам строк мы обращаемся теперь не по индексам (int(item[1])), а по их названиям (int(item['price'])), что намного удобнее."
   ],
   "metadata": {
    "collapsed": false
   },
   "id": "3a5debc16b5bd00e"
  },
  {
   "cell_type": "markdown",
   "source": [
    "Запись данных с помощью writer"
   ],
   "metadata": {
    "collapsed": false
   },
   "id": "ad3710d38619301"
  },
  {
   "cell_type": "markdown",
   "source": [
    "Для записи данных в csv файл можно использовать специальный writer объект."
   ],
   "metadata": {
    "collapsed": false
   },
   "id": "378e0cf5b3f6d02f"
  },
  {
   "cell_type": "code",
   "execution_count": 45,
   "outputs": [],
   "source": [
    "import csv\n",
    "\n",
    "columns = ['first_name', 'second_name', 'class_number', 'class_letter']\n",
    "data = [['Тимур', 'Гуев', 11, 'А'], ['Руслан', 'Чаниев', 9, 'Б'], ['Артур', 'Харисов', 10, 'В']]\n",
    "\n",
    "with open('students.csv', 'w', encoding='utf-8', newline='') as file:\n",
    "    writer = csv.writer(file)\n",
    "    writer.writerow(columns)                 # запись заголовков\n",
    "    for row in data:                         # запись строк\n",
    "        writer.writerow(row)"
   ],
   "metadata": {
    "collapsed": false,
    "ExecuteTime": {
     "end_time": "2024-09-30T07:23:06.176948600Z",
     "start_time": "2024-09-30T07:23:06.167876700Z"
    }
   },
   "id": "4784e98ab293043a"
  },
  {
   "cell_type": "markdown",
   "source": [
    "создает файл students.csv с содержимым:"
   ],
   "metadata": {
    "collapsed": false
   },
   "id": "32afab795d1528e3"
  },
  {
   "cell_type": "markdown",
   "source": [
    "first_name,second_name,class_number,class_letter\n",
    "Тимур,Гуев,11,А\n",
    "Руслан,Чаниев,9,Б\n",
    "Артур,Харисов,10,В"
   ],
   "metadata": {
    "collapsed": false
   },
   "id": "fa9e2157e5e2eb29"
  },
  {
   "cell_type": "markdown",
   "source": [
    "Обратите внимание на необязательный параметр newline функции open(), который имеет значение '' (пустой строки). Он отвечает за переводы строк при чтении или записи в текстовый файл. По умолчанию имеет значение None, в этом случае все разделители строк преобразуются в '\\n'. Если в файле оказывается лишний перевод строки, то следует использовать этот параметр в режиме newline='', тогда '\\n' будет преобразован в пустую строку."
   ],
   "metadata": {
    "collapsed": false
   },
   "id": "c27b2d7059f4a888"
  },
  {
   "cell_type": "markdown",
   "source": [
    "При создании writer объекта мы так же можем его настраивать, задавая delimiter и многие другие параметры."
   ],
   "metadata": {
    "collapsed": false
   },
   "id": "f71001ea5013131a"
  },
  {
   "cell_type": "code",
   "execution_count": null,
   "outputs": [],
   "source": [
    "import csv\n",
    "\n",
    "columns = ['first_name', 'second_name', 'class_number', 'class_letter']\n",
    "data = [['Тимур', 'Гуев', 11, 'А'], ['Руслан', 'Чаниев', 9, 'Б'], ['Роман', 'Белых', 10, 'В']]\n",
    "\n",
    "with open('students.csv', 'w', encoding='utf-8', newline='') as file:\n",
    "    writer = csv.writer(file, delimiter=';', quoting=csv.QUOTE_NONNUMERIC)\n",
    "    writer.writerow(columns)\n",
    "    for row in data:\n",
    "        writer.writerow(row)"
   ],
   "metadata": {
    "collapsed": false
   },
   "id": "4ec3662d004c329e"
  },
  {
   "cell_type": "markdown",
   "source": [
    "создает файл с содержимым:"
   ],
   "metadata": {
    "collapsed": false
   },
   "id": "fd995c593072122f"
  },
  {
   "cell_type": "markdown",
   "source": [
    "\"first_name\";\"second_name\";\"class_number\";\"class_letter\"\n",
    "\"Тимур\";\"Гуев\";11;\"А\"\n",
    "\"Руслан\";\"Чаниев\";9;\"Б\"\n",
    "\"Роман\";\"Белых\";10;\"В\""
   ],
   "metadata": {
    "collapsed": false
   },
   "id": "e1267eb1ab14c5e3"
  },
  {
   "cell_type": "markdown",
   "source": [
    "Значение аргумента quoting=csv.QUOTE_NONNUMERIC означает, что в кавычки будут браться все нечисловые значения. По умолчанию символом кавычки является \", если нужно поменять символ, то используйте уже знакомый нам именованный аргумент quotechar"
   ],
   "metadata": {
    "collapsed": false
   },
   "id": "45e20a3ca56c6264"
  },
  {
   "cell_type": "markdown",
   "source": [
    "Для задания параметра quoting используются специальные константы из модуля csv:\n",
    "\n",
    "QUOTE_ALL: указывает объектам записи указывать все поля\n",
    "QUOTE_MINIMAL: указывает объектам записи заключать в кавычки только те поля, которые содержат специальные символы, такие как разделитель delimiter, кавычка quotechar или любой из символов в lineterminator\n",
    "QUOTE_NONNUMERIC: указывает объектам записи указывать все нечисловые поля\n",
    "QUOTE_NONE: указывает объектам записи никогда не заключать в кавычки поля"
   ],
   "metadata": {
    "collapsed": false
   },
   "id": "4be3562d0574f59"
  },
  {
   "cell_type": "markdown",
   "source": [
    "Помимо метода writerow() можно использовать и метод writerows(), чтобы записать сразу несколько строк. Единственным аргументом этого метода может быть коллекция коллекций. То есть, каждый элемент списка rows в нашем случае должен быть коллекцией. Если rows будет, например, списком чисел, программа завершится с ошибкой."
   ],
   "metadata": {
    "collapsed": false
   },
   "id": "62b37fb327ebc039"
  },
  {
   "cell_type": "code",
   "execution_count": null,
   "outputs": [],
   "source": [
    "import csv\n",
    "\n",
    "columns = ['first_name', 'second_name', 'class_number', 'class_letter']\n",
    "data = [['Тимур', 'Гуев', 11, 'А'], ['Руслан', 'Чаниев', 9, 'Б'], ['Роман', 'Белых', 10, 'В']]\n",
    "\n",
    "with open('students.csv', 'w', encoding='utf-8', newline='') as file:\n",
    "    writer = csv.writer(file, delimiter=';', quoting=csv.QUOTE_NONNUMERIC)\n",
    "    writer.writerow(columns)\n",
    "    writer.writerows(data)"
   ],
   "metadata": {
    "collapsed": false
   },
   "id": "23170ec9ba8f1f16"
  },
  {
   "cell_type": "markdown",
   "source": [
    "создает файл students.csv с содержимым:"
   ],
   "metadata": {
    "collapsed": false
   },
   "id": "408fa8710a514302"
  },
  {
   "cell_type": "markdown",
   "source": [
    "\"first_name\";\"second_name\";\"class_number\";\"class_letter\"\n",
    "\"Тимур\";\"Гуев\";11;\"А\"\n",
    "\"Руслан\";\"Чаниев\";9;\"Б\"\n",
    "\"Роман\";\"Белых\";10;\"В\""
   ],
   "metadata": {
    "collapsed": false
   },
   "id": "9a360ce0597dd786"
  },
  {
   "cell_type": "markdown",
   "source": [
    "Запись данных с помощью DictWriter"
   ],
   "metadata": {
    "collapsed": false
   },
   "id": "1a227aa92bee426e"
  },
  {
   "cell_type": "markdown",
   "source": [
    "Для записи данных в csv файл также можно использовать DictWriter объект, который позволяет записывать содержимое словаря в файл."
   ],
   "metadata": {
    "collapsed": false
   },
   "id": "470cdfeeeb25670e"
  },
  {
   "cell_type": "code",
   "execution_count": null,
   "outputs": [],
   "source": [
    "import csv\n",
    "\n",
    "data = [{'first_name': 'Тимур', 'second_name': 'Гуев', 'class_number': 11, 'class_letter': 'А'},\n",
    "        {'first_name': 'Руслан', 'second_name': 'Чаниев', 'class_number': 9, 'class_letter': 'Б'},\n",
    "        {'first_name': 'Роман', 'second_name': 'Белых', 'class_number': 10, 'class_letter': 'В'}]\n",
    "\n",
    "columns = ['first_name', 'second_name', 'class_number', 'class_letter']\n",
    "\n",
    "with open('students.csv', 'w', encoding='utf-8', newline='') as file:\n",
    "    writer = csv.DictWriter(file, fieldnames=columns, delimiter=';', quoting=csv.QUOTE_NONNUMERIC)\n",
    "    writer.writeheader()                 # запись заголовков\n",
    "    for row in data:                     # запись строк\n",
    "        writer.writerow(row)"
   ],
   "metadata": {
    "collapsed": false
   },
   "id": "6c55b61a4bffad95"
  },
  {
   "cell_type": "markdown",
   "source": [
    "создает файл students.csv с содержимым:"
   ],
   "metadata": {
    "collapsed": false
   },
   "id": "f65131ccba66eeb3"
  },
  {
   "cell_type": "markdown",
   "source": [
    "\"first_name\";\"second_name\";\"class_number\";\"class_letter\"\n",
    "\"Тимур\";\"Гуев\";11;\"А\"\n",
    "\"Руслан\";\"Чаниев\";9;\"Б\"\n",
    "\"Роман\";\"Белых\";10;\"В\""
   ],
   "metadata": {
    "collapsed": false
   },
   "id": "f92d8875ba0c688b"
  },
  {
   "cell_type": "markdown",
   "source": [
    "Мы также можем использовать метод writerows() объекта DictWriter для записи сразу нескольких строк. Таким образом вместо строк кода:"
   ],
   "metadata": {
    "collapsed": false
   },
   "id": "61cf6b0b825851b9"
  },
  {
   "cell_type": "code",
   "execution_count": null,
   "outputs": [],
   "source": [
    "for row in data:\n",
    "    writer.writerow(row)"
   ],
   "metadata": {
    "collapsed": false
   },
   "id": "5b42849ff710353"
  },
  {
   "cell_type": "markdown",
   "source": [
    "можно написать:"
   ],
   "metadata": {
    "collapsed": false
   },
   "id": "ca9004811a702de5"
  },
  {
   "cell_type": "code",
   "execution_count": null,
   "outputs": [],
   "source": [
    "writer.writerows(data)"
   ],
   "metadata": {
    "collapsed": false
   },
   "id": "e3bc92e09afb142e"
  },
  {
   "cell_type": "markdown",
   "source": [
    "Обратите внимание на то, что ключи словарей, которые записываются в файл, должны совпадать с названиями полей, которые переданы в качестве аргумента fieldnames, иначе будет возникать ошибка ValueError."
   ],
   "metadata": {
    "collapsed": false
   },
   "id": "561f5031000d86"
  },
  {
   "cell_type": "markdown",
   "source": [
    "Примечания"
   ],
   "metadata": {
    "collapsed": false
   },
   "id": "e99d38119daeb79a"
  },
  {
   "cell_type": "markdown",
   "source": [
    "Примечание 1. Спецификация формата csv:\n",
    "\n",
    "каждая строка файла — это одна строка таблицы\n",
    "разделителем (delimiter) значений колонок является символ запятой ,. Однако на практике часто используются другие разделители, например: ; или символ табуляции \\t (формат TSV)\n",
    "значения, содержащие зарезервированные символы (двойная кавычка, запятая, точка с запятой, новая строка), обрамляются двойными кавычками \". Если в значении встречаются кавычки — они представляются в файле в виде двух кавычек подряд"
   ],
   "metadata": {
    "collapsed": false
   },
   "id": "fd6c2be8e308dddf"
  },
  {
   "cell_type": "markdown",
   "source": [
    "Примечание 4. Достаточно распространенная ошибка при чтении данных из csv файла — это передача в csv.reader (csv.DictReader) не файлового объекта, а текстовых данных, считанных из файла. Это не вызывает ошибки, но результат будет отличаться от ожидаемого."
   ],
   "metadata": {
    "collapsed": false
   },
   "id": "3486ea8075cc1b14"
  },
  {
   "cell_type": "markdown",
   "source": [
    "Примечание 5. При создании reader объекта важно, чтобы файл был открыт в режиме чтения ('r'), аналогично при создании writer объекта — в режиме записи ('w')."
   ],
   "metadata": {
    "collapsed": false
   },
   "id": "fa0b94e86dfa2f84"
  },
  {
   "cell_type": "markdown",
   "source": [
    "Примечание 6. Так как reader объект является итератором, мы можем преобразовать его в список или кортеж с помощью встроенных функций list() и tuple() соответственно, но не можем преобразовать в множество, т.к. его элементами могут быть только неизменяемые объекты, которыми списки не являются."
   ],
   "metadata": {
    "collapsed": false
   },
   "id": "12874e781de64b91"
  }
 ],
 "metadata": {
  "kernelspec": {
   "display_name": "Python 3",
   "language": "python",
   "name": "python3"
  },
  "language_info": {
   "codemirror_mode": {
    "name": "ipython",
    "version": 2
   },
   "file_extension": ".py",
   "mimetype": "text/x-python",
   "name": "python",
   "nbconvert_exporter": "python",
   "pygments_lexer": "ipython2",
   "version": "2.7.6"
  }
 },
 "nbformat": 4,
 "nbformat_minor": 5
}
