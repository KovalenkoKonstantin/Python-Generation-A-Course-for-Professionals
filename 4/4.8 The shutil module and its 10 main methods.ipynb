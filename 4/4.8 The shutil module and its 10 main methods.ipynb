{
 "cells": [
  {
   "cell_type": "markdown",
   "source": [
    "Deleting Directories"
   ],
   "metadata": {
    "collapsed": false
   },
   "id": "cf0b50fb69e136fb"
  },
  {
   "cell_type": "markdown",
   "source": [
    "To delete non-empty directories and entire directory trees, Python offers shutil.rmtree():"
   ],
   "metadata": {
    "collapsed": false
   },
   "id": "a6372b7eef576411"
  },
  {
   "cell_type": "code",
   "execution_count": 1,
   "outputs": [
    {
     "name": "stdout",
     "output_type": "stream",
     "text": [
      "Error: my_documents/bad_dir : Системе не удается найти указанный путь\n"
     ]
    }
   ],
   "source": [
    "import shutil\n",
    "\n",
    "trash_dir = 'my_documents/bad_dir'\n",
    "\n",
    "try:\n",
    "    shutil.rmtree(trash_dir)\n",
    "except OSError as e:\n",
    "    print(f'Error: {trash_dir} : {e.strerror}')"
   ],
   "metadata": {
    "collapsed": false,
    "ExecuteTime": {
     "end_time": "2024-10-30T07:49:12.923466700Z",
     "start_time": "2024-10-30T07:49:12.920598700Z"
    }
   },
   "id": "c2919211a58207da"
  },
  {
   "cell_type": "markdown",
   "source": [
    "Python ships with the shutil module. shutil is short for shell utilities. It provides a number of high-level operations on files to support copying, archiving, and removal of files and directories."
   ],
   "metadata": {
    "collapsed": false
   },
   "id": "57acb7241847fe2d"
  },
  {
   "cell_type": "markdown",
   "source": [
    "shutil offers a couple of functions for copying files. The most commonly used functions are shutil.copy() and shutil.copy2(). To copy a file from one location to another using shutil.copy(), do the following:"
   ],
   "metadata": {
    "collapsed": false
   },
   "id": "657525d6e0b72ab5"
  },
  {
   "cell_type": "code",
   "execution_count": null,
   "outputs": [],
   "source": [
    "import shutil\n",
    "\n",
    "src = 'path/to/file.txt'\n",
    "dst = 'path/to/dest_dir'\n",
    "shutil.copy(src, dst)"
   ],
   "metadata": {
    "collapsed": false
   },
   "id": "e87f390371e593ec"
  },
  {
   "cell_type": "markdown",
   "source": [
    "shutil.copy() is comparable to the cp command in UNIX based systems. shutil.copy(src, dst) will copy the file src to the location specified in dst. If dst is a file, the contents of that file are replaced with the contents of src. If dst is a directory, then src will be copied into that directory. shutil.copy() only copies the file’s contents and the file’s permissions. Other metadata like the file’s creation and modification times are not preserved."
   ],
   "metadata": {
    "collapsed": false
   },
   "id": "1e30276bd9d736eb"
  },
  {
   "cell_type": "markdown",
   "source": [
    "To preserve all file metadata when copying, use shutil.copy2():"
   ],
   "metadata": {
    "collapsed": false
   },
   "id": "499f9f9a6281d5f7"
  },
  {
   "cell_type": "code",
   "execution_count": null,
   "outputs": [],
   "source": [
    "import shutil\n",
    "\n",
    "src = 'path/to/file.txt'\n",
    "dst = 'path/to/dest_dir'\n",
    "shutil.copy2(src, dst)"
   ],
   "metadata": {
    "collapsed": false
   },
   "id": "5341faf7a0a5fc8a"
  },
  {
   "cell_type": "markdown",
   "source": [
    "Copying Directories"
   ],
   "metadata": {
    "collapsed": false
   },
   "id": "80e0a0cca2099060"
  },
  {
   "cell_type": "markdown",
   "source": [
    "While shutil.copy() only copies a single file, shutil.copytree() will copy an entire directory and everything contained in it. shutil.copytree(src, dest) takes two arguments: a source directory and the destination directory where files and folders will be copied to."
   ],
   "metadata": {
    "collapsed": false
   },
   "id": "fb9f2e764bb69e8c"
  },
  {
   "cell_type": "code",
   "execution_count": null,
   "outputs": [],
   "source": [
    "import shutil\n",
    "shutil.copytree('data_1', 'data1_backup')"
   ],
   "metadata": {
    "collapsed": false
   },
   "id": "1e2adb7353bed97f"
  },
  {
   "cell_type": "markdown",
   "source": [
    "In this example, .copytree() copies the contents of data_1 to a new location data1_backup and returns the destination directory. The destination directory must not already exist. It will be created as well as missing parent directories. shutil.copytree() is a good way to back up your files."
   ],
   "metadata": {
    "collapsed": false
   },
   "id": "2f418e44f5ba73ec"
  },
  {
   "cell_type": "markdown",
   "source": [
    "Moving Files and Directories"
   ],
   "metadata": {
    "collapsed": false
   },
   "id": "d020af68d021edce"
  },
  {
   "cell_type": "markdown",
   "source": [
    "To move a file or directory to another location, use shutil.move(src, dst).\n",
    "\n",
    "src is the file or directory to be moved and dst is the destination:"
   ],
   "metadata": {
    "collapsed": false
   },
   "id": "eb5f9f9278092a8c"
  },
  {
   "cell_type": "code",
   "execution_count": null,
   "outputs": [],
   "source": [
    "import shutil\n",
    "shutil.move('dir_1/', 'backup/')"
   ],
   "metadata": {
    "collapsed": false
   },
   "id": "4085b6a3aa470c8"
  },
  {
   "cell_type": "markdown",
   "source": [
    "shutil.move('dir_1/', 'backup/') moves dir_1/ into backup/ if backup/ exists. If backup/ does not exist, dir_1/ will be renamed to backup."
   ],
   "metadata": {
    "collapsed": false
   },
   "id": "6ad737096c9ab160"
  },
  {
   "cell_type": "markdown",
   "source": [
    "An Easier Way of Creating Archives"
   ],
   "metadata": {
    "collapsed": false
   },
   "id": "9f2ba2e645144d7"
  },
  {
   "cell_type": "markdown",
   "source": [
    "The Python Standard Library also supports creating TAR and ZIP archives using the high-level methods in the shutil module. The archiving utilities in shutil allow you to create, read, and extract ZIP and TAR archives. These utilities rely on the lower level tarfile and zipfile modules."
   ],
   "metadata": {
    "collapsed": false
   },
   "id": "9180f7948c880a81"
  },
  {
   "cell_type": "markdown",
   "source": [
    "Working With Archives Using shutil.make_archive()"
   ],
   "metadata": {
    "collapsed": false
   },
   "id": "2d42519605f9d937"
  },
  {
   "cell_type": "markdown",
   "source": [
    "shutil.make_archive() takes at least two arguments: the name of the archive and an archive format"
   ],
   "metadata": {
    "collapsed": false
   },
   "id": "6bbcf0b3f7bdb118"
  },
  {
   "cell_type": "markdown",
   "source": [
    "By default, it compresses all the files in the current directory into the archive format specified in the format argument. You can pass in an optional root_dir argument to compress files in a different directory. .make_archive() supports the zip, tar, bztar, and gztar archive formats."
   ],
   "metadata": {
    "collapsed": false
   },
   "id": "d247bf7adfdb0449"
  },
  {
   "cell_type": "markdown",
   "source": [
    "This is how to create a TAR archive using shutil:"
   ],
   "metadata": {
    "collapsed": false
   },
   "id": "944cd90cc5bec904"
  },
  {
   "cell_type": "code",
   "execution_count": null,
   "outputs": [],
   "source": [
    "import shutil\n",
    "\n",
    "# shutil.make_archive(base_name, format, root_dir)\n",
    "shutil.make_archive('data/backup', 'tar', 'data/')"
   ],
   "metadata": {
    "collapsed": false
   },
   "id": "700ea9508e14ace4"
  },
  {
   "cell_type": "markdown",
   "source": [
    "This copies everything in data/ and creates an archive called backup.tar in the filesystem and returns its name. To extract the archive, call .unpack_archive():"
   ],
   "metadata": {
    "collapsed": false
   },
   "id": "24d6f52a26daa368"
  },
  {
   "cell_type": "code",
   "execution_count": null,
   "outputs": [],
   "source": [
    "shutil.unpack_archive('backup.tar', 'extract_dir/')"
   ],
   "metadata": {
    "collapsed": false
   },
   "id": "ca191db8550d8209"
  },
  {
   "cell_type": "markdown",
   "source": [
    "Calling .unpack_archive() and passing in an archive name and destination directory extracts the contents of backup.tar into extract_dir/. ZIP archives can be created and extracted in the same way."
   ],
   "metadata": {
    "collapsed": false
   },
   "id": "90c642aa1ce82a60"
  }
 ],
 "metadata": {
  "kernelspec": {
   "display_name": "Python 3",
   "language": "python",
   "name": "python3"
  },
  "language_info": {
   "codemirror_mode": {
    "name": "ipython",
    "version": 2
   },
   "file_extension": ".py",
   "mimetype": "text/x-python",
   "name": "python",
   "nbconvert_exporter": "python",
   "pygments_lexer": "ipython2",
   "version": "2.7.6"
  }
 },
 "nbformat": 4,
 "nbformat_minor": 5
}
