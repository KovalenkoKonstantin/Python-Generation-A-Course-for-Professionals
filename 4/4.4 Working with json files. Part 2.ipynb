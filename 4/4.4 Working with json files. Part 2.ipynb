{
 "cells": [
  {
   "cell_type": "markdown",
   "source": [
    "Дополните приведенный ниже код, чтобы он вывел содержимое словаря countries, расположив его элементы в лексикографическом порядке ключей, указав в качестве разделителя элементов , (запятая без пробела), в качестве разделителя пар ключ-значение — строку   -  (пробел дефис пробел), а в качестве отступов — три пробела.\n",
    "\n",
    "Примечание 1. Начальная часть ответа выглядит так:\n",
    "\n",
    "{\n",
    "   \"Angola\" - \"Luanda\",\n",
    "   \"Australia\" - \"Canberra\",\n",
    "   ...\n",
    "Примечание 2. Используйте необязательные аргументы indent, separators и sort_keys."
   ],
   "metadata": {
    "collapsed": false
   },
   "id": "da99056c121dd7e1"
  },
  {
   "cell_type": "code",
   "execution_count": 6,
   "outputs": [
    {
     "name": "stdout",
     "output_type": "stream",
     "text": [
      "{\n",
      "   \"Angola\" - \"Luanda\",\n",
      "   \"Australia\" - \"Canberra\",\n",
      "   \"Canada\" - \"Ottawa\",\n",
      "   \"Colombia\" - \"Bogota\",\n",
      "   \"Costa Rica\" - \"San Jose\",\n",
      "   \"Cuba\" - \"Havana\",\n",
      "   \"Finland\" - \"Helsinki\",\n",
      "   \"France\" - \"Paris\",\n",
      "   \"Gabon\" - \"Libreville\",\n",
      "   \"Iceland\" - \"Reykjavik\",\n",
      "   \"India\" - \"New Delhi\",\n",
      "   \"Kazakhstan\" - \"Nur-Sultan\",\n",
      "   \"Kenya\" - \"Nairobi\",\n",
      "   \"Liberia\" - \"Monrovia\",\n",
      "   \"Mali\" - \"Bamako\",\n",
      "   \"Monaco\" - \"Monaco\"\n",
      "}\n"
     ]
    }
   ],
   "source": [
    "import json\n",
    "\n",
    "countries = {'Monaco': 'Monaco', 'Iceland': 'Reykjavik', 'Kenya': 'Nairobi', 'Kazakhstan': 'Nur-Sultan',\n",
    "             'Mali': 'Bamako', 'Colombia': 'Bogota', 'Finland': 'Helsinki', 'Costa Rica': 'San Jose',\n",
    "             'Cuba': 'Havana', 'France': 'Paris', 'Gabon': 'Libreville', 'Liberia': 'Monrovia',\n",
    "             'Angola': 'Luanda', 'India': 'New Delhi', 'Canada': 'Ottawa', 'Australia': 'Canberra'}\n",
    "\n",
    "json_string = json.dumps(countries, indent='   ', sort_keys=True, separators=(',', ' - '))\n",
    "print(json_string)"
   ],
   "metadata": {
    "collapsed": false,
    "ExecuteTime": {
     "end_time": "2024-10-07T13:11:13.703350300Z",
     "start_time": "2024-10-07T13:11:13.698946500Z"
    }
   },
   "id": "27624ff66ddbd381"
  },
  {
   "cell_type": "markdown",
   "source": [
    "Дополните приведенный ниже код, чтобы он преобразовал словарь words в строку в формате JSON, пропуская пары, которые имеют недопустимые ключи, и присвоил полученный результат переменной data_json.\n",
    "\n",
    "Примечание. Используйте необязательный аргумент skipkeys."
   ],
   "metadata": {
    "collapsed": false
   },
   "id": "f7d33f691c6c77cb"
  },
  {
   "cell_type": "code",
   "execution_count": 8,
   "outputs": [
    {
     "name": "stdout",
     "output_type": "stream",
     "text": [
      "{\"travel\": \"tr\\u00e6vl\", \"moonlight\": \"mu\\u02d0n.la\\u026at\", \"sunshine\": \"\\u02c8s\\u028cn.\\u0283a\\u026an\", \"adventure\": \"\\u0259d\\u02c8vent\\u0283\\u0259r\", \"beautiful\": \"\\u02c8bju\\u02d0t\\u026afl\", \"bicycle\": \"baisikl\"}\n"
     ]
    }
   ],
   "source": [
    "import json\n",
    "\n",
    "words = {\n",
    "    frozenset([\"tap\", \"telephone\"]): (\"tæp\", \"telifəun\"),\n",
    "    \"travel\": \"trævl\",\n",
    "    (\"hello\", \"world\"): (\"həˈləʊ\", \"wɜːld\"),\n",
    "    \"moonlight\": \"muːn.laɪt\",\n",
    "    \"sunshine\": \"ˈsʌn.ʃaɪn\",\n",
    "    (\"why\", \"is\", \"so\", \"difficult\"): (\"waɪ\", \"ɪz\", \"səʊ\", \"ˈdɪfɪkəlt\"),\n",
    "    \"adventure\": \"ədˈventʃər\",\n",
    "    \"beautiful\": \"ˈbjuːtɪfl\",\n",
    "    frozenset([\"spoon\", \"block\"]): (\"spu:n\", \"blɔk\"),\n",
    "    \"bicycle\": \"baisikl\",\n",
    "    (\"pilot\", \"fly\"): (\"pailət\", \"flai\")\n",
    "}\n",
    "\n",
    "data_json = json.dumps(words, skipkeys=True)\n",
    "print(data_json)"
   ],
   "metadata": {
    "collapsed": false,
    "ExecuteTime": {
     "end_time": "2024-10-08T12:25:23.449798700Z",
     "start_time": "2024-10-08T12:25:23.443800300Z"
    }
   },
   "id": "60442eb98cc66008"
  },
  {
   "cell_type": "markdown",
   "source": [
    "Вам доступны словари club1, club2 и club3, содержащие данные о различных футбольных клубах. Дополните приведенный ниже код, чтобы он объединил данные словари в список и записал полученную структуру данных в файл data.json, указав в качестве отступов три символа пробела.\n",
    "\n",
    "Примечание 1. Словари в списке должны располагаться в своем исходном порядке.\n",
    "\n",
    "Примечание 2. Начальная часть файла data.json выглядит так:"
   ],
   "metadata": {
    "collapsed": false
   },
   "id": "eeb4a800324f7489"
  },
  {
   "cell_type": "code",
   "execution_count": null,
   "outputs": [],
   "source": [
    "[\n",
    "    {\n",
    "        \"name\": \"FC Byern Munchen\",\n",
    "        \"country\": \"Germany\",\n",
    "        ...\n",
    "    },\n",
    "    ...\n",
    "]"
   ],
   "metadata": {
    "collapsed": false
   },
   "id": "6b71d4ee600e7166"
  },
  {
   "cell_type": "markdown",
   "source": [
    "Примечание 3. Используйте необязательный аргумент indent. "
   ],
   "metadata": {
    "collapsed": false
   },
   "id": "1f14d374878905c0"
  },
  {
   "cell_type": "code",
   "execution_count": 10,
   "outputs": [],
   "source": [
    "import json\n",
    "\n",
    "club1 = {\"name\": \"FC Byern Munchen\", \"country\": \"Germany\", \"founded\": 1900,\n",
    "         \"trainer\": \"Julian Nagelsmann\", \"goalkeeper\": \"M. Neuer\", \"league_position\": 1}\n",
    "\n",
    "club2 = {\"name\": \"FC Barcelona\", \"country\": \"Spain\", \"founded\": 1899,\n",
    "         \"trainer\": \"Xavier Creus\", \"goalkeeper\": \"M. Ter Stegen\", \"league_position\": 7}\n",
    "\n",
    "club3 = {\"name\": \"FC Manchester United\", \"country\": \"England\", \"founded\": 1878,\n",
    "         \"trainer\": \"Michael Carrick\", \"goalkeeper\": \"D. De Gea\", \"league_position\": 8}\n",
    "\n",
    "# Создаем список клубов\n",
    "l = [club1, club2, club3]\n",
    "\n",
    "with open('data.json', 'w') as file:\n",
    "    json.dump(l, file, indent='   ')"
   ],
   "metadata": {
    "collapsed": false,
    "ExecuteTime": {
     "end_time": "2024-10-08T12:35:48.214388600Z",
     "start_time": "2024-10-08T12:35:48.209380Z"
    }
   },
   "id": "aa889adcb763125f"
  },
  {
   "cell_type": "markdown",
   "source": [
    "Ниже представлена программа, которая должна преобразовать словарь specs в строку в формате JSON и вывести ее с отступами в три пробела, не заменяя кириллические символы на их коды. В программе допущена ошибка, поэтому она выводит:\n",
    "\n",
    "{\"\\u041c\\u043e\\u0434\\u0435\\u043b\\u044c\": \"AMD Ryzen 5 5600G\", \"\\u0413\\u043e\\u0434 \\u0440\\u0435\\u043b\\u0438\\u0437\\u0430\": 2021, \"\\u0421\\u043e\\u043a\\u0435\\u0442\": \"AM4\", \"\\u0422\\u0435\\u0445\\u043f\\u0440\\u043e\\u0446\\u0435\\u0441\\u0441\": \"7 \\u043d\\u043c\", \"\\u042f\\u0434\\u0440\\u043e\": \"Cezanne\", \"\\u041e\\u0431\\u044a\\u0435\\u043c \\u043a\\u044d\\u0448\\u0430 L2\": \"3 \\u041c\\u0411\", \"\\u041e\\u0431\\u044a\\u0435\\u043c \\u043a\\u044d\\u0448\\u0430 L3\": \"16 \\u041c\\u0411\", \"\\u0411\\u0430\\u0437\\u043e\\u0432\\u0430\\u044f \\u0447\\u0430\\u0441\\u0442\\u043e\\u0442\\u0430 \\u043f\\u0440\\u043e\\u0446\\u0435\\u0441\\u0441\\u043e\\u0440\\u0430\": \"3900 \\u041c\\u0413\\u0446\"}\n",
    "Найдите и исправьте ее, чтобы программа преобразовала словарь specs в строку в формате JSON и вывела ее с отступами в три пробела, не заменяя кириллические символы на их коды.\n",
    "\n",
    "Примечание 1. Начальная часть ответа выглядит так:\n",
    "\n",
    "{\n",
    "   \"Модель\": \"AMD Ryzen 5 5600G\",\n",
    "   \"Год релиза\": 2021,\n",
    "   ...\n",
    "Примечание 2. Используйте необязательный аргумент ensure_ascii."
   ],
   "metadata": {
    "collapsed": false
   },
   "id": "bdbad45d00a76d78"
  },
  {
   "cell_type": "code",
   "execution_count": 13,
   "outputs": [
    {
     "name": "stdout",
     "output_type": "stream",
     "text": [
      "{\n",
      "   \"Модель\": \"AMD Ryzen 5 5600G\",\n",
      "   \"Год релиза\": 2021,\n",
      "   \"Сокет\": \"AM4\",\n",
      "   \"Техпроцесс\": \"7 нм\",\n",
      "   \"Ядро\": \"Cezanne\",\n",
      "   \"Объем кэша L2\": \"3 МБ\",\n",
      "   \"Объем кэша L3\": \"16 МБ\",\n",
      "   \"Базовая частота\": \"3900 МГц\"\n",
      "}\n"
     ]
    }
   ],
   "source": [
    "import json\n",
    "\n",
    "specs = {\n",
    "    'Модель': 'AMD Ryzen 5 5600G',\n",
    "    'Год релиза': 2021,\n",
    "    'Сокет': 'AM4',\n",
    "    'Техпроцесс': '7 нм',\n",
    "    'Ядро': 'Cezanne',\n",
    "    'Объем кэша L2': '3 МБ',\n",
    "    'Объем кэша L3': '16 МБ',\n",
    "    'Базовая частота': '3900 МГц'\n",
    "}\n",
    "\n",
    "specs_json = json.dumps(specs, ensure_ascii=False, indent='   ')\n",
    "\n",
    "print(specs_json)"
   ],
   "metadata": {
    "collapsed": false,
    "ExecuteTime": {
     "end_time": "2024-10-11T13:27:04.858905Z",
     "start_time": "2024-10-11T13:27:04.851487700Z"
    }
   },
   "id": "a594edd7f25333a6"
  },
  {
   "cell_type": "markdown",
   "source": [
    "Функция is_correct_json()\n",
    "Реализуйте функцию is_correct_json(), которая принимает один аргумент:\n",
    "\n",
    "string — произвольная строка\n",
    "Функция должна возвращать True, если строка string удовлетворяет формату JSON, или False в противном случае.\n",
    "\n",
    "Примечание 1. Вспомните про конструкцию try-except из урока. \n",
    "\n",
    "Примечание 2. В тестирующую систему сдайте программу, содержащую только необходимую функцию is_correct_json(), но не код, вызывающий ее"
   ],
   "metadata": {
    "collapsed": false
   },
   "id": "2a36020be19f8af6"
  },
  {
   "cell_type": "code",
   "execution_count": 1,
   "outputs": [
    {
     "name": "stdout",
     "output_type": "stream",
     "text": [
      "True\n",
      "False\n"
     ]
    }
   ],
   "source": [
    "import json\n",
    "\n",
    "\n",
    "def is_correct_json(string: str) -> bool:\n",
    "    try:\n",
    "        # st = json.dumps(string)\n",
    "        json.loads(string)\n",
    "        return True\n",
    "    except ValueError:\n",
    "        return False\n",
    "\n",
    "\n",
    "data = '{\"name\": \"Barsik\", \"age\": 7, \"meal\": \"Wiskas\"}'\n",
    "\n",
    "print(is_correct_json(data))\n",
    "print(is_correct_json('number = 17'))"
   ],
   "metadata": {
    "collapsed": false,
    "ExecuteTime": {
     "end_time": "2024-10-14T07:54:25.830988700Z",
     "start_time": "2024-10-14T07:54:25.827195300Z"
    }
   },
   "id": "5c49ab72ea3cc648"
  },
  {
   "cell_type": "markdown",
   "source": [
    "Элементы JSON\n",
    "Напишите программу, которая принимает на вход описание одного объекта в формате JSON и выводит все пары ключ-значение этого объекта.\n",
    "\n",
    "Формат входных данных\n",
    "На вход программе подается корректное описание одного объекта в формате JSON.\n",
    "\n",
    "Формат выходных данных\n",
    "Программа должна вывести все пары ключ-значение введенного объекта, разделяя ключ и значение двоеточием, каждую на отдельной строке. Если значением ключа является список, то все его элементы должны быть выведены через запятую.\n",
    "\n",
    "Примечание 1. Пары ключ-значение при выводе должны располагаться в своем исходном порядке.\n",
    "\n",
    "Примечание 2. Для считывания произвольного числа строк используйте потоковый ввод sys.stdin."
   ],
   "metadata": {
    "collapsed": false
   },
   "id": "c4c62d74765a858f"
  },
  {
   "cell_type": "code",
   "execution_count": null,
   "outputs": [],
   "source": [
    "import json\n",
    "from sys import stdin\n",
    "\n",
    "initial = stdin\n",
    "print(initial)\n",
    "print()\n",
    "\n",
    "s = json.load(initial)\n",
    "print(s)\n",
    "print()\n",
    "\n",
    "s = dict(s)\n",
    "for key, value in s.items():\n",
    "    # print(type(key), type(value))\n",
    "    if type(value) == list:\n",
    "        print(f'{key}: ', end='')\n",
    "        value = [i for i in value]\n",
    "        print(*value, sep=', ')\n",
    "    else:\n",
    "        print(f'{key}: {value}')"
   ],
   "metadata": {
    "collapsed": false
   },
   "id": "773c26db8ac1719a"
  },
  {
   "cell_type": "code",
   "execution_count": null,
   "outputs": [],
   "source": [
    "import json, sys\n",
    "\n",
    "obj = json.loads(sys.stdin.read())\n",
    "for k, v in obj.items():\n",
    "    print(f\"{k}: \", end='')\n",
    "    print(*(v if type(v) == list else [v]), sep=', ')"
   ],
   "metadata": {
    "collapsed": false
   },
   "id": "6cdee38805523c19"
  },
  {
   "cell_type": "code",
   "execution_count": null,
   "outputs": [],
   "source": [
    "import sys\n",
    "import json\n",
    "\n",
    "data = json.loads(sys.stdin.read())\n",
    "\n",
    "for key, value in data.items():\n",
    "    if isinstance(value, list):\n",
    "        print(f'{key}: {\", \".join(map(str, value))}')\n",
    "    else:\n",
    "        print(f'{key}: {value}')"
   ],
   "metadata": {
    "collapsed": false
   },
   "id": "25bdd99ffa4f0ee6"
  },
  {
   "cell_type": "markdown",
   "source": [
    "Разные типы\n",
    "Вам доступен файл data.json, содержащий список различных объектов:\n",
    "\n",
    "[\n",
    "   \"nwkWXma\",\n",
    "   null,\n",
    "   {\n",
    "      \"ISgHT\": \"dIUbf\"\n",
    "   },\n",
    "   \"Pzt\",\n",
    "   \"BXcbGVTE\",\n",
    "   ...\n",
    "]\n",
    "Напишите программу, которая создает список, элементами которого являются объекты из списка, содержащегося в файле data.json, измененные по следующим правилам:\n",
    "\n",
    "если объект является строкой, в его конец добавляется восклицательный знак\n",
    "если объект является числом, он увеличивается на единицу\n",
    "если объект является логическим значением, он инвертируется\n",
    "если объект является списком, он удваивается\n",
    "если объект является JSON-объектом (словарем), в него добавляется новая пара \"newkey\": null\n",
    "если объект является пустым значением (null), он не добавляется\n",
    "Полученный список программа должна записать в файл updated_data.json.\n",
    "\n",
    "Примечание 1. Например, если бы файл data.json имел вид:\n",
    "\n",
    "[\"Hello\", 179, true, null, [1, 2, 3], {\"key\": \"value\"}]\n",
    "то программа должна была бы создать файл updated_data.json со следующим содержанием:\n",
    "\n",
    "[\"Hello!\", 180, false, [1, 2, 3, 1, 2, 3], {\"key\": \"value\", \"newkey\": null}]\n",
    "\n",
    "Примечание 3. При открытии файла используйте явное указание кодировки UTF-8."
   ],
   "metadata": {
    "collapsed": false
   },
   "id": "dda0be3e29e0a155"
  },
  {
   "cell_type": "code",
   "execution_count": 47,
   "outputs": [
    {
     "name": "stdout",
     "output_type": "stream",
     "text": [
      "['nwkWXma!', {'ISgHT': 'dIUbf', 'newkey': None}, 'Pzt!', 'BXcbGVTE!', {'LWNYiqhXtl': 'rwFBU', 'iQaSJsM': 53, 'JVWjOTogU': 'oGqQ', 'newkey': None}, [96, 96], 150, True, 'xUHtgILQd!', {'ktqUJTjVQe': 'LChifQXrwR', 'DnqEYoMwB': 634, 'sKdo': False, 'cxYvOAngb': 'iZwU', 'GaKQU': True, 'newkey': None}, 'bnhJw!', 'DKVIheq!', 'xAcIYUErm!', False, True, False, True, [162, 'pZguxv', 162, 'pZguxv'], False, True, {'goRanNsLQH': 60, 'arlmf': -386, 'KsyqhZRUoB': False, 'OjvtQMXyr': 'Ylg', 'newkey': None}, 'HpBTLJI!', 'NEnKdMsUGY!', [-758, 'cPOF', 'BzKLP', 452, 'PKB', -758, 'cPOF', 'BzKLP', 452, 'PKB'], 'LMGjnHO!', 'Rlh!', {'kRqKOU': True, 'eiVyxPNqg': 'mRBZPx', 'HykC': False, 'jVhOzYtEF': False, 'newkey': None}, 56, [-639, 684, -842, 697, -639, 684, -842, 697], {'knFIHdp': -442, 'NXoOiqCH': True, 'newkey': None}, {'zFuM': 'utarA', 'newkey': None}, ['VScw', 'VScw'], 'rZvfoeaib!', {'TwARD': 12, 'ASzHDBorl': True, 'newkey': None}, [674, 674], False, {'EtkKUXgWh': 488, 'YUSk': 1000, 'newkey': None}, -552, {'QwSGm': 'iYN', 'evXIOKpt': 474, 'newkey': None}, 588, False, True, {'pTBdc': -688, 'newkey': None}, {'vDmrRpKt': False, 'UalI': 'BvLMU', 'zhgcAGY': 'CImYcyfv', 'newkey': None}, True, True, False, ['zSYIaiCwqh', 'oMg', 'BsiLYWnJ', 'zSYIaiCwqh', 'oMg', 'BsiLYWnJ'], 'tmDUw!', ['jAtmchWls', 800, 285, 'xRpdbA', 471, 'jAtmchWls', 800, 285, 'xRpdbA', 471], {'mrd': False, 'CxGTv': 'hrVtMOLX', 'obG': 'PptM', 'dyraemiMT': 'HGBEk', 'fNocLRG': False, 'newkey': None}, {'nGpZKIDY': True, 'RkdCA': False, 'txe': 'jkDHOab', 'lLIkaoiN': 58, 'newkey': None}, False, False, [-433, 103, 132, 'prxsKVmq', -89, -433, 103, 132, 'prxsKVmq', -89], 'uEkOagUr!', -248, True, 'NnTUeA!', [324, 'RTxD', 'FlCe', 324, 'RTxD', 'FlCe'], {'FzUgtEGdC': 'fqkHACzY', 'fsLqzHKC': True, 'gEsbVRu': 'nvYejkEuWx', 'newkey': None}, 370, 'NyqOUQSV!', 'YlbnQiV!', False, 'miXqOPBl!', True, {'FdLflUV': 813, 'newkey': None}, True, -897, 'pcDO!', True, 810, True, {'zofFZTDH': False, 'aQbPd': True, 'bFluJCiNx': -142, 'newkey': None}, 'KZdhmiBIfG!', False, False, {'dKIXJrv': 'UuKS', 'newkey': None}, True, False, 451, 'MHTLfk!', 'zABdPk!', {'iKVWORBYEe': 297, 'scFagqH': False, 'GeP': 178, 'nzRSCkW': -15, 'EpyX': -344, 'newkey': None}, ['dHb', 55, 'MxRi', 266, -146, 'dHb', 55, 'MxRi', 266, -146], 'bjG!', 197, [500, -254, -320, 500, -254, -320], 'ukYHxRcOX!', True, 'gnPGDI!', {'Lgld': False, 'newkey': None}, {'XoJNtB': False, 'BzGZvO': 821, 'tHMU': True, 'RHOwonTuEW': False, 'dCMAlNYjIf': 443, 'newkey': None}, {'XhvPIUa': 'GFZBeE', 'newkey': None}, 779, ['kvRNM', 721, 'jqmguPbDkF', -171, 'rYtlDyXnEW', 'kvRNM', 721, 'jqmguPbDkF', -171, 'rYtlDyXnEW'], ['EYjAtbOd', 499, 'LNe', 'EYjAtbOd', 499, 'LNe'], 'Xnbr!', True, {'ZwAJsvDxh': 'EGLfMFPk', 'iSujlaEwJg': 'ESKPCZ', 'qAZWoYNv': True, 'PsQo': 790, 'newkey': None}, 'lHcraxuKI!', [-311, 95, 'aWIK', -311, 95, 'aWIK'], 'SaTylICpxP!', -770, -671, -483, ['lveanodcN', -493, 'lveanodcN', -493], 'ohuTXmDEx!', {'jzq': 'CVa', 'igUDGthK': 'nmAH', 'xeiIEnrP': True, 'eaOoyf': True, 'newkey': None}, [648, 192, 170, -303, -652, 648, 192, 170, -303, -652], ['IemoYaiA', 498, -860, 'IemoYaiA', 498, -860], {'ahAsd': False, 'newkey': None}, False, {'FWNBXeDrt': False, 'Mbv': True, 'FtmpL': -768, 'NjMHKLvA': 'EBl', 'oasBf': 'dGeCJ', 'newkey': None}, 842, {'lIyUAa': 502, 'QwCgPM': True, 'newkey': None}, -1, 'lVK!', True, [-198, 'OmrKUYJ', -535, -198, 'OmrKUYJ', -535], True, [11, 'vHxgXTQ', 252, 'NTd', 'etldjagIZ', 11, 'vHxgXTQ', 252, 'NTd', 'etldjagIZ'], 794, ['dfsImJ', 'khVHZEb', 'UkcZEr', 'emGasWZJwn', -693, 'dfsImJ', 'khVHZEb', 'UkcZEr', 'emGasWZJwn', -693], 'XHlM!', 'elsCiId!', {'Ydx': 'tGPWy', 'bMz': True, 'KPdhRAIT': 416, 'GeADNhjIaY': 299, 'hzcuWiI': 'LaSNsucKtO', 'newkey': None}, -489, 508, [-397, 34, 'Qab', -397, 34, 'Qab'], {'wPrJHS': False, 'lse': True, 'newkey': None}, [-354, 'pcTk', 'EWZd', -354, 'pcTk', 'EWZd'], True, ['nBAk', 'nBAk'], False, ['ZwA', 649, 'ZwA', 649], False, {'EoMG': 'BoiX', 'kCrwFy': 'MyowFvP', 'newkey': None}, {'geurJDEftd': 'CYfeEu', 'newkey': None}, 'iHk!', {'CzqcHxFsgr': -232, 'FlC': True, 'GWh': 'oTRBFu', 'newkey': None}, 'dnGbCDMNlP!', 'LeIblTUW!', [-753, -753], -859, False, ['FWCe', -446, 'JjYaR', 181, -428, 'FWCe', -446, 'JjYaR', 181, -428], True, -224, False, False, {'nkXRcm': 'rRZKecYM', 'TqJYE': True, 'newkey': None}, 'CUZNg!', 'aMKhB!', False, 56, False, True]\n"
     ]
    }
   ],
   "source": [
    "import json\n",
    "\n",
    "l = []\n",
    "with open('data1_.json', encoding='utf-8') as file:\n",
    "    data = json.load(file)  # передаем файловый объект\n",
    "    # print(data)\n",
    "    for i in data:\n",
    "        if isinstance(i, str):\n",
    "            l.append(f\"{i}!\")\n",
    "        elif type(i) is bool:\n",
    "            l.append(not i)\n",
    "        elif isinstance(i, int):\n",
    "            l.append(i + 1)\n",
    "        elif isinstance(i, list):\n",
    "            l.append(i * 2)\n",
    "        elif isinstance(i, dict):\n",
    "            l.append(i)\n",
    "            i.update({\"newkey\": None})\n",
    "        else:\n",
    "            pass\n",
    "\n",
    "print(l)\n",
    "\n",
    "with open('updated_data.json', 'w', encoding='utf-8') as file:\n",
    "    json.dump(l, file, indent='   ', ensure_ascii=False)\n",
    "    # file.write(json.dumps(l))\n"
   ],
   "metadata": {
    "collapsed": false,
    "ExecuteTime": {
     "end_time": "2024-10-14T10:05:16.938730500Z",
     "start_time": "2024-10-14T10:05:16.931310700Z"
    }
   },
   "id": "e99daa64812a6e90"
  },
  {
   "cell_type": "code",
   "execution_count": null,
   "outputs": [],
   "source": [
    "import json\n",
    "\n",
    "opers = {'str': lambda x: x + '!',\n",
    "         'int': lambda x: x + 1,\n",
    "         'float': lambda x: x + 1,\n",
    "         'bool': lambda x: not x,\n",
    "         'list': lambda x: x * 2,\n",
    "         'dict': lambda x: x | {'newkey': None}}\n",
    "\n",
    "with open('data.json', encoding='utf8') as fi, open('updated_data.json', 'w', encoding='utf8') as fo:\n",
    "    json.dump([opers[type(i).__name__](i) for i in json.load(fi) if type(i).__name__ in opers], fo, indent=3)"
   ],
   "metadata": {
    "collapsed": false
   },
   "id": "295a25fb0d70cc41"
  },
  {
   "cell_type": "code",
   "execution_count": null,
   "outputs": [],
   "source": [
    "import json\n",
    "\n",
    "with open('data.json', encoding='utf-8') as file, open('updated_data.json', 'w', encoding='utf-8') as new_file:\n",
    "    data = json.load(file)\n",
    "    conv_values = {\n",
    "        str: lambda x: x + '!',\n",
    "        int: lambda x: x + 1,\n",
    "        bool: lambda x: not x,\n",
    "        list: lambda x: x * 2,\n",
    "        dict: lambda x: {**x, \"newkey\": None},\n",
    "    }\n",
    "    new_data = []\n",
    "    for d in data:\n",
    "        if type(d) in conv_values:\n",
    "            new_data.append(conv_values[type(d)](d))\n",
    "    json.dump(new_data, new_file, indent=2)"
   ],
   "metadata": {
    "collapsed": false
   },
   "id": "e50fd0021f32d5d5"
  },
  {
   "cell_type": "markdown",
   "source": [
    "Объединение объектов\n",
    "Вам доступны два файла data1.json и data2.json, каждый из которых содержит по единственному JSON-объекту:\n",
    "\n",
    "{\n",
    "   \"Holly-Anne\": [\n",
    "      33,\n",
    "      \"failed\"\n",
    "   ],\n",
    "   \"Caty\": [\n",
    "      36,\n",
    "      \"failed\"\n",
    "   ],\n",
    "   ...\n",
    "}\n",
    "Напишите программу, которая объединяет два данных JSON-объекта в один JSON-объект, причем если пары из первого и второго объектов имеют совпадающие ключи, то значение следует взять из второго объекта. Полученный JSON-объект программа должна записать в файл data_merge.json.\n",
    "\n",
    "Примечание 1. Например, если бы файлы data1.json и data2.json имели вид:\n",
    "\n",
    "{\n",
    "   \"Timur\": 99,\n",
    "   \"Anri\": 97\n",
    "}\n",
    "{\n",
    "   \"Dima\": 99,\n",
    "   \"Anri\": 100\n",
    "}\n",
    "то программа должна была бы создать файл data_merge.json со следующим содержанием:\n",
    "\n",
    "{\n",
    "   \"Anri\": 100,\n",
    "   \"Dima\": 99,\n",
    "   \"Timur\": 99\n",
    "}\n",
    "Примечание 2. Элементы в результирующем JSON-объекте могут располагаться в произвольном порядке.\n",
    "\n",
    "Примечание 4. При открытии файла используйте явное указание кодировки UTF-8."
   ],
   "metadata": {
    "collapsed": false
   },
   "id": "7ba98b6823512930"
  },
  {
   "cell_type": "code",
   "execution_count": 55,
   "outputs": [
    {
     "name": "stdout",
     "output_type": "stream",
     "text": [
      "{'Holly-Anne': [33, 'failed'], 'Caty': [36, 'failed'], 'Dorelia': [100, 'passed'], 'Diannne': [19, 'failed'], 'Dinah': [81, 'passed'], 'Dione': [72, 'failed'], 'Ibby': [33, 'failed'], 'Dela': [11, 'failed'], 'Ivy': [56, 'failed'], 'Freddi': [38, 'failed'], 'Dorian': [59, 'failed'], 'Donica': [96, 'passed'], 'Dianna': [18, 'failed'], 'Desdemona': [30, 'failed'], 'Irina': [10, 'failed'], 'Catlaina': [26, 'failed'], 'Cary': [12, 'failed'], 'Dominga': [60, 'failed'], 'Eloise': [67, 'failed'], 'Deidre': [16, 'failed'], 'Ingeberg': [96, 'passed'], 'Dominique': [62, 'failed'], 'Ivett': [100, 'passed'], 'Ellie': [48, 'failed'], 'Celestine': [62, 'failed'], 'Cathyleen': [40, 'failed'], 'Inga': [100, 'passed'], 'Elnore': [48, 'failed'], 'Ilyse': [34, 'failed'], 'Idalina': [14, 'failed'], 'Dionis': [22, 'failed'], 'Fredericka': [33, 'failed'], 'Irene': [87, 'passed'], 'Catarina': [58, 'failed'], 'Celinda': [59, 'failed'], 'Fifi': [69, 'failed'], 'Inna': [41, 'failed'], 'Delcine': [58, 'failed'], 'Isis': [53, 'failed'], 'Iris': [20, 'failed'], 'Ileana': [92, 'passed'], 'Franny': [27, 'failed'], 'Cecil': [55, 'failed'], 'Florence': [18, 'failed'], 'Hyacinthia': [98, 'passed'], 'Dinnie': [23, 'failed'], 'Denyse': [73, 'failed'], 'Denna': [81, 'passed'], 'Ilene': [37, 'failed'], 'Edyth': [39, 'failed'], 'Ingrid': [99, 'passed'], 'Fionnula': [79, 'passed'], 'Dena': [81, 'passed'], 'Donnie': [52, 'failed'], 'Freda': [15, 'failed'], 'Delinda': [87, 'passed'], 'Deirdre': [14, 'failed'], 'Isidora': [40, 'failed'], 'Cayla': [88, 'passed'], 'Fredrika': [68, 'failed'], 'Delphinia': [39, 'failed'], 'Gabriel': [30, 'failed'], 'Inger': [91, 'passed'], 'Dorene': [99, 'passed'], 'Catie': [58, 'failed'], 'Isabelita': [64, 'failed'], 'Inessa': [92, 'passed'], 'Catherin': [28, 'failed'], 'Della': [30, 'failed'], 'Ilka': [10, 'failed'], 'Isahella': [67, 'failed'], 'Floria': [84, 'passed'], 'Dolli': [30, 'failed'], 'Celinka': [25, 'failed'], 'Elenore': [66, 'failed'], 'Cathe': [53, 'failed'], 'Dori': [90, 'passed'], 'Donni': [13, 'failed'], 'Caterina': [60, 'failed'], 'Gabbi': [84, 'passed'], 'Idell': [73, 'failed'], 'Diane-Marie': [13, 'failed'], 'Dode': [31, 'failed'], 'Diandra': [92, 'passed'], 'Denise': [56, 'failed'], 'Fred': [88, 'passed'], 'Doralynne': [41, 'failed'], 'Elie': [55, 'failed'], 'Irita': [40, 'failed'], 'Freida': [87, 'passed'], 'Doralyn': [49, 'failed'], 'Florencia': [52, 'failed'], 'Isa': [46, 'failed'], 'Fran': [80, 'passed'], 'Diena': [18, 'failed'], 'Dianemarie': [82, 'passed'], 'Doll': [82, 'passed'], 'Ibbie': [70, 'failed'], 'Catrina': [11, 'failed'], 'Ida': [70, 'failed'], 'Catherina': [91, 'passed'], 'Isadora': [54, 'failed'], 'Cassaundra': [45, 'failed'], 'Elfrieda': [80, 'passed'], 'Fulvia': [22, 'failed'], 'Francene': [36, 'failed'], 'Florri': [23, 'failed'], 'Elianore': [45, 'failed'], 'Elena': [93, 'passed'], 'Freddie': [32, 'failed'], 'Donetta': [64, 'failed'], 'Diane': [81, 'passed'], 'Isobel': [77, 'passed'], 'Catlee': [69, 'failed'], 'Eleanore': [65, 'failed'], 'Celestina': [81, 'passed'], 'Catharina': [25, 'failed'], 'Hortensia': [91, 'passed'], 'Inge': [77, 'passed'], 'Inez': [35, 'failed'], 'Ellette': [51, 'failed'], 'Hollyanne': [88, 'passed'], 'Doe': [54, 'failed'], 'Cate': [77, 'passed'], 'Issy': [27, 'failed'], 'Didi': [10, 'failed'], 'Flossy': [100, 'passed'], 'Dollie': [39, 'failed'], 'Casi': [95, 'passed'], 'Illa': [38, 'failed'], 'Dian': [46, 'failed'], 'Irena': [65, 'failed'], 'Elayne': [44, 'failed'], 'Catriona': [77, 'passed'], 'Electra': [85, 'passed'], 'Deny': [23, 'failed'], 'Casie': [20, 'failed'], 'Ira': [62, 'failed'], 'Dorelle': [95, 'passed'], 'Elizabet': [92, 'passed'], 'Donna': [86, 'passed'], 'Dorey': [89, 'passed'], 'Ella': [16, 'failed'], 'Elli': [51, 'failed'], 'Elke': [18, 'failed'], 'Ivory': [25, 'failed'], 'Catharine': [60, 'failed'], 'Devi': [76, 'passed'], 'Elisabetta': [48, 'failed'], 'Fleur': [39, 'failed'], 'Iolanthe': [20, 'failed'], 'Del': [20, 'failed'], 'Dore': [73, 'failed'], 'Elizabeth': [95, 'passed'], 'Fiona': [67, 'failed'], 'Gabriella': [93, 'passed'], 'Ilysa': [61, 'failed'], 'Elane': [75, 'failed'], 'Delly': [59, 'failed'], 'Cassi': [95, 'passed'], 'Florrie': [100, 'passed'], 'Cassy': [88, 'passed'], 'Hynda': [100, 'passed'], 'Elaine': [79, 'passed'], 'Elberta': [97, 'passed'], 'Celine': [55, 'failed'], 'Doretta': [51, 'failed'], 'Diahann': [94, 'passed'], 'Francisca': [33, 'failed'], 'Celestyna': [97, 'passed'], 'Imogene': [17, 'failed'], 'Cathleen': [59, 'failed'], 'Desiree': [26, 'failed'], 'Caye': [93, 'passed'], 'Elissa': [71, 'failed'], 'Isabel': [69, 'failed'], 'Celene': [21, 'failed'], 'Gabey': [50, 'failed'], 'Deena': [51, 'failed'], 'Flore': [18, 'failed'], 'Elle': [88, 'passed'], 'Idelle': [54, 'failed'], 'Demetris': [70, 'failed'], 'Doralia': [51, 'failed'], 'Florina': [74, 'failed'], 'Celeste': [92, 'passed'], 'Dora': [61, 'failed'], 'Eilis': [35, 'failed']}\n",
      "{'Fredi': [39, 'failed'], 'Inesita': [93, 'passed'], 'Elana': [92, 'passed'], 'Ellen': [88, 'passed'], 'Celie': [50, 'failed'], 'Hyacintha': [36, 'failed'], 'Cathrin': [87, 'passed'], 'Deloria': [16, 'failed'], 'Gabriell': [94, 'passed'], 'Elisabeth': [90, 'passed'], 'Iona': [11, 'failed'], 'Deni': [94, 'passed'], 'Devon': [11, 'failed'], 'Elmira': [42, 'failed'], 'Cecily': [13, 'failed'], 'Dion': [35, 'failed'], 'Iormina': [31, 'failed'], 'Ileane': [70, 'failed'], 'Devin': [33, 'failed'], 'Frayda': [49, 'failed'], 'Fionna': [39, 'failed'], 'Deonne': [95, 'passed'], 'Dennie': [70, 'failed'], 'Doloritas': [82, 'passed'], 'Donny': [77, 'passed'], 'Delcina': [92, 'passed'], 'Ivie': [83, 'passed'], 'Casandra': [68, 'failed'], 'Issi': [30, 'failed'], 'Delores': [59, 'failed'], 'Cathy': [46, 'failed'], 'Francine': [15, 'failed'], 'Deva': [34, 'failed'], 'Florenza': [96, 'passed'], 'Eileen': [65, 'failed'], 'Delia': [89, 'passed'], 'Catha': [44, 'failed'], 'Frederique': [14, 'failed'], 'Celia': [32, 'failed'], 'Dorine': [60, 'failed'], 'Dorena': [72, 'failed'], 'Elianora': [13, 'failed'], 'Idette': [49, 'failed'], 'Flori': [71, 'failed'], 'Domeniga': [43, 'failed'], 'Imogen': [28, 'failed'], 'Florance': [36, 'failed'], 'Francesca': [15, 'failed'], 'Fiorenze': [91, 'passed'], 'Doreen': [97, 'passed'], 'Dido': [11, 'failed'], 'Friederike': [91, 'passed'], 'Cathee': [62, 'failed'], 'Florida': [36, 'failed'], 'Filide': [25, 'failed'], 'Izabel': [74, 'failed'], 'Devora': [26, 'failed'], 'Dorella': [11, 'failed'], 'Florinda': [89, 'passed'], 'Gabrielle': [87, 'passed'], 'Catlin': [83, 'passed'], 'Dinny': [48, 'failed'], 'Indira': [43, 'failed'], 'Eleni': [81, 'passed'], 'Ivette': [83, 'passed'], 'Denice': [58, 'failed'], 'Catherine': [79, 'passed'], 'Ingaborg': [21, 'failed'], 'Hortense': [22, 'failed'], 'Florette': [37, 'failed'], 'Flossi': [41, 'failed'], 'Denni': [48, 'failed'], 'Demeter': [65, 'failed'], 'Delphine': [80, 'passed'], 'Deerdre': [65, 'failed'], 'Issie': [61, 'failed'], 'Ellyn': [22, 'failed'], 'Ellissa': [35, 'failed'], 'Ilise': [43, 'failed'], 'Elladine': [91, 'passed'], 'Desirae': [89, 'passed'], 'Hyacinthie': [47, 'failed'], 'Elna': [49, 'failed'], 'Ceil': [38, 'failed'], 'Dolorita': [37, 'failed'], 'Delora': [95, 'passed'], 'Doralynn': [14, 'failed'], 'Devina': [77, 'passed'], 'Cassandra': [47, 'failed'], 'Eleanor': [62, 'failed'], 'Fleurette': [66, 'failed'], 'Filia': [98, 'passed'], 'Flo': [72, 'failed'], 'Hyacinth': [32, 'failed'], 'Donielle': [14, 'failed'], 'Gabi': [33, 'failed'], 'Gabbie': [72, 'failed'], 'Elfrida': [100, 'passed'], 'Honoria': [78, 'passed'], 'Cathryn': [79, 'passed'], 'Idalia': [50, 'failed'], 'Dodi': [46, 'failed'], 'Eleanora': [35, 'failed'], 'Frederica': [40, 'failed'], 'Caryl': [20, 'failed'], 'Delilah': [58, 'failed'], 'Flossie': [100, 'passed'], 'Celisse': [62, 'failed'], 'Fina': [90, 'passed'], 'Irma': [34, 'failed'], 'Gaby': [93, 'passed'], 'Ilyssa': [45, 'failed'], 'Idaline': [94, 'passed'], 'Ina': [10, 'failed'], 'Devondra': [54, 'failed'], 'Dodie': [60, 'failed'], 'Cassie': [76, 'passed'], 'Hyacinthe': [68, 'failed'], 'Gabie': [31, 'failed'], 'Dorette': [62, 'failed'], 'Dehlia': [23, 'failed'], 'Dorice': [35, 'failed'], 'Elene': [23, 'failed'], 'Hulda': [91, 'passed'], 'Elfie': [62, 'failed'], 'Donnamarie': [95, 'passed'], 'Donelle': [62, 'failed'], 'Deina': [72, 'failed'], 'Cass': [30, 'failed'], 'Denny': [50, 'failed'], 'Dolley': [38, 'failed'], 'Fredia': [57, 'failed'], 'Elly': [73, 'failed'], 'Dita': [66, 'failed'], 'Francoise': [47, 'failed'], 'Ceciley': [71, 'failed'], 'Holly-Anne': [100, 'passed'], 'Casey': [94, 'passed'], 'Cathi': [80, 'passed'], 'Domini': [32, 'failed'], 'Cassandre': [58, 'failed'], 'Caty': [99, 'passed'], 'Isabella': [21, 'failed'], 'Doria': [20, 'failed'], 'Diann': [20, 'failed'], 'Dniren': [74, 'failed'], 'Ianthe': [16, 'failed'], 'Dody': [51, 'failed'], 'Ingaberg': [37, 'failed'], 'Celestia': [92, 'passed'], 'Franky': [73, 'failed'], 'Ibby': [98, 'passed'], 'Gabriela': [22, 'failed'], 'Ilsa': [29, 'failed'], 'Elise': [52, 'failed'], 'Di': [80, 'passed'], 'Dell': [55, 'failed'], 'Dolly': [44, 'failed'], 'Dionne': [23, 'failed'], 'Cassey': [81, 'passed'], 'Eleonora': [42, 'failed'], 'Eimile': [51, 'failed'], 'Flor': [89, 'passed'], 'Fredra': [26, 'failed'], 'Diana': [18, 'failed'], 'Elbertine': [60, 'failed'], 'Gabbey': [79, 'passed'], 'Dominica': [24, 'failed'], 'Florentia': [10, 'failed'], 'Cele': [27, 'failed'], 'Elaina': [15, 'failed'], 'Elita': [78, 'passed'], 'Dorie': [79, 'passed'], 'Devan': [78, 'passed'], 'Elga': [72, 'failed'], 'Dianne': [48, 'failed'], 'Deloris': [90, 'passed'], 'Eloisa': [24, 'failed'], 'Cassondra': [61, 'failed'], 'Frieda': [63, 'failed'], 'Celesta': [58, 'failed'], 'Celestyn': [40, 'failed'], 'Elinor': [86, 'passed'], 'Honor': [27, 'failed'], 'Dix': [16, 'failed'], 'Honey': [46, 'failed'], 'Ines': [52, 'failed'], 'Dolores': [22, 'failed'], 'Eirena': [80, 'passed'], 'Elka': [36, 'failed'], 'Devonne': [44, 'failed'], 'Cati': [51, 'failed'], 'Elicia': [28, 'failed'], 'Floris': [79, 'passed'], 'Cathie': [65, 'failed'], 'Cathlene': [57, 'failed'], 'Doralin': [96, 'passed'], 'Frannie': [54, 'failed'], 'Freddy': [98, 'passed'], 'Imojean': [27, 'failed'], 'Iseabal': [76, 'passed'], 'Isabelle': [71, 'failed'], 'Elisha': [98, 'passed'], 'Dona': [46, 'failed'], 'Gabrila': [56, 'failed'], 'Catina': [97, 'passed'], 'Caryn': [21, 'failed'], 'Demetra': [22, 'failed'], 'Flory': [65, 'failed'], 'Effie': [98, 'passed'], 'Hope': [50, 'failed'], 'Fredelia': [88, 'passed'], 'Elisabet': [83, 'passed'], 'Elisa': [71, 'failed'], 'Fifine': [86, 'passed'], 'Franciska': [84, 'passed'], 'Eleen': [12, 'failed'], 'Donella': [79, 'passed'], 'Ekaterina': [72, 'failed'], 'Franni': [17, 'failed'], 'Cathrine': [57, 'failed'], 'Frances': [36, 'failed'], 'Desiri': [10, 'failed'], 'Devonna': [31, 'failed'], 'Ingunna': [87, 'passed'], 'Eliza': [91, 'passed'], 'Doris': [57, 'failed'], 'Delila': [55, 'failed'], 'Flora': [74, 'failed'], 'Ilse': [74, 'failed'], 'Deeyn': [82, 'passed'], 'Cecile': [49, 'failed'], 'Ellene': [97, 'passed'], 'Ellynn': [99, 'passed'], 'Elnora': [94, 'passed'], 'Filippa': [13, 'failed'], 'Frank': [20, 'failed'], 'Donia': [68, 'failed'], 'Iolande': [62, 'failed'], 'Cecilla': [40, 'failed'], 'Denys': [52, 'failed'], 'Florry': [94, 'passed'], 'Cassandry': [86, 'passed'], 'Cecelia': [26, 'failed'], 'Florie': [69, 'failed'], 'Frankie': [14, 'failed'], 'Horatia': [44, 'failed'], 'Eleonore': [20, 'failed'], 'Edythe': [39, 'failed'], 'Imelda': [29, 'failed'], 'Dierdre': [89, 'passed'], 'Ivonne': [74, 'failed'], 'Dina': [38, 'failed'], 'Celina': [37, 'failed'], 'Cecilia': [75, 'failed'], 'Gabriellia': [68, 'failed'], 'Ingeborg': [60, 'failed'], 'Elfreda': [20, 'failed'], 'Demetria': [55, 'failed'], 'Francyne': [88, 'passed'], 'Dixie': [12, 'failed'], 'Florella': [73, 'failed'], 'Devinne': [11, 'failed']}\n"
     ]
    }
   ],
   "source": [
    "import json\n",
    "\n",
    "with open('data1.json', encoding='utf-8') as file1, open('data2.json', encoding='utf-8') as file2, open(\n",
    "        'data_merge.json', 'w', encoding='utf-8') as out:\n",
    "    data1 = json.load(file1)  # передаем файловый объект\n",
    "    data2 = json.load(file2)  # передаем файловый объект\n",
    "    print(data1)\n",
    "    print(data2)\n",
    "\n",
    "    # dic = dict(data1)\n",
    "    # dic.update(data2)\n",
    "    # dic = dic  | data2\n",
    "    dic = {**data1, **data2}\n",
    "\n",
    "    json.dump(dic, out, indent=3)"
   ],
   "metadata": {
    "collapsed": false,
    "ExecuteTime": {
     "end_time": "2024-10-14T10:40:07.616624500Z",
     "start_time": "2024-10-14T10:40:07.609947200Z"
    }
   },
   "id": "4a9e8dd0bb52aa9f"
  },
  {
   "cell_type": "markdown",
   "source": [
    "Восстановление недостающих ключей\n",
    "Вам доступен файл people.json, содержащий список JSON-объектов. Причем у различных объектов может быть различное количество ключей:\n",
    "\n",
    "[\n",
    "   {\n",
    "      \"age\": 33,\n",
    "      \"country\": \"Lesotho\",\n",
    "      \"phone\": \"(927) 316-2249\",\n",
    "      \"family_status\": \"married\",\n",
    "      \"email\": \"neonatus@outlook.com\"\n",
    "   },\n",
    "   {\n",
    "      \"age\": 25,\n",
    "      \"country\": \"Guinea\",\n",
    "      \"name\": \"Dorey\",\n",
    "      \"children\": \"yes\",\n",
    "      \"email\": \"ismail@gmail.com\",\n",
    "      \"university\": \"Khalifa University\",\n",
    "      \"family_status\": \"married\"\n",
    "   },\n",
    "   ...\n",
    "]\n",
    "Напишите программу, которая добавляет в каждый JSON-объект из данного списка все недостающие ключи, присваивая этим ключам значение null. Ключ считается недостающим, если он присутствует в каком-либо другом объекте, но отсутствует в данном. Программа должна создать список с обновленными JSON-объектами и записать его в файл updated_people.json.\n",
    "\n",
    "Примечание 1. JSON-объекты в создаваемом программой списке должны располагаться в своем исходном порядке. Порядок ключей в JSON-объектах не важен.\n",
    "\n",
    "Примечание 2. Например, если бы файл people.json имел вид:\n",
    "\n",
    "[\n",
    "   {\n",
    "      \"age\": 33,\n",
    "      \"country\": \"Lesotho\"\n",
    "   },\n",
    "   {\n",
    "      \"age\": 25,\n",
    "      \"country\": \"Guinea\",\n",
    "      \"name\": \"Dorey\"\n",
    "   }\n",
    "]\n",
    "то программа должна была создать файла updated_people.json со следующим содержанием:\n",
    "\n",
    "[\n",
    "   {   \n",
    "      \"age\": 33,\n",
    "      \"country\": \"Lesotho\"\n",
    "      \"name\": null\n",
    "   },\n",
    "   {\n",
    "      \"age\": 25,\n",
    "      \"country\": \"Guinea\",\n",
    "      \"name\": \"Dorey\"\n",
    "   }\n",
    "]\n",
    "\n",
    "Примечание 4. При открытии файла используйте явное указание кодировки UTF-8."
   ],
   "metadata": {
    "collapsed": false
   },
   "id": "fefab0bffc0f0a13"
  },
  {
   "cell_type": "code",
   "execution_count": 69,
   "outputs": [],
   "source": [
    "import json\n",
    "\n",
    "with open('people.json', encoding='utf-8') as file, open('updated_people.json', 'w') as out:\n",
    "    data = json.load(file)  # передаем файловый объект\n",
    "    # print(data)\n",
    "\n",
    "    keys = []\n",
    "\n",
    "    for dic in data:\n",
    "        for key in dic.keys():\n",
    "            keys.append(key)\n",
    "\n",
    "    # print(keys)\n",
    "\n",
    "    dic = data\n",
    "    for row in dic:\n",
    "        for item in keys:\n",
    "            if item not in row.keys():\n",
    "                row.update({item: None})\n",
    "\n",
    "    # print(dic)\n",
    "\n",
    "    json.dump(dic, out, indent=3)"
   ],
   "metadata": {
    "collapsed": false,
    "ExecuteTime": {
     "end_time": "2024-10-14T10:59:11.938003200Z",
     "start_time": "2024-10-14T10:59:11.854246400Z"
    }
   },
   "id": "1cf6c0bed70951e"
  },
  {
   "cell_type": "markdown",
   "source": [
    "Я исповедую Python, а ты?\n",
    "Вам доступен файл countries.json, содержащий список JSON-объектов c информацией о странах и исповедуемых в них религиях:\n",
    "\n",
    "[\n",
    "   {\n",
    "      \"country\": \"Afghanistan\",\n",
    "      \"religion\": \"Islam\"\n",
    "   },\n",
    "   {\n",
    "      \"country\": \"Albania\",\n",
    "      \"religion\": \"Islam\"\n",
    "   },\n",
    "   ...\n",
    "]\n",
    "Каждый объект из этого списка содержит два атрибута:\n",
    "\n",
    "country — страна\n",
    "religion — исповедуемая религия\n",
    "Напишите программу, которая создает единственный JSON-объект, имеющий в качестве ключа название религии, а в качестве значения — список стран, в которых исповедуется данная религия. Полученный JSON-объект программа должна записать в файл religion.json.\n",
    "\n",
    "Примечание 1. Страны в списках должны располагаться в своем исходном порядке.\n",
    "\n",
    "Примечание 2. Начальная часть файла religion.json выглядит так:\n",
    "\n",
    "{\n",
    "   \"Islam\":[\n",
    "      \"Afghanistan\",\n",
    "      \"Albania\",\n",
    "      \"Algeria\",\n",
    "      ...\n",
    "   ],\n",
    "   ...\n",
    "}"
   ],
   "metadata": {
    "collapsed": false
   },
   "id": "b240a88310873ae6"
  },
  {
   "cell_type": "code",
   "execution_count": 85,
   "outputs": [],
   "source": [
    "import json\n",
    "\n",
    "with open('countries.json', encoding='utf-8') as file, open('religion.json', 'w') as out:\n",
    "    data = json.load(file)\n",
    "    new_dic = {}\n",
    "    # print(data)\n",
    "\n",
    "    for i in data:\n",
    "        # print(type(i))\n",
    "        if i['religion'] not in new_dic:\n",
    "            new_dic[i['religion']] = [i['country']]\n",
    "        else:\n",
    "            new_dic[i['religion']].append(i['country'])\n",
    "\n",
    "    json.dump(new_dic, out, indent=3)\n",
    "\n",
    "# print(new_dic)"
   ],
   "metadata": {
    "collapsed": false,
    "ExecuteTime": {
     "end_time": "2024-10-21T06:26:58.765736700Z",
     "start_time": "2024-10-21T06:26:58.762347Z"
    }
   },
   "id": "2dcc44f2b7e0034e"
  },
  {
   "cell_type": "code",
   "execution_count": null,
   "outputs": [],
   "source": [
    "import json\n",
    "\n",
    "religions = {}\n",
    "with open(\"countries.json\", encoding=\"utf-8\") as file:\n",
    "    # Загружаем данные из JSON-файла и проходим по каждому элементу\n",
    "    for data in json.load(file):\n",
    "        # Используем метод setdefault для добавления страны в список соответствующей религии\n",
    "        # Если религия еще не существует в словаре, создаем новый список\n",
    "        religions.setdefault(data[\"religion\"], []).append(data[\"country\"])\n",
    "\n",
    "with open(\"religion.json\", encoding=\"utf-8\", mode=\"w\") as file:\n",
    "    json.dump(religions, file, indent=3)"
   ],
   "metadata": {
    "collapsed": false
   },
   "id": "956e019cab3d2cf2"
  },
  {
   "cell_type": "markdown",
   "source": [
    "Спортивные площадки\n",
    "Вам доступен файл playgrounds.csv с информацией о спортивных площадках Москвы. В первом столбце записан тип площадки,  во втором — административный округ, в третьем — название района, в четвертом — адрес:\n",
    "\n",
    "ObjectName;AdmArea;District;Address\n",
    "Парк, озелененная городская территория «Лианозовский парк культуры и отдыха»;Северо-Восточный административный округ;район Лианозово;Угличская улица, дом 13\n",
    "...\n",
    "Напишите программу, создающую JSON-объект, ключом в котором является административный округ, а значением — JSON-объект, в котором, в свою очередь, ключом является название района, относящийся к этому административному округу, а значением — список адресов всех площадок в этом районе. Полученный JSON-объект программа должна записать в файл addresses.json.\n",
    "\n",
    "Примечание 1. Адреса в списках должны располагаться в своем исходном порядке.\n",
    "\n",
    "Примечание 2. Разделителем в файле playgrounds.csv является точка с запятой, при этом кавычки не используются.\n",
    "\n",
    "Примечание 3. Начальная часть файла addresses.json выглядит так:\n",
    "\n",
    "{\n",
    "   \"Северо-Восточный административный округ\": {\n",
    "      \"район Лианозово\": [\n",
    "         \"Угличская улица, дом 13\",\n",
    "         \"Алтуфьевское шоссе, дом 147А\"\n",
    "      ],\n",
    "      \"район Отрадное\": [\n",
    "         \"Алтуфьевское шоссе, дом 20А\",\n",
    "         \"Юрловский проезд, дом 8, строение 1\",\n",
    "         \"Юрловский проезд, дом 8, строение 1\"\n",
    "      ],\n",
    "      ...\n",
    "   },\n",
    "   ...\n",
    "}"
   ],
   "metadata": {
    "collapsed": false
   },
   "id": "c7c38ba4ad424612"
  },
  {
   "cell_type": "code",
   "execution_count": 55,
   "outputs": [
    {
     "name": "stdout",
     "output_type": "stream",
     "text": [
      "{'Северо-Восточный административный округ': {'район Лианозово': ['Угличская улица, дом 13', 'Алтуфьевское шоссе, дом 147А'], 'район Отрадное': ['Алтуфьевское шоссе, дом 20А', 'Юрловский проезд, дом 8, строение 1', 'Юрловский проезд, дом 8, строение 1'], 'Алексеевский район': ['Ракетный бульвар, дом 8'], 'район Северное Медведково': ['Олонецкий проезд, дом 20'], 'Бабушкинский район': ['Олонецкий проезд, дом 20', 'Осташковская улица, дом 14, строение 3'], 'район Южное Медведково': ['Олонецкий проезд, дом 20'], 'район Ростокино': ['улица Бажова, дом 2', 'проспект Мира, дом 161'], 'Останкинский район': ['проспект Мира, дом 119, строение 6'], 'Бутырский район': ['улица Руставели, дом 7, строение 1'], 'район Бибирево': ['Белозерская улица, дом 23'], 'Лосиноостровский район': ['улица Менжинского, дом 6']}, 'Троицкий административный округ': {'поселение Краснопахорское': ['село Былово, дом 3', 'улица Лазо, дом 4, корпус 2'], 'поселение Новофедоровское': ['деревня Яковлевское, дом 17']}, 'Восточный административный округ': {'район Вешняки': ['Вешняковская улица, дом 16'], 'район Гольяново': ['Алтайская улица, дом 4'], 'район Восточное Измайлово': ['16-я Парковая улица, дом 4', 'Измайловский бульвар, дом 60/10', 'Сиреневый бульвар, дом 40, корпус 2'], 'район Ивановское': ['улица Сталеваров, дом 4, корпус 4', 'Измайловский проспект, владение 54', 'улица Металлургов, дом 52', 'улица Металлургов, дом 41, строение 1'], 'район Преображенское': ['Большая Черкизовская улица, владение 125, строение 1', 'Большая Черкизовская улица, дом 125, строение 11'], 'район Косино-Ухтомский': ['Оранжерейная улица, владение 24, строение 1'], 'район Сокольники': ['1-й Лучевой просек, дом 5'], 'район Измайлово': ['Измайловский проезд, дом 3, корпус 1', 'Измайловский проспект, владение 54']}, 'Южный административный округ': {'район Бирюлёво Восточное': ['Дольская улица, дом 1', 'Загорьевский проезд, дом 4', 'Липецкая улица, дом 26', 'Липецкая улица, дом 10, корпус 2'], 'район Братеево': ['улица Борисовские Пруды, дом 8, корпус 1', 'Братеевская улица, владение 4, корпус 1'], 'Донской район': ['Загородное шоссе, дом 2, сооружение 1'], 'район Чертаново Центральное': ['Кировоградская улица, дом 19, корпус 1', 'Новоясеневский тупик, дом 1, строение 2'], 'район Чертаново Южное': ['Кировоградская улица, дом 21, корпус 1, строение 2'], 'район Нагатино-Садовники': ['проспект Андропова, дом 58А'], 'район Москворечье-Сабурово': ['улица Борисовские Пруды, дом 1, строение 15А'], 'район Орехово-Борисово Северное': ['улица Маршала Захарова, дом 6, корпус 1']}, 'Северный административный округ': {'Головинский район': ['1-й Лихачёвский переулок, дом 4, корпус 2А', 'Кронштадтский бульвар, дом 39, корпус 1'], 'Хорошёвский район': ['улица Куусинена, дом 15, корпус 3', 'Ленинградский проспект, дом 59'], 'Дмитровский район': ['Ангарская улица, дом 53, корпус 1'], 'Тимирязевский район': ['улица Дубки, дом 6'], 'район Восточное Дегунино': ['Керамический проезд, дом 65, корпус 1']}, 'Северо-Западный административный округ': {'район Покровское-Стрешнево': ['Иваньковское шоссе, дом 6'], 'район Щукино': ['Сосновая улица, дом 3, строение 2'], 'район Строгино': ['Неманский проезд, дом 9', 'улица Исаковского, дом 24, корпус 1'], 'район Северное Тушино': ['улица Свободы, дом 56']}, 'Центральный административный округ': {'Басманный район': ['улица Покровка, дом 48, строение 1', 'Большой Спасоглинищевский переулок, дом 9, строение 7'], 'Мещанский район': ['улица Сущёвский Вал, дом 56, строение 2']}, 'Новомосковский административный округ': {'поселение Марушкинское': ['деревня Марушкино, улица Липовая Аллея, дом 5']}, 'Западный административный округ': {'район Тропарёво-Никулино': ['проспект Вернадского, дом 86Д', 'улица Лобачевского, владение 3', 'проспект Вернадского, дом 89', 'улица Мичуринский Проспект, Олимпийская Деревня, дом 16, корпус 2', 'улица 26-ти Бакинских Комиссаров, дом 4, корпус 4'], 'район Крылатское': ['Крылатская улица, дом 28', 'Крылатская улица, дом 16'], 'район Фили-Давыдково': ['Кременчугская улица, дом 36'], 'район Ново-Переделкино': ['Чоботовская улица, дом 4'], 'район Солнцево': ['улица Богданова, дом 6'], 'район Кунцево': ['улица Василия Ботылева, дом 41'], 'район Дорогомилово': ['улица Братьев Фонченко, дом 7'], 'район Проспект Вернадского': ['улица Удальцова, дом 22, корпус 2'], 'район Филёвский Парк': ['Большая Филёвская улица, дом 22, строение 2'], 'Можайский район': ['улица Гришина, дом 8, корпус 3']}, 'Юго-Восточный административный округ': {'Южнопортовый район': ['2-й Южнопортовый проезд, дом 15'], 'район Выхино-Жулебино': ['улица Заречье, владение 14', 'Привольный проезд, дом 12'], 'район Печатники': ['улица Гурьянова, дом 83, строение 13'], 'район Марьино': ['улица Верхние Поля, дом 8', 'Поречная улица, дом 13, корпус 1', 'улица Перерва, дом 41, корпус 1'], 'район Капотня': ['3-й квартал Капотня, дом 3'], 'район Текстильщики': ['улица Шкулёва, дом 2А, строение 1'], 'район Люблино': ['Краснодарская улица, дом 48']}, 'Юго-Западный административный округ': {'район Южное Бутово': ['улица Адмирала Лазарева, владение 17, строение 2'], 'Обручевский район': ['улица 26-ти Бакинских Комиссаров, дом 4, корпус 4', 'улица Миклухо-Маклая, дом 9'], 'район Северное Бутово': ['улица Инессы Арманд, дом 13'], 'район Зюзино': ['улица Каховка, дом 9, корпус 2'], 'район Ясенево': ['улица Миклухо-Маклая, дом 65, корпус 1'], 'район Тёплый Стан': ['улица Академика Виноградова, дом 12']}}\n"
     ]
    }
   ],
   "source": [
    "import csv\n",
    "import json\n",
    "\n",
    "with open('playgrounds.csv', encoding='utf-8') as file:\n",
    "    data = csv.DictReader(file, delimiter=';')\n",
    "    data = list(data)\n",
    "\n",
    "final_dic = {}\n",
    "for item in data:\n",
    "    final_dic.setdefault(item['AdmArea'], {}).setdefault(item['District'], []).append(item['Address'])\n",
    "\n",
    "print(final_dic)\n",
    "\n",
    "with open('addresses.json', 'w', encoding='utf-8') as file:\n",
    "    json.dump(final_dic, file, indent=3, ensure_ascii=False)"
   ],
   "metadata": {
    "collapsed": false,
    "ExecuteTime": {
     "end_time": "2024-10-24T07:34:52.084674200Z",
     "start_time": "2024-10-24T07:34:52.078692200Z"
    }
   },
   "id": "d450aa7836aa2ede"
  },
  {
   "cell_type": "markdown",
   "source": [
    "Студенты курса\n",
    "Вам доступен файл students.json, содержащий список JSON-объектов, которые представляют данные о студентах некоторого курса:\n",
    "\n",
    "[\n",
    "   {\n",
    "      \"name\": \"Holly-Anne\",\n",
    "      \"city\": \"Abilene\",\n",
    "      \"age\": 29,\n",
    "      \"progress\": 85,\n",
    "      \"phone\": \"(802) 983-9126\"\n",
    "   },\n",
    "   ...\n",
    "]\n",
    "Под «студентом» мы будем подразумевать один JSON-объект из этого списка. У студента имеются следующие атрибуты:\n",
    "\n",
    "name — имя \n",
    "city — город проживания\n",
    "age — возраст\n",
    "progress — прогресс по курсу в процентах\n",
    "phone— контактный номер\n",
    "Напишите программу, которая определяет студентов, удовлетворяющих следующим условиям:\n",
    "\n",
    "возраст 18 лет или более\n",
    "прогресс по курсу 75% или более\n",
    "Программа должна создать файл data.csv с двумя столбцами — name (имя) и phone (номер), и записать в него данные выбранных студентов, расположив их в лексикографическом порядке имён. В качестве разделителя в файле data.csv должна быть использована запятая.\n",
    "\n",
    "Примечание 1. Гарантируется, что все студенты имеют различные имена.\n",
    "\n",
    "Примечание 2. Начальная часть файла data.csv выглядит так:\n",
    "\n",
    "name,phone\n",
    "Cary,(580) 476-8517\n",
    "Catarina,(237) 608-2757\n",
    "Catherin,(876) 215-3666\n",
    "..."
   ],
   "metadata": {
    "collapsed": false
   },
   "id": "d1f75cf7a519ea10"
  },
  {
   "cell_type": "code",
   "execution_count": 135,
   "outputs": [],
   "source": [
    "import json\n",
    "import csv\n",
    "\n",
    "with open('students.json', encoding='utf-8') as file:\n",
    "    data = json.load(file)\n",
    "\n",
    "# print(data[0])\n",
    "rows = [\n",
    "    {'name': i['name'], 'phone': i['phone']}\n",
    "    for i in data if i['age'] >= 18 and i['progress'] >= 75\n",
    "]\n",
    "rows = sorted(rows, key=lambda x: x['name'])\n",
    "# print(rows[0])\n",
    "columns = ['name', 'phone']\n",
    "\n",
    "with open('data2.csv', 'w', newline='') as file:\n",
    "    writer = csv.DictWriter(file, fieldnames=columns)\n",
    "    writer.writeheader()\n",
    "    writer.writerows(rows)"
   ],
   "metadata": {
    "collapsed": false,
    "ExecuteTime": {
     "end_time": "2024-10-22T13:33:59.806337300Z",
     "start_time": "2024-10-22T13:33:59.800832100Z"
    }
   },
   "id": "bdfef5a174c9674c"
  },
  {
   "cell_type": "code",
   "execution_count": null,
   "outputs": [],
   "source": [
    "import pandas as pd\n",
    "\n",
    "df = pd.read_json('students.json')\n",
    "df_1 = df[(df['age'] >= 18) & (df['progress'] >= 75)].sort_values(by='name')\n",
    "df_1[['name', 'phone']].to_csv('data.csv', index=False)"
   ],
   "metadata": {
    "collapsed": false
   },
   "id": "8c43e22cfdd792b"
  },
  {
   "cell_type": "markdown",
   "source": [
    "Бассейны\n",
    "Тимур планирует пойти в бассейн. Среди всех бассейнов ему подходят те, которые открыты в понедельник в период с 10:00 до 12:00. Также ему нравится плавать по длинным дорожкам, поэтому из всех работающих в это время бассейнов нужно выбрать бассейн с наибольшей длиной дорожки, при равных значениях — c наибольшей шириной.\n",
    "\n",
    "Вам доступен файл pools.json, содержащий список JSON-объектов, которые представляют данные о крытых плавательных бассейнах:\n",
    "\n",
    "[\n",
    "   {\n",
    "      \"ObjectName\": \"Физкультурно-оздоровительный комплекс с бассейном «ГБУ «СШОР № 82» Москомспорта»\",\n",
    "      \"AdmArea\": \"Северо-Восточный административный округ\",\n",
    "      \"District\": \"Алтуфьевский район\",\n",
    "      \"Address\": \"Инженерная улица, дом 5, корпус 1\",\n",
    "      \"WorkingHoursSummer\": {\n",
    "         \"Понедельник\": \"10:00-11:00\",\n",
    "         \"Вторник\": \"10:00-11:00\",\n",
    "         \"Среда\": \"10:00-11:00\",\n",
    "         \"Четверг\": \"10:00-11:00\",\n",
    "         \"Пятница\": \"10:00-11:00\",\n",
    "         \"Суббота\": \"10:00-11:00\",\n",
    "         \"Воскресенье\": \"09:00-15:00\",\n",
    "      },\n",
    "      \"DimensionsSummer\": {\n",
    "         \"Square\": 350,\n",
    "         \"Length\": 25,\n",
    "         \"Width\": 14,\n",
    "         \"Depth\": 1.8\n",
    "      }\n",
    "   },\n",
    "   ...\n",
    "]\n",
    "Под «бассейном» будем подразумевать один JSON-объект из этого списка. У бассейна имеются следующие атрибуты:\n",
    "\n",
    "ObjectName — название, будь то фитнес клуб или спортивный комплекс\n",
    "AdmArea — административный округ\n",
    "District — название района\n",
    "Address — адрес\n",
    "WorkingHoursSummer — график работы, время начала и закрытия указываются в формате HH:MM\n",
    "DimensionsSummer — размеры бассейна, где Square — площадь, Length — длина, Width — ширина, Depth — глубина\n",
    "Напишите программу, которая определяет бассейн, подходящий Тимуру. Программа должна вывести его размеры и адрес в следующем формате:\n",
    "\n",
    "<длина>x<ширина>\n",
    "<адрес>\n",
    "Примечание 1. Пример вывода:\n",
    "\n",
    "25x16\n",
    "Писцовая улица, дом 12, строение 1\n",
    "Примечание 2. Бассейн должен быть открыт во время всего периода с 10:00 до 12:00. Например, если бассейн работает в 10:00, но не работает в 11:30, он не подходит."
   ],
   "metadata": {
    "collapsed": false
   },
   "id": "cd5bbd430176a1a4"
  },
  {
   "cell_type": "code",
   "execution_count": 185,
   "outputs": [
    {
     "name": "stdout",
     "output_type": "stream",
     "text": [
      "70x20\n",
      "Новоостаповская улица, дом 5, строение 2\n"
     ]
    }
   ],
   "source": [
    "import json\n",
    "from datetime import datetime\n",
    "\n",
    "with open('pools.json', encoding='utf-8') as file:\n",
    "    data = json.load(file)\n",
    "# print(data[0])\n",
    "\n",
    "new_dic = {}\n",
    "list = []\n",
    "for i in data:\n",
    "    start_time_str, end_time_str = i['WorkingHoursSummer']['Понедельник'].split('-')\n",
    "    start_time = datetime.strptime(start_time_str, '%H:%M')\n",
    "    end_time = datetime.strptime(end_time_str, '%H:%M')\n",
    "\n",
    "    if start_time <= datetime(1900, 1, 1, 10, 0) and end_time >= datetime(1900, 1, 1, 12, 0):\n",
    "        pool_info = {\n",
    "            'Address': i['Address'],\n",
    "            'Length': i['DimensionsSummer']['Length'],\n",
    "            'Width': i['DimensionsSummer']['Width'],\n",
    "            'StartTime': start_time,\n",
    "            'EndTime': end_time\n",
    "        }\n",
    "        list.append(pool_info)\n",
    "\n",
    "# print(list[0])\n",
    "\n",
    "final_list = sorted(list, key=lambda x: (x['Length'], x['Width']), reverse=True)\n",
    "# print(final_list[0])\n",
    "final_dic = final_list[0]\n",
    "# print(final_dic)\n",
    "\n",
    "print(f'{final_dic['Length']}x{final_dic['Width']}\\n{final_dic['Address']}')"
   ],
   "metadata": {
    "collapsed": false,
    "ExecuteTime": {
     "end_time": "2024-10-23T12:15:34.956739300Z",
     "start_time": "2024-10-23T12:15:34.945567500Z"
    }
   },
   "id": "d6d542604f383254"
  },
  {
   "cell_type": "code",
   "execution_count": 186,
   "outputs": [
    {
     "name": "stdout",
     "output_type": "stream",
     "text": [
      "70x20\n",
      "Новоостаповская улица, дом 5, строение 2\n"
     ]
    }
   ],
   "source": [
    "import json\n",
    "\n",
    "\n",
    "def best_pool(data: dict):\n",
    "    monday_time = data[\"WorkingHoursSummer\"][\"Понедельник\"].split(\"-\")\n",
    "    start, finish = [int(time.split(\":\")[0]) for time in monday_time]\n",
    "    time = True if start <= 10 and finish >= 12 else False\n",
    "    dimensions = data[\"DimensionsSummer\"]\n",
    "\n",
    "    return (time, dimensions[\"Length\"], dimensions[\"Width\"])\n",
    "\n",
    "\n",
    "with open(\"pools.json\", \"r\", encoding=\"utf-8\") as input_file:\n",
    "    input_data = json.load(input_file)\n",
    "\n",
    "    choice = max(input_data, key=best_pool)\n",
    "    print(f'{choice[\"DimensionsSummer\"][\"Length\"]}x{choice[\"DimensionsSummer\"][\"Width\"]}')\n",
    "    print(choice[\"Address\"])"
   ],
   "metadata": {
    "collapsed": false,
    "ExecuteTime": {
     "end_time": "2024-10-23T12:18:22.384475600Z",
     "start_time": "2024-10-23T12:18:22.373571500Z"
    }
   },
   "id": "d432297e1f260dec"
  },
  {
   "cell_type": "code",
   "execution_count": 188,
   "outputs": [
    {
     "name": "stdout",
     "output_type": "stream",
     "text": [
      "70x20\n",
      "Новоостаповская улица, дом 5, строение 2\n"
     ]
    }
   ],
   "source": [
    "import json\n",
    "from datetime import datetime\n",
    "\n",
    "with open('pools.json', encoding='utf-8') as json_file:\n",
    "    whs, ds, ln, wh = 'WorkingHoursSummer', 'DimensionsSummer', 'Length', 'Width'\n",
    "\n",
    "\n",
    "    def check_time(str_time: str) -> bool:\n",
    "        ft, tt = map(lambda x: datetime.strptime(x, '%H:%M').hour, str_time.split('-'))\n",
    "        return ft <= 10 and tt >= 12\n",
    "\n",
    "\n",
    "    # Загружаем данные из JSON файла\n",
    "    data = json.load(json_file)\n",
    "\n",
    "    # Находим максимальный элемент по критериям\n",
    "    res = max(\n",
    "        filter(lambda x: check_time(x[whs]['Понедельник']), data),\n",
    "        key=lambda x: (x[ds][ln], x[ds][wh])\n",
    "    )\n",
    "\n",
    "    # Выводим результат\n",
    "    print(f'{res[ds][ln]}x{res[ds][wh]}\\n{res[\"Address\"]}')"
   ],
   "metadata": {
    "collapsed": false,
    "ExecuteTime": {
     "end_time": "2024-10-23T12:22:06.993437100Z",
     "start_time": "2024-10-23T12:22:06.965793900Z"
    }
   },
   "id": "3e4d37c016cb6f83"
  },
  {
   "cell_type": "markdown",
   "source": [
    "Результаты экзамена 🌶️\n",
    "Вам доступен файл exam_results.csv, который содержит информацию о прошедшем экзамене в некотором учебном заведении. В первом столбце записано имя студента, во втором — фамилия, в третьем — оценка за экзамен, в четвертом — дата и время сдачи в формате YYYY-MM-DD HH:MM:SS, в пятом — адрес электронной почты:\n",
    "\n",
    "name,surname,score,date_and_time,email\n",
    "Jayson,Edwards,2,2021-11-10 10:00:00,sonnen@yahoo.com\n",
    "April,Sims,3,2021-11-01 11:00:00,retoh@outlook.com\n",
    "...\n",
    "Каждый студент имеет право пересдать экзамен два раза, поэтому он может встречаться в исходном файле до трёх раз с различной оценкой и различными датой и временем сдачи.\n",
    "\n",
    "Напишите программу, которая для каждого студента определяет его максимальную оценку, а также дату и время ее получения. Программа должна создать список словарей, каждый из которых содержит следующие пары ключ-значение:\n",
    "\n",
    "name — имя студента\n",
    "surname — фамилия студента\n",
    "best_score — максимальная оценка за экзамен\n",
    "date_and_time — дата и время получения максимальной оценки в исходном формате\n",
    "email — адрес электронной почты\n",
    "Полученный список программа должна записать в файл best_scores.json, причем словари в списке должны быть расположены в лексикографическом порядке названий электронных почт.\n",
    "\n",
    "Примечание 1. Если при пересдаче студент получил такую же оценку, что и в прошлый раз, то в качестве даты следует указать дату пересдачи.\n",
    "\n",
    "Примечание 2. В качестве разделителя в файле exam_results.csv используется запятая, при этом кавычки не используются.\n",
    "\n",
    "Примечание 3. Начальная часть файла best_scores.json выглядит так:\n",
    "\n",
    "[\n",
    "   {\n",
    "      \"name\": \"Stephen\",\n",
    "      \"surname\": \"Farley\",\n",
    "      \"best_score\": 3,\n",
    "      \"date_and_time\": \"2021-11-12 12:00:00\",\n",
    "      \"email\": \"aardo@mac.com\"\n",
    "   },\n",
    "   {\n",
    "      \"name\": \"Kaylen\",\n",
    "      \"surname\": \"Horne\",\n",
    "      \"best_score\": 4,\n",
    "      \"date_and_time\": \"2021-11-09 11:00:00\",\n",
    "      \"email\": \"aaribaud@att.net\"\n",
    "   },\n",
    "   ...\n",
    "]"
   ],
   "metadata": {
    "collapsed": false
   },
   "id": "93c4ca45e8eaf191"
  },
  {
   "cell_type": "code",
   "execution_count": 48,
   "outputs": [
    {
     "name": "stdout",
     "output_type": "stream",
     "text": [
      "{'name': 'Jayson', 'surname': 'Edwards', 'score': '2', 'date_and_time': '2021-11-10 10:00:00', 'email': 'sonnen@yahoo.com'}\n"
     ]
    }
   ],
   "source": [
    "import csv\n",
    "from datetime import datetime\n",
    "import json\n",
    "\n",
    "lst = []\n",
    "with open('exam_results.csv', encoding='utf-8') as file:\n",
    "    data = csv.DictReader(file)\n",
    "    print(next(data))\n",
    "    # print()\n",
    "\n",
    "    for i in data:\n",
    "        year_time = datetime.strptime(i['date_and_time'], '%Y-%m-%d %H:%M:%S')\n",
    "\n",
    "        dic = {\n",
    "            'email': i['email'],\n",
    "            'Year_Time': year_time,\n",
    "            'score': int(i['score']),\n",
    "            'info': i\n",
    "        }\n",
    "        lst.append(dic)\n",
    "    lst = sorted(lst, key=lambda x: (x['email'],\n",
    "                                     -x['score'],\n",
    "                                     -x['Year_Time'].timestamp()))\n",
    "    # print(lst)\n",
    "    # print()\n",
    "\n",
    "    new_lst = []\n",
    "    emails = set()\n",
    "    for dic in lst:\n",
    "        if dic['email'] not in emails:\n",
    "            emails.add(dic['email'])\n",
    "            new_dic = {\n",
    "                'name': dic['info']['name'],\n",
    "                'surname': dic['info']['surname'],\n",
    "                'best_score': int(dic['info']['score']),\n",
    "                'date_and_time': dic['info']['date_and_time'],\n",
    "                'email': dic['info']['email']\n",
    "            }\n",
    "            new_lst.append(new_dic)\n",
    "        # else:\n",
    "        #     continue\n",
    "    # print(new_lst[0])\n",
    "    # print()\n",
    "\n",
    "with open('best_scores.json', mode='w') as out:\n",
    "    json.dump(new_lst, out, indent=3)"
   ],
   "metadata": {
    "collapsed": false,
    "ExecuteTime": {
     "end_time": "2024-10-24T06:09:59.694790300Z",
     "start_time": "2024-10-24T06:09:59.671279900Z"
    }
   },
   "id": "befaaf29f0ed3058"
  },
  {
   "cell_type": "code",
   "execution_count": null,
   "outputs": [],
   "source": [
    "import csv\n",
    "import json\n",
    "from operator import itemgetter\n",
    "\n",
    "with open('exam_results.csv', encoding='utf-8') as read_file, open('best_scores.json', 'w') as write_file:\n",
    "    csv_reader = csv.DictReader(read_file)\n",
    "    result = {}\n",
    "    for row in csv_reader:\n",
    "        row['best_score'] = int(row.pop('score'))\n",
    "        result[row['email']] = max(result.get(row['email'], row), row,\n",
    "                                   key=itemgetter('best_score', 'date_and_time'))\n",
    "    json.dump(sorted(result.values(), key=itemgetter('email')), write_file)"
   ],
   "metadata": {
    "collapsed": false
   },
   "id": "57a041632fa20771"
  },
  {
   "cell_type": "markdown",
   "source": [
    "Общественное питание 😥\n",
    "Вам доступен файл food_services.json, содержащий список JSON-объектов, которые представляют данные о заведениях общественного питания:\n",
    "\n",
    "[\n",
    "   {\n",
    "      \"Name\": \"СМЕТАНА\",\n",
    "      \"IsNetObject\": \"нет\",\n",
    "      \"OperatingCompany\": \"\",\n",
    "      \"TypeObject\": \"кафе\",\n",
    "      \"AdmArea\": \"Северо-Восточный административный округ\",\n",
    "      \"District\": \"Ярославский район\",\n",
    "      \"Address\": \"город Москва, улица Егора Абакумова, дом 9\",\n",
    "      \"SeatsCount\": 48\n",
    "   },\n",
    "   ...\n",
    "]\n",
    "Под «заведением» будем подразумевать один JSON-объект из этого списка. У заведения имеются следующие атрибуты:\n",
    "\n",
    "Name — название \n",
    "IsNetObject — да\\нет в зависимости от того, является ли заведение сетевым\n",
    "OperatingCompany — название сети\n",
    "TypeObject — вид (кафе, столовая, ресторан и т.д.)\n",
    "AdmArea — административная зона\n",
    "District — район\n",
    "Address — полный адрес\n",
    "SeatsCount — количество мест\n",
    "Напишите программу, которая:\n",
    "\n",
    "определяет район Москвы, в котором находится больше всего заведений, и выводит название этого района и количество заведений в нем\n",
    "определяет сеть с самым большим числом заведений и выводит название этой сети и количество заведений этой сети\n",
    "Полученные значения программа должна вывести в следующем формате:\n",
    "\n",
    "<район>: <количество заведений>\n",
    "<название сети>: <количество заведений>\n",
    "Примечание 1. Гарантируется, что искомая сеть единственная.\n",
    "\n",
    "Примечание 2. Пример вывода:\n",
    "\n",
    "район Метрогородок: 456\n",
    "Французская пекарня SeDelice: 144"
   ],
   "metadata": {
    "collapsed": false
   },
   "id": "c7db6f6cd0ba06c2"
  },
  {
   "cell_type": "code",
   "execution_count": 156,
   "outputs": [
    {
     "name": "stdout",
     "output_type": "stream",
     "text": [
      "Тверской район: 963\n",
      "KFC: 230\n"
     ]
    }
   ],
   "source": [
    "import json\n",
    "\n",
    "with open('food_services.json', encoding='utf-8') as file:\n",
    "    data = json.load(file)\n",
    "# print(data[4])\n",
    "# print()\n",
    "\n",
    "# 1\n",
    "dic = {}\n",
    "for item in data:\n",
    "    dic.setdefault(item['District'], []).append(item['Name'])\n",
    "\n",
    "dic = {k: sorted(v, reverse=False) for k, v in dic.items()}\n",
    "# print(list(dic.keys())[1], \": \", dic[list(dic.keys())[1]], sep='')\n",
    "# print()\n",
    "\n",
    "first_list = []\n",
    "for num, (name, items) in enumerate(dic.items()):\n",
    "    # if num < 5:\n",
    "    #     print(name, len(items))\n",
    "    # else:\n",
    "    #     break\n",
    "    first_dic = {\n",
    "        'District': name,\n",
    "        'Count': len(items)\n",
    "    }\n",
    "    first_list.append(first_dic)\n",
    "# print(first_list[0])\n",
    "\n",
    "max_count_item = max(first_list, key=lambda x: x['Count'])\n",
    "print(max_count_item['District'], ': ', max_count_item['Count'], sep='')\n",
    "\n",
    "# 2\n",
    "dic = {}\n",
    "for item in data:\n",
    "    if item['IsNetObject'] == 'да':\n",
    "        dic.setdefault(item['OperatingCompany'], []).append(item['District'])\n",
    "\n",
    "dic = {k: sorted(v, reverse=False) for k, v in dic.items()}\n",
    "# print(list(dic.keys())[4], \": \", dic[list(dic.keys())[4]], sep='')\n",
    "# print()\n",
    "\n",
    "second_list = []\n",
    "for num, (name, items) in enumerate(dic.items()):\n",
    "    # if num < 5:\n",
    "    #     print(name, len(items))\n",
    "    # else:\n",
    "    #     break\n",
    "    second_dic = {\n",
    "        'District': name,\n",
    "        'Count': len(items)\n",
    "    }\n",
    "    second_list.append(second_dic)\n",
    "# print(second_list[4])\n",
    "\n",
    "max_count_item = max(second_list, key=lambda x: x['Count'])\n",
    "print(max_count_item['District'], ': ', max_count_item['Count'], sep='')"
   ],
   "metadata": {
    "collapsed": false,
    "ExecuteTime": {
     "end_time": "2024-10-24T09:08:16.611809800Z",
     "start_time": "2024-10-24T09:08:16.537573500Z"
    }
   },
   "id": "d973aa514cd61516"
  },
  {
   "cell_type": "code",
   "execution_count": 157,
   "outputs": [
    {
     "name": "stdout",
     "output_type": "stream",
     "text": [
      "Тверской район: 963\n",
      "KFC: 230\n"
     ]
    }
   ],
   "source": [
    "import json, csv\n",
    "from datetime import datetime\n",
    "\n",
    "with open('food_services.json', 'r', encoding='utf-8') as file:\n",
    "    l = list(json.load(file))\n",
    "d1, d2 = {}, {}  #d1 для районов, d2 для сети\n",
    "for i in l:\n",
    "    d1[i['District']] = d1.get(i['District'], 0) + 1\n",
    "    if i['OperatingCompany']:\n",
    "        d2[i['OperatingCompany']] = d2.get(i['OperatingCompany'], 0) + 1\n",
    "\n",
    "x1 = max(d1.items(), key=lambda x: x[1])\n",
    "x2 = max(d2.items(), key=lambda x: x[1])\n",
    "\n",
    "print(f'{x1[0]}: {x1[1]}')\n",
    "print(f'{x2[0]}: {x2[1]}')"
   ],
   "metadata": {
    "collapsed": false,
    "ExecuteTime": {
     "end_time": "2024-10-24T09:15:23.951967400Z",
     "start_time": "2024-10-24T09:15:23.880954300Z"
    }
   },
   "id": "116c0848559d1134"
  },
  {
   "cell_type": "code",
   "execution_count": 176,
   "outputs": [
    {
     "name": "stdout",
     "output_type": "stream",
     "text": [
      "Тверской район: 963\n",
      "KFC: 230\n"
     ]
    }
   ],
   "source": [
    "import json\n",
    "\n",
    "with open('food_services.json', encoding='utf-8') as file:\n",
    "    data = json.load(file)\n",
    "\n",
    "# 1\n",
    "district_count = {}\n",
    "for item in data:\n",
    "    district_count.setdefault(item['District'], 0)\n",
    "    district_count[item['District']] += 1  # Увеличиваем счетчик\n",
    "\n",
    "# Сортируем районы по алфавиту\n",
    "sorted_districts = sorted(district_count.items())\n",
    "\n",
    "# Поиск максимального значения\n",
    "max_district = max(sorted_districts, key=lambda x: x[1])\n",
    "print(max_district[0], ': ', max_district[1], sep='')\n",
    "\n",
    "# 2\n",
    "company_count = {}\n",
    "for item in data:\n",
    "    if item['IsNetObject'] == 'да':\n",
    "        company_count[item['OperatingCompany']] = (\n",
    "                                                      company_count.get(item['OperatingCompany'], 0)) + 1\n",
    "\n",
    "# Сортируем компании по алфавиту\n",
    "sorted_companies = sorted(company_count.items())\n",
    "\n",
    "# Поиск максимального значения\n",
    "max_company = max(sorted_companies, key=lambda x: x[1])\n",
    "print(max_company[0], ': ', max_company[1], sep='')"
   ],
   "metadata": {
    "collapsed": false,
    "ExecuteTime": {
     "end_time": "2024-10-24T13:00:02.122181400Z",
     "start_time": "2024-10-24T13:00:02.046706700Z"
    }
   },
   "id": "e35e6153f7a4cb1c"
  },
  {
   "cell_type": "markdown",
   "source": [
    "Общественное питание 😰\n",
    "Вам доступен файл food_services.json, содержащий список JSON-объектов, которые представляют данные о заведениях общественного питания:\n",
    "\n",
    "[\n",
    "   {\n",
    "      \"Name\": \"СМЕТАНА\",\n",
    "      \"IsNetObject\": \"нет\",\n",
    "      \"OperatingCompany\": \"\",\n",
    "      \"TypeObject\": \"кафе\",\n",
    "      \"AdmArea\": \"Северо-Восточный административный округ\",\n",
    "      \"District\": \"Ярославский район\",\n",
    "      \"Address\": \"город Москва, улица Егора Абакумова, дом 9\",\n",
    "      \"SeatsCount\": 48\n",
    "   },\n",
    "   ...\n",
    "]\n",
    "Под «заведением» будем подразумевать один JSON-объект из этого списка. У заведения имеются следующие атрибуты:\n",
    "\n",
    "Name — название \n",
    "IsNetObject — да\\нет в зависимости от того, является ли заведение сетевым\n",
    "OperatingCompany — название сети\n",
    "TypeObject — вид (кафе, столовая, ресторан и т.д.)\n",
    "AdmArea — административная зона\n",
    "District — район\n",
    "Address — полный адрес\n",
    "SeatsCount — количество посадочных мест\n",
    "Напишите программу, которая определяет все виды заведений и для каждого вида находит самое большое заведение этого вида (имеет наибольшее количество посадочных мест). Программа должна вывести все виды заведений в лексикографическом порядке, указав для каждого самое большое заведение и количество посадочных мест в нем. Данные о заведениях должны быть расположены каждые на отдельной строке, в следующем формате:\n",
    "\n",
    "<вид заведения>: <название заведения>, <количество посадочных мест>\n",
    "Примечание 1. Начальная часть ответа выглядит так:\n",
    "\n",
    "бар: Барное объединение ПРОФСОЮЗ, 800\n",
    "буфет: СТОЛОВАЯ - КАНТИНАСИТИ, 320\n",
    "закусочная: Бургерная FARШ, 74\n",
    "..."
   ],
   "metadata": {
    "collapsed": false
   },
   "id": "d37d7bf71693d52d"
  },
  {
   "cell_type": "code",
   "execution_count": 277,
   "outputs": [
    {
     "name": "stdout",
     "output_type": "stream",
     "text": [
      "бар: Барное объединение ПРОФСОЮЗ, 800\n",
      "буфет: СТОЛОВАЯ - КАНТИНАСИТИ, 320\n",
      "закусочная: Бургерная FARШ, 74\n",
      "кафе: Чайхана, 800\n",
      "кафетерий: ЗОАР кафе, 200\n",
      "магазин (отдел кулинарии): Соль, 100\n",
      "предприятие быстрого обслуживания: МАКДОНАЛДС, 580\n",
      "ресторан: РУМ СЕРВИС, 1200\n",
      "столовая: Трапезная, 1400\n"
     ]
    }
   ],
   "source": [
    "import json\n",
    "\n",
    "with open('food_services.json', encoding='utf-8') as file:\n",
    "    data = json.load(file)\n",
    "# print(data[4])\n",
    "# print()\n",
    "\n",
    "# 1\n",
    "dic = {}\n",
    "types = set()\n",
    "first_list = []\n",
    "for item in data:\n",
    "    dic = {\n",
    "        item['TypeObject']: (item['Name'], item['SeatsCount'])\n",
    "    }\n",
    "    first_list.append(dic)\n",
    "    types.add(item['TypeObject'])\n",
    "\n",
    "# print(first_list[:3])\n",
    "# print(list(first_list[0].values())[0][1])\n",
    "# print(first_list[0][list(first_list[0].keys())[0]][1])\n",
    "# print(types)\n",
    "# print()\n",
    "dic = sorted(first_list, key=lambda x: (list(x.keys())[0], -list(x.values())[0][1]))\n",
    "# print(dic[0])\n",
    "\n",
    "types = sorted(list(types))\n",
    "# print(types)\n",
    "\n",
    "# print(list(dic[0].keys())[0])\n",
    "# print(types[0])\n",
    "\n",
    "\n",
    "final_dic = {}\n",
    "l = []\n",
    "for item in dic:\n",
    "    for kind in types:\n",
    "        if kind == list(item.keys())[0]:\n",
    "            if kind not in l:\n",
    "                l.append(kind)\n",
    "                final_dic[kind] = item[kind]\n",
    "\n",
    "# print(final_dic)\n",
    "\n",
    "for i, j in final_dic.items():\n",
    "    print(i, ': ', j[0], ', ', j[1], sep='')\n"
   ],
   "metadata": {
    "collapsed": false,
    "ExecuteTime": {
     "end_time": "2024-10-25T06:06:40.049736300Z",
     "start_time": "2024-10-25T06:06:39.859201600Z"
    }
   },
   "id": "ccba5322837983e1"
  },
  {
   "cell_type": "code",
   "execution_count": null,
   "outputs": [],
   "source": [
    "import json\n",
    "\n",
    "with open('food_services.json', 'r', encoding='utf-8') as f1:\n",
    "    data = json.load(f1)\n",
    "    d = {i['TypeObject']: f\"{i['Name']}, {i['SeatsCount']}\" for i\n",
    "         in sorted(data, key=lambda x:(x['TypeObject'], x['SeatsCount']))}\n",
    "    for item in d.items():\n",
    "        print(f'{item[0]}: {item[1]}')"
   ],
   "metadata": {
    "collapsed": false
   },
   "id": "2fac7e6a389c898e"
  },
  {
   "cell_type": "code",
   "execution_count": null,
   "outputs": [],
   "source": [
    "import json\n",
    "\n",
    "data = {}\n",
    "with open(\"food_services.json\", encoding=\"utf-8\") as sourse:\n",
    "    data_json = json.load(sourse)\n",
    "\n",
    "for elem in data_json:\n",
    "    if data.get(elem[\"TypeObject\"], (0, 0))[-1] < elem[\"SeatsCount\"]:\n",
    "        data[elem[\"TypeObject\"]] = elem[\"Name\"], elem[\"SeatsCount\"]\n",
    "\n",
    "[print(f\"{k}: {v[0]}, {v[1]}\") for k, v in sorted(data.items())]"
   ],
   "metadata": {
    "collapsed": false
   },
   "id": "3f105576e07b6c52"
  }
 ],
 "metadata": {
  "kernelspec": {
   "display_name": "Python 3",
   "language": "python",
   "name": "python3"
  },
  "language_info": {
   "codemirror_mode": {
    "name": "ipython",
    "version": 2
   },
   "file_extension": ".py",
   "mimetype": "text/x-python",
   "name": "python",
   "nbconvert_exporter": "python",
   "pygments_lexer": "ipython2",
   "version": "2.7.6"
  }
 },
 "nbformat": 4,
 "nbformat_minor": 5
}
