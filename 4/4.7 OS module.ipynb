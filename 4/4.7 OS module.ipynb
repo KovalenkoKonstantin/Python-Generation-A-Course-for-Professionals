{
 "cells": [
  {
   "cell_type": "markdown",
   "source": [
    "Модуль os из стандартной библиотеки языка программирования Python обычно используется для работы с установленной ОС, а также файловой системой ПК. Он содержит массу полезных методов для взаимодействия с файлами и папками на жестком диске. Программы, работающие с модулем os, не зависят от типа ОС и являются легко переносимыми на другую платформу."
   ],
   "metadata": {
    "collapsed": false
   },
   "id": "a59df2081af399b5"
  },
  {
   "cell_type": "markdown",
   "source": [
    "Модуль os в Python — это библиотека функций для работы с операционной системой. Методы, включенные в неё позволяют определять тип операционной системы, получать доступ к переменным окружения, управлять директориями и файлами:\n",
    "\n",
    "проверка существования объекта по заданному пути;\n",
    "определение размера в байтах;\n",
    "удаление;\n",
    "переименование и др."
   ],
   "metadata": {
    "collapsed": false
   },
   "id": "89a39fdd1ed46884"
  },
  {
   "cell_type": "markdown",
   "source": [
    "Получение информации об ОС"
   ],
   "metadata": {
    "collapsed": false
   },
   "id": "93746006f9e865fd"
  },
  {
   "cell_type": "code",
   "execution_count": 1,
   "outputs": [
    {
     "name": "stdout",
     "output_type": "stream",
     "text": [
      "nt\n"
     ]
    }
   ],
   "source": [
    "import os\n",
    "print(os.name)"
   ],
   "metadata": {
    "collapsed": false,
    "ExecuteTime": {
     "end_time": "2024-10-30T07:22:15.521476700Z",
     "start_time": "2024-10-30T07:22:15.518564300Z"
    }
   },
   "id": "49ec2989dd2333f"
  },
  {
   "cell_type": "markdown",
   "source": [
    "Получить сведения, которые касаются конфигурации компьютера, можно при помощи метода environ. Вызвав его через обращение к библиотеке os, пользователь получает большой словарь с переменными окружения, который выводится в консоль или строковую переменную. Таким образом, можно узнать название системного диска, адрес домашней директории, имя системы и массу другой информации."
   ],
   "metadata": {
    "collapsed": false
   },
   "id": "a5d61b5b9c7ff4e7"
  },
  {
   "cell_type": "code",
   "execution_count": 2,
   "outputs": [
    {
     "name": "stdout",
     "output_type": "stream",
     "text": [
      "environ({'ALLUSERSPROFILE': 'C:\\\\ProgramData', 'APPCODE_VM_OPTIONS': 'C:\\\\Program Files\\\\JetBrains\\\\Activate\\\\vmoptions\\\\appcode.vmoptions', 'APPDATA': 'C:\\\\Users\\\\Kovalenko.Kon\\\\AppData\\\\Roaming', 'CLION_VM_OPTIONS': 'C:\\\\Program Files\\\\JetBrains\\\\Activate\\\\vmoptions\\\\clion.vmoptions', 'COMMANDER_DRIVE': 'C:', 'COMMANDER_EXE': 'C:\\\\Program Files (x86)\\\\Total Commander\\\\TOTALCMD.EXE', 'COMMANDER_INI': 'C:\\\\Program Files (x86)\\\\Total Commander\\\\wincmd.ini', 'COMMANDER_PATH': 'C:\\\\Program Files (x86)\\\\Total Commander', 'COMMONPROGRAMFILES': 'C:\\\\Program Files\\\\Common Files', 'COMMONPROGRAMFILES(X86)': 'C:\\\\Program Files (x86)\\\\Common Files', 'COMMONPROGRAMW6432': 'C:\\\\Program Files\\\\Common Files', 'COMPUTERNAME': 'MSK-W0407', 'COMSPEC': 'C:\\\\Windows\\\\system32\\\\cmd.exe', 'DATAGRIP': 'C:\\\\Program Files\\\\JetBrains\\\\DataGrip 2020.1\\\\bin;', 'DATAGRIP_VM_OPTIONS': 'C:\\\\Program Files\\\\JetBrains\\\\Activate\\\\vmoptions\\\\datagrip.vmoptions', 'DATASPELL_VM_OPTIONS': 'C:\\\\Program Files\\\\JetBrains\\\\Activate\\\\vmoptions\\\\dataspell.vmoptions', 'DEVECOSTUDIO_VM_OPTIONS': 'C:\\\\Program Files\\\\JetBrains\\\\Activate\\\\vmoptions\\\\devecostudio.vmoptions', 'DRIVERDATA': 'C:\\\\Windows\\\\System32\\\\Drivers\\\\DriverData', 'FPS_BROWSER_APP_PROFILE_STRING': 'Internet Explorer', 'FPS_BROWSER_USER_PROFILE_STRING': 'Default', 'GATEWAY_VM_OPTIONS': 'C:\\\\Program Files\\\\JetBrains\\\\Activate\\\\vmoptions\\\\gateway.vmoptions', 'GOLAND_VM_OPTIONS': 'C:\\\\Program Files\\\\JetBrains\\\\Activate\\\\vmoptions\\\\goland.vmoptions', 'HOMEDRIVE': 'C:', 'HOMEPATH': '\\\\Users\\\\Kovalenko.Kon', 'IDEA_INITIAL_DIRECTORY': 'C:\\\\Users\\\\Kovalenko.Kon', 'IDEA_VM_OPTIONS': 'C:\\\\Program Files\\\\JetBrains\\\\Activate\\\\vmoptions\\\\idea.vmoptions', 'IJ_RESTARTER_LOG': 'C:\\\\Users\\\\Kovalenko.Kon\\\\AppData\\\\Local\\\\JetBrains\\\\PyCharm2023.3\\\\log\\\\restarter.log', 'IPY_INTERRUPT_EVENT': '2324', 'JETBRAINSCLIENT_VM_OPTIONS': 'C:\\\\Program Files\\\\JetBrains\\\\Activate\\\\vmoptions\\\\jetbrainsclient.vmoptions', 'JETBRAINS_CLIENT_VM_OPTIONS': 'C:\\\\Program Files\\\\JetBrains\\\\Activate\\\\vmoptions\\\\jetbrains_client.vmoptions', 'JPY_INTERRUPT_EVENT': '2324', 'JPY_PARENT_PID': '2272', 'JPY_SESSION_NAME': '4/4.7 OS module.ipynb', 'LANG': 'en_US.UTF-8', 'LANGUAGE': '', 'LC_ALL': 'en_US.UTF-8', 'LOCALAPPDATA': 'C:\\\\Users\\\\Kovalenko.Kon\\\\AppData\\\\Local', 'LOGONSERVER': '\\\\\\\\MSK-DC-05', 'NUMBER_OF_PROCESSORS': '16', 'ONEDRIVE': 'C:\\\\Users\\\\Kovalenko.Kon\\\\OneDrive', 'OS': 'Windows_NT', 'PATH': 'C:\\\\Users\\\\Kovalenko.Kon\\\\AppData\\\\Local\\\\Programs\\\\Python\\\\Python312\\\\Scripts;C:\\\\Windows\\\\system32;C:\\\\Windows;C:\\\\Windows\\\\System32\\\\Wbem;C:\\\\Windows\\\\System32\\\\WindowsPowerShell\\\\v1.0\\\\;C:\\\\Windows\\\\System32\\\\OpenSSH\\\\;C:\\\\Windows\\\\CCM;C:\\\\Program Files\\\\SafeNet\\\\Authentication\\\\SAC\\\\x64;C:\\\\Program Files\\\\SafeNet\\\\Authentication\\\\SAC\\\\x32;c:\\\\Users\\\\Kovalenko.Kon\\\\AppData\\\\Local\\\\Programs\\\\Python\\\\Python311\\\\Scripts\\\\;C:\\\\Program Files (x86)\\\\Microsoft SQL Server\\\\160\\\\DTS\\\\Binn\\\\;C:\\\\Program Files\\\\Azure Data Studio\\\\bin;C:\\\\Program Files\\\\Git\\\\cmd;C:\\\\Users\\\\Kovalenko.Kon\\\\AppData\\\\Local\\\\Microsoft\\\\WindowsApps;C:\\\\Users\\\\Kovalenko.Kon\\\\AppData\\\\Local\\\\GitHubDesktop\\\\bin;C:\\\\Program Files\\\\JetBrains\\\\PyCharm 2022.2\\\\bin;C:\\\\Program Files\\\\Azure Data Studio\\\\bin;C:\\\\Program Files\\\\JetBrains\\\\DataGrip 2020.1\\\\bin;C:\\\\Users\\\\Kovalenko.Kon\\\\AppData\\\\Local\\\\Programs\\\\Microsoft VS Code\\\\bin;C:\\\\Program Files\\\\Git;C:\\\\Program Files\\\\TortoiseGit\\\\bin;C:\\\\Program Files\\\\Mobile\\\\bin\\\\;C:\\\\Program Files\\\\Docker\\\\Docker\\\\resources\\\\bin;C:\\\\Program Files\\\\Redis\\\\;C:\\\\Users\\\\Kovalenko.Kon\\\\AppData\\\\Local\\\\Programs\\\\Python\\\\Python312\\\\;C:\\\\Program Files\\\\MySQL\\\\MySQL Shell 8.0\\\\bin\\\\;C:\\\\Program Files\\\\JetBrains\\\\PyCharm2023.3\\\\bin;C:\\\\Program Files\\\\JetBrains\\\\PyCharm Community Edition 2023.3.2\\\\bin', 'PATHEXT': '.COM;.EXE;.BAT;.CMD;.VBS;.VBE;.JS;.JSE;.WSF;.WSH;.MSC', 'PHPSTORM_VM_OPTIONS': 'C:\\\\Program Files\\\\JetBrains\\\\Activate\\\\vmoptions\\\\phpstorm.vmoptions', 'PROCESSOR_ARCHITECTURE': 'AMD64', 'PROCESSOR_IDENTIFIER': 'Intel64 Family 6 Model 167 Stepping 1, GenuineIntel', 'PROCESSOR_LEVEL': '6', 'PROCESSOR_REVISION': 'a701', 'PROGRAMDATA': 'C:\\\\ProgramData', 'PROGRAMFILES': 'C:\\\\Program Files', 'PROGRAMFILES(X86)': 'C:\\\\Program Files (x86)', 'PROGRAMW6432': 'C:\\\\Program Files', 'PSMODULEPATH': '%ProgramFiles%\\\\WindowsPowerShell\\\\Modules;C:\\\\Windows\\\\system32\\\\WindowsPowerShell\\\\v1.0\\\\Modules', 'PUBLIC': 'C:\\\\Users\\\\Public', 'PYCHARM': 'C:\\\\Program Files\\\\JetBrains\\\\PyCharm2023.3\\\\bin;', 'PYCHARM COMMUNITY EDITION': 'C:\\\\Program Files\\\\JetBrains\\\\PyCharm Community Edition 2023.3.2\\\\bin;', 'PYCHARM_VM_OPTIONS': 'C:\\\\Program Files\\\\JetBrains\\\\Activate\\\\vmoptions\\\\pycharm.vmoptions', 'PYTHONPATH': 'D:\\\\Git\\\\Python-Generation-a-Course-for-Professionals', 'RIDER_VM_OPTIONS': 'C:\\\\Program Files\\\\JetBrains\\\\Activate\\\\vmoptions\\\\rider.vmoptions', 'RUBYMINE_VM_OPTIONS': 'C:\\\\Program Files\\\\JetBrains\\\\Activate\\\\vmoptions\\\\rubymine.vmoptions', 'SESSIONNAME': 'Console', 'STUDIO_VM_OPTIONS': 'C:\\\\Program Files\\\\JetBrains\\\\Activate\\\\vmoptions\\\\studio.vmoptions', 'SYSTEMDRIVE': 'C:', 'SYSTEMROOT': 'C:\\\\Windows', 'TEMP': 'C:\\\\Users\\\\KOVALE~1.KON\\\\AppData\\\\Local\\\\Temp', 'TMP': 'C:\\\\Users\\\\KOVALE~1.KON\\\\AppData\\\\Local\\\\Temp', 'UATDATA': 'C:\\\\Windows\\\\CCM\\\\UATData\\\\D9F8C395-CAB8-491d-B8AC-179A1FE1BE77', 'USERDNSDOMAIN': 'INFOTECS-NT', 'USERDOMAIN': 'INFOTECS-NT', 'USERDOMAIN_ROAMINGPROFILE': 'INFOTECS-NT', 'USERNAME': 'Kovalenko.Kon', 'USERPROFILE': 'C:\\\\Users\\\\Kovalenko.Kon', 'WEBIDE_VM_OPTIONS': 'C:\\\\Program Files\\\\JetBrains\\\\Activate\\\\vmoptions\\\\webide.vmoptions', 'WEBSTORM_VM_OPTIONS': 'C:\\\\Program Files\\\\JetBrains\\\\Activate\\\\vmoptions\\\\webstorm.vmoptions', 'WINDIR': 'C:\\\\Windows', 'PYDEVD_USE_FRAME_EVAL': 'NO', 'TERM': 'xterm-color', 'CLICOLOR': '1', 'FORCE_COLOR': '1', 'CLICOLOR_FORCE': '1', 'PAGER': 'cat', 'GIT_PAGER': 'cat', 'MPLBACKEND': 'module://matplotlib_inline.backend_inline'})\n"
     ]
    }
   ],
   "source": [
    "import os\n",
    "print(os.environ)"
   ],
   "metadata": {
    "collapsed": false,
    "ExecuteTime": {
     "end_time": "2024-10-30T07:23:04.269120700Z",
     "start_time": "2024-10-30T07:23:04.263766900Z"
    }
   },
   "id": "15a11e699dc8c65a"
  },
  {
   "cell_type": "markdown",
   "source": [
    "При помощи функции getenv можно получить доступ к различным переменным среды. Чтобы сделать это, достаточно передать в качестве аргумента необходимое название переменной, как в следующем примере, где print выводит на экран сведения о TMP на дисплей в консоль."
   ],
   "metadata": {
    "collapsed": false
   },
   "id": "f8401810d28a3c0"
  },
  {
   "cell_type": "code",
   "execution_count": 3,
   "outputs": [
    {
     "name": "stdout",
     "output_type": "stream",
     "text": [
      "C:\\Users\\KOVALE~1.KON\\AppData\\Local\\Temp\n"
     ]
    }
   ],
   "source": [
    "import os\n",
    "print(os.getenv(\"TMP\"))"
   ],
   "metadata": {
    "collapsed": false,
    "ExecuteTime": {
     "end_time": "2024-10-30T07:23:51.533137300Z",
     "start_time": "2024-10-30T07:23:51.527624800Z"
    }
   },
   "id": "8498b7286a327941"
  },
  {
   "cell_type": "markdown",
   "source": [
    "Изменение рабочей директории"
   ],
   "metadata": {
    "collapsed": false
   },
   "id": "75efcff61e009d96"
  },
  {
   "cell_type": "markdown",
   "source": [
    "По умолчанию рабочей директорией программы является каталог, где содержится документ с ее исходным кодом. Благодаря этому, можно не указывать абсолютный путь к файлу, если тот находится именно в этой папке. Получить сведения о текущей директории позволяет функция getcwd, которая возвращает полный адрес рабочего каталога на жестком диске."
   ],
   "metadata": {
    "collapsed": false
   },
   "id": "8f37a3415037ceb5"
  },
  {
   "cell_type": "code",
   "execution_count": 4,
   "outputs": [
    {
     "name": "stdout",
     "output_type": "stream",
     "text": [
      "D:\\Git\\Python-Generation-a-Course-for-Professionals\\4\n"
     ]
    }
   ],
   "source": [
    "import os\n",
    "print(os.getcwd())"
   ],
   "metadata": {
    "collapsed": false,
    "ExecuteTime": {
     "end_time": "2024-10-30T07:25:06.179789700Z",
     "start_time": "2024-10-30T07:25:06.172782400Z"
    }
   },
   "id": "129c8c8b3d26382e"
  },
  {
   "cell_type": "markdown",
   "source": [
    "При желании, рабочую директорию можно настроить по своему усмотрению, применив метод chdir из библиотеки os. Для этого необходимо передать ему в качестве параметра абсолютный адрес к новому каталогу. Если указанного пути на самом деле не существует, программа будет завершена в аварийном режиме из-за выброшенного исключения"
   ],
   "metadata": {
    "collapsed": false
   },
   "id": "3feee0b40ad41f16"
  },
  {
   "cell_type": "code",
   "execution_count": null,
   "outputs": [],
   "source": [
    "import os\n",
    "os.chdir(r\"D:\\folder\")"
   ],
   "metadata": {
    "collapsed": false
   },
   "id": "9b58123cc20a47a"
  },
  {
   "cell_type": "markdown",
   "source": [
    "Проверка существования пути"
   ],
   "metadata": {
    "collapsed": false
   },
   "id": "2c5869d18705cb62"
  },
  {
   "cell_type": "markdown",
   "source": [
    "Чтобы избежать ошибок, связанных с отсутствием определенного файла или директории, которые должны быть обработаны программой, следует предварительно проверять их наличие с помощью метода exists."
   ],
   "metadata": {
    "collapsed": false
   },
   "id": "7770e9fe46cbe3df"
  },
  {
   "cell_type": "code",
   "execution_count": 5,
   "outputs": [
    {
     "name": "stdout",
     "output_type": "stream",
     "text": [
      "False\n"
     ]
    }
   ],
   "source": [
    "import os\n",
    "print(os.path.isfile(\"D:/test.txt\"))"
   ],
   "metadata": {
    "collapsed": false,
    "ExecuteTime": {
     "end_time": "2024-10-30T07:26:20.682057400Z",
     "start_time": "2024-10-30T07:26:20.674963700Z"
    }
   },
   "id": "4be7f9344c6efebe"
  },
  {
   "cell_type": "markdown",
   "source": [
    "Аналогичные действия можно выполнить и для проверки объекта на принадлежность к классу директорий, вызвав для его адреса метод isdir из библиотеки os."
   ],
   "metadata": {
    "collapsed": false
   },
   "id": "49150f3a6ab26032"
  },
  {
   "cell_type": "code",
   "execution_count": 7,
   "outputs": [
    {
     "name": "stdout",
     "output_type": "stream",
     "text": [
      "True\n"
     ]
    }
   ],
   "source": [
    "import os\n",
    "print(os.path.isdir(\"D:/\"))"
   ],
   "metadata": {
    "collapsed": false,
    "ExecuteTime": {
     "end_time": "2024-10-30T07:27:07.341037500Z",
     "start_time": "2024-10-30T07:27:07.331371200Z"
    }
   },
   "id": "3f67f96b0082a9f2"
  },
  {
   "cell_type": "markdown",
   "source": [
    "Создание директорий"
   ],
   "metadata": {
    "collapsed": false
   },
   "id": "8a38f89fa4d08ba4"
  },
  {
   "cell_type": "markdown",
   "source": [
    "Возможности модуля os позволяют не только отображать информацию об уже существующих в памяти объектах, но и генерировать абсолютно новые. Например, с помощью метода mkdir довольно легко создать папку, просто указав для нее желаемый путь. В следующем примере в корневом каталоге диска D производится новая папка под названием folder через mkdir."
   ],
   "metadata": {
    "collapsed": false
   },
   "id": "c614c7923fb68d07"
  },
  {
   "cell_type": "code",
   "execution_count": null,
   "outputs": [],
   "source": [
    "import os\n",
    "os.mkdir(r\"D:\\folder\")"
   ],
   "metadata": {
    "collapsed": false
   },
   "id": "282aa79f03be1918"
  },
  {
   "cell_type": "markdown",
   "source": [
    "Однако на этом возможности по генерации директорий не заканчиваются. Благодаря функции makedirs можно создавать сразу несколько новых папок в неограниченном количестве, если предыдущая директория является родительской для следующей. Таким образом, в следующем примере показывается генерация целой цепочки папок из folder, first, second и third."
   ],
   "metadata": {
    "collapsed": false
   },
   "id": "f43414d6f90e72be"
  },
  {
   "cell_type": "code",
   "execution_count": null,
   "outputs": [],
   "source": [
    "import os\n",
    "os.makedirs(r\"D:\\folder\\first\\second\\third\")"
   ],
   "metadata": {
    "collapsed": false
   },
   "id": "4dcc91d0d469a91f"
  },
  {
   "cell_type": "markdown",
   "source": [
    "Удаление файлов и директорий"
   ],
   "metadata": {
    "collapsed": false
   },
   "id": "98fbbabd644556ea"
  },
  {
   "cell_type": "markdown",
   "source": [
    "Избавиться от ненужного в дальнейшей работе файла можно с помощью метода remove, отдав ему в качестве аргумента абсолютный либо относительный путь к объекту."
   ],
   "metadata": {
    "collapsed": false
   },
   "id": "dc923e32ad5aab5f"
  },
  {
   "cell_type": "code",
   "execution_count": null,
   "outputs": [],
   "source": [
    "import os\n",
    "os.remove(r\"D:\\test.txt\")"
   ],
   "metadata": {
    "collapsed": false
   },
   "id": "bc9eeaf38352d987"
  },
  {
   "cell_type": "markdown",
   "source": [
    "Чтобы стереть из памяти папку, следует воспользоваться встроенной функцией rmdir, указав ей адрес объекта. Однако здесь присутствуют определенные нюансы, поскольку программа не позволит беспрепятственно удалить директорию, в которой хранятся другие объекты. В таком случае на экране отобразится ошибка и будет выброшено исключение. В следующем примере производится процедура удаления пустой директории folder при помощи метода rmdir."
   ],
   "metadata": {
    "collapsed": false
   },
   "id": "b90177ecdb833b6f"
  },
  {
   "cell_type": "code",
   "execution_count": null,
   "outputs": [],
   "source": [
    "import os\n",
    "os.rmdir(r\"D:\\folder\")"
   ],
   "metadata": {
    "collapsed": false
   },
   "id": "f6fb235877a782b5"
  },
  {
   "cell_type": "markdown",
   "source": [
    "Для быстрого удаления множества пустых папок следует вызывать функцию removedirs. Она предоставляет возможность избавиться сразу от нескольких каталогов на диске, при условии, что все они вложены друг в друга. Таким образом, указав путь к конечной папке, можно легко удалить все родительские директории, но только если они в результате оказываются пустыми. В примере показано мгновенное удаление четырех разных папок: folder, first, second, third."
   ],
   "metadata": {
    "collapsed": false
   },
   "id": "3dbc66ccf2783248"
  },
  {
   "cell_type": "code",
   "execution_count": null,
   "outputs": [],
   "source": [
    "import os\n",
    "os.removedirs(r\"D:\\folder\\first\\second\\third\")"
   ],
   "metadata": {
    "collapsed": false
   },
   "id": "bf4546b8874c7ada"
  },
  {
   "cell_type": "markdown",
   "source": [
    "Запуск на исполнение"
   ],
   "metadata": {
    "collapsed": false
   },
   "id": "9413f287e530302b"
  },
  {
   "cell_type": "markdown",
   "source": [
    "Встроенные функции библиотеки os позволяют запускать отдельные файлы и папки прямиком из программы. С этой задачей прекрасно справляется метод startfile, которому стоит передать адрес необходимо объекта. Программное обеспечение, используемое для открытия документа, определяется средой автоматически. Например, при запуске обычного файла test.txt, как это сделано в следующем примере, задействуется стандартный блокнот. Если передать функции ссылку на директорию, она будет открыта при помощи встроенного менеджера файлов."
   ],
   "metadata": {
    "collapsed": false
   },
   "id": "b09f8fada20eba5e"
  },
  {
   "cell_type": "code",
   "execution_count": null,
   "outputs": [],
   "source": [
    "import os\n",
    "os.startfile(r\"D:\\test.txt\")"
   ],
   "metadata": {
    "collapsed": false
   },
   "id": "57d4917df81a3653"
  },
  {
   "cell_type": "markdown",
   "source": [
    "Получение имени файла и директории"
   ],
   "metadata": {
    "collapsed": false
   },
   "id": "25301b0249e52069"
  },
  {
   "cell_type": "markdown",
   "source": [
    "Иногда для взаимодействия с документом необходимо получить его полное имя, включающее разрешение, но не абсолютный путь к нему на диске. Преобразовать адрес объекта в название позволяет функция basename, которая содержится в подмодуле path из библиотеки os. Таким образом, следующий пример показывает преобразование пути test.txt в простое имя файла."
   ],
   "metadata": {
    "collapsed": false
   },
   "id": "5e1f8682bd2afa62"
  },
  {
   "cell_type": "code",
   "execution_count": 8,
   "outputs": [
    {
     "name": "stdout",
     "output_type": "stream",
     "text": [
      "test.txt\n"
     ]
    }
   ],
   "source": [
    "import os\n",
    "print(os.path.basename(\"D:/test.txt\"))"
   ],
   "metadata": {
    "collapsed": false,
    "ExecuteTime": {
     "end_time": "2024-10-30T07:31:05.364164500Z",
     "start_time": "2024-10-30T07:31:05.361300900Z"
    }
   },
   "id": "52d0b64ebb5e3715"
  },
  {
   "cell_type": "markdown",
   "source": [
    "Обратная ситуация возникает тогда, когда пользователю нужно получить только путь к файлу, без самого названия объекта. Это поможет сделать метод dirname, который возвращает путь к заданному документу в строковом представлении, как это продемонстрировано в небольшом примере ниже. Здесь print выводит на экран адрес текстового документа в папке folder."
   ],
   "metadata": {
    "collapsed": false
   },
   "id": "a17e1c08ebc0d904"
  },
  {
   "cell_type": "code",
   "execution_count": 9,
   "outputs": [
    {
     "name": "stdout",
     "output_type": "stream",
     "text": [
      "D:/folder\n"
     ]
    }
   ],
   "source": [
    "import os\n",
    "print(os.path.dirname(\"D:/folder/test.txt\"))"
   ],
   "metadata": {
    "collapsed": false,
    "ExecuteTime": {
     "end_time": "2024-10-30T07:32:11.201913Z",
     "start_time": "2024-10-30T07:32:11.198237300Z"
    }
   },
   "id": "c0cc52b5a71866cc"
  },
  {
   "cell_type": "markdown",
   "source": [
    "Вычисление размера"
   ],
   "metadata": {
    "collapsed": false
   },
   "id": "5a495cb7290289c1"
  },
  {
   "cell_type": "markdown",
   "source": [
    "Чтобы определить размер документа или папки, стоит воспользоваться функцией getsize, как это показано в следующем примере для файла test.txt. Функция print выводит размер данного документа в байтах. Воспользоваться getsize можно и для измерения объема директорий."
   ],
   "metadata": {
    "collapsed": false
   },
   "id": "68d2890d8b19a86b"
  },
  {
   "cell_type": "code",
   "execution_count": 11,
   "outputs": [
    {
     "name": "stdout",
     "output_type": "stream",
     "text": [
      "1296066\n"
     ]
    }
   ],
   "source": [
    "import os\n",
    "print(os.path.getsize(\"D:\\\\install.log\"))"
   ],
   "metadata": {
    "collapsed": false,
    "ExecuteTime": {
     "end_time": "2024-10-30T07:32:55.798027Z",
     "start_time": "2024-10-30T07:32:55.794026900Z"
    }
   },
   "id": "a13f8b96d4f0aa84"
  },
  {
   "cell_type": "markdown",
   "source": [
    "Переименование"
   ],
   "metadata": {
    "collapsed": false
   },
   "id": "208320aabbdee1c1"
  },
  {
   "cell_type": "markdown",
   "source": [
    "Библиотека os предоставляет возможность быстрой смены названия для любого файла или же каталога при помощи метода rename. Данная функция принимает сразу два разных аргумента. Первый отвечает за путь к старому наименованию документа, в то время как второй отвечает за его новое название. В примере показано переименование директории folder в catalog. Стоит помнить, что метод может генерировать исключение, если по указанному пути нет файла."
   ],
   "metadata": {
    "collapsed": false
   },
   "id": "c061e41ef9fca5f9"
  },
  {
   "cell_type": "code",
   "execution_count": null,
   "outputs": [],
   "source": [
    "import os\n",
    "os.rename(r\"D:\\folder\", r\"D:\\catalog\")"
   ],
   "metadata": {
    "collapsed": false
   },
   "id": "efba7f2bc0dc60bd"
  },
  {
   "cell_type": "markdown",
   "source": [
    "Переименовывать можно не только один каталог, но и несколько папок сразу, только если все они находятся в одной иерархической цепочке. Для этого достаточно вызвать метод renames и передать ему путь к конечной директории в качестве первого аргумента. В роли же второго параметра выступает аналогичный адрес к папке, но только с новыми именами всей цепочки. Следующий пример демонстрирует правильное использование функции renames, за счет чего было произведено переименование директорий folder, first и second в catalog, one и two."
   ],
   "metadata": {
    "collapsed": false
   },
   "id": "7e0b8c59b3fb14ed"
  },
  {
   "cell_type": "code",
   "execution_count": null,
   "outputs": [],
   "source": [
    "import os\n",
    "os.renames(r\"D:\\folder\\first\\second\", r\"D:\\catalog\\one\\two\")"
   ],
   "metadata": {
    "collapsed": false
   },
   "id": "cf88f6d4c9068503"
  },
  {
   "cell_type": "markdown",
   "source": [
    "Содержимое директорий"
   ],
   "metadata": {
    "collapsed": false
   },
   "id": "62cb5ca5a1c84554"
  },
  {
   "cell_type": "markdown",
   "source": [
    "Проверить наличие в каталоге определенных объектов позволяет функция listdir. С её помощью можно получить информацию о файлах и папках в виде списка. В программе немного ниже показано, как метод принимает в качестве параметра путь к каталогу folder на диске D, а затем выводит название внутренней папки first и документа test.txt, вывод в консоль осуществляется с помощью print."
   ],
   "metadata": {
    "collapsed": false
   },
   "id": "ed0ca3e3b2913b2e"
  },
  {
   "cell_type": "code",
   "execution_count": 17,
   "outputs": [
    {
     "name": "stdout",
     "output_type": "stream",
     "text": [
      "['$RECYCLE.BIN', '123.xlsx', 'BackUp', 'Data', 'DUMP1414.tmp', 'DumpStack.log', 'DumpStack.log.tmp', 'FAS_Overhead_Items.xlsx', 'Git', 'install.log', 'installer.exe', 'kos_июль_RKR_2024_report_IND_v3.7.xlsb', 'kos_июнь_RKR_2024_report_IND_v3.7.xlsb', 'main.zip', 'Nickname_Month_RKR_2024_report_IND_v3.7.xlsb', 'pagefile.sys', 'System Volume Information', 'Temp', 'Victoria537', 'Victoria537.zip', 'Бюджет', 'Бюджет оплаты труда питания страховых взносов АО ПМ.xlsx', 'Ваня.xlsx', 'Должностная инструкция.pdf', 'Заключение', 'Клиники по программе.xlsx', 'Книга1.xlsx', 'Копия 2024 1) Бюджет оплаты труда питания страховых взносов АО ПМ 2024 г.(общая) 2024 г_.xlsx', 'Моя запись 6 — копия.m4a', 'НПА', 'Обучение', 'Письма от ВП', 'РКМ', 'Сводный отчет НОВЫЙ 2022-2024 с 15.04.2024.xlsx', 'Список сотрудников 11.04.2024=выплаты(1).xls', 'Справки', 'Формы']\n"
     ]
    }
   ],
   "source": [
    "import os\n",
    "print(os.listdir(r\"D:\\\\\"))"
   ],
   "metadata": {
    "collapsed": false,
    "ExecuteTime": {
     "end_time": "2024-10-30T07:35:47.399902900Z",
     "start_time": "2024-10-30T07:35:47.397003700Z"
    }
   },
   "id": "5561957bc2530314"
  },
  {
   "cell_type": "markdown",
   "source": [
    "Воспользовавшись методом walk, можно получить доступ к названиям и путям всех подпапок и файлов, относящихся к заданному каталогу. Применив один внешний цикл for, а также два вложенных, несложно получить информацию об объектах в каталоге folder через специальные списки directories и files. Сведения выдаются с помощью многократного обращения к print."
   ],
   "metadata": {
    "collapsed": false
   },
   "id": "9937d1e6a83ad353"
  },
  {
   "cell_type": "code",
   "execution_count": 18,
   "outputs": [],
   "source": [
    "import os\n",
    "for root, directories, files in os.walk(r\"D:\\folder\"):\n",
    "    print(root)\n",
    "    for directory in directories:\n",
    "        print(directory)\n",
    "    for file in files:\n",
    "        print(file)"
   ],
   "metadata": {
    "collapsed": false,
    "ExecuteTime": {
     "end_time": "2024-10-30T07:37:11.153164900Z",
     "start_time": "2024-10-30T07:37:11.149653200Z"
    }
   },
   "id": "ebbdd44f7b9fe05c"
  },
  {
   "cell_type": "markdown",
   "source": [
    "Информация о файлах и директориях"
   ],
   "metadata": {
    "collapsed": false
   },
   "id": "2719fd3be9eee179"
  },
  {
   "cell_type": "markdown",
   "source": [
    "Вывести на экран или в любое другое место основные сведения об объекте можно через метод stat. Поместив ему в качестве параметра расположение файла или папки на диске компьютера, стоит ожидать небольшой массив информации. Здесь можно найти данные о размере объекта в байтах, а также некие числовые значения, отображающие доступ и режим его работы."
   ],
   "metadata": {
    "collapsed": false
   },
   "id": "59fcb1c604276dd0"
  },
  {
   "cell_type": "code",
   "execution_count": 25,
   "outputs": [
    {
     "name": "stdout",
     "output_type": "stream",
     "text": [
      "os.stat_result(st_mode=33206, st_ino=4785074604090232, st_dev=10013274165182445419, st_nlink=1, st_uid=0, st_gid=0, st_size=1296066, st_atime=1729976331, st_mtime=1708590979, st_ctime=1708582159)\n",
      "4785074604090232\n",
      "1708582159\n"
     ]
    }
   ],
   "source": [
    "import os\n",
    "print(os.stat(r\"D:\\install.log\"))\n",
    "print(os.stat(r\"D:\\install.log\")[1])\n",
    "print(os.stat(r\"D:\\install.log\")[-1])"
   ],
   "metadata": {
    "collapsed": false,
    "ExecuteTime": {
     "end_time": "2024-10-30T07:39:08.795856500Z",
     "start_time": "2024-10-30T07:39:08.792523800Z"
    }
   },
   "id": "a2b9d4a54ab5abfc"
  },
  {
   "cell_type": "markdown",
   "source": [
    "Обработка путей"
   ],
   "metadata": {
    "collapsed": false
   },
   "id": "d382173ecc9f715b"
  },
  {
   "cell_type": "markdown",
   "source": [
    "Возвращаясь к классу path из библиотеки os, стоит принять во внимание функцию split, позволяющую очень легко разъединять путь к файлу и имя файла в различные строки. Это демонстрируется на следующем примере с текстовым документом test.txt в папке folder."
   ],
   "metadata": {
    "collapsed": false
   },
   "id": "ff98c934fca42d17"
  },
  {
   "cell_type": "code",
   "execution_count": 26,
   "outputs": [
    {
     "name": "stdout",
     "output_type": "stream",
     "text": [
      "('D:\\\\Data', 'Temporary.xlsx')\n"
     ]
    }
   ],
   "source": [
    "import os\n",
    "print(os.path.split(r\"D:\\Data\\Temporary.xlsx\"))"
   ],
   "metadata": {
    "collapsed": false,
    "ExecuteTime": {
     "end_time": "2024-10-30T07:40:10.452489300Z",
     "start_time": "2024-10-30T07:40:10.447958100Z"
    }
   },
   "id": "240d7f74fa03fbca"
  },
  {
   "cell_type": "markdown",
   "source": [
    "Обратное действие выполняет функция join, позволяя легко соединить путь к документу с его названием. Как видно из результатов работы данного кода, благодаря print на экране будет отображаться путь, который ссылается на текстовый файл test.txt в каталоге folder на D."
   ],
   "metadata": {
    "collapsed": false
   },
   "id": "b86577169bd158ad"
  },
  {
   "cell_type": "code",
   "execution_count": 27,
   "outputs": [
    {
     "name": "stdout",
     "output_type": "stream",
     "text": [
      "D:\\Data\\Temporary.xlsx\n"
     ]
    }
   ],
   "source": [
    "import os\n",
    "print(os.path.join(r\"D:\\Data\", \"Temporary.xlsx\"))"
   ],
   "metadata": {
    "collapsed": false,
    "ExecuteTime": {
     "end_time": "2024-10-30T07:41:12.547008100Z",
     "start_time": "2024-10-30T07:41:12.543489100Z"
    }
   },
   "id": "1b73522cedc46bc5"
  }
 ],
 "metadata": {
  "kernelspec": {
   "display_name": "Python 3",
   "language": "python",
   "name": "python3"
  },
  "language_info": {
   "codemirror_mode": {
    "name": "ipython",
    "version": 2
   },
   "file_extension": ".py",
   "mimetype": "text/x-python",
   "name": "python",
   "nbconvert_exporter": "python",
   "pygments_lexer": "ipython2",
   "version": "2.7.6"
  }
 },
 "nbformat": 4,
 "nbformat_minor": 5
}
