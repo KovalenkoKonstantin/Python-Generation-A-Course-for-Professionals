{
 "cells": [
  {
   "cell_type": "markdown",
   "source": [
    "Во время решения очередной задачи программист фиксирует время начала и окончания ее решения и добавляет полученные результаты в список data. Каждый результат представляет собой кортеж, первым элементом которого является время начала решения в виде строки в формате HH:MM, вторым элементом — время окончания решения в виде строки в том же формате. Дополните приведенный ниже код, чтобы он вывел общее целое количество минут, которое программист затратил на решение всех задач."
   ],
   "metadata": {
    "collapsed": false
   },
   "id": "7691329f2b4736ae"
  },
  {
   "cell_type": "code",
   "execution_count": 12,
   "outputs": [
    {
     "name": "stdout",
     "output_type": "stream",
     "text": [
      "545\n"
     ]
    }
   ],
   "source": [
    "from datetime import date, time, datetime, timedelta\n",
    "\n",
    "data = [('07:14', '08:46'),\n",
    "        ('09:01', '09:37'),\n",
    "        ('10:00', '11:43'),\n",
    "        ('12:13', '13:49'),\n",
    "        ('15:00', '15:19'),\n",
    "        ('15:58', '17:24'),\n",
    "        ('17:57', '19:21'),\n",
    "        ('19:30', '19:59')]\n",
    "\n",
    "data = [[datetime.strptime(item, '%H:%M') for item in row] for row in data]\n",
    "# print(*data)\n",
    "sm = timedelta()\n",
    "for i in data:\n",
    "    sm += i[1] - i[0]\n",
    "\n",
    "print(int(sm.seconds / 60))"
   ],
   "metadata": {
    "collapsed": false,
    "ExecuteTime": {
     "end_time": "2024-09-23T05:34:39.442463300Z",
     "start_time": "2024-09-23T05:34:39.439305900Z"
    }
   },
   "id": "b1eed451a1bdfb63"
  },
  {
   "cell_type": "code",
   "execution_count": 13,
   "outputs": [
    {
     "name": "stdout",
     "output_type": "stream",
     "text": [
      "545\n"
     ]
    }
   ],
   "source": [
    "from datetime import date, time, datetime, timedelta\n",
    "\n",
    "data = [('07:14', '08:46'),\n",
    "        ('09:01', '09:37'),\n",
    "        ('10:00', '11:43'),\n",
    "        ('12:13', '13:49'),\n",
    "        ('15:00', '15:19'),\n",
    "        ('15:58', '17:24'),\n",
    "        ('17:57', '19:21'),\n",
    "        ('19:30', '19:59')]\n",
    "\n",
    "seconds = 0\n",
    "\n",
    "for tup in data:\n",
    "    start, end = [datetime.strptime(x, '%H:%M') for x in tup]\n",
    "    seconds += (end - start).total_seconds()\n",
    "\n",
    "print(int(seconds // 60))"
   ],
   "metadata": {
    "collapsed": false,
    "ExecuteTime": {
     "end_time": "2024-09-23T05:39:14.974238800Z",
     "start_time": "2024-09-23T05:39:14.970075100Z"
    }
   },
   "id": "a6f7b9aea3d4e398"
  },
  {
   "cell_type": "code",
   "execution_count": 14,
   "outputs": [
    {
     "name": "stdout",
     "output_type": "stream",
     "text": [
      "545\n"
     ]
    }
   ],
   "source": [
    "from datetime import date, time, datetime, timedelta\n",
    "\n",
    "data = [\n",
    "    (\"07:14\", \"08:46\"),\n",
    "    (\"09:01\", \"09:37\"),\n",
    "    (\"10:00\", \"11:43\"),\n",
    "    (\"12:13\", \"13:49\"),\n",
    "    (\"15:00\", \"15:19\"),\n",
    "    (\"15:58\", \"17:24\"),\n",
    "    (\"17:57\", \"19:21\"),\n",
    "    (\"19:30\", \"19:59\"),\n",
    "]\n",
    "\n",
    "pattern = \"%H:%M\"\n",
    "sec = 0\n",
    "for i in data:\n",
    "    start, end = map(lambda x: datetime.strptime(x, pattern), i)\n",
    "    sec += (end - start).seconds\n",
    "\n",
    "print(sec // 60)"
   ],
   "metadata": {
    "collapsed": false,
    "ExecuteTime": {
     "end_time": "2024-09-23T05:42:04.813043500Z",
     "start_time": "2024-09-23T05:42:04.808363500Z"
    }
   },
   "id": "509df0a5f340bc3e"
  },
  {
   "cell_type": "markdown",
   "source": [
    "Пятница, 13-е\n",
    "Число 13 считалось дьявольским издавна. Это имеет свое объяснение, и не одно: тут есть трактовки, связанные с Тайной вечерей — где были Христос и 12 апостолов, один из которых стал предателем. Есть поверье, что для шабаша нужны 12 ведьм и сатана. В истории число 13 в связке с пятницей стало «несчастливым» в 1307 году, когда король Франции Филипп Красивый отдал приказ схватить всех тамплиеров — членов рыцарского ордена крестоносцев. Все они были сожжены на кострах инквизиции, и произошло это в пятницу, 13 апреля.\n",
    "\n",
    "Докажите, что 13-е число месяца чаще всего приходится на пятницу. Напишите программу, которая вычисляет, сколько тринадцатых чисел приходится на каждый день недели в период с 01.01.0001 по 31.12.9999.\n",
    "\n",
    "Формат входных данных\n",
    "На вход программе ничего не подается.\n",
    "\n",
    "Формат выходных данных\n",
    "Программа должна вывести 7 чисел — количество тринадцатых чисел, которые приходятся на понедельник, вторник, среду, четверг, пятницу, субботу и воскресенье в период с 01.01.0001 по 31.12.9999. Числа должны быть расположены каждое на отдельной строке."
   ],
   "metadata": {
    "collapsed": false
   },
   "id": "f507a86fc3b3b294"
  },
  {
   "cell_type": "markdown",
   "source": [
    "вот ответ:\n",
    "\n",
    "17123\n",
    "17124\n",
    "17173\n",
    "17097\n",
    "17199\n",
    "17099\n",
    "17173"
   ],
   "metadata": {
    "collapsed": false
   },
   "id": "8afcc9f092cde85a"
  },
  {
   "cell_type": "code",
   "execution_count": 38,
   "outputs": [
    {
     "name": "stdout",
     "output_type": "stream",
     "text": [
      "17123\n",
      "17124\n",
      "17173\n",
      "17097\n",
      "17199\n",
      "17099\n",
      "17173\n"
     ]
    }
   ],
   "source": [
    "from datetime import datetime, timedelta\n",
    "\n",
    "pattern = \"%d.%m.%Y\"\n",
    "start = datetime.strptime('01.01.0001', pattern)\n",
    "end = datetime.strptime('31.12.9999', pattern)\n",
    "delta = (end - start).days + 1\n",
    "\n",
    "dic = {'mon': 0, 'tue': 0, 'wen': 0, 'thr': 0, 'fry': 0, 'sat': 0, 'sun': 0}\n",
    "\n",
    "for i in range(delta):\n",
    "    date = start + timedelta(days=i)\n",
    "    if date.isoweekday() == 1 and date.day == 13:\n",
    "        dic['mon'] += 1\n",
    "    elif date.isoweekday() == 2 and date.day == 13:\n",
    "        dic['tue'] += 1\n",
    "    elif date.isoweekday() == 3 and date.day == 13:\n",
    "        dic['wen'] += 1\n",
    "    elif date.isoweekday() == 4 and date.day == 13:\n",
    "        dic['thr'] += 1\n",
    "    elif date.isoweekday() == 5 and date.day == 13:\n",
    "        dic['fry'] += 1\n",
    "    elif date.isoweekday() == 6 and date.day == 13:\n",
    "        dic['sat'] += 1\n",
    "    elif date.isoweekday() == 7 and date.day == 13:\n",
    "        dic['sun'] += 1\n",
    "\n",
    "for i in dic.keys():\n",
    "    print(dic[i])"
   ],
   "metadata": {
    "collapsed": false,
    "ExecuteTime": {
     "end_time": "2024-09-23T06:33:51.011025200Z",
     "start_time": "2024-09-23T06:33:48.311708300Z"
    }
   },
   "id": "bdb5d0db739c8a22"
  },
  {
   "cell_type": "code",
   "execution_count": 39,
   "outputs": [
    {
     "name": "stdout",
     "output_type": "stream",
     "text": [
      "17123\n",
      "17124\n",
      "17173\n",
      "17097\n",
      "17199\n",
      "17099\n",
      "17173\n"
     ]
    }
   ],
   "source": [
    "from datetime import datetime, timedelta\n",
    "\n",
    "dt1 = datetime(1, 1, 13)\n",
    "dict_count_day = {'Mon': 0, 'Tue': 0, 'Wed': 0, 'Thu': 0, 'Fri': 0, 'Sat': 0, 'Sun': 0}\n",
    "j = 1\n",
    "while j <= 9999:\n",
    "    dt1 = datetime(j, 1, 13)\n",
    "    for i in range(1, 13):\n",
    "        dt1 = datetime(dt1.year, i, 13)\n",
    "        dict_count_day[dt1.strftime('%a')] += 1\n",
    "    j += 1\n",
    "\n",
    "print(*dict_count_day.values(), sep='\\n')"
   ],
   "metadata": {
    "collapsed": false,
    "ExecuteTime": {
     "end_time": "2024-09-23T06:42:05.224898100Z",
     "start_time": "2024-09-23T06:42:04.931979600Z"
    }
   },
   "id": "90cd5b39f692a523"
  },
  {
   "cell_type": "markdown",
   "source": [
    "Снова не успел\n",
    "Дан режим работы магазина:\n",
    "\n",
    "Понедельник\t9:00 - 21:00\n",
    "Вторник\t9:00 - 21:00\n",
    "Среда\t9:00 - 21:00\n",
    "Четверг\t9:00 - 21:00\n",
    "Пятница\t9:00 - 21:00\n",
    "Суббота\t10:00 - 18:00\n",
    "Воскресенье\t10:00 - 18:00\n",
    "Напишите программу, которая принимает на вход текущие дату и время и определяет количество минут, оставшееся до закрытия магазина.\n",
    "\n",
    "Формат входных данных\n",
    "На вход программе подаются текущие дата и время в формате DD.MM.YYYY HH:MM.\n",
    "\n",
    "Формат выходных данных\n",
    "Программа должна вывести количество минут, которое осталось до закрытия магазина, или текст Магазин не работает, если он закрыт"
   ],
   "metadata": {
    "collapsed": false
   },
   "id": "f4e4f96b36a033f1"
  },
  {
   "cell_type": "code",
   "execution_count": null,
   "outputs": [],
   "source": [
    "from datetime import datetime, timedelta\n",
    "\n",
    "pattern = '%H:%M'\n",
    "dic = {1: (datetime.strptime('9:00', pattern).strftime(pattern), datetime.strptime('21:00', pattern).strftime(pattern)),\n",
    "       2: (datetime.strptime('9:00', pattern).strftime(pattern), datetime.strptime('21:00', pattern).strftime(pattern)),\n",
    "       3: (datetime.strptime('9:00', pattern).strftime(pattern), datetime.strptime('21:00', pattern).strftime(pattern)),\n",
    "       4: (datetime.strptime('9:00', pattern).strftime(pattern), datetime.strptime('21:00', pattern).strftime(pattern)),\n",
    "       5: (datetime.strptime('9:00', pattern).strftime(pattern), datetime.strptime('21:00', pattern).strftime(pattern)),\n",
    "       6: (\n",
    "       datetime.strptime('10:00', pattern).strftime(pattern), datetime.strptime('18:00', pattern).strftime(pattern)),\n",
    "       7: (\n",
    "       datetime.strptime('10:00', pattern).strftime(pattern), datetime.strptime('18:00', pattern).strftime(pattern))}\n",
    "\n",
    "request_pattern = '%d.%m.%Y %H:%M'\n",
    "request = datetime.strptime(input(), request_pattern)\n",
    "\n",
    "day = request.isoweekday()\n",
    "print(day)\n",
    "time = request.replace(year=1900, month=1, day=1)\n",
    "\n",
    "print(dic[day])\n",
    "print(time)\n",
    "\n",
    "start, end = [datetime.strptime(x, '%H:%M') for x in dic[day]]\n",
    "dif = (end - time)\n",
    "print(dif)\n",
    "print(type(dif))\n",
    "print(type(time))\n",
    "print(type(end))\n",
    "print(type(request))\n",
    "print(time >= start)\n",
    "print(time <= end)\n",
    "condition = start <= time < end\n",
    "\n",
    "if condition:\n",
    "    print(int(dif.total_seconds()) // 60)\n",
    "else:\n",
    "    print('Магазин не работает')"
   ],
   "metadata": {
    "collapsed": false
   },
   "id": "60a686efd81cec1c"
  },
  {
   "cell_type": "code",
   "execution_count": null,
   "outputs": [],
   "source": [
    "from datetime import datetime, timedelta\n",
    "\n",
    "dt = datetime.strptime(input(), '%d.%m.%Y %H:%M')\n",
    "td = timedelta(hours=dt.hour, minutes=dt.minute)\n",
    "\n",
    "if dt.weekday() < 5 and timedelta(hours=9) <= td < timedelta(hours=21):\n",
    "    print(int((timedelta(hours=21) - td).total_seconds() // 60))\n",
    "elif dt.weekday() > 4 and timedelta(hours=10) <= td < timedelta(hours=18):\n",
    "    print(int((timedelta(hours=18) - td).total_seconds() // 60))\n",
    "else:\n",
    "    print('Магазин не работает')"
   ],
   "metadata": {
    "collapsed": false
   },
   "id": "273780d244aca1a9"
  },
  {
   "cell_type": "markdown",
   "source": [
    "Самое понятное условие\n",
    "Даны две даты — левая и правая границы диапазона соответственно. Напишите программу, которая из этого диапазона, включая границы, выводит, начиная с даты, у которой сумма дня и месяца нечетная, каждую третью дату, только если она не понедельник и не четверг.\n",
    "\n",
    "Формат входных данных\n",
    "На вход программе подаются две даты в формате DD.MM.YYYY — левая и правая границы диапазона соответственно, каждая на отдельной строке. Гарантируется, что первая дата не больше второй.\n",
    "\n",
    "Формат выходных данных\n",
    "Программа должна из указанного диапазона, включая концы, вывести, начиная с даты, у которой сумма дня и месяца нечетная, каждую третью дату, только если она не понедельник и не четверг. Даты должны быть расположены каждая на отдельной строке, в формате DD.MM.YYYY.\n",
    "\n",
    "Примечание 1. Если дат, удовлетворяющих условию, нет, программа ничего не должна выводить.\n",
    "\n",
    "Примечание 2. Рассмотрим второй тест. Левая граница диапазона 07.03.2021 не является начальной датой, так как имеет четную сумму дня и месяца, поэтому в качестве начальной берем следующую дату 08.03.2021. Дата 08.03.2021 не выводится, так как является понедельником, поэтому двигаемся к следующей дате с шагом три: 11.03.2021. Дата 11.03.2021 не выводится, так как является четвергом."
   ],
   "metadata": {
    "collapsed": false
   },
   "id": "96ec70884161b206"
  },
  {
   "cell_type": "markdown",
   "source": [
    "02.11.2021\n",
    "05.11.2021"
   ],
   "metadata": {
    "collapsed": false
   },
   "id": "cb15d513aad482b0"
  },
  {
   "cell_type": "code",
   "execution_count": null,
   "outputs": [],
   "source": [
    "from datetime import datetime, timedelta\n",
    "\n",
    "pattern = '%d.%m.%Y'\n",
    "start, end = (datetime.strptime(input(), pattern) for _ in '12')\n",
    "print(start, end)\n",
    "print()\n",
    "\n",
    "delta = (end - start).days + 1\n",
    "initial_list = [start + timedelta(days=i) for i in range(delta)]\n",
    "print(initial_list)\n",
    "print()\n",
    "\n",
    "squeezed_list = [i for i in initial_list if (i.day + i.month) % 2 != 0]\n",
    "print(squeezed_list)\n",
    "print()\n",
    "\n",
    "if squeezed_list:\n",
    "    index = initial_list.index(squeezed_list[0])\n",
    "    print(index)\n",
    "    print()\n",
    "\n",
    "    final_list = initial_list[index:]\n",
    "    print(final_list)\n",
    "    print()\n",
    "    \n",
    "    for i, j in enumerate(final_list):\n",
    "        if j.isoweekday() != 1 and j.isoweekday() != 4 and i%3 ==0:\n",
    "            print(datetime.strftime(j, pattern))\n",
    "    \n",
    "else:\n",
    "    pass"
   ],
   "metadata": {
    "collapsed": false
   },
   "id": "d4ae7d15e564374e"
  },
  {
   "cell_type": "code",
   "execution_count": null,
   "outputs": [],
   "source": [
    "from datetime import datetime, timedelta\n",
    "\n",
    "pattern = '%d.%m.%Y'\n",
    "start = datetime.strptime(input(), pattern)\n",
    "end = datetime.strptime(input(), pattern)\n",
    "\n",
    "while not (start.month + start.day) % 2:\n",
    "    start += timedelta(days=1)\n",
    "\n",
    "while start <= end:\n",
    "    week = start.isoweekday()\n",
    "    if week in (2,3,5,6,7):\n",
    "        print(start.strftime(pattern))\n",
    "    start += timedelta(days=3)"
   ],
   "metadata": {
    "collapsed": false
   },
   "id": "eaaae8b37273ad26"
  },
  {
   "cell_type": "markdown",
   "source": [
    "Сотрудники организации 😄\n",
    "Дан список сотрудников организации, в котором указаны их фамилии, имена и даты рождения. Напишите программу, которая определяет самого старшего сотрудника из данного списка.\n",
    "\n",
    "Формат входных данных\n",
    "На вход программе в первой строке подается натуральное число n — количество сотрудников, работающих в организации. В последующих n строках вводятся данные о каждом сотруднике: имя, фамилия и дата рождения, разделённые пробелом. Дата рождения указывается в формате DD.MM.YYYY.\n",
    "\n",
    "Формат выходных данных\n",
    "Программа должна определить самого старшего сотрудника и вывести его дату рождения, имя и фамилию, разделив пробелом. Если таких сотрудников несколько, программа должна вывести их дату рождения, а также их количество, разделив пробелом.\n",
    "\n",
    "Примечание 1. Гарантируется, что у всех сотрудников имена и фамилии различны."
   ],
   "metadata": {
    "collapsed": false
   },
   "id": "f1df050a8987dae"
  },
  {
   "cell_type": "markdown",
   "source": [
    "29.04.1995 Петр Сергеев"
   ],
   "metadata": {
    "collapsed": false
   },
   "id": "3a3ede49be5d3744"
  },
  {
   "cell_type": "code",
   "execution_count": null,
   "outputs": [],
   "source": [
    "from datetime import datetime, timedelta\n",
    "\n",
    "pattern = '%d.%m.%Y'\n",
    "dic = {i[0] + ' ' + i[1]: datetime.strptime(i[2], pattern) for _ in range(int(input())) for i in [input().split()]}\n",
    "print(dic)\n",
    "print()\n",
    "\n",
    "mn = min(dic, key=dic.get)\n",
    "print(dic[mn])\n",
    "print()\n",
    "\n",
    "cnt = 0\n",
    "for i in dic.values():\n",
    "    print(i)\n",
    "    if i == dic[mn]:\n",
    "        cnt +=1\n",
    "        \n",
    "print(cnt)\n",
    "print()\n",
    "\n",
    "check = cnt == 1\n",
    "\n",
    "if check:\n",
    "    print(datetime.strftime(dic[mn], pattern), mn)\n",
    "else:\n",
    "    print(datetime.strftime(dic[mn], pattern), cnt)"
   ],
   "metadata": {
    "collapsed": false
   },
   "id": "fe9e556a8c4cf28d"
  },
  {
   "cell_type": "code",
   "execution_count": null,
   "outputs": [],
   "source": [
    "from datetime import datetime, timedelta\n",
    "\n",
    "data = {}\n",
    "youngest = datetime.max\n",
    "pattern = '%d.%m.%Y'\n",
    "\n",
    "for _ in range(int(input())):\n",
    "    *name, birthday = input().split()\n",
    "    name, birthday = ' '.join(name), datetime.strptime(birthday, pattern)\n",
    "    if birthday < youngest:\n",
    "        youngest = birthday\n",
    "    data[name] = birthday\n",
    "    \n",
    "oldest = [name for name, bd in data.items() if bd == youngest]\n",
    "\n",
    "if len(oldest) > 1:\n",
    "    print(youngest.strftime(pattern), len(oldest))\n",
    "else:\n",
    "    print(youngest.strftime(pattern), oldest[0])"
   ],
   "metadata": {
    "collapsed": false
   },
   "id": "c85ffe99a4de3abd"
  },
  {
   "cell_type": "code",
   "execution_count": null,
   "outputs": [],
   "source": [
    "import sys\n",
    "\n",
    "d = {' '.join(k): v.strip() for *k, v in map(str.split, sys.stdin.readlines()[1:])}"
   ],
   "metadata": {
    "collapsed": false
   },
   "id": "28c6cd5dfb0a40db"
  }
 ],
 "metadata": {
  "kernelspec": {
   "display_name": "Python 3",
   "language": "python",
   "name": "python3"
  },
  "language_info": {
   "codemirror_mode": {
    "name": "ipython",
    "version": 2
   },
   "file_extension": ".py",
   "mimetype": "text/x-python",
   "name": "python",
   "nbconvert_exporter": "python",
   "pygments_lexer": "ipython2",
   "version": "2.7.6"
  }
 },
 "nbformat": 4,
 "nbformat_minor": 5
}
