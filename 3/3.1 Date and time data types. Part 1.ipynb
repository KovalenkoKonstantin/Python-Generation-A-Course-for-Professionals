{
 "cells": [
  {
   "cell_type": "markdown",
   "source": [
    "Модуль datetime"
   ],
   "metadata": {
    "collapsed": false
   },
   "id": "9beb1e3a907fd7eb"
  },
  {
   "cell_type": "markdown",
   "source": [
    "Время в компьютере хранится для человека в довольно неудобном виде. Это количество секунд, прошедших с полуночи 1 января 1970 года (00:00:00 UTC), этот момент называют «эпохой Unix». Для компьютера такая система удобна, ему так проще хранить время и, например, сравнивать даты. А вот для человека это совершенно непривычно."
   ],
   "metadata": {
    "collapsed": false
   },
   "id": "2ed832a9021f09bb"
  },
  {
   "cell_type": "markdown",
   "source": [
    "Для удобной работы с датой и временем в Python есть модуль datetime. Данный модуль используется для работы со временем и датами, позволяя представлять данную информацию в наиболее удобной форме."
   ],
   "metadata": {
    "collapsed": false
   },
   "id": "eaef5cdab1158a36"
  },
  {
   "cell_type": "markdown",
   "source": [
    "За счет множества встроенных методов, предназначенных для удобного отображения, а также манипуляции над временем и датами, повышается функциональность и простота программ."
   ],
   "metadata": {
    "collapsed": false
   },
   "id": "59b27d95437677d2"
  },
  {
   "cell_type": "markdown",
   "source": [
    "Модуль datetime состоит из нескольких типов данных. Благодаря их наличию, программист получает доступ ко многим полезным методам:\n",
    "\n",
    "получение текущих системных даты и времени\n",
    "вычисление разницы между датами и другие арифметические операции над ними\n",
    "сравнение даты и времени\n",
    "форматированный вывод информации о дате и времени"
   ],
   "metadata": {
    "collapsed": false
   },
   "id": "62f95e8e161634b"
  },
  {
   "cell_type": "markdown",
   "source": [
    "Типы данных модуля datetime"
   ],
   "metadata": {
    "collapsed": false
   },
   "id": "4ec658ab347933d8"
  },
  {
   "cell_type": "markdown",
   "source": [
    "Модуль datetime включает в себя несколько разных типов данных, каждый из которых обладает собственными методами и атрибутами, а также служит для определенных целей. Все они представлены в следующей таблице, где содержатся их названия и краткое описание."
   ],
   "metadata": {
    "collapsed": false
   },
   "id": "bdab23d81671955a"
  },
  {
   "cell_type": "markdown",
   "source": [
    "Название типа данных\tХарактеристика\n",
    "date\tпредставляет собой информацию о дате, исключая данные о времени, на основе Григорианского календаря\n",
    "time\tпредставляет собой информацию о времени, полностью исключая сведения о дате\n",
    "datetime\tсодержит информацию о времени и дате, основываясь на данных из Григорианского календаря\n",
    "timedelta\tописывает определенный период во времени, который находится между двумя различными моментами\n",
    "tzinfo\tпредставляет различные сведения о часовом поясе\n",
    "timezone\tописывает время, руководствуясь стандартом UTC"
   ],
   "metadata": {
    "collapsed": false
   },
   "id": "a49a991ebbc217a9"
  },
  {
   "cell_type": "markdown",
   "source": [
    "Тип данных date"
   ],
   "metadata": {
    "collapsed": false
   },
   "id": "225355dc2f078c4e"
  },
  {
   "cell_type": "markdown",
   "source": [
    "Тип данных (класс) date используется для представления данных о дате и включает информацию о годе, месяце и дне. Чтобы иметь возможность использовать этот тип данных, необходимо предварительно его импортировать из модуля datetime:"
   ],
   "metadata": {
    "collapsed": false
   },
   "id": "afbfa5851f312761"
  },
  {
   "cell_type": "code",
   "execution_count": null,
   "outputs": [],
   "source": [
    "from datetime import date"
   ],
   "metadata": {
    "collapsed": false
   },
   "id": "77af3c48541372b9"
  },
  {
   "cell_type": "markdown",
   "source": [
    "При создании новой даты (тип данных date) нужно указать год, месяц и день."
   ],
   "metadata": {
    "collapsed": false
   },
   "id": "7399ad21189623dd"
  },
  {
   "cell_type": "code",
   "execution_count": 1,
   "outputs": [
    {
     "name": "stdout",
     "output_type": "stream",
     "text": [
      "1992-10-06\n",
      "<class 'datetime.date'>\n"
     ]
    }
   ],
   "source": [
    "from datetime import date\n",
    "\n",
    "my_date = date(1992, 10, 6)    # тип date: год + месяц + день\n",
    "\n",
    "print(my_date)\n",
    "print(type(my_date))"
   ],
   "metadata": {
    "collapsed": false,
    "ExecuteTime": {
     "end_time": "2024-09-16T07:09:46.873475900Z",
     "start_time": "2024-09-16T07:09:46.865672700Z"
    }
   },
   "id": "3866da8a064aa56c"
  },
  {
   "cell_type": "markdown",
   "source": [
    "Конструктор типа date сначала принимает год, затем месяц, а уже потом день. Мы также можем использовать именованные аргументы, нарушая указанный порядок date(day=6, month=10, year=1992)."
   ],
   "metadata": {
    "collapsed": false
   },
   "id": "4e7d57f0cb8145d7"
  },
  {
   "cell_type": "markdown",
   "source": [
    "Указывая аргументы day, month, year, не следует забывать про ограничения. К примеру, нельзя указать значение day, большее 31, или значение month, большее 12."
   ],
   "metadata": {
    "collapsed": false
   },
   "id": "48058407885f6d47"
  },
  {
   "cell_type": "markdown",
   "source": [
    "Иногда приходится работать не только с общими сведениями о дате, но и с отдельными ее составляющими, такими как год, месяц или день. Получить доступ к ним можно с помощью атрибутов:"
   ],
   "metadata": {
    "collapsed": false
   },
   "id": "cd29f6253a834e33"
  },
  {
   "cell_type": "markdown",
   "source": [
    "year — год даты\n",
    "month — месяц даты\n",
    "day — день даты"
   ],
   "metadata": {
    "collapsed": false
   },
   "id": "4f93edd355e0b437"
  },
  {
   "cell_type": "code",
   "execution_count": 2,
   "outputs": [
    {
     "name": "stdout",
     "output_type": "stream",
     "text": [
      "Год = 1992\n",
      "Месяц = 10\n",
      "День = 6\n"
     ]
    }
   ],
   "source": [
    "from datetime import date\n",
    "\n",
    "my_date = date(1992, 10, 6)\n",
    "\n",
    "print('Год =', my_date.year)\n",
    "print('Месяц =', my_date.month)\n",
    "print('День =', my_date.day)"
   ],
   "metadata": {
    "collapsed": false,
    "ExecuteTime": {
     "end_time": "2024-09-16T07:10:53.325049500Z",
     "start_time": "2024-09-16T07:10:53.319571400Z"
    }
   },
   "id": "67cd0cb392762a40"
  },
  {
   "cell_type": "markdown",
   "source": [
    "Если необходимо получить информацию о текущей дате на компьютере, на котором выполняется программа, то используется встроенный метод today()."
   ],
   "metadata": {
    "collapsed": false
   },
   "id": "a2590120bbac2d95"
  },
  {
   "cell_type": "code",
   "execution_count": 3,
   "outputs": [
    {
     "name": "stdout",
     "output_type": "stream",
     "text": [
      "2024-09-16\n"
     ]
    }
   ],
   "source": [
    "from datetime import date\n",
    "\n",
    "creation_date = date.today()\n",
    "print(creation_date)"
   ],
   "metadata": {
    "collapsed": false,
    "ExecuteTime": {
     "end_time": "2024-09-16T07:11:15.733573800Z",
     "start_time": "2024-09-16T07:11:15.727530900Z"
    }
   },
   "id": "522ed9bc11e5b296"
  },
  {
   "cell_type": "markdown",
   "source": [
    "С помощью встроенного метода weekday() можно определить день недели (нумерация начинается с 0):\n",
    "\n",
    "0 = понедельник\n",
    "1 = вторник\n",
    "2 = среда\n",
    "3 = четверг\n",
    "4 = пятница\n",
    "5 = суббота\n",
    "6 = воскресенье"
   ],
   "metadata": {
    "collapsed": false
   },
   "id": "d47c7fd6a2fe0cc7"
  },
  {
   "cell_type": "code",
   "execution_count": 4,
   "outputs": [
    {
     "name": "stdout",
     "output_type": "stream",
     "text": [
      "5\n",
      "6\n"
     ]
    }
   ],
   "source": [
    "from datetime import date\n",
    "\n",
    "date1 = date(2022, 10, 15)\n",
    "date2 = date(1999, 12, 26)\n",
    "\n",
    "print(date1.weekday())\n",
    "print(date2.weekday())"
   ],
   "metadata": {
    "collapsed": false,
    "ExecuteTime": {
     "end_time": "2024-09-16T07:11:52.009051200Z",
     "start_time": "2024-09-16T07:11:52.002302100Z"
    }
   },
   "id": "da3b325aa1b82100"
  },
  {
   "cell_type": "markdown",
   "source": [
    "Если требуется определить день недели с нумерацией, начиная с 1, то используется метод isoweekday()"
   ],
   "metadata": {
    "collapsed": false
   },
   "id": "433b374a546b75b2"
  },
  {
   "cell_type": "code",
   "execution_count": 5,
   "outputs": [
    {
     "name": "stdout",
     "output_type": "stream",
     "text": [
      "6\n",
      "7\n"
     ]
    }
   ],
   "source": [
    "from datetime import date\n",
    "\n",
    "date1 = date(2022, 10, 15)\n",
    "date2 = date(1999, 12, 26)\n",
    "\n",
    "print(date1.isoweekday())\n",
    "print(date2.isoweekday())"
   ],
   "metadata": {
    "collapsed": false,
    "ExecuteTime": {
     "end_time": "2024-09-16T07:12:29.618428200Z",
     "start_time": "2024-09-16T07:12:29.611605900Z"
    }
   },
   "id": "2e613ee81a958f1b"
  },
  {
   "cell_type": "markdown",
   "source": [
    "Для получения минимально и максимально возможных дат (в рамках типа данных date) используются атрибуты min и max"
   ],
   "metadata": {
    "collapsed": false
   },
   "id": "58ff50f1cfc71109"
  },
  {
   "cell_type": "code",
   "execution_count": 6,
   "outputs": [
    {
     "name": "stdout",
     "output_type": "stream",
     "text": [
      "0001-01-01\n",
      "9999-12-31\n"
     ]
    }
   ],
   "source": [
    "from datetime import date\n",
    "\n",
    "print(date.min)\n",
    "print(date.max)"
   ],
   "metadata": {
    "collapsed": false,
    "ExecuteTime": {
     "end_time": "2024-09-16T07:12:53.884169200Z",
     "start_time": "2024-09-16T07:12:53.878623200Z"
    }
   },
   "id": "a8258501789d011c"
  },
  {
   "cell_type": "markdown",
   "source": [
    "Методы fromordinal() и toordinal() позволяют создать дату из номера дня, начиная с 0001-01-01, и наоборот, преобразовать дату в номер дня."
   ],
   "metadata": {
    "collapsed": false
   },
   "id": "7ec719651068eaaa"
  },
  {
   "cell_type": "code",
   "execution_count": 7,
   "outputs": [
    {
     "name": "stdout",
     "output_type": "stream",
     "text": [
      "0001-12-31\n",
      "730114\n"
     ]
    }
   ],
   "source": [
    "from datetime import date\n",
    "\n",
    "date1 = date.fromordinal(365)     # дата, соответствуюшая номеру дня 365\n",
    "date2 = date(1999, 12, 26)\n",
    "\n",
    "print(date1)\n",
    "print(date2.toordinal())          # номер дня, соответствующий дате 1999-12-26"
   ],
   "metadata": {
    "collapsed": false,
    "ExecuteTime": {
     "end_time": "2024-09-16T07:13:28.161313800Z",
     "start_time": "2024-09-16T07:13:28.156084100Z"
    }
   },
   "id": "e13fa512528cf7c3"
  },
  {
   "cell_type": "code",
   "execution_count": 9,
   "outputs": [
    {
     "name": "stdout",
     "output_type": "stream",
     "text": [
      "2024-09-16\n",
      "739145\n"
     ]
    }
   ],
   "source": [
    "from datetime import date\n",
    "\n",
    "now = date(2024, 9, 16)\n",
    "print(now)\n",
    "print(now.toordinal())"
   ],
   "metadata": {
    "collapsed": false,
    "ExecuteTime": {
     "end_time": "2024-09-16T07:15:32.768324700Z",
     "start_time": "2024-09-16T07:15:32.761371900Z"
    }
   },
   "id": "19341edb991d4cd5"
  },
  {
   "cell_type": "markdown",
   "source": [
    "Тип данных time"
   ],
   "metadata": {
    "collapsed": false
   },
   "id": "5ced3d8f681517b8"
  },
  {
   "cell_type": "markdown",
   "source": [
    "Тип данных (класс) time используется для представления данных о времени и включает информацию о часах, минутах, секундах и микросекундах. Данный тип данных полностью игнорирует информацию о дате."
   ],
   "metadata": {
    "collapsed": false
   },
   "id": "d1791db7c3de4518"
  },
  {
   "cell_type": "markdown",
   "source": [
    "Микросекунда (мкс) — единица времени, равная одной миллионной доле секунды (\n",
    "10 в степени −6  с)."
   ],
   "metadata": {
    "collapsed": false
   },
   "id": "47606b76ff069d12"
  },
  {
   "cell_type": "markdown",
   "source": [
    "При создании времени (тип данных time) нужно указать часы, минуты, секунды и микросекунды."
   ],
   "metadata": {
    "collapsed": false
   },
   "id": "a1ca2f777c66320a"
  },
  {
   "cell_type": "code",
   "execution_count": 10,
   "outputs": [
    {
     "name": "stdout",
     "output_type": "stream",
     "text": [
      "11:20:54.001234\n",
      "<class 'datetime.time'>\n"
     ]
    }
   ],
   "source": [
    "from datetime import time\n",
    "\n",
    "my_time = time(11, 20, 54, 1234)    # тип time: часы + минуты + секунды + микросекунды\n",
    "\n",
    "print(my_time)\n",
    "print(type(my_time))"
   ],
   "metadata": {
    "collapsed": false,
    "ExecuteTime": {
     "end_time": "2024-09-16T07:17:45.671327100Z",
     "start_time": "2024-09-16T07:17:45.665541500Z"
    }
   },
   "id": "32176db8b9661b2c"
  },
  {
   "cell_type": "markdown",
   "source": [
    "Конструктор типа time сначала принимает часы, затем минуты, секунды, а уже потом микросекунды. Мы можем использовать именованные аргументы (hour, minute, second, microsecond), нарушая указанный порядок. "
   ],
   "metadata": {
    "collapsed": false
   },
   "id": "bfd12cbfbce7017e"
  },
  {
   "cell_type": "markdown",
   "source": [
    "Указывая аргументы hour, minute, second, microsecond, не следует забывать про ограничения. К примеру, нельзя указать значение hour, большее \n",
    "23, или значение second, большее 59."
   ],
   "metadata": {
    "collapsed": false
   },
   "id": "6bbae7b6db7d4d8b"
  },
  {
   "cell_type": "markdown",
   "source": [
    "В отличие от дат (тип данных date), чтобы создать объект типа time, необязательно указывать все его атрибуты в конструкторе. Недостающие данные о времени автоматически заполняются нулями."
   ],
   "metadata": {
    "collapsed": false
   },
   "id": "32b235880678608a"
  },
  {
   "cell_type": "code",
   "execution_count": 11,
   "outputs": [
    {
     "name": "stdout",
     "output_type": "stream",
     "text": [
      "11:20:54.001234\n",
      "11:20:54\n",
      "11:20:00\n",
      "11:00:00\n",
      "00:00:00\n",
      "00:23:56\n"
     ]
    }
   ],
   "source": [
    "from datetime import time\n",
    "\n",
    "time1 = time(11, 20, 54, 1234)\n",
    "time2 = time(11, 20, 54)\n",
    "time3 = time(11, 20)\n",
    "time4 = time(11)\n",
    "time5 = time()\n",
    "time6 = time(minute=23, second=56)\n",
    "\n",
    "print(time1, time2, time3, time4, time5, sep='\\n')\n",
    "print(time6)"
   ],
   "metadata": {
    "collapsed": false,
    "ExecuteTime": {
     "end_time": "2024-09-16T07:19:05.494364200Z",
     "start_time": "2024-09-16T07:19:05.489618200Z"
    }
   },
   "id": "728366c4788e9e89"
  },
  {
   "cell_type": "markdown",
   "source": [
    "Так же, как и при работе с типом данных date, пользуясь типом time, можно получать доступ к отдельным значениям созданного времени: часам, минутам, секундам и микросекундам. Получить доступ к ним можно с помощью атрибутов:\n",
    "\n",
    "hour — часы времени\n",
    "minute — минуты времени\n",
    "second — секунды времени\n",
    "microsecond — микросекунды времени"
   ],
   "metadata": {
    "collapsed": false
   },
   "id": "b389fe817d9c39fd"
  },
  {
   "cell_type": "code",
   "execution_count": 12,
   "outputs": [
    {
     "name": "stdout",
     "output_type": "stream",
     "text": [
      "Часы = 11\n",
      "Минуты = 20\n",
      "Секунды = 54\n",
      "Микросекунды = 1234\n"
     ]
    }
   ],
   "source": [
    "from datetime import time\n",
    "\n",
    "my_time = time(11, 20, 54, 1234)\n",
    "\n",
    "print('Часы =', my_time.hour)\n",
    "print('Минуты =', my_time.minute)\n",
    "print('Секунды =', my_time.second)\n",
    "print('Микросекунды =', my_time.microsecond)"
   ],
   "metadata": {
    "collapsed": false,
    "ExecuteTime": {
     "end_time": "2024-09-16T07:19:45.300933100Z",
     "start_time": "2024-09-16T07:19:45.296071800Z"
    }
   },
   "id": "69d5c33d8fbe1fde"
  },
  {
   "cell_type": "markdown",
   "source": [
    "Сравнение дат и времени"
   ],
   "metadata": {
    "collapsed": false
   },
   "id": "c2e54942656f514a"
  },
  {
   "cell_type": "markdown",
   "source": [
    "Дату (тип date) и время (тип time) можно сравнивать с помощью операторов ==, !=, <, >, <= и  >=."
   ],
   "metadata": {
    "collapsed": false
   },
   "id": "a7fec98564eeb30a"
  },
  {
   "cell_type": "code",
   "execution_count": 13,
   "outputs": [
    {
     "name": "stdout",
     "output_type": "stream",
     "text": [
      "False\n",
      "True\n"
     ]
    }
   ],
   "source": [
    "from datetime import date, time\n",
    "\n",
    "date1 = date(2022, 10, 15)\n",
    "date2 = date(1999, 12, 26)\n",
    "\n",
    "time1 = time(13, 10, 5)\n",
    "time2 = time(21, 32, 59)\n",
    "\n",
    "print(date1 < date2)\n",
    "print(time1 < time2)"
   ],
   "metadata": {
    "collapsed": false,
    "ExecuteTime": {
     "end_time": "2024-09-16T07:20:15.293283800Z",
     "start_time": "2024-09-16T07:20:15.286905400Z"
    }
   },
   "id": "d1341301d0f189dd"
  },
  {
   "cell_type": "markdown",
   "source": [
    "Функции str() и repr()"
   ],
   "metadata": {
    "collapsed": false
   },
   "id": "8bf6cc7b7c2bccca"
  },
  {
   "cell_type": "markdown",
   "source": [
    "На практике часто используются две встроенные функции str() и repr(). С их помощью можно получить строковое представление объекта."
   ],
   "metadata": {
    "collapsed": false
   },
   "id": "175b0b5a465cbc42"
  },
  {
   "cell_type": "markdown",
   "source": [
    "Встроенная функция str() возвращает объект в неформальном (понятном человеку) строковом представлении."
   ],
   "metadata": {
    "collapsed": false
   },
   "id": "280fb7bb8578880"
  },
  {
   "cell_type": "code",
   "execution_count": 14,
   "outputs": [
    {
     "name": "stdout",
     "output_type": "stream",
     "text": [
      "2021-12-31\n",
      "11:20:54\n"
     ]
    }
   ],
   "source": [
    "from datetime import date, time\n",
    "\n",
    "my_date = date(2021, 12, 31)\n",
    "my_time = time(11, 20, 54)\n",
    "\n",
    "print(my_date)\n",
    "print(my_time)"
   ],
   "metadata": {
    "collapsed": false,
    "ExecuteTime": {
     "end_time": "2024-09-16T07:20:55.364980800Z",
     "start_time": "2024-09-16T07:20:55.358480100Z"
    }
   },
   "id": "197fae4deda71123"
  },
  {
   "cell_type": "markdown",
   "source": [
    "По сути мы наблюдаем результат работы функции str(), которая вызывается за кулисами и преобразует указанные объекты в читаемый для человека вид."
   ],
   "metadata": {
    "collapsed": false
   },
   "id": "9bef0305acb15036"
  },
  {
   "cell_type": "markdown",
   "source": [
    "Приведенный ниже код использует явный вызов функции str() и идентичен коду выше."
   ],
   "metadata": {
    "collapsed": false
   },
   "id": "b96b2fed93794202"
  },
  {
   "cell_type": "code",
   "execution_count": 15,
   "outputs": [
    {
     "name": "stdout",
     "output_type": "stream",
     "text": [
      "2021-12-31\n",
      "11:20:54\n"
     ]
    }
   ],
   "source": [
    "from datetime import date, time\n",
    "\n",
    "my_date = date(2021, 12, 31)\n",
    "my_time = time(11, 20, 54)\n",
    "\n",
    "print(str(my_date))\n",
    "print(str(my_time))"
   ],
   "metadata": {
    "collapsed": false,
    "ExecuteTime": {
     "end_time": "2024-09-16T07:21:45.757695800Z",
     "start_time": "2024-09-16T07:21:45.752392900Z"
    }
   },
   "id": "3f6190230547900"
  },
  {
   "cell_type": "markdown",
   "source": [
    "Встроенная функция repr() возвращает объект в формальном (понятном интерпретатору) строковом представлении."
   ],
   "metadata": {
    "collapsed": false
   },
   "id": "28415a41bce7523f"
  },
  {
   "cell_type": "code",
   "execution_count": 16,
   "outputs": [
    {
     "name": "stdout",
     "output_type": "stream",
     "text": [
      "datetime.date(2021, 12, 31)\n",
      "datetime.time(11, 20, 54)\n"
     ]
    }
   ],
   "source": [
    "from datetime import date, time\n",
    "\n",
    "my_date = date(2021, 12, 31)\n",
    "my_time = time(11, 20, 54)\n",
    "\n",
    "print(repr(my_date))\n",
    "print(repr(my_time))"
   ],
   "metadata": {
    "collapsed": false,
    "ExecuteTime": {
     "end_time": "2024-09-16T07:22:12.068856200Z",
     "start_time": "2024-09-16T07:22:12.062489Z"
    }
   },
   "id": "ea75e1eee4d7ac16"
  },
  {
   "cell_type": "markdown",
   "source": [
    "Для встроенных типов данных при печати одиночного значения объекта явно вызывать функцию str() не требуется, однако при печати списка таких объектов это требуется."
   ],
   "metadata": {
    "collapsed": false
   },
   "id": "104a5a7af82fb2cf"
  },
  {
   "cell_type": "code",
   "execution_count": 17,
   "outputs": [
    {
     "name": "stdout",
     "output_type": "stream",
     "text": [
      "[datetime.date(2021, 12, 31), datetime.date(2019, 10, 6), datetime.date(2022, 11, 8)]\n"
     ]
    }
   ],
   "source": [
    "from datetime import date\n",
    "\n",
    "dates = [date(2021, 12, 31), date(2019, 10, 6), date(2022, 11, 8)]   # список дат\n",
    "\n",
    "print(dates)"
   ],
   "metadata": {
    "collapsed": false,
    "ExecuteTime": {
     "end_time": "2024-09-16T07:23:13.549564Z",
     "start_time": "2024-09-16T07:23:13.536366900Z"
    }
   },
   "id": "efc4da72297024f2"
  },
  {
   "cell_type": "markdown",
   "source": [
    "Если мы хотим вывести содержимое списка в человеческом виде, то нужно прибегнуть к распаковке, в этом случае функция str() будет вызываться для каждого элемента списка за кулисами."
   ],
   "metadata": {
    "collapsed": false
   },
   "id": "793cecff21615d6e"
  },
  {
   "cell_type": "code",
   "execution_count": 18,
   "outputs": [
    {
     "name": "stdout",
     "output_type": "stream",
     "text": [
      "2021-12-31\n",
      "2019-10-06\n",
      "2022-11-08\n"
     ]
    }
   ],
   "source": [
    "from datetime import date\n",
    "\n",
    "dates = [date(2021, 12, 31), date(2019, 10, 6), date(2022, 11, 8)]\n",
    "\n",
    "print(*dates, sep='\\n')"
   ],
   "metadata": {
    "collapsed": false,
    "ExecuteTime": {
     "end_time": "2024-09-16T07:23:35.089828800Z",
     "start_time": "2024-09-16T07:23:35.083895400Z"
    }
   },
   "id": "ac28560ddeb0dd4b"
  },
  {
   "cell_type": "markdown",
   "source": [
    "Примечания"
   ],
   "metadata": {
    "collapsed": false
   },
   "id": "122a466acec857b5"
  },
  {
   "cell_type": "markdown",
   "source": [
    "Примечание 1. Оба типа данных date и time являются неизменяемыми. Мы можем создать множества, содержащие объекты данных типов (date и time), а также они могут выступать в качестве ключей словаря."
   ],
   "metadata": {
    "collapsed": false
   },
   "id": "1f7ced815e04561f"
  },
  {
   "cell_type": "code",
   "execution_count": 19,
   "outputs": [
    {
     "name": "stdout",
     "output_type": "stream",
     "text": [
      "{datetime.date(2022, 5, 25), datetime.date(2021, 12, 31), datetime.date(2019, 3, 19)}\n",
      "{datetime.date(2021, 12, 31): 'Новый год', datetime.date(2030, 10, 6): 'День рождения'}\n"
     ]
    }
   ],
   "source": [
    "from datetime import date\n",
    "\n",
    "my_set = {date(2021, 12, 31), date(2019, 3, 19), date(2022, 5, 25)}                # множество\n",
    "my_dict = {date(2021, 12, 31): 'Новый год', date(2030, 10, 6): 'День рождения'}    # словарь\n",
    "\n",
    "print(my_set)\n",
    "print(my_dict)"
   ],
   "metadata": {
    "collapsed": false,
    "ExecuteTime": {
     "end_time": "2024-09-16T07:24:19.548856200Z",
     "start_time": "2024-09-16T07:24:19.541936200Z"
    }
   },
   "id": "e069d5278f9d222b"
  },
  {
   "cell_type": "markdown",
   "source": [
    "Примечание 2. Мы можем использовать встроенные функции min(), max(), sorted() и т.д. при работе с типами данных date и time."
   ],
   "metadata": {
    "collapsed": false
   },
   "id": "a54c8863978f5b75"
  },
  {
   "cell_type": "code",
   "execution_count": 20,
   "outputs": [
    {
     "name": "stdout",
     "output_type": "stream",
     "text": [
      "2017-05-25\n",
      "2025-03-19\n",
      "[datetime.date(2017, 5, 25), datetime.date(2021, 12, 31), datetime.date(2025, 3, 19)]\n"
     ]
    }
   ],
   "source": [
    "from datetime import date\n",
    "\n",
    "dates = [date(2021, 12, 31), date(2025, 3, 19), date(2017, 5, 25)]\n",
    "\n",
    "print(min(dates))\n",
    "print(max(dates))\n",
    "print(sorted(dates))"
   ],
   "metadata": {
    "collapsed": false,
    "ExecuteTime": {
     "end_time": "2024-09-16T07:25:05.630279Z",
     "start_time": "2024-09-16T07:25:05.623397600Z"
    }
   },
   "id": "16f5be408f1610ff"
  },
  {
   "cell_type": "markdown",
   "source": [
    "Примечание 3. Для создания новой даты на основании уже существующей можно использовать метод replace(). Он возвращает новую дату с переданными измененными значениями свойств year, month, day."
   ],
   "metadata": {
    "collapsed": false
   },
   "id": "a31598281bf0072e"
  },
  {
   "cell_type": "code",
   "execution_count": 21,
   "outputs": [
    {
     "name": "stdout",
     "output_type": "stream",
     "text": [
      "1992-10-06\n",
      "1995-10-06\n",
      "1992-12-17\n"
     ]
    }
   ],
   "source": [
    "from datetime import date\n",
    "\n",
    "date1 = date(1992, 10, 6)\n",
    "date2 = date1.replace(year=1995)            # заменяем год           \n",
    "date3 = date1.replace(month=12, day=17)     # заменяем месяц и число\n",
    "\n",
    "print(date1)\n",
    "print(date2)\n",
    "print(date3)"
   ],
   "metadata": {
    "collapsed": false,
    "ExecuteTime": {
     "end_time": "2024-09-16T07:25:31.881826100Z",
     "start_time": "2024-09-16T07:25:31.876360600Z"
    }
   },
   "id": "1cec81ed14a03d6f"
  },
  {
   "cell_type": "markdown",
   "source": [
    "Аналогично для создания нового времени на основании уже существующего используется метод replace()."
   ],
   "metadata": {
    "collapsed": false
   },
   "id": "dc0b9516358c6575"
  },
  {
   "cell_type": "code",
   "execution_count": 22,
   "outputs": [
    {
     "name": "stdout",
     "output_type": "stream",
     "text": [
      "17:10:06\n",
      "21:10:06\n",
      "17:48:59\n"
     ]
    }
   ],
   "source": [
    "from datetime import time\n",
    "\n",
    "time1 = time(17, 10, 6)\n",
    "time2 = time1.replace(hour=21)                  # заменяем час         \n",
    "time3 = time1.replace(minute=48, second=59)     # заменяем минуты и секунды\n",
    "\n",
    "print(time1)\n",
    "print(time2)\n",
    "print(time3)"
   ],
   "metadata": {
    "collapsed": false,
    "ExecuteTime": {
     "end_time": "2024-09-16T07:26:05.810711400Z",
     "start_time": "2024-09-16T07:26:05.803897800Z"
    }
   },
   "id": "9118128b6452521a"
  },
  {
   "cell_type": "markdown",
   "source": [
    "Примечание 4. В качестве ограничений по годам в типе date используются значения MINYEAR=1 и MAXYEAR=9999."
   ],
   "metadata": {
    "collapsed": false
   },
   "id": "f40a95726928dc09"
  },
  {
   "cell_type": "markdown",
   "source": [
    "Примечание 5. Помните про ограничения на атрибуты (year, month, day, hour, minute, second, microsecond), которые используете для создания объектов типов date и time. В случае использования неверного значения возникнет ошибка (исключение) ValueError."
   ],
   "metadata": {
    "collapsed": false
   },
   "id": "4d7eed6276fa69d8"
  },
  {
   "cell_type": "code",
   "execution_count": 23,
   "outputs": [
    {
     "ename": "ValueError",
     "evalue": "month must be in 1..12",
     "output_type": "error",
     "traceback": [
      "\u001B[1;31m---------------------------------------------------------------------------\u001B[0m",
      "\u001B[1;31mValueError\u001B[0m                                Traceback (most recent call last)",
      "Cell \u001B[1;32mIn[23], line 3\u001B[0m\n\u001B[0;32m      1\u001B[0m \u001B[38;5;28;01mfrom\u001B[39;00m \u001B[38;5;21;01mdatetime\u001B[39;00m \u001B[38;5;28;01mimport\u001B[39;00m date\n\u001B[1;32m----> 3\u001B[0m my_date \u001B[38;5;241m=\u001B[39m \u001B[43mdate\u001B[49m\u001B[43m(\u001B[49m\u001B[38;5;241;43m2021\u001B[39;49m\u001B[43m,\u001B[49m\u001B[43m \u001B[49m\u001B[38;5;241;43m19\u001B[39;49m\u001B[43m,\u001B[49m\u001B[43m \u001B[49m\u001B[38;5;241;43m7\u001B[39;49m\u001B[43m)\u001B[49m     \u001B[38;5;66;03m# несуществующий месяц\u001B[39;00m\n\u001B[0;32m      5\u001B[0m \u001B[38;5;28mprint\u001B[39m(my_date)\n",
      "\u001B[1;31mValueError\u001B[0m: month must be in 1..12"
     ]
    }
   ],
   "source": [
    "from datetime import date\n",
    "\n",
    "my_date = date(2021, 19, 7)     # несуществующий месяц\n",
    "\n",
    "print(my_date)"
   ],
   "metadata": {
    "collapsed": false,
    "ExecuteTime": {
     "end_time": "2024-09-16T07:26:47.653696900Z",
     "start_time": "2024-09-16T07:26:47.355983400Z"
    }
   },
   "id": "a4119edf643b14f5"
  },
  {
   "cell_type": "markdown",
   "source": [
    "Примечание 7. По умолчанию объекты типов date и time выводятся в ISO 8601 формате:\n",
    "\n",
    "дата в формате ISO 8601 имеет вид: YYYY-MM-DD\n",
    "время в формате ISO 8601 имеет вид: HH:MM:SS или HH:MM:SS.ffffff"
   ],
   "metadata": {
    "collapsed": false
   },
   "id": "6b4b90df434227ce"
  }
 ],
 "metadata": {
  "kernelspec": {
   "display_name": "Python 3",
   "language": "python",
   "name": "python3"
  },
  "language_info": {
   "codemirror_mode": {
    "name": "ipython",
    "version": 2
   },
   "file_extension": ".py",
   "mimetype": "text/x-python",
   "name": "python",
   "nbconvert_exporter": "python",
   "pygments_lexer": "ipython2",
   "version": "2.7.6"
  }
 },
 "nbformat": 4,
 "nbformat_minor": 5
}
