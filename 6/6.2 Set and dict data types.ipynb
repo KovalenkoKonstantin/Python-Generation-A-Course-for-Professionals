{
 "cells": [
  {
   "cell_type": "markdown",
   "source": [
    "Я и сам своего рода переводчик"
   ],
   "metadata": {
    "collapsed": false
   },
   "id": "8604663091175b7"
  },
  {
   "cell_type": "markdown",
   "source": [
    "Дана строка соответствия латинскому алфавиту: первый символ строки соответствует букве a, второй — b, третий — c, и так далее. Каждый символ соответствует как заглавной, так и строчной буквам. Количество символов в строке совпадает с количеством букв в латинском алфавите.\n",
    "\n",
    "Напишите программу, которая с помощью данной строки переводит заданный текст.\n",
    "\n",
    "Формат входных данных\n",
    "На вход программе в первой строке подается строка соответствия латинскому алфавиту, в следующей — текст, требующий перевода.\n",
    "\n",
    "Формат выходных данных\n",
    "Программа должна с помощью данной строки соответствия латинскому алфавиту перевести введенный текст и вывести полученный результат.\n",
    "\n",
    "Примечание 1. Программа должна игнорировать все символы, не являющиеся латинскими буквами.\n",
    "\n",
    "Примечание 2. Составить словарь соответствия можно с помощью строкового метода maketrans(), подробнее о котором рассказывается по ссылке.\n",
    "\n",
    "Примечание 3. Тестовые данные доступны по ссылкам:\n",
    "\n",
    "Архив с тестами\n",
    "GitHub\n",
    "Sample Input 1:\n",
    "\n",
    "🅐🅑🅒🅓🅔🅕🅖🅗🅘🅙🅚🅛🅜🅝🅞🅟🅠🅡🅢🅣🅤🅥🅦🅧🅨🅩\n",
    "I love Python =)\n",
    "Sample Output 1:\n",
    "\n",
    "🅘 🅛🅞🅥🅔 🅟🅨🅣🅗🅞🅝 =)\n",
    "Sample Input 2:\n",
    "\n",
    "😀😄😁😆😉😌😍🥰😘😗😙😚😋😛😝😜🤪🤨😫😩🥺😢😭😤😠😡\n",
    "Dont be so sad!\n",
    "Sample Output 2:\n",
    "\n",
    "😆😝😛😩 😄😉 😫😝 😫😀😆!"
   ],
   "metadata": {
    "collapsed": false
   },
   "id": "13f0ab238102bc9d"
  },
  {
   "cell_type": "code",
   "execution_count": 7,
   "outputs": [
    {
     "name": "stdout",
     "output_type": "stream",
     "text": []
    },
    {
     "data": {
      "text/plain": "''"
     },
     "execution_count": 7,
     "metadata": {},
     "output_type": "execute_result"
    }
   ],
   "source": [
    "from sys import stdin\n",
    "\n",
    "x = ''.join(stdin.readline())\n",
    "print(x)\n",
    "y = ''.join(str(i) for i in range(len(x)))\n",
    "print(y)\n",
    "\n",
    "dic = {}\n",
    "line = stdin.readline()\n",
    "print(line)\n",
    "tbl = line.maketrans(x)\n",
    "line.translate(tbl)"
   ],
   "metadata": {
    "collapsed": false,
    "ExecuteTime": {
     "end_time": "2024-11-02T11:52:55.360666300Z",
     "start_time": "2024-11-02T11:52:55.355952300Z"
    }
   },
   "id": "5a4748741cb02fdd"
  }
 ],
 "metadata": {
  "kernelspec": {
   "display_name": "Python 3",
   "language": "python",
   "name": "python3"
  },
  "language_info": {
   "codemirror_mode": {
    "name": "ipython",
    "version": 2
   },
   "file_extension": ".py",
   "mimetype": "text/x-python",
   "name": "python",
   "nbconvert_exporter": "python",
   "pygments_lexer": "ipython2",
   "version": "2.7.6"
  }
 },
 "nbformat": 4,
 "nbformat_minor": 5
}
