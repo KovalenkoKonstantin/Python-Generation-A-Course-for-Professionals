{
 "cells": [
  {
   "cell_type": "markdown",
   "source": [
    "Атрибуты _fields, _field_defaults"
   ],
   "metadata": {
    "collapsed": false
   },
   "id": "b66940277a7b259d"
  },
  {
   "cell_type": "markdown",
   "source": [
    "Именованные кортежи имеют два дополнительных атрибута: _fields и _field_defaults. Первый атрибут содержит кортеж строк, в котором перечислены имена полей. Второй атрибут содержит словарь, который сопоставляет имена полей с соответствующими значениями по умолчанию, если таковые имеются."
   ],
   "metadata": {
    "collapsed": false
   },
   "id": "27f8815164956a69"
  },
  {
   "cell_type": "code",
   "execution_count": 1,
   "outputs": [
    {
     "name": "stdout",
     "output_type": "stream",
     "text": [
      "Person(name='Тимур', age=29, height=170)\n",
      "('name', 'age', 'height')\n",
      "('name', 'age', 'height')\n"
     ]
    }
   ],
   "source": [
    "from collections import namedtuple\n",
    "\n",
    "Person = namedtuple('Person', ['name', 'age', 'height'])\n",
    "\n",
    "tim = Person('Тимур', 29, 170)\n",
    "\n",
    "print(tim)\n",
    "print(tim._fields)\n",
    "print(Person._fields)"
   ],
   "metadata": {
    "collapsed": false,
    "ExecuteTime": {
     "end_time": "2024-11-08T06:46:03.140028Z",
     "start_time": "2024-11-08T06:46:03.130208700Z"
    }
   },
   "id": "6164acd5c4c833b8"
  },
  {
   "cell_type": "markdown",
   "source": [
    "Обратите внимание на то, что мы можем обращаться к атрибуту _fields как через переменную (tim), так и через сам тип именованного кортежа (Person)."
   ],
   "metadata": {
    "collapsed": false
   },
   "id": "30e533cad1dc3147"
  },
  {
   "cell_type": "markdown",
   "source": [
    "С помощью атрибута _fields мы можем создавать новые именованные кортежи на основании уже существующих. В следующем примере мы создадим новый именованный кортеж с именем ExtendedPerson, который расширяет старый Person новым полем weight."
   ],
   "metadata": {
    "collapsed": false
   },
   "id": "5ce93dbbd26ae7d4"
  },
  {
   "cell_type": "code",
   "execution_count": 2,
   "outputs": [
    {
     "name": "stdout",
     "output_type": "stream",
     "text": [
      "ExtendedPerson(name='Тимур', age=29, height=170, weight=65)\n",
      "('name', 'age', 'height', 'weight')\n"
     ]
    }
   ],
   "source": [
    "from collections import namedtuple\n",
    "\n",
    "Person = namedtuple('Person', ['name', 'age', 'height'])\n",
    "\n",
    "ExtendedPerson = namedtuple('ExtendedPerson', [*Person._fields, 'weight'])  # распаковка полей старого кортежа\n",
    "\n",
    "timur = ExtendedPerson('Тимур', 29, 170, 65)\n",
    "\n",
    "print(timur)\n",
    "print(ExtendedPerson._fields)"
   ],
   "metadata": {
    "collapsed": false,
    "ExecuteTime": {
     "end_time": "2024-11-08T06:49:47.967581200Z",
     "start_time": "2024-11-08T06:49:47.962060700Z"
    }
   },
   "id": "783193de9a2c1d41"
  },
  {
   "cell_type": "markdown",
   "source": [
    "Мы также можем использовать атрибут _fields для перебора полей и их значений с помощью встроенной функции zip():"
   ],
   "metadata": {
    "collapsed": false
   },
   "id": "45ded614393ce5b8"
  },
  {
   "cell_type": "code",
   "execution_count": 3,
   "outputs": [
    {
     "name": "stdout",
     "output_type": "stream",
     "text": [
      "name -> Тимур\n",
      "age -> 29\n",
      "height -> 170\n"
     ]
    }
   ],
   "source": [
    "from collections import namedtuple\n",
    "\n",
    "Person = namedtuple('Person', ['name', 'age', 'height'])\n",
    "\n",
    "timur = Person('Тимур', 29, 170)\n",
    "\n",
    "for field, value in zip(Person._fields, timur):\n",
    "    print(field, '->', value)"
   ],
   "metadata": {
    "collapsed": false,
    "ExecuteTime": {
     "end_time": "2024-11-08T06:51:27.367359500Z",
     "start_time": "2024-11-08T06:51:27.358868Z"
    }
   },
   "id": "6cc6fd1a3480d43a"
  },
  {
   "cell_type": "markdown",
   "source": [
    "С помощью атрибута _field_defaults мы можем выяснить, какие поля именованного кортежа имеют значения по умолчанию. Значения по умолчанию делают поля необязательными. Например, предположим, что наш именованный кортеж Person должен включать дополнительное поле для хранения страны, в которой живет человек. Поскольку в основном мы работаем с людьми из России, то мы устанавливаем соответствующее значение по умолчанию для поля страны следующим образом:"
   ],
   "metadata": {
    "collapsed": false
   },
   "id": "c8c71937bd67354"
  },
  {
   "cell_type": "code",
   "execution_count": 4,
   "outputs": [
    {
     "name": "stdout",
     "output_type": "stream",
     "text": [
      "Person(name='Тимур', age=29, height=170, country='Russia')\n",
      "{'country': 'Russia'}\n",
      "{'country': 'Russia'}\n"
     ]
    }
   ],
   "source": [
    "from collections import namedtuple\n",
    "\n",
    "Person = namedtuple('Person', ['name', 'age', 'height', 'country'], defaults=['Russia'])\n",
    "\n",
    "timur = Person('Тимур', 29, 170)\n",
    "\n",
    "print(timur)\n",
    "print(timur._field_defaults)\n",
    "print(Person._field_defaults)"
   ],
   "metadata": {
    "collapsed": false,
    "ExecuteTime": {
     "end_time": "2024-11-08T06:53:22.003736700Z",
     "start_time": "2024-11-08T06:53:22.000530400Z"
    }
   },
   "id": "5de30d75c940bb13"
  },
  {
   "cell_type": "code",
   "execution_count": 5,
   "outputs": [
    {
     "name": "stdout",
     "output_type": "stream",
     "text": [
      "Person(name='Тимур', age=29, height=170, country='Russia')\n",
      "{'height': 170, 'country': 'Russia'}\n",
      "{'height': 170, 'country': 'Russia'}\n"
     ]
    }
   ],
   "source": [
    "from collections import namedtuple\n",
    "\n",
    "# Указываем значения по умолчанию для height и country\n",
    "Person = namedtuple('Person', ['name', 'age', 'height', 'country'], defaults=[170, 'Russia'])\n",
    "\n",
    "# Создаем экземпляр без указания роста и страны\n",
    "timur = Person('Тимур', 29)\n",
    "\n",
    "print(timur)  # Вывод: Person(name='Тимур', age=29, height=170, country='Russia')\n",
    "print(timur._field_defaults)  # Вывод: {'height': 170, 'country': 'Russia'}\n",
    "print(Person._field_defaults)  # Вывод: {'height': 170, 'country': 'Russia'}"
   ],
   "metadata": {
    "collapsed": false,
    "ExecuteTime": {
     "end_time": "2024-11-08T06:56:50.152474200Z",
     "start_time": "2024-11-08T06:56:50.149253Z"
    }
   },
   "id": "7df55826b646eab0"
  },
  {
   "cell_type": "markdown",
   "source": [
    "Если именованный кортеж не предоставляет значений по умолчанию, тогда атрибут _field_defaults содержит пустой словарь."
   ],
   "metadata": {
    "collapsed": false
   },
   "id": "8a6c4c86eafd5f6"
  },
  {
   "cell_type": "code",
   "execution_count": 6,
   "outputs": [
    {
     "name": "stdout",
     "output_type": "stream",
     "text": [
      "{}\n"
     ]
    }
   ],
   "source": [
    "from collections import namedtuple\n",
    "\n",
    "Person = namedtuple('Person', ['name', 'age', 'height', 'country'])\n",
    "\n",
    "timur = Person('Тимур', 29, 170, 'Russia')\n",
    "\n",
    "print(Person._field_defaults)"
   ],
   "metadata": {
    "collapsed": false,
    "ExecuteTime": {
     "end_time": "2024-11-08T06:57:21.981416800Z",
     "start_time": "2024-11-08T06:57:21.978899100Z"
    }
   },
   "id": "2399bba78640c797"
  },
  {
   "cell_type": "markdown",
   "source": [
    "Методы _make(), _replace(), _asdict()"
   ],
   "metadata": {
    "collapsed": false
   },
   "id": "f619d21155a3ef8b"
  },
  {
   "cell_type": "markdown",
   "source": [
    "Напомним, что обычные кортежи (tuple) имеют два встроенных метода:\n",
    "\n",
    "index(): возвращает индекс первого элемента, значение которого равняется переданному значению\n",
    "count(): возвращает количество элементов в кортеже, значения которых равны переданному значению"
   ],
   "metadata": {
    "collapsed": false
   },
   "id": "2d642901ebd0797c"
  },
  {
   "cell_type": "markdown",
   "source": [
    "Именованные кортежи (тип namedtuple) являются производными от обычных кортежей (тип tuple), поэтому наследуют их методы, а также добавляют три новых: _make(), _replace(), _asdict()."
   ],
   "metadata": {
    "collapsed": false
   },
   "id": "abc1f14bce51a830"
  },
  {
   "cell_type": "markdown",
   "source": [
    "Имена новых методов (_make(), _replace(), _asdict()) и атрибутов (_fields, _field_defaults) начинаются с подчеркивания, чтобы предотвратить конфликты имен с полями именованных кортежей."
   ],
   "metadata": {
    "collapsed": false
   },
   "id": "751d2aecdb0b50e3"
  },
  {
   "cell_type": "markdown",
   "source": [
    "Метод _make()"
   ],
   "metadata": {
    "collapsed": false
   },
   "id": "ca3d3900675c093d"
  },
  {
   "cell_type": "markdown",
   "source": [
    "Метод _make() используется для создания именованных кортежей из итерируемых объектов (список, кортеж, строка, словарь и т.д.)."
   ],
   "metadata": {
    "collapsed": false
   },
   "id": "920f26d72ee34f45"
  },
  {
   "cell_type": "code",
   "execution_count": 13,
   "outputs": [
    {
     "name": "stdout",
     "output_type": "stream",
     "text": [
      "Person(name='Timur', age=29, height=170)\n",
      "Timur 29 170\n",
      "['Timur', 29, 170]\n",
      "('Timur', 29, 170)\n"
     ]
    }
   ],
   "source": [
    "from collections import namedtuple\n",
    "\n",
    "Person = namedtuple('Person', ['name', 'age', 'height'])\n",
    "\n",
    "timur = Person._make(['Timur', 29, 170])\n",
    "\n",
    "print(timur)\n",
    "print(*timur)\n",
    "print(list(timur))\n",
    "print(tuple(timur))"
   ],
   "metadata": {
    "collapsed": false,
    "ExecuteTime": {
     "end_time": "2024-11-08T07:18:59.391595300Z",
     "start_time": "2024-11-08T07:18:59.389077Z"
    }
   },
   "id": "58da249786891a43"
  },
  {
   "cell_type": "markdown",
   "source": [
    "Обратите внимание на то, что метод _make() – это метод типа, а не конкретного экземпляра, поэтому вызывать его нужно через название типа (Person._make). Метод _make() работает как альтернативный конструктор типа."
   ],
   "metadata": {
    "collapsed": false
   },
   "id": "39ef436a64edb83d"
  },
  {
   "cell_type": "markdown",
   "source": [
    "Метод _asdict()"
   ],
   "metadata": {
    "collapsed": false
   },
   "id": "5ee537ae4dcf4e77"
  },
  {
   "cell_type": "markdown",
   "source": [
    "Мы можем преобразовывать именованные кортежи в словари с помощью метода _asdict(). Этот метод возвращает словарь, в котором имена полей используются в качестве ключей. Ключи результирующего словаря находятся в том же порядке, что и поля в исходном именованном кортеже."
   ],
   "metadata": {
    "collapsed": false
   },
   "id": "5e39684b69931870"
  },
  {
   "cell_type": "code",
   "execution_count": 8,
   "outputs": [
    {
     "name": "stdout",
     "output_type": "stream",
     "text": [
      "{'name': 'Timur', 'age': 29, 'height': 170}\n"
     ]
    }
   ],
   "source": [
    "from collections import namedtuple\n",
    "\n",
    "Person = namedtuple('Person', ['name', 'age', 'height'])\n",
    "\n",
    "timur = Person._make(['Timur', 29, 170])\n",
    "\n",
    "print(timur._asdict())"
   ],
   "metadata": {
    "collapsed": false,
    "ExecuteTime": {
     "end_time": "2024-11-08T07:05:13.229468Z",
     "start_time": "2024-11-08T07:05:13.225792100Z"
    }
   },
   "id": "8753b5040868399"
  },
  {
   "cell_type": "markdown",
   "source": [
    "До Python 3.8 метод _asdict() возвращал тип данных OrderedDict. В настоящий момент метод возвращает обычный словарь (тип dict), так как сейчас словари запоминают порядок добавления в них ключей."
   ],
   "metadata": {
    "collapsed": false
   },
   "id": "ce8b983053cdb3cb"
  },
  {
   "cell_type": "markdown",
   "source": [
    "Метод _replace()"
   ],
   "metadata": {
    "collapsed": false
   },
   "id": "47b5bd0108545b0c"
  },
  {
   "cell_type": "markdown",
   "source": [
    "Метод _replace() позволяет создавать новые именованные кортежи на основании уже существующих с заменой некоторых значений. Потребность в данном методе вызвана тем, что именованные кортежи являются неизменяемыми."
   ],
   "metadata": {
    "collapsed": false
   },
   "id": "6c5efb76500368c8"
  },
  {
   "cell_type": "code",
   "execution_count": 9,
   "outputs": [
    {
     "name": "stdout",
     "output_type": "stream",
     "text": [
      "Person(name='Тимур', age=29, height=170, country='Russia')\n",
      "Person(name='Тимур', age=30, height=170, country='Germany')\n"
     ]
    }
   ],
   "source": [
    "from collections import namedtuple\n",
    "\n",
    "Person = namedtuple('Person', ['name', 'age', 'height', 'country'])\n",
    "\n",
    "timur1 = Person('Тимур', 29, 170, 'Russia')\n",
    "timur2 = timur1._replace(age=30, country='Germany')\n",
    "\n",
    "print(timur1)\n",
    "print(timur2)"
   ],
   "metadata": {
    "collapsed": false,
    "ExecuteTime": {
     "end_time": "2024-11-08T07:06:41.028778200Z",
     "start_time": "2024-11-08T07:06:41.020563300Z"
    }
   },
   "id": "9c1585479f4fdff4"
  },
  {
   "cell_type": "markdown",
   "source": [
    " Обратите внимание на то, что метод _replace() не изменяет текущий именованный кортеж, а возвращает новый."
   ],
   "metadata": {
    "collapsed": false
   },
   "id": "1fdc17ff0a42bf1"
  },
  {
   "cell_type": "code",
   "execution_count": 14,
   "outputs": [
    {
     "name": "stdout",
     "output_type": "stream",
     "text": [
      "1070\n"
     ]
    }
   ],
   "source": [
    "from collections import namedtuple\n",
    "\n",
    "Resolution = namedtuple('Resolution', ['horizontal', 'vertical'])\n",
    "\n",
    "full_hd = Resolution(1920, 1070)\n",
    "\n",
    "full_hd._replace(vertical=1080)\n",
    "\n",
    "print(full_hd.vertical)"
   ],
   "metadata": {
    "collapsed": false,
    "ExecuteTime": {
     "end_time": "2024-11-08T07:20:00.403346700Z",
     "start_time": "2024-11-08T07:20:00.399803900Z"
    }
   },
   "id": "c2cd2c6893e9b6ff"
  },
  {
   "cell_type": "code",
   "execution_count": 15,
   "outputs": [
    {
     "name": "stdout",
     "output_type": "stream",
     "text": [
      "1080\n"
     ]
    }
   ],
   "source": [
    "from collections import namedtuple\n",
    "\n",
    "Resolution = namedtuple('Resolution', ['horizontal', 'vertical'])\n",
    "\n",
    "full_hd = Resolution(1920, 1070)\n",
    "\n",
    "full_hd = full_hd._replace(vertical=1080)\n",
    "\n",
    "print(full_hd.vertical)"
   ],
   "metadata": {
    "collapsed": false,
    "ExecuteTime": {
     "end_time": "2024-11-08T07:20:07.419000500Z",
     "start_time": "2024-11-08T07:20:07.411034400Z"
    }
   },
   "id": "cdf084da94a1ffce"
  },
  {
   "cell_type": "code",
   "execution_count": 16,
   "outputs": [
    {
     "name": "stdout",
     "output_type": "stream",
     "text": [
      "{'motherboard': None, 'ram': None}\n"
     ]
    }
   ],
   "source": [
    "from collections import namedtuple\n",
    "\n",
    "PcHardware = namedtuple('PcHardware', 'cpu,gpu,motherboard,ram', defaults=[None, None])\n",
    "\n",
    "print(PcHardware._field_defaults)"
   ],
   "metadata": {
    "collapsed": false,
    "ExecuteTime": {
     "end_time": "2024-11-08T07:20:15.801020900Z",
     "start_time": "2024-11-08T07:20:15.797503800Z"
    }
   },
   "id": "4d179fc606ea1294"
  },
  {
   "cell_type": "code",
   "execution_count": 17,
   "outputs": [
    {
     "name": "stdout",
     "output_type": "stream",
     "text": [
      "Discord messenger 200\n"
     ]
    }
   ],
   "source": [
    "from collections import namedtuple\n",
    "\n",
    "App = namedtuple('App', ['name', 'apptype', 'size'])\n",
    "\n",
    "app = App._make('Discord messenger 200'.split())\n",
    "\n",
    "print(*app)"
   ],
   "metadata": {
    "collapsed": false,
    "ExecuteTime": {
     "end_time": "2024-11-08T07:20:22.774416900Z",
     "start_time": "2024-11-08T07:20:22.770439500Z"
    }
   },
   "id": "e507ebd9d22cb119"
  },
  {
   "cell_type": "code",
   "execution_count": 18,
   "outputs": [
    {
     "name": "stdout",
     "output_type": "stream",
     "text": [
      "keyboard, Logitech G213\n",
      "devicetype, model\n"
     ]
    }
   ],
   "source": [
    "from collections import namedtuple\n",
    "\n",
    "Device = namedtuple('Device', ['devicetype', 'model'])\n",
    "\n",
    "device1 = Device(**{'devicetype': 'keyboard', 'model': 'Logitech G213'})\n",
    "device2 = Device(*{'devicetype': 'keyboard', 'model': 'Logitech G213'})\n",
    "\n",
    "print(*device1, sep=', ')\n",
    "print(*device2, sep=', ')"
   ],
   "metadata": {
    "collapsed": false,
    "ExecuteTime": {
     "end_time": "2024-11-08T07:21:44.267929700Z",
     "start_time": "2024-11-08T07:21:44.261913200Z"
    }
   },
   "id": "fa4f395e945517d1"
  },
  {
   "cell_type": "markdown",
   "source": [
    "Дополните приведенный ниже код, чтобы он объявлял тип Fruit именованного кортежа с полями name, color и vitamins.\n",
    "\n",
    "Примечание. Программа ничего не должна выводить."
   ],
   "metadata": {
    "collapsed": false
   },
   "id": "78d55d661d27a861"
  },
  {
   "cell_type": "code",
   "execution_count": null,
   "outputs": [],
   "source": [
    "from collections import namedtuple\n",
    "\n",
    "Fruit = namedtuple('Fruit', ['name', 'color', 'vitamins'])"
   ],
   "metadata": {
    "collapsed": false
   },
   "id": "2a2fe01e6fc53e22"
  },
  {
   "cell_type": "code",
   "execution_count": null,
   "outputs": [],
   "source": [
    "from typing import NamedTuple\n",
    "\n",
    "class Fruit(NamedTuple):\n",
    "    name: str\n",
    "    color: str\n",
    "    vitamins: list"
   ],
   "metadata": {
    "collapsed": false
   },
   "id": "3a7ad54305dc6733"
  },
  {
   "cell_type": "code",
   "execution_count": null,
   "outputs": [],
   "source": [
    "from collections import namedtuple\n",
    "headers = ['name', 'color', 'vitamins']\n",
    "Fruit = namedtuple('Fruit', headers)"
   ],
   "metadata": {
    "collapsed": false
   },
   "id": "821875db27e4a223"
  },
  {
   "cell_type": "markdown",
   "source": [
    "Вам доступен именованный кортеж Game. Дополните приведенный ниже код, чтобы он объявлял тип ExtendedGame именованного кортежа, имеющего те же поля, что и Game, а также два дополнительных поля — release_date и price.\n",
    "\n",
    "Примечание. Программа ничего не должна выводить."
   ],
   "metadata": {
    "collapsed": false
   },
   "id": "e3aac7c4d67a53fa"
  },
  {
   "cell_type": "code",
   "execution_count": null,
   "outputs": [],
   "source": [
    "from collections import namedtuple\n",
    "\n",
    "Game = namedtuple('Game', 'name developer publisher')\n",
    "\n",
    "ExtendedGame = namedtuple('ExtendedGame', [*Game._fields, 'release_date', 'price'])"
   ],
   "metadata": {
    "collapsed": false
   },
   "id": "3dd35ca14ffaab8a"
  },
  {
   "cell_type": "markdown",
   "source": [
    "Вам доступен именованный кортеж Animal, который содержит данные о животном. Первым элементом именованного кортежа является имя животного, вторым — семейство, третьим — пол, четвертым — цвет. Также доступен файл data.pkl, содержащий сериализованный список таких кортежей.\n",
    "\n",
    "Дополните приведенный ниже код, чтобы для каждого кортежа из этого списка он вывел названия его полей и значения этих полей в следующем формате:\n",
    "\n",
    "name: <значение>\n",
    "family: <значение>\n",
    "sex: <значение>\n",
    "color: <значение>\n",
    "Между полями и значениями двух разных кортежей должна располагаться пустая строка.\n",
    "\n",
    "Примечание 1. Сначала должно следовать содержание первого кортежа из списка, затем второго, и так далее.\n",
    "\n",
    "Примечание 2. Например, если бы файл data.pkl содержал следующий сериализованный список:\n",
    "\n",
    "[Animal(name='Alex', family='dogs', sex='m', color='brown'), Animal(name='Nancy', family='dogs', sex='w', color='black')]\n",
    "то программа должна была бы вывести: \n",
    "\n",
    "name: Alex\n",
    "family: dogs\n",
    "sex: m\n",
    "color: brown\n",
    "\n",
    "name: Nancy\n",
    "family: dogs\n",
    "sex: w\n",
    "color: black"
   ],
   "metadata": {
    "collapsed": false
   },
   "id": "1f5167b93d4c2903"
  },
  {
   "cell_type": "code",
   "execution_count": null,
   "outputs": [],
   "source": [
    "from collections import namedtuple\n",
    "\n",
    "Animal = namedtuple('Animal', ['name', 'family', 'sex', 'color'])"
   ],
   "metadata": {
    "collapsed": false
   },
   "id": "fc9076a2bb097b0f"
  },
  {
   "cell_type": "code",
   "execution_count": 50,
   "outputs": [
    {
     "name": "stdout",
     "output_type": "stream",
     "text": [
      "name: Alex\n",
      "family: dogs\n",
      "sex: m\n",
      "color: brown\n",
      "\n",
      "name: Nancy\n",
      "family: cats\n",
      "sex: w\n",
      "color: white\n",
      "\n",
      "name: Sam\n",
      "family: dogs\n",
      "sex: m\n",
      "color: brown\n",
      "\n",
      "name: Misha\n",
      "family: hedgehogs\n",
      "sex: m\n",
      "color: black\n",
      "\n",
      "name: Fredd\n",
      "family: cats\n",
      "sex: m\n",
      "color: white\n",
      "\n",
      "name: Python\n",
      "family: snakes\n",
      "sex: w\n",
      "color: white\n",
      "\n",
      "name: Crispy\n",
      "family: cats\n",
      "sex: w\n",
      "color: white\n",
      "\n",
      "name: Adam\n",
      "family: hedgehogs\n",
      "sex: m\n",
      "color: black\n",
      "\n",
      "name: Daddy\n",
      "family: snakes\n",
      "sex: m\n",
      "color: brown\n",
      "\n",
      "name: Mickey\n",
      "family: hedgehogs\n",
      "sex: m\n",
      "color: brown\n",
      "\n",
      "name: Tom\n",
      "family: cats\n",
      "sex: m\n",
      "color: white\n",
      "\n",
      "name: Jerry\n",
      "family: snakes\n",
      "sex: m\n",
      "color: brown\n",
      "\n",
      "name: Chip\n",
      "family: hedgehogs\n",
      "sex: m\n",
      "color: white\n"
     ]
    }
   ],
   "source": [
    "import pickle\n",
    "from collections import namedtuple\n",
    "\n",
    "Animal = namedtuple('Animal', ['name', 'family', 'sex', 'color'])\n",
    "with open('data.pkl', 'rb') as file:\n",
    "    obj = pickle.load(file)\n",
    "    \n",
    "# print(obj)\n",
    "# print()\n",
    "\n",
    "for animal in obj:\n",
    "    for field, value in zip(Animal._fields, animal):\n",
    "        print(field, ': ', value, sep='')\n",
    "    print()\n",
    "    \n",
    "# print()\n",
    "# print(*Animal._fields)"
   ],
   "metadata": {
    "collapsed": false,
    "ExecuteTime": {
     "end_time": "2024-11-08T08:30:08.536449200Z",
     "start_time": "2024-11-08T08:30:08.532240700Z"
    }
   },
   "id": "797f1cee8a8d73a0"
  },
  {
   "cell_type": "markdown",
   "source": [
    "Вам доступен именованный кортеж User, который содержит данные о пользователе некоторого ресурса. Первым элементом именованного кортежа является имя пользователя, вторым — фамилия, третьим — адрес электронной почты, четвертым — статус оформленной подписки. Также доступен список users, содержащий эти кортежи.\n",
    "\n",
    "Дополните приведенный ниже код, чтобы он вывел данные о каждом пользователе из этого списка, предварительно отсортировав их по статусу подписки от дорогой к дешевой, а при совпадении статусов — в лексикографическом порядке адресов электронных почт. Данные о каждом пользователе должны быть указаны в следующем формате:\n",
    "\n",
    "<имя> <фамилия>\n",
    "  Email: <адрес электронной почты>\n",
    "  Plan: <статус подписки>\n",
    "Между данными двух разных пользователей должна располагаться пустая строка.\n",
    "\n",
    "Примечание 1. Самой дорогой подпиской считается Gold, затем Silver, Bronze и Basic.\n",
    "\n",
    "Примечание 2. Начальная часть ответа выглядит так (в качестве отступов используйте два пробела):\n",
    "\n",
    "Kathleen Lyons\n",
    "  Email: balchen@att.net\n",
    "  Plan: Gold\n",
    "\n",
    "William Townsend\n",
    "  Email: kosact@verizon.net\n",
    "  Plan: Gold\n",
    "\n",
    "..."
   ],
   "metadata": {
    "collapsed": false
   },
   "id": "e11636302fae7f7a"
  },
  {
   "cell_type": "code",
   "execution_count": 69,
   "outputs": [
    {
     "name": "stdout",
     "output_type": "stream",
     "text": [
      "Kathleen Lyons\n",
      "  Email: balchen@att.net\n",
      "  Plan: Gold\n",
      "\n",
      "William Townsend\n",
      "  Email: kosact@verizon.net\n",
      "  Plan: Gold\n",
      "\n",
      "Stephanie Bush\n",
      "  Email: neuffer@live.com\n",
      "  Plan: Gold\n",
      "\n",
      "Dorothy Dennis\n",
      "  Email: sequin@live.com\n",
      "  Plan: Gold\n",
      "\n",
      "Clayton Morris\n",
      "  Email: berserk@yahoo.com\n",
      "  Plan: Silver\n",
      "\n",
      "Pamela Hicks\n",
      "  Email: corrada@sbcglobal.net\n",
      "  Plan: Silver\n",
      "\n",
      "Brenda Young\n",
      "  Email: retoh@outlook.com\n",
      "  Plan: Silver\n",
      "\n",
      "Tracy Wallace\n",
      "  Email: sblack@me.com\n",
      "  Plan: Silver\n",
      "\n",
      "Joseph Moore\n",
      "  Email: ylchang@sbcglobal.net\n",
      "  Plan: Silver\n",
      "\n",
      "Russell Smith\n",
      "  Email: isaacson@comcast.net\n",
      "  Plan: Bronze\n",
      "\n",
      "Kenneth Richardson\n",
      "  Email: tbusch@me.com\n",
      "  Plan: Bronze\n",
      "\n",
      "Megan Patterson\n",
      "  Email: hoangle@outlook.com\n",
      "  Plan: Basic\n",
      "\n",
      "Gregory Hughes\n",
      "  Email: juliano@att.net\n",
      "  Plan: Basic\n",
      "\n",
      "Tyler Walker\n",
      "  Email: noahb@comcast.net\n",
      "  Plan: Basic\n",
      "\n",
      "Mary Griffin\n",
      "  Email: sonnen@yahoo.com\n",
      "  Plan: Basic\n"
     ]
    }
   ],
   "source": [
    "from collections import namedtuple\n",
    "\n",
    "User = namedtuple('User', ['name', 'surname', 'email', 'plan'])\n",
    "\n",
    "users = [User('Mary', 'Griffin', 'sonnen@yahoo.com', 'Basic'),\n",
    "         User('Brenda', 'Young', 'retoh@outlook.com', 'Silver'),\n",
    "         User('Kathleen', 'Lyons', 'balchen@att.net', 'Gold'),\n",
    "         User('Pamela', 'Hicks', 'corrada@sbcglobal.net', 'Silver'),\n",
    "         User('William', 'Townsend', 'kosact@verizon.net', 'Gold'),\n",
    "         User('Clayton', 'Morris', 'berserk@yahoo.com', 'Silver'),\n",
    "         User('Dorothy', 'Dennis', 'sequin@live.com', 'Gold'),\n",
    "         User('Tyler', 'Walker', 'noahb@comcast.net', 'Basic'),\n",
    "         User('Joseph', 'Moore', 'ylchang@sbcglobal.net', 'Silver'),\n",
    "         User('Kenneth', 'Richardson', 'tbusch@me.com', 'Bronze'),\n",
    "         User('Stephanie', 'Bush', 'neuffer@live.com', 'Gold'),\n",
    "         User('Gregory', 'Hughes', 'juliano@att.net', 'Basic'),\n",
    "         User('Tracy', 'Wallace', 'sblack@me.com', 'Silver'),\n",
    "         User('Russell', 'Smith', 'isaacson@comcast.net', 'Bronze'),\n",
    "         User('Megan', 'Patterson', 'hoangle@outlook.com', 'Basic')]\n",
    "\n",
    "dic ={'Gold': 0, 'Silver': 1, 'Bronze': 2, 'Basic': 3}\n",
    "users = sorted(users, key=lambda x:[dic[x.plan], x.email])\n",
    "\n",
    "# print(users[0])\n",
    "# print()\n",
    "\n",
    "for user in users:\n",
    "    print(user.name, user.surname)\n",
    "    print(f'  Email: {user.email}')\n",
    "    print(f'  Plan: {user.plan}')\n",
    "    print()"
   ],
   "metadata": {
    "collapsed": false,
    "ExecuteTime": {
     "end_time": "2024-11-08T08:51:52.776094100Z",
     "start_time": "2024-11-08T08:51:52.772287400Z"
    }
   },
   "id": "1f3ed7a45a9147ab"
  },
  {
   "cell_type": "code",
   "execution_count": null,
   "outputs": [],
   "source": [
    "from collections import namedtuple\n",
    "\n",
    "User = namedtuple('User', ['name', 'surname', 'email', 'plan'])\n",
    "\n",
    "users = [\n",
    "         User('Mary', 'Griffin', 'sonnen@yahoo.com', 'Basic'),\n",
    "         User('Brenda', 'Young', 'retoh@outlook.com', 'Silver'),\n",
    "         User('Kathleen', 'Lyons', 'balchen@att.net', 'Gold'),\n",
    "         User('Pamela', 'Hicks', 'corrada@sbcglobal.net', 'Silver'),\n",
    "         User('William', 'Townsend', 'kosact@verizon.net', 'Gold'),\n",
    "         User('Clayton', 'Morris', 'berserk@yahoo.com', 'Silver'),\n",
    "         User('Dorothy', 'Dennis', 'sequin@live.com', 'Gold'),\n",
    "         User('Tyler', 'Walker', 'noahb@comcast.net', 'Basic'),\n",
    "         User('Joseph', 'Moore', 'ylchang@sbcglobal.net', 'Silver'),\n",
    "         User('Kenneth', 'Richardson', 'tbusch@me.com', 'Bronze'),\n",
    "         User('Stephanie', 'Bush', 'neuffer@live.com', 'Gold'),\n",
    "         User('Gregory', 'Hughes', 'juliano@att.net', 'Basic'),\n",
    "         User('Tracy', 'Wallace', 'sblack@me.com', 'Silver'),\n",
    "         User('Russell', 'Smith', 'isaacson@comcast.net', 'Bronze'),\n",
    "         User('Megan', 'Patterson', 'hoangle@outlook.com', 'Basic')\n",
    "        ]\n",
    "\n",
    "for user in sorted(users, key=lambda u: ([\"Gold\", \"Silver\", \"Bronze\", \"Basic\"].index(u.plan), u.email)):\n",
    "    print(f\"{user.name} {user.surname}\")\n",
    "    print(f\"  Email: {user.email}\")\n",
    "    print(f\"  Plan: {user.plan}\")\n",
    "    print()"
   ],
   "metadata": {
    "collapsed": false
   },
   "id": "4ee0a066c00a8c0a"
  },
  {
   "cell_type": "markdown",
   "source": [
    "Вы кто такие? Я вас не звал\n",
    "У Тимура имеется немало друзей из других городов или стран, которые часто приезжают к нему в гости с целью увидеться и развлечься. Чтобы не забыть ни об одной встрече, Тимур записывает имена и фамилии друзей в csv файл, дополнительно указывая для каждого дату и время встречи. Вам доступен этот файл, имеющий название meetings.csv, в котором в первом столбце записана фамилия, во втором — имя, в третьем — дата в формате DD.MM.YYYY , в четвертом — время в формате HH:MM:\n",
    "\n",
    "surname,name,meeting_date,meeting_time\n",
    "Харисов,Артур,15.07.2022,17:00\n",
    "Геор,Гагиев,14.12.2022,18:00\n",
    "...\n",
    "Напишите программу, которая выводит фамилии и имена друзей Тимура, предварительно отсортировав их по дате и времени встречи от самой ранней до самой поздней. Фамилии и имена должны быть расположены каждые на отдельной строке.\n",
    "\n",
    "Примечание 1. Начальная часть ответа выглядит так:\n",
    "\n",
    "Гудцев Таймураз\n",
    "Харисов Артур\n",
    "Базиев Герман\n",
    "...\n",
    "Примечание 2. Гарантируется, что никакие две встречи не имеют одновременно одинаковые даты и время.\n",
    "\n",
    "Примечание 3. Указанный файл доступен по ссылке. Ответ на задачу доступен по ссылке.\n",
    "\n",
    "Примечание 4. Разделителем в файле meetings.csv является запятая, при этом кавычки не используются.\n",
    "\n",
    "Примечание 5. При открытии файла используйте явное указание кодировки UTF-8."
   ],
   "metadata": {
    "collapsed": false
   },
   "id": "cb278e9e66280ac4"
  },
  {
   "cell_type": "code",
   "execution_count": 14,
   "outputs": [
    {
     "name": "stdout",
     "output_type": "stream",
     "text": [
      "Гудцев Таймураз\n",
      "Харисов Артур\n",
      "Базиев Герман\n",
      "Макоев Руслан\n",
      "Найфонов Сослан\n",
      "Короев Аслан\n",
      "Дедегкаев Давид\n",
      "Уртаева Илина\n",
      "Бекузарова Фатима\n",
      "Акоева Лера\n",
      "Белов Глеб\n",
      "Букулова Диана\n",
      "Гусейнова Марьям\n",
      "Набокова Алиса\n",
      "Чередник Марк\n",
      "Перчиков Максим\n",
      "Идрисов Баграт\n",
      "Абаев Михаил\n",
      "Елькина Мария\n",
      "Кораев Давид\n",
      "Акоева Амина\n",
      "Денисов Тимофей\n",
      "Алдатов Сармат\n",
      "Зеленчук Александра\n",
      "Тарасов Станислав\n",
      "Гапбаев Герман\n",
      "Рыжая Ярослава\n",
      "Джикаев Таму\n",
      "Балаболка Вероника\n",
      "Гагиев Геор\n",
      "Козаев Роберт\n",
      "Габараев Артур\n",
      "Юлдашев Хандамир\n",
      "Кодзаев Георгий\n",
      "Дедегкаев Дамир\n",
      "Момотов Владислав\n",
      "Щербак Юрий\n",
      "Чуприков Максим\n",
      "Тиникашвили Давид\n",
      "Кораев Артур\n",
      "Цивинская Анна\n",
      "Солдатенков Илья\n",
      "Туткевич Юрий\n",
      "Маилян Кирилл\n",
      "Джиоева Марина\n",
      "Салбиев Максим\n",
      "Чен Владимир\n",
      "Капустин Егор\n",
      "Туаллагов Давид\n",
      "Губаев Герман\n",
      "Кузнецов Станислав\n",
      "Албегов Хетаг\n",
      "Битиев Сослан\n",
      "Мусиков Андраник\n",
      "Уртаева Дзера\n",
      "Гадзиев Георгий\n",
      "Епхиева Алика\n",
      "Шилин Александр\n"
     ]
    }
   ],
   "source": [
    "import csv\n",
    "from datetime import datetime\n",
    "\n",
    "\n",
    "with open('meetings.csv', encoding='utf-8') as file:\n",
    "    data = list(csv.DictReader(file))\n",
    "    for row in data:\n",
    "        row['meeting_date'] = datetime.strptime(row['meeting_date'], '%d.%m.%Y')\n",
    "        row['meeting_time'] = datetime.strptime(row['meeting_time'], '%H:%M')\n",
    "        \n",
    "    data = sorted(data, key=lambda x:(x['meeting_date'], x['meeting_time']))\n",
    "    \n",
    "    for row in data:\n",
    "        print(f'{row['surname']} {row['name']}')\n"
   ],
   "metadata": {
    "collapsed": false,
    "ExecuteTime": {
     "end_time": "2024-11-11T11:45:52.715307800Z",
     "start_time": "2024-11-11T11:45:52.701835600Z"
    }
   },
   "id": "60d6b45f0c8c8a57"
  },
  {
   "cell_type": "code",
   "execution_count": null,
   "outputs": [],
   "source": [
    "import csv\n",
    "from collections import namedtuple\n",
    "from datetime import datetime\n",
    "\n",
    "with open('meetings.csv', encoding='u8') as fi:\n",
    "    rows = csv.DictReader(fi)\n",
    "    Friend = namedtuple('Friend', rows.fieldnames)\n",
    "    meetings = [Friend(**row) for row in rows]\n",
    "\n",
    "meetings.sort(key=lambda item: datetime.strptime(f'{item.meeting_date} {item.meeting_time}', '%d.%m.%Y %H:%M'))\n",
    "for meeting in meetings:\n",
    "    print(meeting.surname, meeting.name)"
   ],
   "metadata": {
    "collapsed": false
   },
   "id": "733c5adffc75dd33"
  },
  {
   "cell_type": "code",
   "execution_count": 15,
   "outputs": [
    {
     "name": "stdout",
     "output_type": "stream",
     "text": [
      "Гудцев Таймураз\n",
      "Харисов Артур\n",
      "Базиев Герман\n",
      "Макоев Руслан\n",
      "Найфонов Сослан\n",
      "Короев Аслан\n",
      "Дедегкаев Давид\n",
      "Уртаева Илина\n",
      "Бекузарова Фатима\n",
      "Акоева Лера\n",
      "Белов Глеб\n",
      "Букулова Диана\n",
      "Гусейнова Марьям\n",
      "Набокова Алиса\n",
      "Чередник Марк\n",
      "Перчиков Максим\n",
      "Идрисов Баграт\n",
      "Абаев Михаил\n",
      "Елькина Мария\n",
      "Кораев Давид\n",
      "Акоева Амина\n",
      "Денисов Тимофей\n",
      "Алдатов Сармат\n",
      "Зеленчук Александра\n",
      "Тарасов Станислав\n",
      "Гапбаев Герман\n",
      "Рыжая Ярослава\n",
      "Джикаев Таму\n",
      "Балаболка Вероника\n",
      "Гагиев Геор\n",
      "Козаев Роберт\n",
      "Габараев Артур\n",
      "Юлдашев Хандамир\n",
      "Кодзаев Георгий\n",
      "Дедегкаев Дамир\n",
      "Момотов Владислав\n",
      "Щербак Юрий\n",
      "Чуприков Максим\n",
      "Тиникашвили Давид\n",
      "Кораев Артур\n",
      "Цивинская Анна\n",
      "Солдатенков Илья\n",
      "Туткевич Юрий\n",
      "Маилян Кирилл\n",
      "Джиоева Марина\n",
      "Салбиев Максим\n",
      "Чен Владимир\n",
      "Капустин Егор\n",
      "Туаллагов Давид\n",
      "Губаев Герман\n",
      "Кузнецов Станислав\n",
      "Албегов Хетаг\n",
      "Битиев Сослан\n",
      "Мусиков Андраник\n",
      "Уртаева Дзера\n",
      "Гадзиев Георгий\n",
      "Епхиева Алика\n",
      "Шилин Александр\n"
     ]
    }
   ],
   "source": [
    "import csv\n",
    "from collections import namedtuple\n",
    "from datetime import datetime\n",
    "\n",
    "# Создаем namedtuple для удобства работы с данными\n",
    "Friend = namedtuple('Friend', ['surname', 'name', 'meeting_date', 'meeting_time'])\n",
    "\n",
    "# Открываем файл meetings.csv с явным указанием кодировки UTF-8\n",
    "with open('meetings.csv', encoding='utf-8') as file:\n",
    "    reader = csv.reader(file)\n",
    "    \n",
    "    # Пропускаем заголовок\n",
    "    next(reader)\n",
    "    \n",
    "    friends = []\n",
    "    \n",
    "    # Читаем данные из файла\n",
    "    for row in reader:\n",
    "        surname, name, meeting_date, meeting_time = row\n",
    "        \n",
    "        # Преобразуем строковые значения даты и времени в datetime для правильной сортировки\n",
    "        meeting_datetime = datetime.strptime(f\"{meeting_date} {meeting_time}\", '%d.%m.%Y %H:%M')\n",
    "        \n",
    "        # Добавляем кортеж в список\n",
    "        friends.append(Friend(surname, name, meeting_datetime, meeting_time))\n",
    "    \n",
    "    # Сортируем друзей по дате и времени встречи\n",
    "    friends.sort(key=lambda x: x.meeting_date)\n",
    "    \n",
    "    # Выводим фамилии и имена в требуемом формате\n",
    "    for friend in friends:\n",
    "        print(f\"{friend.surname} {friend.name}\")"
   ],
   "metadata": {
    "collapsed": false,
    "ExecuteTime": {
     "end_time": "2024-11-11T11:49:53.392053Z",
     "start_time": "2024-11-11T11:49:53.381562700Z"
    }
   },
   "id": "e0eeff9d8b469cb2"
  },
  {
   "cell_type": "markdown",
   "source": [
    "Сравнение именованных кортежей и словарей"
   ],
   "metadata": {
    "collapsed": false
   },
   "id": "4314599e0f00ce99"
  },
  {
   "cell_type": "markdown",
   "source": [
    "Словарь (dict) — это фундаментальная структура данных в Python. Сам язык построен на словарях, они используются повсюду. Несложно заметить, что функционал именованных кортежей можно полностью заменить функционалом словарей. Давайте проведем небольшое сравнение именованных кортежей и словарей по следующим параметрам:\n",
    "\n",
    "читабельность (readability)\n",
    "изменяемость (mutability)\n",
    "потребление памяти (memory usage)\n",
    "производительность (performance)"
   ],
   "metadata": {
    "collapsed": false
   },
   "id": "2b46fbbdc624c740"
  },
  {
   "cell_type": "markdown",
   "source": [
    "Читабельность"
   ],
   "metadata": {
    "collapsed": false
   },
   "id": "432b0c9b124a1b71"
  },
  {
   "cell_type": "code",
   "execution_count": null,
   "outputs": [],
   "source": [
    "from collections import namedtuple\n",
    "\n",
    "Person = namedtuple('Person', ['name', 'age', 'height'])\n",
    "\n",
    "timur = Person('Тимур', 29, 170)\n",
    "\n",
    "print(timur.name)\n",
    "print(timur.age)\n",
    "print(timur.height)"
   ],
   "metadata": {
    "collapsed": false
   },
   "id": "ca8a4a289691351e"
  },
  {
   "cell_type": "markdown",
   "source": [
    "без потери читабельности можно заменить на код:"
   ],
   "metadata": {
    "collapsed": false
   },
   "id": "26edfc349abb2ac6"
  },
  {
   "cell_type": "code",
   "execution_count": null,
   "outputs": [],
   "source": [
    "timur = {'name': 'Тимур', 'age': 29, 'height': 170}\n",
    "\n",
    "print(timur['name'])\n",
    "print(timur['age'])\n",
    "print(timur['height'])"
   ],
   "metadata": {
    "collapsed": false
   },
   "id": "10436bb78670a71e"
  },
  {
   "cell_type": "markdown",
   "source": [
    "В обоих примерах мы полностью понимаем код и его назначение. Однако для определения именованного кортежа требуются две дополнительные строки кода: одна строка для импорта фабричной функции namedtuple(), а другая — для определения самого именованного кортежа Person."
   ],
   "metadata": {
    "collapsed": false
   },
   "id": "f9d21ce84f4be24b"
  },
  {
   "cell_type": "markdown",
   "source": [
    "Доступ к атрибутам через точечную нотацию выглядит немного аккуратнее чем через квадратные скобки. Также нужно заметить, что при использовании квадратных скобок нам нужно использовать символ кавычки."
   ],
   "metadata": {
    "collapsed": false
   },
   "id": "1c271c69da16b83e"
  },
  {
   "cell_type": "markdown",
   "source": [
    "Изменяемость"
   ],
   "metadata": {
    "collapsed": false
   },
   "id": "74e3d96213294372"
  },
  {
   "cell_type": "markdown",
   "source": [
    "Большая разница между обеими структурами данных заключается в том, что словари изменяемы, а именованные кортежи неизменны. Это означает, что вы можете изменять словари на месте (подобно спискам), но не можете изменять именованные кортежи (как и обычные кортежи)."
   ],
   "metadata": {
    "collapsed": false
   },
   "id": "69a1fd7754e66613"
  },
  {
   "cell_type": "code",
   "execution_count": 16,
   "outputs": [
    {
     "name": "stdout",
     "output_type": "stream",
     "text": [
      "30\n"
     ]
    }
   ],
   "source": [
    "timur = {'name': 'Тимур', 'age': 29, 'height': 170}\n",
    "timur['age'] = 30      # изменяем значение в словаре\n",
    "\n",
    "print(timur['age'])    # выводим измененное значение"
   ],
   "metadata": {
    "collapsed": false,
    "ExecuteTime": {
     "end_time": "2024-11-11T11:55:31.053481800Z",
     "start_time": "2024-11-11T11:55:31.051168600Z"
    }
   },
   "id": "eb2119e421364614"
  },
  {
   "cell_type": "code",
   "execution_count": 17,
   "outputs": [
    {
     "ename": "AttributeError",
     "evalue": "can't set attribute",
     "output_type": "error",
     "traceback": [
      "\u001B[1;31m---------------------------------------------------------------------------\u001B[0m",
      "\u001B[1;31mAttributeError\u001B[0m                            Traceback (most recent call last)",
      "Cell \u001B[1;32mIn[17], line 6\u001B[0m\n\u001B[0;32m      3\u001B[0m Person \u001B[38;5;241m=\u001B[39m namedtuple(\u001B[38;5;124m'\u001B[39m\u001B[38;5;124mPerson\u001B[39m\u001B[38;5;124m'\u001B[39m, [\u001B[38;5;124m'\u001B[39m\u001B[38;5;124mname\u001B[39m\u001B[38;5;124m'\u001B[39m, \u001B[38;5;124m'\u001B[39m\u001B[38;5;124mage\u001B[39m\u001B[38;5;124m'\u001B[39m, \u001B[38;5;124m'\u001B[39m\u001B[38;5;124mheight\u001B[39m\u001B[38;5;124m'\u001B[39m])\n\u001B[0;32m      5\u001B[0m timur \u001B[38;5;241m=\u001B[39m Person(\u001B[38;5;124m'\u001B[39m\u001B[38;5;124mТимур\u001B[39m\u001B[38;5;124m'\u001B[39m, \u001B[38;5;241m29\u001B[39m, \u001B[38;5;241m170\u001B[39m)\n\u001B[1;32m----> 6\u001B[0m \u001B[43mtimur\u001B[49m\u001B[38;5;241;43m.\u001B[39;49m\u001B[43mage\u001B[49m \u001B[38;5;241m=\u001B[39m \u001B[38;5;241m30\u001B[39m\n\u001B[0;32m      8\u001B[0m \u001B[38;5;28mprint\u001B[39m(timur\u001B[38;5;241m.\u001B[39mage)\n",
      "\u001B[1;31mAttributeError\u001B[0m: can't set attribute"
     ]
    }
   ],
   "source": [
    "from collections import namedtuple\n",
    "\n",
    "Person = namedtuple('Person', ['name', 'age', 'height'])\n",
    "\n",
    "timur = Person('Тимур', 29, 170)\n",
    "timur.age = 30\n",
    "\n",
    "print(timur.age)"
   ],
   "metadata": {
    "collapsed": false,
    "ExecuteTime": {
     "end_time": "2024-11-11T11:55:43.200724800Z",
     "start_time": "2024-11-11T11:55:43.185261900Z"
    }
   },
   "id": "cef21026eee01e63"
  },
  {
   "cell_type": "markdown",
   "source": [
    "Мы всегда можем обновить значение существующего ключа в словаре, но не можем сделать того же самого в именованном кортеже"
   ],
   "metadata": {
    "collapsed": false
   },
   "id": "203fdcfe21e5e933"
  },
  {
   "cell_type": "markdown",
   "source": [
    " Мы также можем добавлять новые пары \"ключ-значение\" в существующие словари, но не можем добавлять пары \"поле-значение\" в существующие именованные кортежи."
   ],
   "metadata": {
    "collapsed": false
   },
   "id": "3f7f44391c6dff76"
  },
  {
   "cell_type": "markdown",
   "source": [
    "В именованных кортежах мы можем использовать  метод _replace() для обновления значения некоторого поля, но этот метод создает и возвращает новый именованный экземпляр кортежа вместо обновления на месте."
   ],
   "metadata": {
    "collapsed": false
   },
   "id": "1fcdd918611b4dae"
  },
  {
   "cell_type": "markdown",
   "source": [
    "Потребление памяти"
   ],
   "metadata": {
    "collapsed": false
   },
   "id": "9bb1ff4dfc6d737e"
  },
  {
   "cell_type": "markdown",
   "source": [
    "Для сравнения потребления памяти именованным кортежем и словарем мы будем использовать функцию asizeof() модуля pympler."
   ],
   "metadata": {
    "collapsed": false
   },
   "id": "b39e99e9731dabd7"
  },
  {
   "cell_type": "code",
   "execution_count": 18,
   "outputs": [
    {
     "name": "stdout",
     "output_type": "stream",
     "text": [
      "Именованный кортеж: 200 байт\n",
      "Словарь: 464 байт\n"
     ]
    }
   ],
   "source": [
    "from collections import namedtuple\n",
    "from pympler import asizeof\n",
    "\n",
    "Person = namedtuple('Person', ['name', 'age', 'height'])\n",
    "\n",
    "timur = Person('Тимур', 29, 170)\n",
    "timur_dct = {'name': 'Тимур', 'age': 29, 'height': 170}\n",
    "\n",
    "print(f'Именованный кортеж: {asizeof.asizeof(timur)} байт')\n",
    "print(f'Словарь: {asizeof.asizeof(timur_dct)} байт')"
   ],
   "metadata": {
    "collapsed": false,
    "ExecuteTime": {
     "end_time": "2024-11-11T11:58:23.420960100Z",
     "start_time": "2024-11-11T11:58:23.342962300Z"
    }
   },
   "id": "ea0f255ee1c07f63"
  },
  {
   "cell_type": "markdown",
   "source": [
    "Именованный кортеж потребляет меньше памяти (примерно на 63%), чем эквивалентный словарь. Поэтому, если потребление памяти является ограничением, следует подумать об использовании именованного кортежа вместо словаря."
   ],
   "metadata": {
    "collapsed": false
   },
   "id": "58c2b38c5dfbc9d5"
  },
  {
   "cell_type": "markdown",
   "source": [
    "Когда мы сравниваем именованные кортежи и словари, разница в конечном потреблении памяти будет зависеть от количества полей (значений) и их типов. Используя разные значения, мы будем получать разные результаты."
   ],
   "metadata": {
    "collapsed": false
   },
   "id": "44be62196f3f94a3"
  },
  {
   "cell_type": "markdown",
   "source": [
    "Производительность"
   ],
   "metadata": {
    "collapsed": false
   },
   "id": "ab3f7a874d65b3c9"
  },
  {
   "cell_type": "markdown",
   "source": [
    "Наконец, нам нужно иметь представление о том, насколько сильно различаются именованные кортежи и словари с точки зрения производительности операций. Для этого мы будем тестировать операции принадлежности и операции доступа к атрибутам."
   ],
   "metadata": {
    "collapsed": false
   },
   "id": "8c935df0ff55eb28"
  },
  {
   "cell_type": "code",
   "execution_count": 19,
   "outputs": [
    {
     "name": "stdout",
     "output_type": "stream",
     "text": [
      "Именованный кортеж: 191.08409609179944 наносекунд\n",
      "Словарь: 295.0780093087815 наносекунд\n"
     ]
    }
   ],
   "source": [
    "from collections import namedtuple\n",
    "from time import perf_counter\n",
    "\n",
    "def average_time(structure, test_func):\n",
    "    time_measurements = []\n",
    "    for _ in range(1_000_000):\n",
    "        start = perf_counter()\n",
    "        test_func(structure)\n",
    "        end = perf_counter()\n",
    "        time_measurements.append(end - start)\n",
    "    return sum(time_measurements) / len(time_measurements) * int(10**9)\n",
    "\n",
    "def time_dict(dictionary):\n",
    "    'name' in dictionary\n",
    "    'missing_key' in dictionary\n",
    "    28 in dictionary.values()\n",
    "    'missing_value' in dictionary.values()\n",
    "    dictionary['age']\n",
    "\n",
    "def time_namedtuple(named_tuple):\n",
    "    'name' in named_tuple._fields\n",
    "    'missing_field' in named_tuple._fields\n",
    "    28 in named_tuple\n",
    "    'missing_value' in named_tuple\n",
    "    named_tuple.age\n",
    "\n",
    "Person = namedtuple('Person', ['name', 'age', 'height'])\n",
    "\n",
    "timur = Person('Тимур', 29, 170)\n",
    "timur_dct = {'name': 'Тимур', 'age': 29, 'height': 170}\n",
    "\n",
    "print(f'Именованный кортеж: {average_time(timur, time_namedtuple)} наносекунд')\n",
    "print(f'Словарь: {average_time(timur_dct , time_dict)} наносекунд')"
   ],
   "metadata": {
    "collapsed": false,
    "ExecuteTime": {
     "end_time": "2024-11-11T13:05:51.348327Z",
     "start_time": "2024-11-11T13:05:50.652891500Z"
    }
   },
   "id": "7f9db4828db6adbf"
  },
  {
   "cell_type": "markdown",
   "source": [
    "Таким образом, именованные кортежи работают немного быстрее, чем словари по отношению к операциям принадлежности и доступа к атрибутам."
   ],
   "metadata": {
    "collapsed": false
   },
   "id": "3848dfff4213af43"
  },
  {
   "cell_type": "markdown",
   "source": [
    "Итоговая таблица сравнения:"
   ],
   "metadata": {
    "collapsed": false
   },
   "id": "b904fa333caeccd5"
  },
  {
   "cell_type": "code",
   "execution_count": 20,
   "outputs": [
    {
     "data": {
      "image/png": "[encoded data removed]",
      "text/plain": "<IPython.core.display.Image object>"
     },
     "metadata": {},
     "output_type": "display_data"
    }
   ],
   "source": [
    "from functions import picture\n",
    "picture('Без имени11.png')"
   ],
   "metadata": {
    "collapsed": false,
    "ExecuteTime": {
     "end_time": "2024-11-11T13:08:42.960570400Z",
     "start_time": "2024-11-11T13:08:42.857167700Z"
    }
   },
   "id": "966602c064907383"
  }
 ],
 "metadata": {
  "kernelspec": {
   "display_name": "Python 3",
   "language": "python",
   "name": "python3"
  },
  "language_info": {
   "codemirror_mode": {
    "name": "ipython",
    "version": 2
   },
   "file_extension": ".py",
   "mimetype": "text/x-python",
   "name": "python",
   "nbconvert_exporter": "python",
   "pygments_lexer": "ipython2",
   "version": "2.7.6"
  }
 },
 "nbformat": 4,
 "nbformat_minor": 5
}
