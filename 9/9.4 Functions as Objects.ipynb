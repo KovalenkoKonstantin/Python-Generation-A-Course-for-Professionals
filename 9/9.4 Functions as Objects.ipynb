{
 "cells": [
  {
   "cell_type": "markdown",
   "source": [
    "Функции как объекты"
   ],
   "metadata": {
    "collapsed": false
   },
   "id": "927bae73f72cb152"
  },
  {
   "cell_type": "markdown",
   "source": [
    "В языке Python функции являются такими же объектами, как и числа, строки, списки и т.д. Поэтому функцию можно записать в переменную. Оказывается, помимо этого, с именем функции можно работать как с самой обыкновенной переменной."
   ],
   "metadata": {
    "collapsed": false
   },
   "id": "350103d4b7312e4a"
  },
  {
   "cell_type": "code",
   "execution_count": 1,
   "outputs": [
    {
     "name": "stdout",
     "output_type": "stream",
     "text": [
      "17\n"
     ]
    }
   ],
   "source": [
    "def my_func():\n",
    "    return 17\n",
    "\n",
    "input = my_func\n",
    "num = input()\n",
    "print(num)"
   ],
   "metadata": {
    "collapsed": false,
    "ExecuteTime": {
     "end_time": "2024-12-13T03:56:01.275177300Z",
     "start_time": "2024-12-13T03:56:01.271306Z"
    }
   },
   "id": "a8f3c2620b259e42"
  },
  {
   "cell_type": "markdown",
   "source": [
    "Строка input = my_func подменяет встроенную функцию input(). Теперь вызов функции input() всегда возвращает один и тот же результат – число 17."
   ],
   "metadata": {
    "collapsed": false
   },
   "id": "9a1db9bf14172039"
  },
  {
   "cell_type": "markdown",
   "source": [
    "Напишем функцию nop(), которая принимает произвольное число позиционных и именованных аргументов, а затем подменим встроенную функцию print()."
   ],
   "metadata": {
    "collapsed": false
   },
   "id": "8f4a3f96b190e85a"
  },
  {
   "cell_type": "code",
   "execution_count": 2,
   "outputs": [],
   "source": [
    "def nop(*rest, **kwargs):\n",
    "    pass                               # заглушка, функция ничего не делает\n",
    "\n",
    "print = nop\n",
    "print('Привет', 'мир')\n",
    "print('Stepik', 'Beegeek', 'Python', sep='*', end='')\n",
    "print('Stepik', 'Beegeek', 'Python', delimeter='-', endline='\\n')"
   ],
   "metadata": {
    "collapsed": false,
    "ExecuteTime": {
     "end_time": "2024-12-13T03:59:50.651819300Z",
     "start_time": "2024-12-13T03:59:50.642305Z"
    }
   },
   "id": "26b4109523a858c9"
  },
  {
   "cell_type": "markdown",
   "source": [
    "Строка print = nop подменяет встроенную функцию print(). Теперь вызов функции print(), независимо от переданных аргументов, ничего не делает. Привычная функция print() изменила поведение."
   ],
   "metadata": {
    "collapsed": false
   },
   "id": "c41d8363f86e68fe"
  },
  {
   "cell_type": "markdown",
   "source": [
    "Обратите внимание на то, что в качестве аргументов функции nop() указано произвольное число позиционных и именованных аргументов. Благодаря этому мы можем передавать ей разное число аргументов, как и в старую функцию print(). На самом деле теперь не вызывают ошибки даже те наборы аргументов, которые не работают со встроенной функцией print(): функция print() принимает не любые именованные аргументы, а только небольшой список, функция nop() же (а значит, и переопределенная функция print()) — абсолютно любые."
   ],
   "metadata": {
    "collapsed": false
   },
   "id": "2d522a1582561d88"
  },
  {
   "cell_type": "markdown",
   "source": [
    "Подменяя функцию, мы заботимся о том, чтобы ее аргументы соответствовали аргументам исходной функции. Иначе придется переписывать не только функцию, но и ее вызовы, а в таком случае гораздо лучше просто завести новую функцию."
   ],
   "metadata": {
    "collapsed": false
   },
   "id": "4d29040e4fd61a02"
  },
  {
   "cell_type": "markdown",
   "source": [
    "Поскольку функции являются обычными объектами, то мы можем хранить их в структурах данных точно так же, как и другие объекты. Например, мы можем создать список или словарь, содержащий функции."
   ],
   "metadata": {
    "collapsed": false
   },
   "id": "60952c64022f754f"
  },
  {
   "cell_type": "code",
   "execution_count": 1,
   "outputs": [
    {
     "name": "stdout",
     "output_type": "stream",
     "text": [
      "5\n",
      "28\n",
      "2\n",
      "5.6\n"
     ]
    }
   ],
   "source": [
    "def avg(nums):\n",
    "    return sum(nums)/len(nums)\n",
    "\n",
    "funcs = [len, sum, min, avg]\n",
    "\n",
    "primes = [2, 3, 5, 7, 11]\n",
    "\n",
    "for func in funcs:\n",
    "    print(func(primes))"
   ],
   "metadata": {
    "collapsed": false,
    "ExecuteTime": {
     "end_time": "2024-12-13T04:02:48.150736800Z",
     "start_time": "2024-12-13T04:02:48.146395700Z"
    }
   },
   "id": "b0c97e6de6bc088a"
  },
  {
   "cell_type": "code",
   "execution_count": 2,
   "outputs": [
    {
     "name": "stdout",
     "output_type": "stream",
     "text": [
      "THIS IS THE BEST COURSE TO STUDY IN THE WORLD!\n",
      "tHIS IS THE bEST COURSE to STUDY IN THE WORLD!\n"
     ]
    }
   ],
   "source": [
    "funcs = {'capitalize': str.capitalize, \n",
    "         'swapcase': str.swapcase, \n",
    "         'title': str.title, \n",
    "         'lower': str.lower, \n",
    "         'upper': str.upper}\n",
    "\n",
    "sentence = 'This is the Best course TO study in the world!'\n",
    "\n",
    "print(funcs['upper'](sentence))\n",
    "print(funcs['swapcase'](sentence))"
   ],
   "metadata": {
    "collapsed": false,
    "ExecuteTime": {
     "end_time": "2024-12-13T04:04:09.250503700Z",
     "start_time": "2024-12-13T04:04:09.244981600Z"
    }
   },
   "id": "b24188299ded4d06"
  },
  {
   "cell_type": "code",
   "execution_count": 3,
   "outputs": [
    {
     "data": {
      "text/plain": "'THIS IS THE BEST COURSE TO STUDY IN THE WORLD!'"
     },
     "execution_count": 3,
     "metadata": {},
     "output_type": "execute_result"
    }
   ],
   "source": [
    "str.upper('This is the Best course TO study in the world!')"
   ],
   "metadata": {
    "collapsed": false,
    "ExecuteTime": {
     "end_time": "2024-12-13T04:14:04.522418Z",
     "start_time": "2024-12-13T04:14:04.514814300Z"
    }
   },
   "id": "2c2c4281406f6fe9"
  },
  {
   "cell_type": "markdown",
   "source": [
    "Обратите внимание на то, что мы можем использовать методы как обычные функции. Для этого нужно указать название типа, затем точку и название метода: type.method."
   ],
   "metadata": {
    "collapsed": false
   },
   "id": "9efa147edd4abe2e"
  },
  {
   "cell_type": "code",
   "execution_count": 4,
   "outputs": [
    {
     "name": "stdout",
     "output_type": "stream",
     "text": [
      "HELLO\n",
      "[1, 2, 3, 4]\n"
     ]
    }
   ],
   "source": [
    "text = 'hello'\n",
    "numbers = [1, 2, 3]\n",
    "\n",
    "text_upper = str.upper(text)\n",
    "list.append(numbers, 4)\n",
    "\n",
    "print(text_upper)\n",
    "print(numbers)"
   ],
   "metadata": {
    "collapsed": false,
    "ExecuteTime": {
     "end_time": "2024-12-13T04:30:38.676624700Z",
     "start_time": "2024-12-13T04:30:38.673086600Z"
    }
   },
   "id": "dc4c47a06a4e368a"
  },
  {
   "cell_type": "markdown",
   "source": [
    "Атрибуты __name__, __doc__, __defaults__"
   ],
   "metadata": {
    "collapsed": false
   },
   "id": "74864201425f703a"
  },
  {
   "cell_type": "markdown",
   "source": [
    "Все функции содержат специальные атрибуты, которые содержат полезную информацию."
   ],
   "metadata": {
    "collapsed": false
   },
   "id": "26b76e1811979c99"
  },
  {
   "cell_type": "markdown",
   "source": [
    "__name__ — имя функции\n",
    "__doc__ — строка документации\n",
    "__defaults__ — кортеж с аргументами по умолчанию"
   ],
   "metadata": {
    "collapsed": false
   },
   "id": "b09f776336f97051"
  },
  {
   "cell_type": "code",
   "execution_count": 5,
   "outputs": [
    {
     "name": "stdout",
     "output_type": "stream",
     "text": [
      "func\n",
      "None\n",
      "('Python', 1992)\n"
     ]
    }
   ],
   "source": [
    "def func(name, language='Python', year=1992):\n",
    "    pass\n",
    "\n",
    "print(func.__name__)          # имя функции\n",
    "print(func.__doc__)           # строка документации\n",
    "print(func.__defaults__)      # кортеж с аргументами по умолчанию"
   ],
   "metadata": {
    "collapsed": false,
    "ExecuteTime": {
     "end_time": "2024-12-13T04:32:07.045442900Z",
     "start_time": "2024-12-13T04:32:07.036392700Z"
    }
   },
   "id": "8bb686d71f69259f"
  },
  {
   "cell_type": "markdown",
   "source": [
    "Строка документации (docstring) — это строковый литерал, который расположен сразу за объявлением функции."
   ],
   "metadata": {
    "collapsed": false
   },
   "id": "ff6ec69ad835fe7"
  },
  {
   "cell_type": "code",
   "execution_count": 6,
   "outputs": [
    {
     "name": "stdout",
     "output_type": "stream",
     "text": [
      "Return the absolute value of the argument.\n",
      "Return a copy of the string converted to lowercase.\n"
     ]
    }
   ],
   "source": [
    "print(abs.__doc__)\n",
    "print(str.lower.__doc__)"
   ],
   "metadata": {
    "collapsed": false,
    "ExecuteTime": {
     "end_time": "2024-12-13T04:32:57.245507300Z",
     "start_time": "2024-12-13T04:32:57.238669Z"
    }
   },
   "id": "7fd8b9f80e5575b7"
  },
  {
   "cell_type": "markdown",
   "source": [
    "Основное назначение комментариев – пояснить что делает код, как он работает. Основное назначение строк документации – описать в целом для чего предназначен объект, какие аргументы принимает, и что возвращает."
   ],
   "metadata": {
    "collapsed": false
   },
   "id": "31cf5e947abf8944"
  },
  {
   "cell_type": "markdown",
   "source": [
    "Для описания строки документации обычно используют тройные кавычки, в которых размещается соответствующая информация."
   ],
   "metadata": {
    "collapsed": false
   },
   "id": "bf93470e6b812b4a"
  },
  {
   "cell_type": "code",
   "execution_count": 7,
   "outputs": [
    {
     "name": "stdout",
     "output_type": "stream",
     "text": [
      "Принимает число и возвращает его квадрат.\n",
      "Принимает несколько чисел и возвращает их среднее арифметическое значение.\n"
     ]
    }
   ],
   "source": [
    "def square(n):\n",
    "    '''Принимает число и возвращает его квадрат.'''\n",
    "    return n**2\n",
    "\n",
    "def average(*args):\n",
    "    '''Принимает несколько чисел и возвращает их среднее арифметическое значение.'''\n",
    "    return sum(args)/len(args)\n",
    "\n",
    "print(square.__doc__)\n",
    "print(average.__doc__)"
   ],
   "metadata": {
    "collapsed": false,
    "ExecuteTime": {
     "end_time": "2024-12-13T04:33:52.795549900Z",
     "start_time": "2024-12-13T04:33:52.783007200Z"
    }
   },
   "id": "e10ec53cc40c5c08"
  },
  {
   "cell_type": "markdown",
   "source": [
    "Мы можем использовать как тройные двойные кавычки \"\"\", так и тройные одинарные кавычки ''' для создания строк документации. Тройные кавычки используются для многострочных строк."
   ],
   "metadata": {
    "collapsed": false
   },
   "id": "bdebafcbb0325128"
  },
  {
   "cell_type": "code",
   "execution_count": 8,
   "outputs": [
    {
     "name": "stdout",
     "output_type": "stream",
     "text": [
      "Принимает список чисел и возвращает сумму квадратов его элементов.\n"
     ]
    }
   ],
   "source": [
    "def sum_squares(nums):\n",
    "    '''Принимает список чисел и возвращает сумму квадратов его элементов.'''\n",
    "    total = 0\n",
    "    '''Это уже не относится к строке документации.'''\n",
    "    for i in nums:\n",
    "        total += i ** 2\n",
    "    return total\n",
    "\n",
    "print(sum_squares.__doc__)"
   ],
   "metadata": {
    "collapsed": false,
    "ExecuteTime": {
     "end_time": "2024-12-13T04:34:53.799772500Z",
     "start_time": "2024-12-13T04:34:53.791107800Z"
    }
   },
   "id": "5a8e1563c318d122"
  },
  {
   "cell_type": "markdown",
   "source": [
    "Примечания"
   ],
   "metadata": {
    "collapsed": false
   },
   "id": "4d88441542db4928"
  },
  {
   "cell_type": "markdown",
   "source": [
    "Примечание 1. Переопределение (подмена) функций достаточно мощный механизм, однако и опасный. Никогда не стоит переопределять встроенные функции."
   ],
   "metadata": {
    "collapsed": false
   },
   "id": "9a63577a118a2b4a"
  },
  {
   "cell_type": "markdown",
   "source": [
    "Примечание 3. При описании строки документации обычно описывают типы принимаемых аргументов и возвращаемое значение функции. Рассмотрим функцию multiplier(), которая принимает два числа (int, float) и возвращает их произведение."
   ],
   "metadata": {
    "collapsed": false
   },
   "id": "56e61f88168c5d6a"
  },
  {
   "cell_type": "code",
   "execution_count": null,
   "outputs": [],
   "source": [
    "def multiplier(num1, num2):\n",
    "    \"\"\"Перемножает два числа и возвращает их произведение.\n",
    "    :параметр num1: int, float, первое число в произведении;\n",
    "    :параметр num2: int, float, второе число в произведении;\n",
    "    :возвращаемое значение: int, float, произведение двух чисел.\n",
    "    \"\"\"\n",
    "    return num1 * num2"
   ],
   "metadata": {
    "collapsed": false
   },
   "id": "7c039cddc6e40fb4"
  },
  {
   "cell_type": "markdown",
   "source": [
    "Примечание 4. Не забывайте, что значения по умолчанию (__defaults__) для аргументов функции конструируются только один раз при создании функции. Поэтому всегда является плохой идеей использовать изменяемые типы данных (list, set, dict и т.д.) в качестве значений по умолчанию."
   ],
   "metadata": {
    "collapsed": false
   },
   "id": "a776aa2aa74ff057"
  },
  {
   "cell_type": "code",
   "execution_count": 9,
   "outputs": [
    {
     "name": "stdout",
     "output_type": "stream",
     "text": [
      "([],)\n",
      "([10],)\n",
      "([10, 20],)\n"
     ]
    }
   ],
   "source": [
    "def append(element, seq=[]):\n",
    "    seq.append(element)\n",
    "\n",
    "print(append.__defaults__)\n",
    "append(10)\n",
    "print(append.__defaults__)\n",
    "append(20)\n",
    "print(append.__defaults__)"
   ],
   "metadata": {
    "collapsed": false,
    "ExecuteTime": {
     "end_time": "2024-12-13T04:37:10.402733500Z",
     "start_time": "2024-12-13T04:37:10.399618200Z"
    }
   },
   "id": "3a3bd880b91bf7e2"
  },
  {
   "cell_type": "markdown",
   "source": [
    "Для решения указанной выше проблемы можно использовать следующий код:"
   ],
   "metadata": {
    "collapsed": false
   },
   "id": "1225f765e948ed2c"
  },
  {
   "cell_type": "code",
   "execution_count": null,
   "outputs": [],
   "source": [
    "def append(element, seq=None):\n",
    "    if seq is None:\n",
    "        seq=[]\n",
    "    seq.append(element)"
   ],
   "metadata": {
    "collapsed": false
   },
   "id": "b3686664b3417b69"
  },
  {
   "cell_type": "markdown",
   "source": [
    "Функция numbers_sum()\n",
    "Реализуйте функцию numbers_sum(), которая принимает один аргумент:\n",
    "\n",
    "elems — список произвольных объектов\n",
    "Функция должна возвращать сумму чисел (типы int и float), находящихся в списке elems, игнорируя все нечисловые объекты. Если в списке elems нет чисел, функция должна вернуть число 0.\n",
    "\n",
    "Также функция должна иметь следующую строку документации:\n",
    "\n",
    "Принимает список и возвращает сумму его чисел (int, float),\n",
    "игнорируя нечисловые объекты. 0 - если в списке чисел нет."
   ],
   "metadata": {
    "collapsed": false
   },
   "id": "1649ef228156c574"
  },
  {
   "cell_type": "code",
   "execution_count": 14,
   "outputs": [
    {
     "name": "stdout",
     "output_type": "stream",
     "text": [
      "8\n",
      "0\n",
      "Принимает список и возвращает сумму его чисел (int, float),\n",
      "игнорируя нечисловые объекты. 0 - если в списке чисел нет.\n"
     ]
    }
   ],
   "source": [
    "def numbers_sum(elems: list):\n",
    "    '''Принимает список и возвращает сумму его чисел (int, float),\n",
    "игнорируя нечисловые объекты. 0 - если в списке чисел нет.'''\n",
    "    return sum([i for i in elems if isinstance(i, int) or isinstance(i, float)])\n",
    "\n",
    "print(numbers_sum([1, '2', 3, 4, 'five']))\n",
    "print(numbers_sum(['beegeek', 'stepik', '100']))\n",
    "print(numbers_sum.__doc__)"
   ],
   "metadata": {
    "collapsed": false,
    "ExecuteTime": {
     "end_time": "2024-12-13T05:31:18.133112800Z",
     "start_time": "2024-12-13T05:31:18.130588500Z"
    }
   },
   "id": "92a3dfae4b01edcf"
  },
  {
   "cell_type": "code",
   "execution_count": null,
   "outputs": [],
   "source": [
    "def numbers_sum(elems):\n",
    "    \"\"\"Принимает список и возвращает сумму его чисел (int, float),\n",
    "игнорируя нечисловые объекты. 0 - если в списке чисел нет.\"\"\"\n",
    "    return sum(filter(lambda x: isinstance(x, (int, float)), elems))"
   ],
   "metadata": {
    "collapsed": false
   },
   "id": "87876af108234b7e"
  },
  {
   "cell_type": "markdown",
   "source": [
    "Новый print()\n",
    "Напишите программу, которая переопределяет встроенную функцию print() так, чтобы она печатала все переданные строковые аргументы в верхнем регистре.\n",
    "\n",
    "Примечание 1. Значения sep и end также должны переводиться в верхний регистр."
   ],
   "metadata": {
    "collapsed": false
   },
   "id": "5e67e1dc118eda92"
  },
  {
   "cell_type": "code",
   "execution_count": 19,
   "outputs": [
    {
     "name": "stdout",
     "output_type": "stream",
     "text": [
      "Help on built-in function print in module builtins:\n",
      "\n",
      "print(*args, sep=' ', end='\\n', file=None, flush=False)\n",
      "    Prints the values to a stream, or to sys.stdout by default.\n",
      "\n",
      "    sep\n",
      "      string inserted between values, default a space.\n",
      "    end\n",
      "      string appended after the last value, default a newline.\n",
      "    file\n",
      "      a file-like object (stream); defaults to the current sys.stdout.\n",
      "    flush\n",
      "      whether to forcibly flush the stream.\n"
     ]
    },
    {
     "ename": "AttributeError",
     "evalue": "'builtin_function_or_method' object has no attribute '__defaults__'",
     "output_type": "error",
     "traceback": [
      "\u001B[1;31m---------------------------------------------------------------------------\u001B[0m",
      "\u001B[1;31mAttributeError\u001B[0m                            Traceback (most recent call last)",
      "Cell \u001B[1;32mIn[19], line 4\u001B[0m\n\u001B[0;32m      2\u001B[0m \u001B[38;5;28mprint\u001B[39m\u001B[38;5;241m.\u001B[39m\u001B[38;5;18m__doc__\u001B[39m\n\u001B[0;32m      3\u001B[0m \u001B[38;5;28mprint\u001B[39m\u001B[38;5;241m.\u001B[39m\u001B[38;5;18m__name__\u001B[39m\n\u001B[1;32m----> 4\u001B[0m \u001B[38;5;28;43mprint\u001B[39;49m\u001B[38;5;241;43m.\u001B[39;49m\u001B[38;5;18;43m__defaults__\u001B[39;49m\n",
      "\u001B[1;31mAttributeError\u001B[0m: 'builtin_function_or_method' object has no attribute '__defaults__'"
     ]
    }
   ],
   "source": [
    "help(print)\n",
    "print.__doc__\n",
    "print.__name__\n",
    "print.__defaults__"
   ],
   "metadata": {
    "collapsed": false,
    "ExecuteTime": {
     "end_time": "2024-12-13T05:36:11.783154500Z",
     "start_time": "2024-12-13T05:36:11.774157200Z"
    }
   },
   "id": "afbc17af843530a9"
  },
  {
   "cell_type": "code",
   "execution_count": null,
   "outputs": [],
   "source": [
    "def print(*args, sep=' ', end='\\n'):\n",
    "    args = [str(arg).upper() for arg in args]\n",
    "    sep = sep.upper()\n",
    "    end = end.upper()\n",
    "    __builtins__.print(*args, sep=sep, end=end)"
   ],
   "metadata": {
    "collapsed": false
   },
   "id": "ab69d29801c280be"
  },
  {
   "cell_type": "markdown",
   "source": [
    "[str(arg).upper() for arg in args] — мы проходим по всем аргументам, преобразуем их в строковый тип (если это не строка) и затем переводим в верхний регистр."
   ],
   "metadata": {
    "collapsed": false
   },
   "id": "b585adb14d755a8c"
  },
  {
   "cell_type": "markdown",
   "source": [
    "__builtins__.print — используется для вызова оригинальной функции print, чтобы не возникало бесконечной рекурсии при попытке вызвать print внутри нашей переопределенной функции."
   ],
   "metadata": {
    "collapsed": false
   },
   "id": "404f9617a426f6e4"
  },
  {
   "cell_type": "code",
   "execution_count": null,
   "outputs": [],
   "source": [
    "old_print = print\n",
    "\n",
    "def print(*args, **kwargs):\n",
    "    # Преобразуем все строковые аргументы в верхний регистр\n",
    "    caps = tuple(arg.upper() if isinstance(arg, str) else arg for arg in args)\n",
    "    \n",
    "    # Если kwargs пустой, вызываем старую функцию print с преобразованными аргументами\n",
    "    if not kwargs:\n",
    "        old_print(*caps)\n",
    "    else:\n",
    "        # Преобразуем sep и end в верхний регистр\n",
    "        if 'sep' in kwargs:\n",
    "            kwargs['sep'] = kwargs['sep'].upper()\n",
    "        if 'end' in kwargs:\n",
    "            kwargs['end'] = kwargs['end'].upper()\n",
    "        \n",
    "        # Вызываем старую функцию print с измененными параметрами\n",
    "        old_print(*caps, **kwargs)"
   ],
   "metadata": {
    "collapsed": false
   },
   "id": "c8a7745f3b4e1e42"
  },
  {
   "cell_type": "code",
   "execution_count": null,
   "outputs": [],
   "source": [
    "from sys import stdout\n",
    "\n",
    "def print(*s, sep=\" \", end=\"\\n\"):\n",
    "    result = sep.upper().join(map(lambda x: str(x).upper() if type(x) is str else str(x), s)) + end.upper()\n",
    "    stdout.write(result)"
   ],
   "metadata": {
    "collapsed": false
   },
   "id": "6fdcd59b585f8f7f"
  },
  {
   "cell_type": "code",
   "execution_count": null,
   "outputs": [],
   "source": [
    "def decorator(func): \n",
    "   def wrapper(*args, sep=\" \", end=\"\\n\"): \n",
    "     res = [c.upper() if type(c) == str else c for c in args] \n",
    "     end, sep = end.upper(), sep.upper() \n",
    "     func(*res, end=end, sep=sep) \n",
    " \n",
    "   return wrapper\n",
    " \n",
    " \n",
    "print = decorator(print)"
   ],
   "metadata": {
    "collapsed": false
   },
   "id": "e901c19ac18e43c6"
  },
  {
   "cell_type": "code",
   "execution_count": null,
   "outputs": [],
   "source": [
    "def custom_print(*args, sep=' ', end='\\n', **kwargs):\n",
    "    args = [i.upper() if isinstance(i, str) else i for i in args]\n",
    "    old_print(*args, sep=sep.upper(), end=end.upper(), **kwargs)\n",
    "\n",
    "old_print = print\n",
    "print = custom_print"
   ],
   "metadata": {
    "collapsed": false
   },
   "id": "68f54d7b243a5e9d"
  }
 ],
 "metadata": {
  "kernelspec": {
   "display_name": "Python 3",
   "language": "python",
   "name": "python3"
  },
  "language_info": {
   "codemirror_mode": {
    "name": "ipython",
    "version": 2
   },
   "file_extension": ".py",
   "mimetype": "text/x-python",
   "name": "python",
   "nbconvert_exporter": "python",
   "pygments_lexer": "ipython2",
   "version": "2.7.6"
  }
 },
 "nbformat": 4,
 "nbformat_minor": 5
}
