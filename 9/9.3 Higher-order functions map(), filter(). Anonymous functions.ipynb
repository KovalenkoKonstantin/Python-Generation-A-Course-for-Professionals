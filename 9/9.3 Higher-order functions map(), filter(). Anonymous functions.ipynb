{
 "cells": [
  {
   "cell_type": "markdown",
   "source": [
    "Анонимные функции"
   ],
   "metadata": {
    "collapsed": false
   },
   "id": "5d55d504c0c5865d"
  },
  {
   "cell_type": "markdown",
   "source": [
    "В языке Python для определения функций используется ключевое слово def. Приведенный ниже код определяет функцию hello(), принимающую один аргумент name:"
   ],
   "metadata": {
    "collapsed": false
   },
   "id": "d70a656c8de50348"
  },
  {
   "cell_type": "code",
   "execution_count": 1,
   "outputs": [
    {
     "name": "stdout",
     "output_type": "stream",
     "text": [
      "Привет, Гвидо!\n"
     ]
    }
   ],
   "source": [
    "def hello(name):\n",
    "    print(f'Привет, {name}!')\n",
    "    \n",
    "hello('Гвидо')"
   ],
   "metadata": {
    "collapsed": false,
    "ExecuteTime": {
     "end_time": "2024-12-11T12:35:32.813942300Z",
     "start_time": "2024-12-11T12:35:32.808139700Z"
    }
   },
   "id": "80da815b0a6d0d86"
  },
  {
   "cell_type": "markdown",
   "source": [
    "Иногда, бывают ситуации, когда определяемые нами функции используются единственный раз. Для таких функций можно использовать синтаксис анонимных функций (лямбда-функций) с помощью ключевого слова lambda. Определенную выше функцию hello() можно записать следующим образом:"
   ],
   "metadata": {
    "collapsed": false
   },
   "id": "aebca566639febf8"
  },
  {
   "cell_type": "code",
   "execution_count": 2,
   "outputs": [
    {
     "name": "stdout",
     "output_type": "stream",
     "text": [
      "Привет, Деннис!\n"
     ]
    }
   ],
   "source": [
    "hello = lambda name: print(f'Привет, {name}!')\n",
    "hello('Деннис')"
   ],
   "metadata": {
    "collapsed": false,
    "ExecuteTime": {
     "end_time": "2024-12-11T12:36:05.138949300Z",
     "start_time": "2024-12-11T12:36:05.135642200Z"
    }
   },
   "id": "67b2c26a2d2ea750"
  },
  {
   "cell_type": "markdown",
   "source": [
    "Общий формат определения анонимной функции: lambda список_параметров: выражение. \n",
    "\n",
    "Тут список_параметров – список параметров через запятую, выражение – значение, либо код, дающий значение.\n",
    "\n",
    "   Параметры анонимных функций, в отличие от обычных, не нужно заключать в скобки."
   ],
   "metadata": {
    "collapsed": false
   },
   "id": "ab20a72e89cac71d"
  },
  {
   "cell_type": "code",
   "execution_count": 3,
   "outputs": [
    {
     "name": "stdout",
     "output_type": "stream",
     "text": [
      "17\n",
      "100\n",
      "1500\n"
     ]
    }
   ],
   "source": [
    "f1 = lambda: 17                          # функция без параметров\n",
    "f2 = lambda х, у: х**2 + у**2            # функция с двумя параметрами\n",
    "f3 = lambda х, у, z: х * у * z           # функция с тремя параметрами\n",
    "\n",
    "print(f1())\n",
    "print(f2(6, 8))\n",
    "print(f3(5, 10, 30))"
   ],
   "metadata": {
    "collapsed": false,
    "ExecuteTime": {
     "end_time": "2024-12-11T12:36:38.596231700Z",
     "start_time": "2024-12-11T12:36:38.592079400Z"
    }
   },
   "id": "a263a7824059717b"
  },
  {
   "cell_type": "markdown",
   "source": [
    "Обратите внимание на то, что анонимные функции ограничены всегда одним выражением и не содержат инструкции return."
   ],
   "metadata": {
    "collapsed": false
   },
   "id": "22ce8685717d62b3"
  },
  {
   "cell_type": "markdown",
   "source": [
    "Применение анонимных функций, как правило, оправдано в следующих ситуациях:\n",
    "\n",
    "однократное использование функции\n",
    "передача функций в качестве аргументов другим функциям\n",
    "возвращение функции в качестве результата другой функции"
   ],
   "metadata": {
    "collapsed": false
   },
   "id": "d0c885b1c8c0520b"
  },
  {
   "cell_type": "markdown",
   "source": [
    "Функции высшего порядка"
   ],
   "metadata": {
    "collapsed": false
   },
   "id": "5e671801b085a2df"
  },
  {
   "cell_type": "markdown",
   "source": [
    "Функции высшего порядка – это функции, которые принимают или/и возвращают другие функции."
   ],
   "metadata": {
    "collapsed": false
   },
   "id": "6a2c9e82b1d36ca9"
  },
  {
   "cell_type": "markdown",
   "source": [
    "Например, встроенные функции min(), max(), sorted() – функции высшего порядка, так как принимают в качестве необязательного аргумента key функцию сравнения элементов."
   ],
   "metadata": {
    "collapsed": false
   },
   "id": "f5f513f2f2b9c496"
  },
  {
   "cell_type": "code",
   "execution_count": 4,
   "outputs": [
    {
     "name": "stdout",
     "output_type": "stream",
     "text": [
      "-210\n",
      "-7\n",
      "[117, 87, 32, 10, 8, -7, -50, -100, -210]\n"
     ]
    }
   ],
   "source": [
    "numbers = [10, -7, 8, -100, -50, 32, 87, 117, -210]\n",
    "\n",
    "print(max(numbers, key=abs))                   #  указываем функцию abs в качестве компаратора\n",
    "print(min(numbers, key=lambda x: x**2))        #  указываем анонимную функцию в качестве компаратора\n",
    "print(sorted(numbers, key=lambda x: -x))        #  сортировка чисел по убыванию"
   ],
   "metadata": {
    "collapsed": false,
    "ExecuteTime": {
     "end_time": "2024-12-11T12:47:23.139363100Z",
     "start_time": "2024-12-11T12:47:23.134262Z"
    }
   },
   "id": "ddd45adc4399d1c8"
  },
  {
   "cell_type": "markdown",
   "source": [
    "Другим важным примером встроенных функций высшего порядка являются функции map() и filter(), которые принимают обязательный аргумент func, представляющий из себя функцию преобразования, либо фильтрации элементов."
   ],
   "metadata": {
    "collapsed": false
   },
   "id": "8ee3477a38de51cb"
  },
  {
   "cell_type": "markdown",
   "source": [
    "Функция map()"
   ],
   "metadata": {
    "collapsed": false
   },
   "id": "670bc7e663e776f7"
  },
  {
   "cell_type": "markdown",
   "source": [
    "Встроенная функция map() преобразует элементы переданного итерируемого объекта в соответствии с некоторой функцией и возвращает объект итератора."
   ],
   "metadata": {
    "collapsed": false
   },
   "id": "9fee00d1968bd527"
  },
  {
   "cell_type": "markdown",
   "source": [
    "Аргументы функции:\n",
    "\n",
    "func — функция, которая вызывается для каждого элемента итерируемого объекта\n",
    "iterable — итерируемый объект"
   ],
   "metadata": {
    "collapsed": false
   },
   "id": "f3cad5fb33f64cb1"
  },
  {
   "cell_type": "markdown",
   "source": [
    "Функция map() выполняет пользовательскую функцию func для каждого элемента последовательности iterable. Каждый элемент iterable отправляется в функцию func в качестве аргумента."
   ],
   "metadata": {
    "collapsed": false
   },
   "id": "cd723dd0b27d7ada"
  },
  {
   "cell_type": "code",
   "execution_count": 5,
   "outputs": [
    {
     "name": "stdout",
     "output_type": "stream",
     "text": [
      "1 4 9 16 25 36 49 64 81\n",
      "5 6 7 90 34 54 21\n",
      "123 -453 34 3490\n",
      "Timur Artur Ruslan\n"
     ]
    }
   ],
   "source": [
    "squares = map(lambda x: x ** 2, range(1, 10))\n",
    "absolute = map(abs, [-5, 6, 7, -90, 34, 54, -21])\n",
    "numbers = map(lambda s: s.replace('.', ''), ['12.3', '-45.3', '34', '34...90'])\n",
    "capitals = map(lambda s: s.capitalize(), ['timur', 'artur', 'ruslan'])\n",
    "\n",
    "print(*squares)\n",
    "print(*absolute)\n",
    "print(*numbers)\n",
    "print(*capitals)"
   ],
   "metadata": {
    "collapsed": false,
    "ExecuteTime": {
     "end_time": "2024-12-11T12:52:04.710596900Z",
     "start_time": "2024-12-11T12:52:04.705183Z"
    }
   },
   "id": "37e09cbac4dd524a"
  },
  {
   "cell_type": "markdown",
   "source": [
    "Обратите внимание на то, что функция map() возвращает специальный объект, который называется итератором. По итераторам можно пройтись циклом for или распаковать их. Итераторы будут изучаться позже."
   ],
   "metadata": {
    "collapsed": false
   },
   "id": "ae4c90d90ca76489"
  },
  {
   "cell_type": "markdown",
   "source": [
    "Если в функцию map() передаётся несколько iterable, то функция func должна принимать количество аргументов, соответствующее количеству переданных итерируемых объектов, при этом func будет применяться к элементам всех итерируемых объектов параллельно"
   ],
   "metadata": {
    "collapsed": false
   },
   "id": "fe00e00ce552a46f"
  },
  {
   "cell_type": "code",
   "execution_count": 6,
   "outputs": [
    {
     "name": "stdout",
     "output_type": "stream",
     "text": [
      "9 12\n",
      "16 9 64\n"
     ]
    }
   ],
   "source": [
    "summa = map(lambda x, y, z: x + y + z, [1, 2], [3, 4], [5, 6])\n",
    "powers = map(pow, [2, 3, 4], [4, 2, 3])\n",
    "\n",
    "print(*summa)\n",
    "print(*powers)"
   ],
   "metadata": {
    "collapsed": false,
    "ExecuteTime": {
     "end_time": "2024-12-11T12:53:55.931363700Z",
     "start_time": "2024-12-11T12:53:55.920268700Z"
    }
   },
   "id": "be3f37d40b7bafe1"
  },
  {
   "cell_type": "markdown",
   "source": [
    "При использовании нескольких последовательностей функция map() останавливается, когда исчерпывается самый короткий итерируемый объект."
   ],
   "metadata": {
    "collapsed": false
   },
   "id": "d77acc755f5199e6"
  },
  {
   "cell_type": "code",
   "execution_count": 7,
   "outputs": [
    {
     "name": "stdout",
     "output_type": "stream",
     "text": [
      "('a', 3) ('b', 4)\n"
     ]
    }
   ],
   "source": [
    "pairs = map(lambda x, y: (x, y), ['a', 'b'], [3, 4, 5, 6, 7])\n",
    "\n",
    "print(*pairs)"
   ],
   "metadata": {
    "collapsed": false,
    "ExecuteTime": {
     "end_time": "2024-12-11T12:55:54.140959Z",
     "start_time": "2024-12-11T12:55:54.133532800Z"
    }
   },
   "id": "d936c691abae8b7"
  },
  {
   "cell_type": "markdown",
   "source": [
    "Функция filter()"
   ],
   "metadata": {
    "collapsed": false
   },
   "id": "9d3e4e7a49bd21f6"
  },
  {
   "cell_type": "markdown",
   "source": [
    "Встроенная функция filter() фильтрует элементы переданного итерируемого объекта в соответствии с некоторой функцией и возвращает объект итератора.\n",
    "\n",
    "Аргументы функции:\n",
    "\n",
    "func — функция, которая принимает элемент последовательности и возвращает bool значение\n",
    "iterable — итерируемый объект\n",
    "Функция filter() фильтрует элементы переданного объекта iterable при помощи функции func. Если фильтрующая функция func вернёт False, то элемент последовательности iterable не попадёт в результирующий итератор."
   ],
   "metadata": {
    "collapsed": false
   },
   "id": "aef4ca3ce3b80590"
  },
  {
   "cell_type": "code",
   "execution_count": 8,
   "outputs": [
    {
     "name": "stdout",
     "output_type": "stream",
     "text": [
      "12 90 12\n",
      "45 67 87 45 67\n",
      "anton Alana Alika\n"
     ]
    }
   ],
   "source": [
    "nums = [9, 3, 45, 67, 12, 90, 87, 12, 45, 67]\n",
    "names = ['timur', 'anton', 'Alana', 'ruslan', '', 'Gvido', 'Alika']\n",
    "\n",
    "filter1 = filter(lambda x: x % 2 == 0, nums)\n",
    "filter2 = filter(lambda x: x % 2 == 1 and x > 10, nums)\n",
    "filter3 = filter(lambda x: len(x) > 0 and x[0].lower() == 'a', names)\n",
    "\n",
    "print(*filter1)\n",
    "print(*filter2)\n",
    "print(*filter3)"
   ],
   "metadata": {
    "collapsed": false,
    "ExecuteTime": {
     "end_time": "2024-12-11T12:57:17.356230200Z",
     "start_time": "2024-12-11T12:57:17.348779400Z"
    }
   },
   "id": "ad932532932975bf"
  },
  {
   "cell_type": "markdown",
   "source": [
    "При несложной фильтрации вместо аргумента func часто подставляют анонимную функцию, используя в ней стандартные функции или методы, возвращающие bool значения:\n",
    "\n",
    "операции сравнения\n",
    "оператор вхождения in\n",
    "оператор идентичности is\n",
    "и т.д.\n",
    "Если необходимо произвести более сложную фильтрацию, то для этого необходимо определить обычную функцию с помощью ключевого слова def и передать ее в качестве первого аргумента функции filter()."
   ],
   "metadata": {
    "collapsed": false
   },
   "id": "d99f6e02edff05e8"
  },
  {
   "cell_type": "markdown",
   "source": [
    "Примечания"
   ],
   "metadata": {
    "collapsed": false
   },
   "id": "f6fb5adff4c0739d"
  },
  {
   "cell_type": "markdown",
   "source": [
    "Примечание 2. Анонимные функции являются выражениями, то есть их можно сразу вызывать в момент определения."
   ],
   "metadata": {
    "collapsed": false
   },
   "id": "31e95098490c190"
  },
  {
   "cell_type": "code",
   "execution_count": 9,
   "outputs": [
    {
     "name": "stdout",
     "output_type": "stream",
     "text": [
      "17\n",
      "49\n"
     ]
    }
   ],
   "source": [
    "print((lambda x, y: x + y)(10, 7))\n",
    "print(eval('(lambda num: num ** 2)(7)'))"
   ],
   "metadata": {
    "collapsed": false,
    "ExecuteTime": {
     "end_time": "2024-12-11T13:00:06.524088900Z",
     "start_time": "2024-12-11T13:00:06.522575Z"
    }
   },
   "id": "66ca57b623f1509e"
  },
  {
   "cell_type": "markdown",
   "source": [
    "Примечание 3. В анонимных функциях может быть использована рекурсия."
   ],
   "metadata": {
    "collapsed": false
   },
   "id": "2eee3ba913e10677"
  },
  {
   "cell_type": "code",
   "execution_count": 10,
   "outputs": [
    {
     "name": "stdout",
     "output_type": "stream",
     "text": [
      "1\n",
      "1\n",
      "2\n",
      "6\n",
      "24\n",
      "120\n",
      "720\n",
      "5040\n",
      "40320\n",
      "362880\n"
     ]
    }
   ],
   "source": [
    "fact = lambda n: 1 if n == 0 else n*fact(n - 1)\n",
    "\n",
    "for i in range(10):\n",
    "    print(fact(i))"
   ],
   "metadata": {
    "collapsed": false,
    "ExecuteTime": {
     "end_time": "2024-12-11T13:01:39.094231Z",
     "start_time": "2024-12-11T13:01:39.090708Z"
    }
   },
   "id": "5cdaf344dcd093cb"
  },
  {
   "cell_type": "markdown",
   "source": [
    "Примечания 4. Чтобы не писать каждый раз функции, определяющие стандартные операции, можно использовать уже реализованные функции из модуля operator. Документация по данному модулю доступна по ссылке\n",
    "https://docs-python.ru/standart-library/modul-operator-python/"
   ],
   "metadata": {
    "collapsed": false
   },
   "id": "aa27941bb4831926"
  },
  {
   "cell_type": "markdown",
   "source": [
    "Примечание 5. Функции map() и filter() написаны на языке C и хорошо оптимизированы, их внутренний цикл более эффективный, чем обычный цикл for в Python."
   ],
   "metadata": {
    "collapsed": false
   },
   "id": "173f3bb6ef4b742"
  },
  {
   "cell_type": "markdown",
   "source": [
    "Примечание 6. Функция map() и filter() потребляют мало памяти, так как элементы последовательности извлекаются по запросу, следовательно, в памяти системы находится и обрабатывается только один элемент последовательности."
   ],
   "metadata": {
    "collapsed": false
   },
   "id": "914de1a90c84134d"
  },
  {
   "cell_type": "markdown",
   "source": [
    "Примечание 7. Обратите внимание на то, что итераторы, которые возвращают функции map() и filter(), можно обойти только один раз. То есть при вторичной итерации мы будем получать уже пустой итератор."
   ],
   "metadata": {
    "collapsed": false
   },
   "id": "4979cba6b85f5a42"
  },
  {
   "cell_type": "code",
   "execution_count": 11,
   "outputs": [
    {
     "name": "stdout",
     "output_type": "stream",
     "text": [
      "Первичная распаковка (итерация):  1 4 9 16 25 36 49 64 81\n",
      "Вторичная распаковка (итерация): \n",
      "Первичное преобразование в список (итерация):  [12, 90, 12]\n",
      "Вторичное преобразование в список (итерация):  []\n"
     ]
    }
   ],
   "source": [
    "squares = map(lambda x: x ** 2, range(1, 10))\n",
    "evens = filter(lambda x: x % 2 == 0, [9, 3, 45, 67, 12, 90, 87, 12, 45, 67])\n",
    "\n",
    "print('Первичная распаковка (итерация): ', *squares)\n",
    "print('Вторичная распаковка (итерация): ', *squares)\n",
    "\n",
    "print('Первичное преобразование в список (итерация): ', list(evens))\n",
    "print('Вторичное преобразование в список (итерация): ', list(evens))"
   ],
   "metadata": {
    "collapsed": false,
    "ExecuteTime": {
     "end_time": "2024-12-11T13:04:46.151436700Z",
     "start_time": "2024-12-11T13:04:46.144469900Z"
    }
   },
   "id": "c8dae54393201752"
  },
  {
   "cell_type": "markdown",
   "source": [
    "Если нужна множественная итерация, то итератор следует преобразовать в список."
   ],
   "metadata": {
    "collapsed": false
   },
   "id": "30678127ad173c0b"
  },
  {
   "cell_type": "code",
   "execution_count": 12,
   "outputs": [
    {
     "name": "stdout",
     "output_type": "stream",
     "text": [
      "1 2 -3\n"
     ]
    }
   ],
   "source": [
    "positive = [1, 2, 3, 4, 5]\n",
    "negative = [-1, -2, -3]\n",
    "combined = [1, 2, -3, 4]\n",
    "\n",
    "result = map(lambda a, b, c: a + b + c, positive, negative, combined)\n",
    "\n",
    "print(*result)"
   ],
   "metadata": {
    "collapsed": false,
    "ExecuteTime": {
     "end_time": "2024-12-11T13:33:42.877944Z",
     "start_time": "2024-12-11T13:33:42.875957500Z"
    }
   },
   "id": "c0faaaa7d7f63fa4"
  },
  {
   "cell_type": "markdown",
   "source": [
    "Вам доступен список data, содержащий произвольные объекты. Дополните приведенный ниже код, чтобы он вывел все числа (тип int и float), находящиеся в данном списке, отбрасывая дробную часть у вещественных чисел. Числа должны быть расположены в своем исходном порядке, каждое на отдельной строке.\n",
    "\n",
    "Примечание 1. Начальная часть ответа выглядит так:\n",
    "\n",
    "-16\n",
    "-202\n",
    "883\n",
    "...\n",
    "Примечание 2. В задаче удобно воспользоваться функциями map() и filter()"
   ],
   "metadata": {
    "collapsed": false
   },
   "id": "634e07a5f6ed0cc0"
  },
  {
   "cell_type": "code",
   "execution_count": null,
   "outputs": [],
   "source": [
    "data = ['Timur', -16.648911695768902, 'six', -202, 883.0093275936454, -765, (3, 4), -105.10718000213546, 976, -308.96857946288094, 458, ['one', 'two'], 479.92207220345927, -87, -71, 'twelve', 112, -621, -715.0179551194733, 'seven', 229, 729, -358, [1, 2, 3], -974, 882, -894.4709033242768, '', 323.7720806756133, 'beegeek', -224, 431, 170.6353248658936, -343.0016746052049, 'number', 104.17133679352878, [], -353.5964777099863, 'zero', -113, 288, None, -708.3036176571618]"
   ],
   "metadata": {
    "collapsed": false
   },
   "id": "cc432e155c652751"
  }
 ],
 "metadata": {
  "kernelspec": {
   "display_name": "Python 3",
   "language": "python",
   "name": "python3"
  },
  "language_info": {
   "codemirror_mode": {
    "name": "ipython",
    "version": 2
   },
   "file_extension": ".py",
   "mimetype": "text/x-python",
   "name": "python",
   "nbconvert_exporter": "python",
   "pygments_lexer": "ipython2",
   "version": "2.7.6"
  }
 },
 "nbformat": 4,
 "nbformat_minor": 5
}
