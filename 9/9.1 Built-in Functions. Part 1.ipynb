{
 "cells": [
  {
   "cell_type": "markdown",
   "source": [
    "Математические функции"
   ],
   "metadata": {
    "collapsed": false
   },
   "id": "d5514c7bb7245931"
  },
  {
   "cell_type": "markdown",
   "source": [
    "Функция abs()"
   ],
   "metadata": {
    "collapsed": false
   },
   "id": "ebbe64cdbd85ce2f"
  },
  {
   "cell_type": "markdown",
   "source": [
    "Функция abs() принимает один аргумент — число, и возвращает его абсолютное значение (модуль). Аргументом может быть целое, вещественное или комплексное число."
   ],
   "metadata": {
    "collapsed": false
   },
   "id": "130c9a75067474ab"
  },
  {
   "cell_type": "code",
   "execution_count": 1,
   "outputs": [
    {
     "name": "stdout",
     "output_type": "stream",
     "text": [
      "19\n",
      "3.14\n",
      "5.0\n"
     ]
    }
   ],
   "source": [
    "print(abs(-19))\n",
    "print(abs(3.14))\n",
    "print(abs(3 + 4j))"
   ],
   "metadata": {
    "collapsed": false,
    "ExecuteTime": {
     "end_time": "2024-12-09T08:25:38.918857600Z",
     "start_time": "2024-12-09T08:25:38.915512Z"
    }
   },
   "id": "f0a2bd7d8886ca1"
  },
  {
   "cell_type": "markdown",
   "source": [
    "Функция bin() "
   ],
   "metadata": {
    "collapsed": false
   },
   "id": "aab746fe2033f1fd"
  },
  {
   "cell_type": "markdown",
   "source": [
    "Функция bin() преобразует целое число в двоичную строку с префиксом 0b."
   ],
   "metadata": {
    "collapsed": false
   },
   "id": "a2fc6af15dc402ce"
  },
  {
   "cell_type": "code",
   "execution_count": 2,
   "outputs": [
    {
     "name": "stdout",
     "output_type": "stream",
     "text": [
      "0b1101\n"
     ]
    }
   ],
   "source": [
    "print(bin(13))"
   ],
   "metadata": {
    "collapsed": false,
    "ExecuteTime": {
     "end_time": "2024-12-09T08:26:12.098430600Z",
     "start_time": "2024-12-09T08:26:12.094845500Z"
    }
   },
   "id": "c32807a2b3ae8d59"
  },
  {
   "cell_type": "markdown",
   "source": [
    "Функция hex() "
   ],
   "metadata": {
    "collapsed": false
   },
   "id": "7e60682ee26dc103"
  },
  {
   "cell_type": "markdown",
   "source": [
    "Функция hex() преобразует целое число в шестнадцатеричную строку с префиксом 0x."
   ],
   "metadata": {
    "collapsed": false
   },
   "id": "a5b5311bb3de7907"
  },
  {
   "cell_type": "code",
   "execution_count": 3,
   "outputs": [
    {
     "name": "stdout",
     "output_type": "stream",
     "text": [
      "0x3f\n"
     ]
    }
   ],
   "source": [
    "print(hex(63))"
   ],
   "metadata": {
    "collapsed": false,
    "ExecuteTime": {
     "end_time": "2024-12-09T08:26:33.537269600Z",
     "start_time": "2024-12-09T08:26:33.532757Z"
    }
   },
   "id": "e1798a491267fceb"
  },
  {
   "cell_type": "markdown",
   "source": [
    "Функция oct()"
   ],
   "metadata": {
    "collapsed": false
   },
   "id": "9a3569885639375e"
  },
  {
   "cell_type": "markdown",
   "source": [
    "Функция oct() преобразует целое число в восьмеричную строку с префиксом 0o."
   ],
   "metadata": {
    "collapsed": false
   },
   "id": "b3d8fdb8fdd8dfff"
  },
  {
   "cell_type": "code",
   "execution_count": 5,
   "outputs": [
    {
     "name": "stdout",
     "output_type": "stream",
     "text": [
      "0o54\n"
     ]
    }
   ],
   "source": [
    "print(oct(44))"
   ],
   "metadata": {
    "collapsed": false,
    "ExecuteTime": {
     "end_time": "2024-12-09T08:26:55.760331100Z",
     "start_time": "2024-12-09T08:26:55.757943800Z"
    }
   },
   "id": "311c972d824eceeb"
  },
  {
   "cell_type": "markdown",
   "source": [
    "Функция round()"
   ],
   "metadata": {
    "collapsed": false
   },
   "id": "7ddb86b72993d225"
  },
  {
   "cell_type": "markdown",
   "source": [
    "Функция round() используется для округления чисел. Она принимает два аргумента:\n",
    "\n",
    "number — округляемое число\n",
    "ndigits — количество знаков после запятой\n",
    "Функция возвращает число, округленное до ndigits знаков после десятичной точки. Если аргумент ndigits не был передан или равняется None, то функция возвращает ближайшее целое число."
   ],
   "metadata": {
    "collapsed": false
   },
   "id": "aa7f95e97b9027e7"
  },
  {
   "cell_type": "code",
   "execution_count": 7,
   "outputs": [
    {
     "name": "stdout",
     "output_type": "stream",
     "text": [
      "3\n",
      "4\n",
      "3.5\n",
      "3.4\n",
      "3.38\n",
      "3.37\n"
     ]
    }
   ],
   "source": [
    "print(round(3.4))\n",
    "print(round(3.5))\n",
    "print(round(3.48, 1))\n",
    "print(round(3.41, 1))\n",
    "print(round(3.376, 2))\n",
    "print(round(3.371, 2))"
   ],
   "metadata": {
    "collapsed": false,
    "ExecuteTime": {
     "end_time": "2024-12-09T08:27:39.171179Z",
     "start_time": "2024-12-09T08:27:39.163850100Z"
    }
   },
   "id": "5d659f4d109f5fb9"
  },
  {
   "cell_type": "markdown",
   "source": [
    "Особенностью функции round() является то, что округление происходит до ближайшего четного (банковское округление). Другими словами, если дробная часть равна 0.5, то результатом округления будет ближайшее четное число."
   ],
   "metadata": {
    "collapsed": false
   },
   "id": "1e0a6dc10ed5ca32"
  },
  {
   "cell_type": "code",
   "execution_count": 8,
   "outputs": [
    {
     "name": "stdout",
     "output_type": "stream",
     "text": [
      "4\n",
      "4\n"
     ]
    }
   ],
   "source": [
    "print(round(3.5))\n",
    "print(round(4.5))"
   ],
   "metadata": {
    "collapsed": false,
    "ExecuteTime": {
     "end_time": "2024-12-09T08:28:14.972548Z",
     "start_time": "2024-12-09T08:28:14.970024300Z"
    }
   },
   "id": "c053e359f0dd9189"
  },
  {
   "cell_type": "markdown",
   "source": [
    "Имейте в виду, что из-за проблем с точностью чисел с плавающей точкой, в некоторых случаях округление будет осуществляться в большую сторону, а в некоторых – в меньшую."
   ],
   "metadata": {
    "collapsed": false
   },
   "id": "215c75005d6b001b"
  },
  {
   "cell_type": "markdown",
   "source": [
    "Функция pow()"
   ],
   "metadata": {
    "collapsed": false
   },
   "id": "55eb0a7e709b9250"
  },
  {
   "cell_type": "markdown",
   "source": [
    "Функция pow() используется для возведения чисел в произвольную степень. Она может принимать три аргумента:\n",
    "\n",
    "base — возводимое число\n",
    "exp — число, являющееся степенью\n",
    "mod — необязательный аргумент, число, на которое требуется произвести деление с остатком"
   ],
   "metadata": {
    "collapsed": false
   },
   "id": "3fa1fe8ebc34a510"
  },
  {
   "cell_type": "markdown",
   "source": [
    "Функция возвращает число base в степени exp, с опциональным делением с остатком на mod."
   ],
   "metadata": {
    "collapsed": false
   },
   "id": "cbaa5ae76f96562e"
  },
  {
   "cell_type": "code",
   "execution_count": 10,
   "outputs": [
    {
     "name": "stdout",
     "output_type": "stream",
     "text": [
      "81\n",
      "32\n",
      "2\n"
     ]
    }
   ],
   "source": [
    "print(pow(3, 4))\n",
    "print(pow(2, 5))\n",
    "print(pow(2, 5, 30))"
   ],
   "metadata": {
    "collapsed": false,
    "ExecuteTime": {
     "end_time": "2024-12-09T08:30:54.828666300Z",
     "start_time": "2024-12-09T08:30:54.826203800Z"
    }
   },
   "id": "24a1a7fff7fbac3"
  },
  {
   "cell_type": "markdown",
   "source": [
    "Типы данных"
   ],
   "metadata": {
    "collapsed": false
   },
   "id": "4a8f8a08f7e2d8c8"
  },
  {
   "cell_type": "markdown",
   "source": [
    "Функция int()"
   ],
   "metadata": {
    "collapsed": false
   },
   "id": "aab48083b4bc6840"
  },
  {
   "cell_type": "markdown",
   "source": [
    "Функция int() возвращает целое число (тип int), созданное на основе числа или строки. Также функция имеет необязательный аргумент base — основание системы счисления, по умолчанию равное 10. Вызов без аргументов возвращает 0."
   ],
   "metadata": {
    "collapsed": false
   },
   "id": "60ba0cb7886518a9"
  },
  {
   "cell_type": "code",
   "execution_count": 11,
   "outputs": [
    {
     "name": "stdout",
     "output_type": "stream",
     "text": [
      "37\n",
      "7\n",
      "19\n",
      "0\n"
     ]
    }
   ],
   "source": [
    "print(int('37'))\n",
    "print(int('111', base=2))\n",
    "print(int(19.7))\n",
    "print(int())"
   ],
   "metadata": {
    "collapsed": false,
    "ExecuteTime": {
     "end_time": "2024-12-09T08:32:15.957236500Z",
     "start_time": "2024-12-09T08:32:15.950771800Z"
    }
   },
   "id": "d47c89889777fa6a"
  },
  {
   "cell_type": "markdown",
   "source": [
    "функция int() в Python преобразует число с плавающей запятой (float) в целое число, отбросив десятичную часть. Это называется усечение (или отрезание)."
   ],
   "metadata": {
    "collapsed": false
   },
   "id": "881fa6cfb6f778a"
  },
  {
   "cell_type": "markdown",
   "source": [
    "Функция float()"
   ],
   "metadata": {
    "collapsed": false
   },
   "id": "2ac343a65ce148f1"
  },
  {
   "cell_type": "markdown",
   "source": [
    "Функция float() возвращает вещественное число (тип float), созданное на основе числа или строки. Вызов без аргументов возвращает 0.0."
   ],
   "metadata": {
    "collapsed": false
   },
   "id": "2f841a991371db63"
  },
  {
   "cell_type": "code",
   "execution_count": 12,
   "outputs": [
    {
     "name": "stdout",
     "output_type": "stream",
     "text": [
      "-13.99\n",
      "78.0\n",
      "0.0\n"
     ]
    }
   ],
   "source": [
    "print(float('-13.99'))\n",
    "print(float(78))\n",
    "print(float())"
   ],
   "metadata": {
    "collapsed": false,
    "ExecuteTime": {
     "end_time": "2024-12-09T08:34:55.116352Z",
     "start_time": "2024-12-09T08:34:55.110834600Z"
    }
   },
   "id": "39c9906e2f649972"
  },
  {
   "cell_type": "markdown",
   "source": [
    "Функция complex()"
   ],
   "metadata": {
    "collapsed": false
   },
   "id": "24703b22cdd0103"
  },
  {
   "cell_type": "markdown",
   "source": [
    "Функция complex() используется для создания комплексного числа (тип complex). Она может принимать два аргумента:\n",
    "\n",
    "real — число или строка. Если число, то оно представляет действительную часть комплексного числа\n",
    "imag — только число, мнимая часть комплексного числа; по умолчанию равняется нулю\n",
    "Функция преобразует строку с записью комплексного числа в комплексное число или возвращает комплексное число со значением переданных аргументов: действительной и мнимой частью. Вызов без аргументов возвращает 0j. "
   ],
   "metadata": {
    "collapsed": false
   },
   "id": "db1e2b57199e004c"
  },
  {
   "cell_type": "code",
   "execution_count": 14,
   "outputs": [
    {
     "name": "stdout",
     "output_type": "stream",
     "text": [
      "(4+9j)\n",
      "(11+5j)\n",
      "0j\n"
     ]
    }
   ],
   "source": [
    "print(complex(4, 9))\n",
    "print(complex('11+5j'))\n",
    "print(complex())"
   ],
   "metadata": {
    "collapsed": false,
    "ExecuteTime": {
     "end_time": "2024-12-09T08:35:52.716422500Z",
     "start_time": "2024-12-09T08:35:52.713303Z"
    }
   },
   "id": "daa4d60d6fae9c1f"
  },
  {
   "cell_type": "markdown",
   "source": [
    "Функция bool()"
   ],
   "metadata": {
    "collapsed": false
   },
   "id": "c62dfe6a8120c172"
  },
  {
   "cell_type": "markdown",
   "source": [
    "Функция bool() возвращает логическое значение переданного объекта. Объект будет возвращать False, если:\n",
    "\n",
    "объект пуст — [], (), {}\n",
    "объект — False\n",
    "объект равен 0\n",
    "объект — None"
   ],
   "metadata": {
    "collapsed": false
   },
   "id": "13dc8144dcba99ca"
  },
  {
   "cell_type": "code",
   "execution_count": 18,
   "outputs": [
    {
     "name": "stdout",
     "output_type": "stream",
     "text": [
      "True\n",
      "True\n",
      "True\n",
      "False\n",
      "False\n",
      "False\n",
      "False\n",
      "False\n",
      "False\n",
      "False\n"
     ]
    }
   ],
   "source": [
    "print(bool('Beegeek'))\n",
    "print(bool(17))\n",
    "print(bool(['apple', 'cherry']))\n",
    "print(bool())\n",
    "print(bool(''))\n",
    "print(bool(0))\n",
    "print(bool([]))\n",
    "print(bool(None))\n",
    "print(bool(set()))\n",
    "print(bool(dict()))"
   ],
   "metadata": {
    "collapsed": false,
    "ExecuteTime": {
     "end_time": "2024-12-09T08:37:06.000317300Z",
     "start_time": "2024-12-09T08:37:05.997440200Z"
    }
   },
   "id": "ed4a7cd54f49ae2e"
  },
  {
   "cell_type": "markdown",
   "source": [
    "Функция str()"
   ],
   "metadata": {
    "collapsed": false
   },
   "id": "22fbe999ea8f472a"
  },
  {
   "cell_type": "markdown",
   "source": [
    "Функция str() возвращает строковое представление объекта (тип str). Вызов без аргументов возвращает пустую строку."
   ],
   "metadata": {
    "collapsed": false
   },
   "id": "cc3d2d36ce768223"
  },
  {
   "cell_type": "code",
   "execution_count": 19,
   "outputs": [
    {
     "name": "stdout",
     "output_type": "stream",
     "text": [
      "11\n",
      "{0, 1, 2, 3, 4}\n"
     ]
    }
   ],
   "source": [
    "print(str(11))\n",
    "print(str(set(range(5))))"
   ],
   "metadata": {
    "collapsed": false,
    "ExecuteTime": {
     "end_time": "2024-12-09T08:37:30.854105300Z",
     "start_time": "2024-12-09T08:37:30.852093700Z"
    }
   },
   "id": "890e40cf2880c749"
  },
  {
   "cell_type": "markdown",
   "source": [
    "Функция list()"
   ],
   "metadata": {
    "collapsed": false
   },
   "id": "8d4580be2da069cd"
  },
  {
   "cell_type": "markdown",
   "source": [
    "Функция list() преобразует итерируемый объект в список (тип list). Вызов без аргументов возвращает пустой список."
   ],
   "metadata": {
    "collapsed": false
   },
   "id": "f8a64d530410135"
  },
  {
   "cell_type": "code",
   "execution_count": 20,
   "outputs": [
    {
     "name": "stdout",
     "output_type": "stream",
     "text": [
      "[]\n",
      "[0, 1, 2, 3, 4]\n",
      "['a', 'b', 'c', 'd', 'e']\n",
      "[1, 2, 3, 4]\n"
     ]
    }
   ],
   "source": [
    "print(list())\n",
    "print(list(range(5)))\n",
    "print(list('abcde'))\n",
    "print(list([1, 2, 3, 4]))"
   ],
   "metadata": {
    "collapsed": false,
    "ExecuteTime": {
     "end_time": "2024-12-09T08:40:08.418546700Z",
     "start_time": "2024-12-09T08:40:08.415019100Z"
    }
   },
   "id": "dbcea36101e8330c"
  },
  {
   "cell_type": "markdown",
   "source": [
    "Функция tuple()"
   ],
   "metadata": {
    "collapsed": false
   },
   "id": "3386b392b855e9fe"
  },
  {
   "cell_type": "markdown",
   "source": [
    "Функция tuple() преобразует итерируемый объект в кортеж (тип tuple). Вызов без аргументов возвращает пустой кортеж."
   ],
   "metadata": {
    "collapsed": false
   },
   "id": "bb20d6985f7a3be"
  },
  {
   "cell_type": "code",
   "execution_count": 21,
   "outputs": [
    {
     "name": "stdout",
     "output_type": "stream",
     "text": [
      "()\n",
      "('s', 't', 'e', 'p', 'i', 'k')\n",
      "(1, 2, 3, 4)\n"
     ]
    }
   ],
   "source": [
    "print(tuple())\n",
    "print(tuple('stepik'))\n",
    "print(tuple([1, 2, 3, 4]))"
   ],
   "metadata": {
    "collapsed": false,
    "ExecuteTime": {
     "end_time": "2024-12-09T08:52:42.951660400Z",
     "start_time": "2024-12-09T08:52:42.950142400Z"
    }
   },
   "id": "1a48623b2a22e6d9"
  },
  {
   "cell_type": "markdown",
   "source": [
    "Функция set()"
   ],
   "metadata": {
    "collapsed": false
   },
   "id": "2d79277802afe689"
  },
  {
   "cell_type": "markdown",
   "source": [
    "Функция set() преобразует итерируемый объект в множество (тип set). Вызов без аргументов возвращает пустое множество."
   ],
   "metadata": {
    "collapsed": false
   },
   "id": "91ebfed7ae220bb1"
  },
  {
   "cell_type": "code",
   "execution_count": 22,
   "outputs": [
    {
     "name": "stdout",
     "output_type": "stream",
     "text": [
      "set()\n",
      "{1, 2, 3, 4, 5}\n",
      "{'d', 'b', 'a'}\n"
     ]
    }
   ],
   "source": [
    "print(set())\n",
    "print(set(map(int, '12345')))\n",
    "print(set(['a', 'b', 'a', 'd', 'd']))"
   ],
   "metadata": {
    "collapsed": false,
    "ExecuteTime": {
     "end_time": "2024-12-09T08:53:03.447367600Z",
     "start_time": "2024-12-09T08:53:03.438375700Z"
    }
   },
   "id": "33a185081f4c73ef"
  },
  {
   "cell_type": "markdown",
   "source": [
    "Функция frozenset()"
   ],
   "metadata": {
    "collapsed": false
   },
   "id": "656dea5d6b5d7be1"
  },
  {
   "cell_type": "markdown",
   "source": [
    "Функция frozenset() преобразует итерируемый объект в неизменяемое множество (тип frozenset). Вызов без аргументов возвращает пустое неизменяемое множество."
   ],
   "metadata": {
    "collapsed": false
   },
   "id": "9561ac1c4122ac54"
  },
  {
   "cell_type": "code",
   "execution_count": 23,
   "outputs": [
    {
     "name": "stdout",
     "output_type": "stream",
     "text": [
      "frozenset()\n",
      "frozenset({'k', 'g', 'b', 'e'})\n",
      "frozenset({'d', 'b', 'a', 'c', 'e'})\n"
     ]
    }
   ],
   "source": [
    "print(frozenset())\n",
    "print(frozenset('beegeek'))\n",
    "print(frozenset(set('aaaabbccccccde')))"
   ],
   "metadata": {
    "collapsed": false,
    "ExecuteTime": {
     "end_time": "2024-12-09T08:53:50.961332Z",
     "start_time": "2024-12-09T08:53:50.958160500Z"
    }
   },
   "id": "a58ad47824022e90"
  },
  {
   "cell_type": "markdown",
   "source": [
    "Функция dict()"
   ],
   "metadata": {
    "collapsed": false
   },
   "id": "43a535f89ba9b5f5"
  },
  {
   "cell_type": "markdown",
   "source": [
    "Функция dict() преобразует последовательность пар ключ-значение в словарь (тип dict). Если ключами являются обыкновенные строки, то пары ключ-значение можно указывать в виде именованных аргументов. Вызов без аргументов возвращает пустой словарь."
   ],
   "metadata": {
    "collapsed": false
   },
   "id": "aa89c1c5e99faf77"
  },
  {
   "cell_type": "code",
   "execution_count": 24,
   "outputs": [
    {
     "name": "stdout",
     "output_type": "stream",
     "text": [
      "{}\n",
      "{'a': 1, 'b': 2}\n",
      "{'a': 1, 'b': 2, 'c': 3}\n",
      "{'a': 1, 'b': 2, 'c': 3, 'd': 4}\n"
     ]
    }
   ],
   "source": [
    "print(dict())\n",
    "print(dict(a=1, b=2))\n",
    "print(dict([('a', 1), ('b', 2), ('c', 3)]))\n",
    "print(dict([('a', 1), ('b', 2)], c=3, d=4))"
   ],
   "metadata": {
    "collapsed": false,
    "ExecuteTime": {
     "end_time": "2024-12-09T08:55:20.390459Z",
     "start_time": "2024-12-09T08:55:20.365717300Z"
    }
   },
   "id": "18e3f178d4fe0244"
  },
  {
   "cell_type": "markdown",
   "source": [
    "Строковые функции"
   ],
   "metadata": {
    "collapsed": false
   },
   "id": "1ee4ca44ef2eeabe"
  },
  {
   "cell_type": "markdown",
   "source": [
    "Функция ord()"
   ],
   "metadata": {
    "collapsed": false
   },
   "id": "975fa32aa69eabad"
  },
  {
   "cell_type": "markdown",
   "source": [
    "Функция ord() возвращает число, представляющее позицию переданного символа в таблице Unicode."
   ],
   "metadata": {
    "collapsed": false
   },
   "id": "55f007076a2e5c8f"
  },
  {
   "cell_type": "code",
   "execution_count": 25,
   "outputs": [
    {
     "name": "stdout",
     "output_type": "stream",
     "text": [
      "97\n",
      "66\n"
     ]
    }
   ],
   "source": [
    "print(ord('a'))\n",
    "print(ord('B'))"
   ],
   "metadata": {
    "collapsed": false,
    "ExecuteTime": {
     "end_time": "2024-12-09T08:55:49.477521900Z",
     "start_time": "2024-12-09T08:55:49.475005200Z"
    }
   },
   "id": "d8e0390a74a5929b"
  },
  {
   "cell_type": "markdown",
   "source": [
    "Функция chr()"
   ],
   "metadata": {
    "collapsed": false
   },
   "id": "8a67543ffbc62042"
  },
  {
   "cell_type": "markdown",
   "source": [
    "Функция chr() возвращает символ, чья позиция в таблице Unicode соответствует переданному числу."
   ],
   "metadata": {
    "collapsed": false
   },
   "id": "68b000f154bd4970"
  },
  {
   "cell_type": "code",
   "execution_count": 26,
   "outputs": [
    {
     "name": "stdout",
     "output_type": "stream",
     "text": [
      "a\n",
      "B\n"
     ]
    }
   ],
   "source": [
    "print(chr(97))\n",
    "print(chr(66))"
   ],
   "metadata": {
    "collapsed": false,
    "ExecuteTime": {
     "end_time": "2024-12-09T08:56:07.374226700Z",
     "start_time": "2024-12-09T08:56:07.370707600Z"
    }
   },
   "id": "47e8fb44f5c2ec2c"
  },
  {
   "cell_type": "markdown",
   "source": [
    "Примечание 3. Следует помнить, что функции, явно не возвращающие значения, возвращают значение None."
   ],
   "metadata": {
    "collapsed": false
   },
   "id": "14a60e31ddde4be7"
  },
  {
   "cell_type": "markdown",
   "source": [
    "Строчный алфавит\n",
    "Напишите программу, которая выводит все строчные латинские буквы.\n",
    "\n",
    "Формат входных данных\n",
    "На вход программе ничего не подается.\n",
    "\n",
    "Формат выходных данных\n",
    "Программа должна вывести все строчные латинские буквы от a до z, каждую на отдельной строке.\n",
    "\n",
    "Примечание. В задаче удобно воспользоваться функциями ord() и chr()"
   ],
   "metadata": {
    "collapsed": false
   },
   "id": "d7ec0cac742d74d4"
  },
  {
   "cell_type": "code",
   "execution_count": 28,
   "outputs": [
    {
     "name": "stdout",
     "output_type": "stream",
     "text": [
      "a\n",
      "b\n",
      "c\n",
      "d\n",
      "e\n",
      "f\n",
      "g\n",
      "h\n",
      "i\n",
      "j\n",
      "k\n",
      "l\n",
      "m\n",
      "n\n",
      "o\n",
      "p\n",
      "q\n",
      "r\n",
      "s\n",
      "t\n",
      "u\n",
      "v\n",
      "w\n",
      "x\n",
      "y\n",
      "z\n"
     ]
    }
   ],
   "source": [
    "for i in range(ord('a'), ord('z')+1):\n",
    "    print(chr(i))"
   ],
   "metadata": {
    "collapsed": false,
    "ExecuteTime": {
     "end_time": "2024-12-09T09:00:44.595965600Z",
     "start_time": "2024-12-09T09:00:44.592972700Z"
    }
   },
   "id": "4fbe17d30fed9f8b"
  },
  {
   "cell_type": "code",
   "execution_count": null,
   "outputs": [],
   "source": [
    "print(*__import__(\"string\").ascii_lowercase, sep=\"\\n\")"
   ],
   "metadata": {
    "collapsed": false
   },
   "id": "51936491fb4c302e"
  }
 ],
 "metadata": {
  "kernelspec": {
   "display_name": "Python 3",
   "language": "python",
   "name": "python3"
  },
  "language_info": {
   "codemirror_mode": {
    "name": "ipython",
    "version": 2
   },
   "file_extension": ".py",
   "mimetype": "text/x-python",
   "name": "python",
   "nbconvert_exporter": "python",
   "pygments_lexer": "ipython2",
   "version": "2.7.6"
  }
 },
 "nbformat": 4,
 "nbformat_minor": 5
}
