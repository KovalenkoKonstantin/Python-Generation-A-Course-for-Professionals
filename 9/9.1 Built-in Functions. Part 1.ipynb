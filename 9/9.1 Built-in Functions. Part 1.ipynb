{
 "cells": [
  {
   "cell_type": "markdown",
   "source": [
    "Математические функции"
   ],
   "metadata": {
    "collapsed": false
   },
   "id": "d5514c7bb7245931"
  },
  {
   "cell_type": "markdown",
   "source": [
    "Функция abs()"
   ],
   "metadata": {
    "collapsed": false
   },
   "id": "ebbe64cdbd85ce2f"
  },
  {
   "cell_type": "markdown",
   "source": [
    "Функция abs() принимает один аргумент — число, и возвращает его абсолютное значение (модуль). Аргументом может быть целое, вещественное или комплексное число."
   ],
   "metadata": {
    "collapsed": false
   },
   "id": "130c9a75067474ab"
  },
  {
   "cell_type": "code",
   "execution_count": 1,
   "outputs": [
    {
     "name": "stdout",
     "output_type": "stream",
     "text": [
      "19\n",
      "3.14\n",
      "5.0\n"
     ]
    }
   ],
   "source": [
    "print(abs(-19))\n",
    "print(abs(3.14))\n",
    "print(abs(3 + 4j))"
   ],
   "metadata": {
    "collapsed": false,
    "ExecuteTime": {
     "end_time": "2024-12-09T08:25:38.918857600Z",
     "start_time": "2024-12-09T08:25:38.915512Z"
    }
   },
   "id": "f0a2bd7d8886ca1"
  },
  {
   "cell_type": "markdown",
   "source": [
    "Функция bin() "
   ],
   "metadata": {
    "collapsed": false
   },
   "id": "aab746fe2033f1fd"
  },
  {
   "cell_type": "markdown",
   "source": [
    "Функция bin() преобразует целое число в двоичную строку с префиксом 0b."
   ],
   "metadata": {
    "collapsed": false
   },
   "id": "a2fc6af15dc402ce"
  },
  {
   "cell_type": "code",
   "execution_count": 2,
   "outputs": [
    {
     "name": "stdout",
     "output_type": "stream",
     "text": [
      "0b1101\n"
     ]
    }
   ],
   "source": [
    "print(bin(13))"
   ],
   "metadata": {
    "collapsed": false,
    "ExecuteTime": {
     "end_time": "2024-12-09T08:26:12.098430600Z",
     "start_time": "2024-12-09T08:26:12.094845500Z"
    }
   },
   "id": "c32807a2b3ae8d59"
  },
  {
   "cell_type": "markdown",
   "source": [
    "Функция hex() "
   ],
   "metadata": {
    "collapsed": false
   },
   "id": "7e60682ee26dc103"
  },
  {
   "cell_type": "markdown",
   "source": [
    "Функция hex() преобразует целое число в шестнадцатеричную строку с префиксом 0x."
   ],
   "metadata": {
    "collapsed": false
   },
   "id": "a5b5311bb3de7907"
  },
  {
   "cell_type": "code",
   "execution_count": 3,
   "outputs": [
    {
     "name": "stdout",
     "output_type": "stream",
     "text": [
      "0x3f\n"
     ]
    }
   ],
   "source": [
    "print(hex(63))"
   ],
   "metadata": {
    "collapsed": false,
    "ExecuteTime": {
     "end_time": "2024-12-09T08:26:33.537269600Z",
     "start_time": "2024-12-09T08:26:33.532757Z"
    }
   },
   "id": "e1798a491267fceb"
  },
  {
   "cell_type": "markdown",
   "source": [
    "Функция oct()"
   ],
   "metadata": {
    "collapsed": false
   },
   "id": "9a3569885639375e"
  },
  {
   "cell_type": "markdown",
   "source": [
    "Функция oct() преобразует целое число в восьмеричную строку с префиксом 0o."
   ],
   "metadata": {
    "collapsed": false
   },
   "id": "b3d8fdb8fdd8dfff"
  },
  {
   "cell_type": "code",
   "execution_count": 5,
   "outputs": [
    {
     "name": "stdout",
     "output_type": "stream",
     "text": [
      "0o54\n"
     ]
    }
   ],
   "source": [
    "print(oct(44))"
   ],
   "metadata": {
    "collapsed": false,
    "ExecuteTime": {
     "end_time": "2024-12-09T08:26:55.760331100Z",
     "start_time": "2024-12-09T08:26:55.757943800Z"
    }
   },
   "id": "311c972d824eceeb"
  },
  {
   "cell_type": "markdown",
   "source": [
    "Функция round()"
   ],
   "metadata": {
    "collapsed": false
   },
   "id": "7ddb86b72993d225"
  },
  {
   "cell_type": "markdown",
   "source": [
    "Функция round() используется для округления чисел. Она принимает два аргумента:\n",
    "\n",
    "number — округляемое число\n",
    "ndigits — количество знаков после запятой\n",
    "Функция возвращает число, округленное до ndigits знаков после десятичной точки. Если аргумент ndigits не был передан или равняется None, то функция возвращает ближайшее целое число."
   ],
   "metadata": {
    "collapsed": false
   },
   "id": "aa7f95e97b9027e7"
  },
  {
   "cell_type": "code",
   "execution_count": 7,
   "outputs": [
    {
     "name": "stdout",
     "output_type": "stream",
     "text": [
      "3\n",
      "4\n",
      "3.5\n",
      "3.4\n",
      "3.38\n",
      "3.37\n"
     ]
    }
   ],
   "source": [
    "print(round(3.4))\n",
    "print(round(3.5))\n",
    "print(round(3.48, 1))\n",
    "print(round(3.41, 1))\n",
    "print(round(3.376, 2))\n",
    "print(round(3.371, 2))"
   ],
   "metadata": {
    "collapsed": false,
    "ExecuteTime": {
     "end_time": "2024-12-09T08:27:39.171179Z",
     "start_time": "2024-12-09T08:27:39.163850100Z"
    }
   },
   "id": "5d659f4d109f5fb9"
  },
  {
   "cell_type": "markdown",
   "source": [
    "Особенностью функции round() является то, что округление происходит до ближайшего четного (банковское округление). Другими словами, если дробная часть равна 0.5, то результатом округления будет ближайшее четное число."
   ],
   "metadata": {
    "collapsed": false
   },
   "id": "1e0a6dc10ed5ca32"
  },
  {
   "cell_type": "code",
   "execution_count": 8,
   "outputs": [
    {
     "name": "stdout",
     "output_type": "stream",
     "text": [
      "4\n",
      "4\n"
     ]
    }
   ],
   "source": [
    "print(round(3.5))\n",
    "print(round(4.5))"
   ],
   "metadata": {
    "collapsed": false,
    "ExecuteTime": {
     "end_time": "2024-12-09T08:28:14.972548Z",
     "start_time": "2024-12-09T08:28:14.970024300Z"
    }
   },
   "id": "c053e359f0dd9189"
  },
  {
   "cell_type": "markdown",
   "source": [
    "Имейте в виду, что из-за проблем с точностью чисел с плавающей точкой, в некоторых случаях округление будет осуществляться в большую сторону, а в некоторых – в меньшую."
   ],
   "metadata": {
    "collapsed": false
   },
   "id": "215c75005d6b001b"
  },
  {
   "cell_type": "markdown",
   "source": [
    "Функция pow()"
   ],
   "metadata": {
    "collapsed": false
   },
   "id": "55eb0a7e709b9250"
  },
  {
   "cell_type": "markdown",
   "source": [
    "Функция pow() используется для возведения чисел в произвольную степень. Она может принимать три аргумента:\n",
    "\n",
    "base — возводимое число\n",
    "exp — число, являющееся степенью\n",
    "mod — необязательный аргумент, число, на которое требуется произвести деление с остатком"
   ],
   "metadata": {
    "collapsed": false
   },
   "id": "3fa1fe8ebc34a510"
  },
  {
   "cell_type": "markdown",
   "source": [
    "Функция возвращает число base в степени exp, с опциональным делением с остатком на mod."
   ],
   "metadata": {
    "collapsed": false
   },
   "id": "cbaa5ae76f96562e"
  },
  {
   "cell_type": "code",
   "execution_count": 10,
   "outputs": [
    {
     "name": "stdout",
     "output_type": "stream",
     "text": [
      "81\n",
      "32\n",
      "2\n"
     ]
    }
   ],
   "source": [
    "print(pow(3, 4))\n",
    "print(pow(2, 5))\n",
    "print(pow(2, 5, 30))"
   ],
   "metadata": {
    "collapsed": false,
    "ExecuteTime": {
     "end_time": "2024-12-09T08:30:54.828666300Z",
     "start_time": "2024-12-09T08:30:54.826203800Z"
    }
   },
   "id": "24a1a7fff7fbac3"
  },
  {
   "cell_type": "markdown",
   "source": [
    "Типы данных"
   ],
   "metadata": {
    "collapsed": false
   },
   "id": "4a8f8a08f7e2d8c8"
  },
  {
   "cell_type": "markdown",
   "source": [
    "Функция int()"
   ],
   "metadata": {
    "collapsed": false
   },
   "id": "aab48083b4bc6840"
  },
  {
   "cell_type": "markdown",
   "source": [
    "Функция int() возвращает целое число (тип int), созданное на основе числа или строки. Также функция имеет необязательный аргумент base — основание системы счисления, по умолчанию равное 10. Вызов без аргументов возвращает 0."
   ],
   "metadata": {
    "collapsed": false
   },
   "id": "60ba0cb7886518a9"
  },
  {
   "cell_type": "code",
   "execution_count": 11,
   "outputs": [
    {
     "name": "stdout",
     "output_type": "stream",
     "text": [
      "37\n",
      "7\n",
      "19\n",
      "0\n"
     ]
    }
   ],
   "source": [
    "print(int('37'))\n",
    "print(int('111', base=2))\n",
    "print(int(19.7))\n",
    "print(int())"
   ],
   "metadata": {
    "collapsed": false,
    "ExecuteTime": {
     "end_time": "2024-12-09T08:32:15.957236500Z",
     "start_time": "2024-12-09T08:32:15.950771800Z"
    }
   },
   "id": "d47c89889777fa6a"
  },
  {
   "cell_type": "markdown",
   "source": [
    "функция int() в Python преобразует число с плавающей запятой (float) в целое число, отбросив десятичную часть. Это называется усечение (или отрезание)."
   ],
   "metadata": {
    "collapsed": false
   },
   "id": "881fa6cfb6f778a"
  },
  {
   "cell_type": "markdown",
   "source": [
    "Функция float()"
   ],
   "metadata": {
    "collapsed": false
   },
   "id": "2ac343a65ce148f1"
  },
  {
   "cell_type": "markdown",
   "source": [
    "Функция float() возвращает вещественное число (тип float), созданное на основе числа или строки. Вызов без аргументов возвращает 0.0."
   ],
   "metadata": {
    "collapsed": false
   },
   "id": "2f841a991371db63"
  },
  {
   "cell_type": "code",
   "execution_count": 12,
   "outputs": [
    {
     "name": "stdout",
     "output_type": "stream",
     "text": [
      "-13.99\n",
      "78.0\n",
      "0.0\n"
     ]
    }
   ],
   "source": [
    "print(float('-13.99'))\n",
    "print(float(78))\n",
    "print(float())"
   ],
   "metadata": {
    "collapsed": false,
    "ExecuteTime": {
     "end_time": "2024-12-09T08:34:55.116352Z",
     "start_time": "2024-12-09T08:34:55.110834600Z"
    }
   },
   "id": "39c9906e2f649972"
  },
  {
   "cell_type": "markdown",
   "source": [
    "Функция complex()"
   ],
   "metadata": {
    "collapsed": false
   },
   "id": "24703b22cdd0103"
  },
  {
   "cell_type": "markdown",
   "source": [
    "Функция complex() используется для создания комплексного числа (тип complex). Она может принимать два аргумента:\n",
    "\n",
    "real — число или строка. Если число, то оно представляет действительную часть комплексного числа\n",
    "imag — только число, мнимая часть комплексного числа; по умолчанию равняется нулю\n",
    "Функция преобразует строку с записью комплексного числа в комплексное число или возвращает комплексное число со значением переданных аргументов: действительной и мнимой частью. Вызов без аргументов возвращает 0j. "
   ],
   "metadata": {
    "collapsed": false
   },
   "id": "db1e2b57199e004c"
  },
  {
   "cell_type": "code",
   "execution_count": 14,
   "outputs": [
    {
     "name": "stdout",
     "output_type": "stream",
     "text": [
      "(4+9j)\n",
      "(11+5j)\n",
      "0j\n"
     ]
    }
   ],
   "source": [
    "print(complex(4, 9))\n",
    "print(complex('11+5j'))\n",
    "print(complex())"
   ],
   "metadata": {
    "collapsed": false,
    "ExecuteTime": {
     "end_time": "2024-12-09T08:35:52.716422500Z",
     "start_time": "2024-12-09T08:35:52.713303Z"
    }
   },
   "id": "daa4d60d6fae9c1f"
  },
  {
   "cell_type": "markdown",
   "source": [
    "Функция bool()"
   ],
   "metadata": {
    "collapsed": false
   },
   "id": "c62dfe6a8120c172"
  },
  {
   "cell_type": "markdown",
   "source": [
    "Функция bool() возвращает логическое значение переданного объекта. Объект будет возвращать False, если:\n",
    "\n",
    "объект пуст — [], (), {}\n",
    "объект — False\n",
    "объект равен 0\n",
    "объект — None"
   ],
   "metadata": {
    "collapsed": false
   },
   "id": "13dc8144dcba99ca"
  },
  {
   "cell_type": "code",
   "execution_count": 18,
   "outputs": [
    {
     "name": "stdout",
     "output_type": "stream",
     "text": [
      "True\n",
      "True\n",
      "True\n",
      "False\n",
      "False\n",
      "False\n",
      "False\n",
      "False\n",
      "False\n",
      "False\n"
     ]
    }
   ],
   "source": [
    "print(bool('Beegeek'))\n",
    "print(bool(17))\n",
    "print(bool(['apple', 'cherry']))\n",
    "print(bool())\n",
    "print(bool(''))\n",
    "print(bool(0))\n",
    "print(bool([]))\n",
    "print(bool(None))\n",
    "print(bool(set()))\n",
    "print(bool(dict()))"
   ],
   "metadata": {
    "collapsed": false,
    "ExecuteTime": {
     "end_time": "2024-12-09T08:37:06.000317300Z",
     "start_time": "2024-12-09T08:37:05.997440200Z"
    }
   },
   "id": "ed4a7cd54f49ae2e"
  },
  {
   "cell_type": "markdown",
   "source": [
    "Функция str()"
   ],
   "metadata": {
    "collapsed": false
   },
   "id": "22fbe999ea8f472a"
  },
  {
   "cell_type": "markdown",
   "source": [
    "Функция str() возвращает строковое представление объекта (тип str). Вызов без аргументов возвращает пустую строку."
   ],
   "metadata": {
    "collapsed": false
   },
   "id": "cc3d2d36ce768223"
  },
  {
   "cell_type": "code",
   "execution_count": 19,
   "outputs": [
    {
     "name": "stdout",
     "output_type": "stream",
     "text": [
      "11\n",
      "{0, 1, 2, 3, 4}\n"
     ]
    }
   ],
   "source": [
    "print(str(11))\n",
    "print(str(set(range(5))))"
   ],
   "metadata": {
    "collapsed": false,
    "ExecuteTime": {
     "end_time": "2024-12-09T08:37:30.854105300Z",
     "start_time": "2024-12-09T08:37:30.852093700Z"
    }
   },
   "id": "890e40cf2880c749"
  },
  {
   "cell_type": "markdown",
   "source": [
    "Функция list()"
   ],
   "metadata": {
    "collapsed": false
   },
   "id": "8d4580be2da069cd"
  },
  {
   "cell_type": "markdown",
   "source": [
    "Функция list() преобразует итерируемый объект в список (тип list). Вызов без аргументов возвращает пустой список."
   ],
   "metadata": {
    "collapsed": false
   },
   "id": "f8a64d530410135"
  },
  {
   "cell_type": "code",
   "execution_count": 20,
   "outputs": [
    {
     "name": "stdout",
     "output_type": "stream",
     "text": [
      "[]\n",
      "[0, 1, 2, 3, 4]\n",
      "['a', 'b', 'c', 'd', 'e']\n",
      "[1, 2, 3, 4]\n"
     ]
    }
   ],
   "source": [
    "print(list())\n",
    "print(list(range(5)))\n",
    "print(list('abcde'))\n",
    "print(list([1, 2, 3, 4]))"
   ],
   "metadata": {
    "collapsed": false,
    "ExecuteTime": {
     "end_time": "2024-12-09T08:40:08.418546700Z",
     "start_time": "2024-12-09T08:40:08.415019100Z"
    }
   },
   "id": "dbcea36101e8330c"
  },
  {
   "cell_type": "markdown",
   "source": [
    "Функция tuple()"
   ],
   "metadata": {
    "collapsed": false
   },
   "id": "3386b392b855e9fe"
  },
  {
   "cell_type": "markdown",
   "source": [
    "Функция tuple() преобразует итерируемый объект в кортеж (тип tuple). Вызов без аргументов возвращает пустой кортеж."
   ],
   "metadata": {
    "collapsed": false
   },
   "id": "bb20d6985f7a3be"
  },
  {
   "cell_type": "code",
   "execution_count": 21,
   "outputs": [
    {
     "name": "stdout",
     "output_type": "stream",
     "text": [
      "()\n",
      "('s', 't', 'e', 'p', 'i', 'k')\n",
      "(1, 2, 3, 4)\n"
     ]
    }
   ],
   "source": [
    "print(tuple())\n",
    "print(tuple('stepik'))\n",
    "print(tuple([1, 2, 3, 4]))"
   ],
   "metadata": {
    "collapsed": false,
    "ExecuteTime": {
     "end_time": "2024-12-09T08:52:42.951660400Z",
     "start_time": "2024-12-09T08:52:42.950142400Z"
    }
   },
   "id": "1a48623b2a22e6d9"
  },
  {
   "cell_type": "markdown",
   "source": [
    "Функция set()"
   ],
   "metadata": {
    "collapsed": false
   },
   "id": "2d79277802afe689"
  },
  {
   "cell_type": "markdown",
   "source": [
    "Функция set() преобразует итерируемый объект в множество (тип set). Вызов без аргументов возвращает пустое множество."
   ],
   "metadata": {
    "collapsed": false
   },
   "id": "91ebfed7ae220bb1"
  },
  {
   "cell_type": "code",
   "execution_count": 22,
   "outputs": [
    {
     "name": "stdout",
     "output_type": "stream",
     "text": [
      "set()\n",
      "{1, 2, 3, 4, 5}\n",
      "{'d', 'b', 'a'}\n"
     ]
    }
   ],
   "source": [
    "print(set())\n",
    "print(set(map(int, '12345')))\n",
    "print(set(['a', 'b', 'a', 'd', 'd']))"
   ],
   "metadata": {
    "collapsed": false,
    "ExecuteTime": {
     "end_time": "2024-12-09T08:53:03.447367600Z",
     "start_time": "2024-12-09T08:53:03.438375700Z"
    }
   },
   "id": "33a185081f4c73ef"
  },
  {
   "cell_type": "markdown",
   "source": [
    "Функция frozenset()"
   ],
   "metadata": {
    "collapsed": false
   },
   "id": "656dea5d6b5d7be1"
  },
  {
   "cell_type": "markdown",
   "source": [
    "Функция frozenset() преобразует итерируемый объект в неизменяемое множество (тип frozenset). Вызов без аргументов возвращает пустое неизменяемое множество."
   ],
   "metadata": {
    "collapsed": false
   },
   "id": "9561ac1c4122ac54"
  },
  {
   "cell_type": "code",
   "execution_count": 23,
   "outputs": [
    {
     "name": "stdout",
     "output_type": "stream",
     "text": [
      "frozenset()\n",
      "frozenset({'k', 'g', 'b', 'e'})\n",
      "frozenset({'d', 'b', 'a', 'c', 'e'})\n"
     ]
    }
   ],
   "source": [
    "print(frozenset())\n",
    "print(frozenset('beegeek'))\n",
    "print(frozenset(set('aaaabbccccccde')))"
   ],
   "metadata": {
    "collapsed": false,
    "ExecuteTime": {
     "end_time": "2024-12-09T08:53:50.961332Z",
     "start_time": "2024-12-09T08:53:50.958160500Z"
    }
   },
   "id": "a58ad47824022e90"
  },
  {
   "cell_type": "markdown",
   "source": [
    "Функция dict()"
   ],
   "metadata": {
    "collapsed": false
   },
   "id": "43a535f89ba9b5f5"
  },
  {
   "cell_type": "markdown",
   "source": [
    "Функция dict() преобразует последовательность пар ключ-значение в словарь (тип dict). Если ключами являются обыкновенные строки, то пары ключ-значение можно указывать в виде именованных аргументов. Вызов без аргументов возвращает пустой словарь."
   ],
   "metadata": {
    "collapsed": false
   },
   "id": "aa89c1c5e99faf77"
  },
  {
   "cell_type": "code",
   "execution_count": 24,
   "outputs": [
    {
     "name": "stdout",
     "output_type": "stream",
     "text": [
      "{}\n",
      "{'a': 1, 'b': 2}\n",
      "{'a': 1, 'b': 2, 'c': 3}\n",
      "{'a': 1, 'b': 2, 'c': 3, 'd': 4}\n"
     ]
    }
   ],
   "source": [
    "print(dict())\n",
    "print(dict(a=1, b=2))\n",
    "print(dict([('a', 1), ('b', 2), ('c', 3)]))\n",
    "print(dict([('a', 1), ('b', 2)], c=3, d=4))"
   ],
   "metadata": {
    "collapsed": false,
    "ExecuteTime": {
     "end_time": "2024-12-09T08:55:20.390459Z",
     "start_time": "2024-12-09T08:55:20.365717300Z"
    }
   },
   "id": "18e3f178d4fe0244"
  },
  {
   "cell_type": "markdown",
   "source": [
    "Строковые функции"
   ],
   "metadata": {
    "collapsed": false
   },
   "id": "1ee4ca44ef2eeabe"
  },
  {
   "cell_type": "markdown",
   "source": [
    "Функция ord()"
   ],
   "metadata": {
    "collapsed": false
   },
   "id": "975fa32aa69eabad"
  },
  {
   "cell_type": "markdown",
   "source": [
    "Функция ord() возвращает число, представляющее позицию переданного символа в таблице Unicode."
   ],
   "metadata": {
    "collapsed": false
   },
   "id": "55f007076a2e5c8f"
  },
  {
   "cell_type": "code",
   "execution_count": 25,
   "outputs": [
    {
     "name": "stdout",
     "output_type": "stream",
     "text": [
      "97\n",
      "66\n"
     ]
    }
   ],
   "source": [
    "print(ord('a'))\n",
    "print(ord('B'))"
   ],
   "metadata": {
    "collapsed": false,
    "ExecuteTime": {
     "end_time": "2024-12-09T08:55:49.477521900Z",
     "start_time": "2024-12-09T08:55:49.475005200Z"
    }
   },
   "id": "d8e0390a74a5929b"
  },
  {
   "cell_type": "markdown",
   "source": [
    "Функция chr()"
   ],
   "metadata": {
    "collapsed": false
   },
   "id": "8a67543ffbc62042"
  },
  {
   "cell_type": "markdown",
   "source": [
    "Функция chr() возвращает символ, чья позиция в таблице Unicode соответствует переданному числу."
   ],
   "metadata": {
    "collapsed": false
   },
   "id": "68b000f154bd4970"
  },
  {
   "cell_type": "code",
   "execution_count": 26,
   "outputs": [
    {
     "name": "stdout",
     "output_type": "stream",
     "text": [
      "a\n",
      "B\n"
     ]
    }
   ],
   "source": [
    "print(chr(97))\n",
    "print(chr(66))"
   ],
   "metadata": {
    "collapsed": false,
    "ExecuteTime": {
     "end_time": "2024-12-09T08:56:07.374226700Z",
     "start_time": "2024-12-09T08:56:07.370707600Z"
    }
   },
   "id": "47e8fb44f5c2ec2c"
  },
  {
   "cell_type": "markdown",
   "source": [
    "Примечание 3. Следует помнить, что функции, явно не возвращающие значения, возвращают значение None."
   ],
   "metadata": {
    "collapsed": false
   },
   "id": "14a60e31ddde4be7"
  },
  {
   "cell_type": "markdown",
   "source": [
    "Строчный алфавит\n",
    "Напишите программу, которая выводит все строчные латинские буквы.\n",
    "\n",
    "Формат входных данных\n",
    "На вход программе ничего не подается.\n",
    "\n",
    "Формат выходных данных\n",
    "Программа должна вывести все строчные латинские буквы от a до z, каждую на отдельной строке.\n",
    "\n",
    "Примечание. В задаче удобно воспользоваться функциями ord() и chr()"
   ],
   "metadata": {
    "collapsed": false
   },
   "id": "d7ec0cac742d74d4"
  },
  {
   "cell_type": "code",
   "execution_count": 28,
   "outputs": [
    {
     "name": "stdout",
     "output_type": "stream",
     "text": [
      "a\n",
      "b\n",
      "c\n",
      "d\n",
      "e\n",
      "f\n",
      "g\n",
      "h\n",
      "i\n",
      "j\n",
      "k\n",
      "l\n",
      "m\n",
      "n\n",
      "o\n",
      "p\n",
      "q\n",
      "r\n",
      "s\n",
      "t\n",
      "u\n",
      "v\n",
      "w\n",
      "x\n",
      "y\n",
      "z\n"
     ]
    }
   ],
   "source": [
    "for i in range(ord('a'), ord('z')+1):\n",
    "    print(chr(i))"
   ],
   "metadata": {
    "collapsed": false,
    "ExecuteTime": {
     "end_time": "2024-12-09T09:00:44.595965600Z",
     "start_time": "2024-12-09T09:00:44.592972700Z"
    }
   },
   "id": "4fbe17d30fed9f8b"
  },
  {
   "cell_type": "code",
   "execution_count": null,
   "outputs": [],
   "source": [
    "print(*__import__(\"string\").ascii_lowercase, sep=\"\\n\")"
   ],
   "metadata": {
    "collapsed": false
   },
   "id": "51936491fb4c302e"
  },
  {
   "cell_type": "markdown",
   "source": [
    "Функция convert()\n",
    "Реализуйте функцию convert(), которая принимает один аргумент:\n",
    "\n",
    "number — целое число\n",
    "Функция должна возвращать кортеж из трех элементов, расположенных в следующем порядке:\n",
    "\n",
    "двоичное представление числа number в виде строки без префикса 0b\n",
    "восьмеричное представление числа number в виде строки без префикса 0o\n",
    "шестнадцатеричное представление числа number в виде строки в верхнем регистре без префикса 0x\n",
    "Примечание 1. В задаче удобно воспользоваться функциями bin(), oct() и hex()."
   ],
   "metadata": {
    "collapsed": false
   },
   "id": "585309d84401dea5"
  },
  {
   "cell_type": "code",
   "execution_count": 41,
   "outputs": [
    {
     "name": "stdout",
     "output_type": "stream",
     "text": [
      "('1111', '17', 'F')\n",
      "('-11000', '-30', '-18')\n",
      "('1', '1', '1')\n"
     ]
    }
   ],
   "source": [
    "def convert(number: int):\n",
    "    return bin(number).replace('0b',''), oct(number).replace('0o', ''), hex(number).replace('0x', '').upper()\n",
    "print(convert(15))\n",
    "print(convert(-24))\n",
    "print(convert(1))"
   ],
   "metadata": {
    "collapsed": false,
    "ExecuteTime": {
     "end_time": "2024-12-09T09:21:50.509748400Z",
     "start_time": "2024-12-09T09:21:50.503748700Z"
    }
   },
   "id": "a13ba06806ad83de"
  },
  {
   "cell_type": "code",
   "execution_count": null,
   "outputs": [],
   "source": [
    "def convert(n):\n",
    "    return f'{n:b}', f'{n:o}', f'{n:X}'"
   ],
   "metadata": {
    "collapsed": false
   },
   "id": "1d49d10a8074938b"
  },
  {
   "cell_type": "markdown",
   "source": [
    "Функции, работающие с коллекциями"
   ],
   "metadata": {
    "collapsed": false
   },
   "id": "e9f72056d854371a"
  },
  {
   "cell_type": "markdown",
   "source": [
    "Следующий набор функций позволяет обрабатывать итерируемые объекты, например списки, строки, кортежи, множества и т.д."
   ],
   "metadata": {
    "collapsed": false
   },
   "id": "2c0c093bf84a7570"
  },
  {
   "cell_type": "markdown",
   "source": [
    "Функция min()"
   ],
   "metadata": {
    "collapsed": false
   },
   "id": "f078ef45864c9fe0"
  },
  {
   "cell_type": "markdown",
   "source": [
    "Функция min() возвращает наименьшее значение элемента итерируемого объекта или самое маленькое из двух или более переданных позиционных аргументов. Также функция min() может принимать два необязательных аргумента:\n",
    "\n",
    "key — функция сортировки\n",
    "default — значение по умолчанию, если итерируемый объект окажется пустым"
   ],
   "metadata": {
    "collapsed": false
   },
   "id": "2cee8a07727140fe"
  },
  {
   "cell_type": "code",
   "execution_count": 42,
   "outputs": [
    {
     "name": "stdout",
     "output_type": "stream",
     "text": [
      "1\n",
      "a\n",
      "-3\n",
      "Empty\n"
     ]
    }
   ],
   "source": [
    "print(min([1, 2, 5, 7, 34, 6]))\n",
    "print(min('a', 'b', 'ab'))\n",
    "print(min([-3, 4, -90, 3, 45], key=abs))\n",
    "print(min([], default='Empty'))"
   ],
   "metadata": {
    "collapsed": false,
    "ExecuteTime": {
     "end_time": "2024-12-09T09:26:24.578451600Z",
     "start_time": "2024-12-09T09:26:24.572114900Z"
    }
   },
   "id": "c90c4f16e74bae1c"
  },
  {
   "cell_type": "markdown",
   "source": [
    "Если аргумент default не указан, то при передаче в функцию min() пустого итерируемого объекта произойдет ошибка."
   ],
   "metadata": {
    "collapsed": false
   },
   "id": "24b9917a905e09c5"
  },
  {
   "cell_type": "markdown",
   "source": [
    "Функция max()"
   ],
   "metadata": {
    "collapsed": false
   },
   "id": "1e583a90e4ec52bf"
  },
  {
   "cell_type": "markdown",
   "source": [
    "Функция max() возвращает наибольшее значение элемента итерируемого объекта или самое большое из двух или более переданных позиционных аргументов. Также функция max() может принимать два необязательных аргумента:\n",
    "\n",
    "key — функция сортировки\n",
    "default — значение по умолчанию, если итерируемый объект окажется пустым"
   ],
   "metadata": {
    "collapsed": false
   },
   "id": "da3b9c920f1a235a"
  },
  {
   "cell_type": "code",
   "execution_count": 43,
   "outputs": [
    {
     "name": "stdout",
     "output_type": "stream",
     "text": [
      "34\n",
      "b\n",
      "-90\n",
      "Empty\n"
     ]
    }
   ],
   "source": [
    "print(max([1, 2, 5, 7, 34, 6]))\n",
    "print(max('a', 'b', 'ab'))\n",
    "print(max([-3, 4, -90, 3, 45], key=abs))\n",
    "print(max([], default='Empty'))"
   ],
   "metadata": {
    "collapsed": false,
    "ExecuteTime": {
     "end_time": "2024-12-09T09:31:20.016242700Z",
     "start_time": "2024-12-09T09:31:20.012723600Z"
    }
   },
   "id": "8e48d1c86fb92ec7"
  },
  {
   "cell_type": "markdown",
   "source": [
    "Если аргумент default не указан, то при передаче в функцию max() пустого итерируемого объекта произойдет ошибка."
   ],
   "metadata": {
    "collapsed": false
   },
   "id": "e35cd50fc4502298"
  },
  {
   "cell_type": "markdown",
   "source": [
    "Функция len()"
   ],
   "metadata": {
    "collapsed": false
   },
   "id": "fad958eb6f11a6eb"
  },
  {
   "cell_type": "markdown",
   "source": [
    "Функция len() возвращает количество элементов в объекте. Объект может быть строкой, списком, кортежем, словарем, множеством или объектом типа range. "
   ],
   "metadata": {
    "collapsed": false
   },
   "id": "601a80c113d915f2"
  },
  {
   "cell_type": "code",
   "execution_count": 44,
   "outputs": [
    {
     "name": "stdout",
     "output_type": "stream",
     "text": [
      "6\n",
      "7\n",
      "10\n"
     ]
    }
   ],
   "source": [
    "print(len([1, 2, 3, 4, 5, 6]))\n",
    "print(len('abcdefg'))\n",
    "print(len(range(10)))"
   ],
   "metadata": {
    "collapsed": false,
    "ExecuteTime": {
     "end_time": "2024-12-09T09:32:11.847660500Z",
     "start_time": "2024-12-09T09:32:11.843136Z"
    }
   },
   "id": "7bb560a1c8e8de82"
  },
  {
   "cell_type": "markdown",
   "source": [
    "Функция reversed()"
   ],
   "metadata": {
    "collapsed": false
   },
   "id": "c055adf864d3669c"
  },
  {
   "cell_type": "markdown",
   "source": [
    "Функция reversed() возвращает обратный итератор, то есть возвращает итератор, который перебирает элементы оригинала в обратном порядке."
   ],
   "metadata": {
    "collapsed": false
   },
   "id": "4729ed43c2d6bdb7"
  },
  {
   "cell_type": "code",
   "execution_count": 45,
   "outputs": [
    {
     "name": "stdout",
     "output_type": "stream",
     "text": [
      "5 4 3 2 1 "
     ]
    }
   ],
   "source": [
    "for i in reversed([1, 2, 3, 4, 5]):\n",
    "    print(i, end=' ')"
   ],
   "metadata": {
    "collapsed": false,
    "ExecuteTime": {
     "end_time": "2024-12-09T09:32:44.559622100Z",
     "start_time": "2024-12-09T09:32:44.554622600Z"
    }
   },
   "id": "6d53b1ec08457e70"
  },
  {
   "cell_type": "markdown",
   "source": [
    "Функция sorted()"
   ],
   "metadata": {
    "collapsed": false
   },
   "id": "be0e41970d08560c"
  },
  {
   "cell_type": "markdown",
   "source": [
    "Функция sorted() возвращает список (тип list) с отсортированными элементами переданного итерируемого объекта. При совпадении значений элементов сохраняется их исходный порядок следования. Также функция имеет два необязательных аргумента:\n",
    "\n",
    "key — функция сортировки\n",
    "reverse — если установлено значение True, то элементы списка сортируются по убыванию"
   ],
   "metadata": {
    "collapsed": false
   },
   "id": "4ca2a778676bf7d9"
  },
  {
   "cell_type": "code",
   "execution_count": 46,
   "outputs": [
    {
     "name": "stdout",
     "output_type": "stream",
     "text": [
      "[4, 6, 23, 39, 56]\n",
      "[56, 39, 23, 6, 4]\n",
      "['step', 'python', 'beegeek']\n"
     ]
    }
   ],
   "source": [
    "print(sorted([23, 4, 56, 6, 39]))\n",
    "print(sorted([23, 4, 56, 6, 39], reverse=True))\n",
    "print(sorted(['beegeek', 'step', 'python'], key=len))"
   ],
   "metadata": {
    "collapsed": false,
    "ExecuteTime": {
     "end_time": "2024-12-09T09:33:16.183868200Z",
     "start_time": "2024-12-09T09:33:16.179328600Z"
    }
   },
   "id": "d497d8bd11b5a98d"
  },
  {
   "cell_type": "markdown",
   "source": [
    "Функция all()"
   ],
   "metadata": {
    "collapsed": false
   },
   "id": "abcf4f9379fbfeb5"
  },
  {
   "cell_type": "markdown",
   "source": [
    "Функция all() возвращает значение True, если все элементы в итерируемом объекте истинны, в противном случае она возвращает значение False."
   ],
   "metadata": {
    "collapsed": false
   },
   "id": "8f18ea18b2dbbd86"
  },
  {
   "cell_type": "code",
   "execution_count": 47,
   "outputs": [
    {
     "name": "stdout",
     "output_type": "stream",
     "text": [
      "True\n",
      "False\n",
      "False\n",
      "False\n"
     ]
    }
   ],
   "source": [
    "print(all([1, 2, 3]))   \n",
    "print(all([1, 2, 3, 0, 5]))\n",
    "print(all([True, 0, 1]))\n",
    "print(all(('', 'red', 'green')))"
   ],
   "metadata": {
    "collapsed": false,
    "ExecuteTime": {
     "end_time": "2024-12-09T09:33:50.371694400Z",
     "start_time": "2024-12-09T09:33:50.367689200Z"
    }
   },
   "id": "b42fe07d3dbaf05b"
  },
  {
   "cell_type": "markdown",
   "source": [
    "Функция any()"
   ],
   "metadata": {
    "collapsed": false
   },
   "id": "a6eb0fc92a342804"
  },
  {
   "cell_type": "markdown",
   "source": [
    "Функция any() возвращает True, если какой-либо (любой) элемент в итерируемом объекте является истинным, в противном случае она возвращает значение False."
   ],
   "metadata": {
    "collapsed": false
   },
   "id": "37ab88495963b122"
  },
  {
   "cell_type": "code",
   "execution_count": 48,
   "outputs": [
    {
     "name": "stdout",
     "output_type": "stream",
     "text": [
      "False\n",
      "True\n",
      "True\n",
      "True\n"
     ]
    }
   ],
   "source": [
    "print(any([0, 0, 0]))\n",
    "print(any([0, 1, 0]))\n",
    "print(any([False, 0, 1]))\n",
    "print(any(['', [], 'green']))"
   ],
   "metadata": {
    "collapsed": false,
    "ExecuteTime": {
     "end_time": "2024-12-09T09:34:22.558939Z",
     "start_time": "2024-12-09T09:34:22.553592400Z"
    }
   },
   "id": "6611335145dc06b0"
  },
  {
   "cell_type": "markdown",
   "source": [
    "Функция enumerate()"
   ],
   "metadata": {
    "collapsed": false
   },
   "id": "d9ecdc97f2dd0b39"
  },
  {
   "cell_type": "markdown",
   "source": [
    "Встроенная функция enumerate() возвращает итератор кортежей, которые состоят из индекса элемента и самого элемента переданного итерируемого объекта. Также функция имеет необязательный аргумент start —  начальное значение индекса, по умолчанию равное нулю."
   ],
   "metadata": {
    "collapsed": false
   },
   "id": "247e60cc4b3c915c"
  },
  {
   "cell_type": "code",
   "execution_count": 49,
   "outputs": [
    {
     "name": "stdout",
     "output_type": "stream",
     "text": [
      "(1, 'red')\n",
      "(2, 'green')\n",
      "(3, 'blue')\n"
     ]
    }
   ],
   "source": [
    "colors = ['red', 'green', 'blue']\n",
    "\n",
    "for pair in enumerate(colors, 1):\n",
    "    print(pair)"
   ],
   "metadata": {
    "collapsed": false,
    "ExecuteTime": {
     "end_time": "2024-12-09T09:35:04.358664300Z",
     "start_time": "2024-12-09T09:35:04.337668600Z"
    }
   },
   "id": "33e3d413b8130620"
  },
  {
   "cell_type": "markdown",
   "source": [
    "Функция range()"
   ],
   "metadata": {
    "collapsed": false
   },
   "id": "8692837ff40a1547"
  },
  {
   "cell_type": "markdown",
   "source": [
    "Функция range() используется для генерации арифметической последовательности целых чисел с заданным шагом. Она может принимать три аргумента:\n",
    "\n",
    "start — начало последовательности (включительно)\n",
    "stop — конец последовательности (не включительно)\n",
    "step — шаг последовательности"
   ],
   "metadata": {
    "collapsed": false
   },
   "id": "58c6f9c62f84bcc9"
  },
  {
   "cell_type": "code",
   "execution_count": 50,
   "outputs": [
    {
     "name": "stdout",
     "output_type": "stream",
     "text": [
      "0 1 2 3 4 5 6 7 8 9\n",
      "1 2 3 4 5 6 7 8 9\n",
      "2 4 6 8\n"
     ]
    }
   ],
   "source": [
    "print(*range(10))\n",
    "print(*range(1, 10))\n",
    "print(*range(2, 10, 2))"
   ],
   "metadata": {
    "collapsed": false,
    "ExecuteTime": {
     "end_time": "2024-12-09T09:35:42.436627600Z",
     "start_time": "2024-12-09T09:35:42.415114100Z"
    }
   },
   "id": "e6a35847c1649055"
  },
  {
   "cell_type": "markdown",
   "source": [
    "На самом деле функция range() генерирует и возвращает объект типа range, который помимо итерации по своим элементам поддерживает:\n",
    "\n",
    "индексацию\n",
    "срезы (возвращают новый range объект)\n",
    "операторы равенства ==, неравенства != и принадлежности in\n",
    "методы index() и count() (работают так же, как, например, со списками, но быстрее)"
   ],
   "metadata": {
    "collapsed": false
   },
   "id": "16a1da2d7a80b867"
  },
  {
   "cell_type": "code",
   "execution_count": 52,
   "outputs": [
    {
     "name": "stdout",
     "output_type": "stream",
     "text": [
      "1\n",
      "range(2, 5)\n",
      "1\n",
      "9\n",
      "False\n",
      "True\n"
     ]
    }
   ],
   "source": [
    "my_range = range(1, 11)\n",
    "\n",
    "print(my_range[0])\n",
    "print(my_range[1:4])\n",
    "print(my_range.count(7))\n",
    "print(my_range.index(10))\n",
    "print(my_range == range(1, 10))\n",
    "print(my_range == range(1, 11))"
   ],
   "metadata": {
    "collapsed": false,
    "ExecuteTime": {
     "end_time": "2024-12-09T09:36:49.596757600Z",
     "start_time": "2024-12-09T09:36:49.591751400Z"
    }
   },
   "id": "5c14894df3dcb505"
  },
  {
   "cell_type": "markdown",
   "source": [
    "Преимущество типа данных range над списками или кортежами в том, что диапазоны range всегда будут занимать небольшое количество памяти, независимо от размера диапазона, которое он представляет, так как он хранит в памяти только значение start, stop и step, а элементы последовательности вычисляются по мере необходимости."
   ],
   "metadata": {
    "collapsed": false
   },
   "id": "a9de75c36d4b407a"
  },
  {
   "cell_type": "markdown",
   "source": [
    "Функция zip()"
   ],
   "metadata": {
    "collapsed": false
   },
   "id": "4f4f5cac6ecaff55"
  },
  {
   "cell_type": "markdown",
   "source": [
    "Функция zip() возвращает итератор кортежей, который объединяет элементы каждой из переданных последовательностей. Количество передаваемых последовательностей может быть произвольным. "
   ],
   "metadata": {
    "collapsed": false
   },
   "id": "288f6c0858a09382"
  },
  {
   "cell_type": "code",
   "execution_count": 53,
   "outputs": [
    {
     "name": "stdout",
     "output_type": "stream",
     "text": [
      "(1, 'one', 'I')\n",
      "(2, 'two', 'II')\n",
      "(3, 'three', 'III')\n"
     ]
    }
   ],
   "source": [
    "numbers = [1, 2, 3]\n",
    "words = ['one', 'two', 'three']\n",
    "romans = ['I', 'II', 'III']\n",
    "\n",
    "for number in zip(numbers, words, romans):\n",
    "    print(number)"
   ],
   "metadata": {
    "collapsed": false,
    "ExecuteTime": {
     "end_time": "2024-12-09T09:48:22.427352800Z",
     "start_time": "2024-12-09T09:48:22.421652400Z"
    }
   },
   "id": "c8a84510045c064a"
  },
  {
   "cell_type": "markdown",
   "source": [
    "Функция id()"
   ],
   "metadata": {
    "collapsed": false
   },
   "id": "14651200dc78598"
  },
  {
   "cell_type": "markdown",
   "source": [
    "Функция id() возвращает уникальный идентификатор для указанного объекта.\n",
    "\n",
    "Все объекты в Python имеют свой уникальный идентификатор. Идентификатор присваивается объекту при его создании. Идентификатор является адресом памяти объекта и будет отличаться при каждом запуске программы. Следует иметь в виду, что некоторые объекты могут иметь один и тот же идентификатор, например: целые числа от −5 до 256, True и False."
   ],
   "metadata": {
    "collapsed": false
   },
   "id": "76000321f0d8a404"
  },
  {
   "cell_type": "markdown",
   "source": [
    "Функция input()"
   ],
   "metadata": {
    "collapsed": false
   },
   "id": "bffd31576506f0ef"
  },
  {
   "cell_type": "markdown",
   "source": [
    "Функция input() позволяет обеспечить ввод пользовательских данных из консоли. Она может принимать один необязательный аргумент prompt — строку подсказки."
   ],
   "metadata": {
    "collapsed": false
   },
   "id": "76aeba20214f9243"
  },
  {
   "cell_type": "code",
   "execution_count": 55,
   "outputs": [
    {
     "name": "stdout",
     "output_type": "stream",
     "text": [
      "Привет, 123!\n"
     ]
    }
   ],
   "source": [
    "name = input(\"Введите ваше имя: \")\n",
    "print(f\"Привет, {name}!\")"
   ],
   "metadata": {
    "collapsed": false,
    "ExecuteTime": {
     "end_time": "2024-12-09T09:50:22.998739Z",
     "start_time": "2024-12-09T09:50:21.459308600Z"
    }
   },
   "id": "f1816aadbebcde7d"
  },
  {
   "cell_type": "markdown",
   "source": [
    "Функция isinstance()"
   ],
   "metadata": {
    "collapsed": false
   },
   "id": "618abd9ef8608138"
  },
  {
   "cell_type": "markdown",
   "source": [
    "Функция isinstance() используется для проверки принадлежности объекта к некоторому типу данных. Она принимает два аргумента:\n",
    "\n",
    "object — объект, требующий проверки\n",
    "typeinfo — тип данных или кортеж с типами\n",
    "Функция возвращает True, если object принадлежит типу данных typeinfo или одному из типов, если был передан кортеж, или False в противном случае."
   ],
   "metadata": {
    "collapsed": false
   },
   "id": "c96c131be79eb873"
  },
  {
   "cell_type": "code",
   "execution_count": 56,
   "outputs": [
    {
     "name": "stdout",
     "output_type": "stream",
     "text": [
      "True\n",
      "True\n",
      "True\n",
      "True\n",
      "True\n"
     ]
    }
   ],
   "source": [
    "print(isinstance(3, int))\n",
    "print(isinstance(3.5, (float, int, str)))\n",
    "print(isinstance('Beegeek', str))\n",
    "print(isinstance([1, 2, 3], list))\n",
    "print(isinstance(True, bool))"
   ],
   "metadata": {
    "collapsed": false,
    "ExecuteTime": {
     "end_time": "2024-12-09T09:50:57.725194Z",
     "start_time": "2024-12-09T09:50:57.719173200Z"
    }
   },
   "id": "66ef7b98c19ebe0b"
  },
  {
   "cell_type": "markdown",
   "source": [
    "Функция open()"
   ],
   "metadata": {
    "collapsed": false
   },
   "id": "e5b5a3526d92314b"
  },
  {
   "cell_type": "markdown",
   "source": [
    "Функция open() открывает файл для чтения или записи при помощи файлового потока и возвращает файловый объект, который имеет методы, позволяющие читать и записывать информацию различными способами. Она принимает один обязательный аргумент file — абсолютное или относительное значение пути к файлу, а также следующие необязательные аргументы:\n",
    "\n",
    "mode — строка, которая указывает режим, в котором открывается файл, по умолчанию имеет значение 'r'\n",
    "encoding — кодировка, используемая для декодирования или кодирования файла"
   ],
   "metadata": {
    "collapsed": false
   },
   "id": "28e90c3d9bf2f1ca"
  },
  {
   "cell_type": "markdown",
   "source": [
    "Функция print()"
   ],
   "metadata": {
    "collapsed": false
   },
   "id": "52767d61299ec69d"
  },
  {
   "cell_type": "markdown",
   "source": [
    "Функция print() позволяет обеспечить вывод пользовательских данных в текстовый поток. Помимо переменного числа объектов, которые следует вывести, она может принимать необязательные ключевые аргументы:\n",
    "\n",
    "sep — строка, разделитель объектов, по умолчанию имеет значение ' '\n",
    "end — строка, которой заканчивается вывод, по умолчанию имеет значение '\\n'\n",
    "file — файл, в который реализуется вывод, по умолчанию имеет значение sys.stdout"
   ],
   "metadata": {
    "collapsed": false
   },
   "id": "ab7993d0abc026fb"
  },
  {
   "cell_type": "code",
   "execution_count": 57,
   "outputs": [
    {
     "name": "stdout",
     "output_type": "stream",
     "text": [
      "1, 2, 3, 4, 5!"
     ]
    }
   ],
   "source": [
    "print(*[1, 2, 3, 4, 5], sep=', ', end='!')"
   ],
   "metadata": {
    "collapsed": false,
    "ExecuteTime": {
     "end_time": "2024-12-09T09:52:17.499772Z",
     "start_time": "2024-12-09T09:52:17.494259500Z"
    }
   },
   "id": "4b7833bba1192f65"
  },
  {
   "cell_type": "markdown",
   "source": [
    "Функция type()"
   ],
   "metadata": {
    "collapsed": false
   },
   "id": "1f8ec80bba25677e"
  },
  {
   "cell_type": "markdown",
   "source": [
    "Функция type() возвращает тип данных, к которому относится переданный объект."
   ],
   "metadata": {
    "collapsed": false
   },
   "id": "478970ea1742a2c7"
  },
  {
   "cell_type": "code",
   "execution_count": 58,
   "outputs": [
    {
     "name": "stdout",
     "output_type": "stream",
     "text": [
      "<class 'int'>\n",
      "<class 'float'>\n",
      "<class 'str'>\n",
      "<class 'list'>\n",
      "<class 'bool'>\n"
     ]
    }
   ],
   "source": [
    "print(type(3))\n",
    "print(type(3.5))\n",
    "print(type('Beegeek'))\n",
    "print(type([1, 2, 3]))\n",
    "print(type(True))"
   ],
   "metadata": {
    "collapsed": false,
    "ExecuteTime": {
     "end_time": "2024-12-09T09:52:37.034982100Z",
     "start_time": "2024-12-09T09:52:37.027848300Z"
    }
   },
   "id": "1ba255afc0574a2a"
  }
 ],
 "metadata": {
  "kernelspec": {
   "display_name": "Python 3",
   "language": "python",
   "name": "python3"
  },
  "language_info": {
   "codemirror_mode": {
    "name": "ipython",
    "version": 2
   },
   "file_extension": ".py",
   "mimetype": "text/x-python",
   "name": "python",
   "nbconvert_exporter": "python",
   "pygments_lexer": "ipython2",
   "version": "2.7.6"
  }
 },
 "nbformat": 4,
 "nbformat_minor": 5
}
