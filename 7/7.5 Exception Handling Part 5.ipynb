{
 "cells": [
  {
   "cell_type": "markdown",
   "source": [
    "Пользовательские исключения"
   ],
   "metadata": {
    "collapsed": false
   },
   "id": "a9849152f2989b5c"
  },
  {
   "cell_type": "markdown",
   "source": [
    "В Python можно создавать собственные типы исключений. Такая практика позволяет увеличить гибкость процесса обработки ошибок в рамках той предметной области, для которой написана программа."
   ],
   "metadata": {
    "collapsed": false
   },
   "id": "4612b007fa177f5a"
  },
  {
   "cell_type": "markdown",
   "source": [
    "Для создания собственного типа исключения необходимо создать класс, являющийся потомком (наследником) одного из уже существующих типов исключений. Как уже было сказано в прошлом уроке, самым верным вариантом является класс Exception."
   ],
   "metadata": {
    "collapsed": false
   },
   "id": "5cc6b414328ad8bc"
  },
  {
   "cell_type": "code",
   "execution_count": 2,
   "outputs": [],
   "source": [
    "class NegativeAgeError(Exception):\n",
    "    pass"
   ],
   "metadata": {
    "collapsed": false,
    "ExecuteTime": {
     "end_time": "2024-12-02T07:13:09.174672900Z",
     "start_time": "2024-12-02T07:13:09.169928100Z"
    }
   },
   "id": "a6f75ffe5958d534"
  },
  {
   "cell_type": "markdown",
   "source": [
    "Приведенный код описывает новый тип исключения с именем NegativeAgeError, который является потомком класса Exception. Класс Exception содержит весь необходимый функционал, позволяющий работать с исключениями, поэтому в большинстве случаев достаточно создать пустой класс, который является потомком класса Exception. Теперь мы можем работать с типом исключения NegativeAgeError, как с любым встроенным."
   ],
   "metadata": {
    "collapsed": false
   },
   "id": "bc0a476959c0d0ad"
  },
  {
   "cell_type": "code",
   "execution_count": 3,
   "outputs": [
    {
     "name": "stdout",
     "output_type": "stream",
     "text": [
      "Введите свой возраст\n",
      "Возраст не может быть отрицательным\n"
     ]
    }
   ],
   "source": [
    "try:\n",
    "    print('Введите свой возраст')\n",
    "    age = int(input())\n",
    "    if age < 0:\n",
    "        raise NegativeAgeError('Возраст не может быть отрицательным')\n",
    "    print('Ваш возраст равен', age)\n",
    "except ValueError:\n",
    "    print('Возраст должен быть числом')\n",
    "except NegativeAgeError as e:\n",
    "    print(e)"
   ],
   "metadata": {
    "collapsed": false,
    "ExecuteTime": {
     "end_time": "2024-12-02T07:13:12.211388400Z",
     "start_time": "2024-12-02T07:13:10.851019600Z"
    }
   },
   "id": "fdc3aab6ce438730"
  },
  {
   "cell_type": "markdown",
   "source": [
    "ValueError – при нечисловых значениях \n",
    "NegativeAgeError – при отрицательных числовых значениях"
   ],
   "metadata": {
    "collapsed": false
   },
   "id": "765d775085dd29a4"
  },
  {
   "cell_type": "markdown",
   "source": [
    "Методики LBYL и EAFP"
   ],
   "metadata": {
    "collapsed": false
   },
   "id": "aec9393a8ab0dabf"
  },
  {
   "cell_type": "markdown",
   "source": [
    "При написании программного кода, который может потенциально возбуждать исключения, существуют два основных подхода:\n",
    "\n",
    "LBYL (Look Before You Leap) — посмотри перед прыжком\n",
    "EAFP (Easier to Ask Forgiveness than Permission) — проще извиниться, чем спрашивать разрешение"
   ],
   "metadata": {
    "collapsed": false
   },
   "id": "38058a04a9d8d1fb"
  },
  {
   "cell_type": "code",
   "execution_count": 4,
   "outputs": [
    {
     "ename": "KeyError",
     "evalue": "'Anri'",
     "output_type": "error",
     "traceback": [
      "\u001B[1;31m---------------------------------------------------------------------------\u001B[0m",
      "\u001B[1;31mKeyError\u001B[0m                                  Traceback (most recent call last)",
      "Cell \u001B[1;32mIn[4], line 3\u001B[0m\n\u001B[0;32m      1\u001B[0m data \u001B[38;5;241m=\u001B[39m {\u001B[38;5;124m'\u001B[39m\u001B[38;5;124mTimur\u001B[39m\u001B[38;5;124m'\u001B[39m: \u001B[38;5;241m29\u001B[39m, \u001B[38;5;124m'\u001B[39m\u001B[38;5;124mIvan\u001B[39m\u001B[38;5;124m'\u001B[39m: \u001B[38;5;241m54\u001B[39m}\n\u001B[1;32m----> 3\u001B[0m \u001B[43mdata\u001B[49m\u001B[43m[\u001B[49m\u001B[38;5;124;43m'\u001B[39;49m\u001B[38;5;124;43mAnri\u001B[39;49m\u001B[38;5;124;43m'\u001B[39;49m\u001B[43m]\u001B[49m \u001B[38;5;241m+\u001B[39m\u001B[38;5;241m=\u001B[39m \u001B[38;5;241m1\u001B[39m\n",
      "\u001B[1;31mKeyError\u001B[0m: 'Anri'"
     ]
    }
   ],
   "source": [
    "data = {'Timur': 29, 'Ivan': 54}\n",
    "\n",
    "data['Anri'] += 1"
   ],
   "metadata": {
    "collapsed": false,
    "ExecuteTime": {
     "end_time": "2024-12-02T07:23:28.455971900Z",
     "start_time": "2024-12-02T07:23:28.434899400Z"
    }
   },
   "id": "7e1c799445856959"
  },
  {
   "cell_type": "markdown",
   "source": [
    "приводит к возникновению исключения KeyError, поскольку ключ Anri отсутствует в словаре."
   ],
   "metadata": {
    "collapsed": false
   },
   "id": "f6e412fbc6694d51"
  },
  {
   "cell_type": "markdown",
   "source": [
    "Мы можем исправить такой код двумя способами."
   ],
   "metadata": {
    "collapsed": false
   },
   "id": "6d225c224f770af2"
  },
  {
   "cell_type": "markdown",
   "source": [
    "Способ 1. Перестраховаться и заранее проверить, что все получится. Это идеология LBYL-подхода. Сначала посмотрели, убедились, что все в порядке, только потом сделали."
   ],
   "metadata": {
    "collapsed": false
   },
   "id": "fc12619b806a624"
  },
  {
   "cell_type": "code",
   "execution_count": null,
   "outputs": [],
   "source": [
    "data = {'Timur': 29, 'Ivan': 54}\n",
    "\n",
    "if 'Anri' in data:\n",
    "    data['Anri'] += 1\n",
    "else:\n",
    "    print('Ключ Anri отсутствует в словаре.')"
   ],
   "metadata": {
    "collapsed": false
   },
   "id": "23eb9f4142a31851"
  },
  {
   "cell_type": "markdown",
   "source": [
    "Аналогия с LBYL-подходом такая: поглядели на светофор, потом по сторонам. Если горит зеленый свет и нет препятствий, можно переходить."
   ],
   "metadata": {
    "collapsed": false
   },
   "id": "a71d1cb9fd7f2a03"
  },
  {
   "cell_type": "markdown",
   "source": [
    "Способ 2. Мы можем описывать только главный алгоритм, рассчитывая, что все будет хорошо. Но при таком подходе необходимо прописать действия с исключениями (иногда разных типов). Это суть подхода EAFP."
   ],
   "metadata": {
    "collapsed": false
   },
   "id": "9aed5362a2a6fb8d"
  },
  {
   "cell_type": "code",
   "execution_count": 5,
   "outputs": [
    {
     "name": "stdout",
     "output_type": "stream",
     "text": [
      "Ключ Anri отсутствует в словаре.\n"
     ]
    }
   ],
   "source": [
    "data = {'Timur': 29, 'Ivan': 54}\n",
    "\n",
    "try:\n",
    "    data['Anri'] += 1\n",
    "except KeyError:\n",
    "    print('Ключ Anri отсутствует в словаре.')"
   ],
   "metadata": {
    "collapsed": false,
    "ExecuteTime": {
     "end_time": "2024-12-02T07:25:39.312099100Z",
     "start_time": "2024-12-02T07:25:39.305336600Z"
    }
   },
   "id": "ae005b315c572f5c"
  },
  {
   "cell_type": "markdown",
   "source": [
    "Python также предоставляет третий способ исправления кода с помощью метода get()."
   ],
   "metadata": {
    "collapsed": false
   },
   "id": "8185e4b437aa4e9"
  },
  {
   "cell_type": "markdown",
   "source": [
    "В Python, скорее, преобладает подход EAFP, поэтому Python полагается на то, что исключения будут обработаны после их возникновения. И хотя такой подход может показаться рискованным, при разумном использовании исключений код получается менее громоздким и лучше читается, а ошибки обрабатываются только в случае их возникновения. И пусть подход EAFP выглядит более выигрышным, это не значит, что методику LBYL вообще нельзя использовать."
   ],
   "metadata": {
    "collapsed": false
   },
   "id": "eb9ae0acf7616161"
  },
  {
   "cell_type": "code",
   "execution_count": null,
   "outputs": [],
   "source": [
    "class NumberNotInRangeError(Exception):\n",
    "    pass\n",
    "\n",
    "\n",
    "try:\n",
    "    number = int('3999')\n",
    "    if not 4000 < number < 8000:\n",
    "        raise NumberNotInRangeError('Число из недопустимого диапазона')\n",
    "    print(number)\n",
    "except NumberNotInRangeError as e:\n",
    "    print(e)"
   ],
   "metadata": {
    "collapsed": false
   },
   "id": "2ab566631d0f2633"
  },
  {
   "cell_type": "markdown",
   "source": [
    "Функция is_good_password() 👀\n",
    "Назовем пароль хорошим, если\n",
    "\n",
    "его длина равна 9 или более символам\n",
    "в нем присутствуют большие и маленькие буквы любого алфавита\n",
    "в нем имеется хотя бы одна цифра\n",
    "Реализуйте функцию is_good_password() в стиле LBYL, которая принимает один аргумент:\n",
    "\n",
    "string — произвольная строка\n",
    "Функция должна возвращать True, если строка string представляет собой хороший пароль, или False в противном случае.\n",
    "\n",
    "Примечание 1. В тестирующую систему сдайте программу, содержащую только необходимую функцию is_good_password(), но не код, вызывающий ее. "
   ],
   "metadata": {
    "collapsed": false
   },
   "id": "54404e1596c6a725"
  },
  {
   "cell_type": "code",
   "execution_count": 26,
   "outputs": [
    {
     "name": "stdout",
     "output_type": "stream",
     "text": [
      "False\n",
      "False\n",
      "True\n",
      "False\n",
      "False\n"
     ]
    }
   ],
   "source": [
    "def is_good_password(string: str) -> bool:\n",
    "    numbers = [str(i) for i in range(10)]\n",
    "    # print(numbers)\n",
    "    num = [i for i in string if i in numbers]\n",
    "    # print(num)\n",
    "    capitalized = [i for i in string if i.isupper()]\n",
    "    lower = [i for i in string if i.islower()]\n",
    "    if num and lower and capitalized and len(string) > 8:\n",
    "        return True\n",
    "    else:\n",
    "        return False\n",
    "\n",
    "\n",
    "print(is_good_password('41157082'))\n",
    "print(is_good_password('мойпарольсамыйлучший'))\n",
    "print(is_good_password('МойПарольСамыйЛучший111'))\n",
    "print(is_good_password('4abcdABC'))\n",
    "print(is_good_password('HELLO1234'))"
   ],
   "metadata": {
    "collapsed": false,
    "ExecuteTime": {
     "end_time": "2024-12-02T07:45:43.416607400Z",
     "start_time": "2024-12-02T07:45:43.408540200Z"
    }
   },
   "id": "60c25c64d26d8d3e"
  },
  {
   "cell_type": "code",
   "execution_count": null,
   "outputs": [],
   "source": [
    "def is_good_password(s: str):\n",
    "    if all(\n",
    "        (len(s) >= 9,\n",
    "         any(c.islower() for c in s),\n",
    "         any(c.isupper() for c in s),\n",
    "         any(c.isdigit() for c in s))\n",
    "            ):\n",
    "        return True\n",
    "    else:\n",
    "        return False"
   ],
   "metadata": {
    "collapsed": false
   },
   "id": "b81092c4bb47476"
  },
  {
   "cell_type": "code",
   "execution_count": null,
   "outputs": [],
   "source": [
    "def is_good_password(p):\n",
    "        return len(p) > 8 and p.upper() != p and p.lower() != p and any(i.isdigit() for i in p)"
   ],
   "metadata": {
    "collapsed": false
   },
   "id": "e37ab9f3d7cb11cc"
  },
  {
   "cell_type": "markdown",
   "source": [
    "Функция is_good_password() 🐍\n",
    "Назовем пароль хорошим, если\n",
    "\n",
    "его длина равна 9 или более символам\n",
    "в нем присутствуют большие и маленькие буквы любого алфавита\n",
    "в нем имеется хотя бы одна цифра\n",
    "Реализуйте функцию is_good_password() в стиле EAFP, которая принимает один аргумент:\n",
    "\n",
    "string — произвольная строка\n",
    "Функция должна возвращать True, если строка string представляет собой хороший пароль, или возбуждать исключение:\n",
    "\n",
    "LengthError, если его длина меньше 9 символов\n",
    "LetterError, если в нем отсутствуют буквы или все буквы имеют одинаковый регистр\n",
    "DigitError, если в нем нет ни одной цифры\n",
    "Примечание 1. Исключения LengthError, LetterError и DigitError уже определены и доступны.\n",
    "\n",
    "Примечание 2. Приоритет возбуждения исключений в случае невыполнения нескольких условий: LengthError, затем LetterError, а уже после DigitError.\n",
    "\n",
    "Примечание 3. В тестирующую систему сдайте программу, содержащую только необходимую функцию is_good_password(), но не код, вызывающий ее."
   ],
   "metadata": {
    "collapsed": false
   },
   "id": "7cee58e722140c66"
  },
  {
   "cell_type": "code",
   "execution_count": 73,
   "outputs": [
    {
     "name": "stdout",
     "output_type": "stream",
     "text": [
      "<class '__main__.LengthError'>\n",
      "True\n",
      "<class '__main__.LetterError'>\n",
      "<class '__main__.LetterError'>\n"
     ]
    }
   ],
   "source": [
    "class PasswordError(Exception):\n",
    "    pass\n",
    "\n",
    "class LengthError(PasswordError):\n",
    "    pass\n",
    "\n",
    "class LetterError(PasswordError):\n",
    "    pass\n",
    "\n",
    "class DigitError(PasswordError):\n",
    "    pass\n",
    "\n",
    "\n",
    "def is_good_password(string: str) -> bool:\n",
    "    if len(string) < 9:\n",
    "        raise LengthError\n",
    "    elif not(any(i.islower() for i in string) and any(i.isupper() for i in string)):\n",
    "        raise LetterError\n",
    "    elif not any(i.isdigit() for i in string):\n",
    "        raise DigitError\n",
    "    return True\n",
    "\n",
    "\n",
    "try:\n",
    "    print(is_good_password('Short7'))\n",
    "except Exception as err:\n",
    "    print(type(err))\n",
    "print(is_good_password('еПQSНгиfУЙ70qE'))\n",
    "try:\n",
    "    print(is_good_password('41157081231232'))\n",
    "except Exception as err:\n",
    "    print(type(err))\n",
    "try:\n",
    "    print(is_good_password('abc12345678ansdfjkasdkjfbsdk'))\n",
    "except Exception as err:\n",
    "    print(type(err))"
   ],
   "metadata": {
    "collapsed": false,
    "ExecuteTime": {
     "end_time": "2024-12-02T09:23:06.134742800Z",
     "start_time": "2024-12-02T09:23:06.131995100Z"
    }
   },
   "id": "2543416de1f73547"
  },
  {
   "cell_type": "code",
   "execution_count": 75,
   "outputs": [
    {
     "name": "stdout",
     "output_type": "stream",
     "text": [
      "<class '__main__.LengthError'>\n",
      "True\n",
      "<class '__main__.LetterError'>\n",
      "<class '__main__.LetterError'>\n"
     ]
    }
   ],
   "source": [
    "class PasswordError(Exception):\n",
    "    pass\n",
    "\n",
    "class LengthError(PasswordError):\n",
    "    pass\n",
    "\n",
    "class LetterError(PasswordError):\n",
    "    pass\n",
    "\n",
    "class DigitError(PasswordError):\n",
    "    pass\n",
    "\n",
    "\n",
    "def is_good_password(p: str) -> bool:\n",
    "    try:\n",
    "        p[8]\n",
    "    except Exception:\n",
    "        raise LengthError\n",
    "    try:\n",
    "        list(filter(str.isalpha, p))[0]\n",
    "        list(filter(str.isupper, p))[0]\n",
    "        list(filter(str.islower, p))[0]\n",
    "    except Exception:\n",
    "        raise LetterError\n",
    "    try:\n",
    "        list(filter(str.isdigit, p))[0]\n",
    "    except Exception:\n",
    "        raise DigitError\n",
    "    return True\n",
    "\n",
    "try:\n",
    "    print(is_good_password('Short7'))\n",
    "except Exception as err:\n",
    "    print(type(err))\n",
    "print(is_good_password('еПQSНгиfУЙ70qE'))\n",
    "try:\n",
    "    print(is_good_password('41157081231232'))\n",
    "except Exception as err:\n",
    "    print(type(err))\n",
    "try:\n",
    "    print(is_good_password('abc12345678ansdfjkasdkjfbsdk'))\n",
    "except Exception as err:\n",
    "    print(type(err))"
   ],
   "metadata": {
    "collapsed": false,
    "ExecuteTime": {
     "end_time": "2024-12-02T09:24:40.382178Z",
     "start_time": "2024-12-02T09:24:40.368078200Z"
    }
   },
   "id": "502a6ca2f9aecdb7"
  },
  {
   "cell_type": "markdown",
   "source": [
    "Уж лучше матрицы 😐\n",
    "Назовем пароль хорошим, если:\n",
    "\n",
    "его длина равна 9 или более символам\n",
    "в нем присутствуют большие и маленькие буквы любого алфавита\n",
    "в нем имеется хотя бы одна цифра\n",
    "Напишите программу, которая требует ввода нового пароля до тех пор, пока не будет введен хороший.\n",
    "\n",
    "Формат входных данных\n",
    "На вход программе подается произвольное количество паролей, каждый на отдельной строке. Гарантируется, что среди них присутствует хороший.\n",
    "\n",
    "Формат выходных данных\n",
    "Для каждого введенного пароля программа должна вывести текст:\n",
    "\n",
    "LengthError, если длина введенного пароля меньше 9 символов\n",
    "LetterError, если в нем все буквы имеют одинаковый регистр либо отсутствуют\n",
    "DigitError, если в нем нет ни одной цифры\n",
    "Success!, если введенный пароль хороший\n",
    "После ввода хорошего пароля все последующие пароли должны игнорироваться.\n",
    "\n",
    "Примечание 1. Приоритет вывода сообщений об ошибке в случае невыполнения нескольких условий: LengthError, затем LetterError, а уже после DigitError.\n",
    "\n",
    "Примечание 2. Воспользуйтесь функцией is_good_password() из предыдущей задачи."
   ],
   "metadata": {
    "collapsed": false
   },
   "id": "8e73edec7f1b9740"
  },
  {
   "cell_type": "code",
   "execution_count": 24,
   "outputs": [
    {
     "name": "stdout",
     "output_type": "stream",
     "text": [
      "LengthError\n",
      "Success!\n"
     ]
    }
   ],
   "source": [
    "from sys import stdin\n",
    "\n",
    "# data = [i.strip() for i in stdin]\n",
    "# print(data)\n",
    "# data = ['arr1', 'Arrrrrrrrrrr', 'arrrrrrrrrrrrrrr1', 'Arrrrrrr1']\n",
    "data = ['beegeek', 'Beegeek123', 'Beegeek2022', 'Beegeek2023', 'Beegeek2024']\n",
    "\n",
    "class PasswordError(Exception):\n",
    "    pass\n",
    "\n",
    "class LengthError(PasswordError):\n",
    "    pass\n",
    "\n",
    "class LetterError(PasswordError):\n",
    "    pass\n",
    "\n",
    "class DigitError(PasswordError):\n",
    "    pass\n",
    "\n",
    "\n",
    "def is_good_password(string: str):\n",
    "    if len(string) < 9:\n",
    "        # print('LengthError')\n",
    "        raise LengthError('LengthError')\n",
    "\n",
    "    elif not(any(i.islower() for i in string) and any(i.isupper() for i in string)):\n",
    "        # print('LetterError')\n",
    "        raise LetterError('LetterError')\n",
    "\n",
    "    elif not any(i.isdigit() for i in string):\n",
    "        # print('DigitError')\n",
    "        raise DigitError('DigitError')\n",
    "\n",
    "    else:\n",
    "        print('Success!')\n",
    "        return True\n",
    "    \n",
    "for password in data:\n",
    "    try:\n",
    "        if is_good_password(password):\n",
    "            break\n",
    "    except PasswordError as e:\n",
    "        print(e)"
   ],
   "metadata": {
    "collapsed": false,
    "ExecuteTime": {
     "end_time": "2024-12-02T12:55:41.587857800Z",
     "start_time": "2024-12-02T12:55:41.581968900Z"
    }
   },
   "id": "ceb0cfe0e7057b27"
  },
  {
   "cell_type": "markdown",
   "source": [
    "Оператор assert"
   ],
   "metadata": {
    "collapsed": false
   },
   "id": "e739d3bb2cfb2b5b"
  },
  {
   "cell_type": "markdown",
   "source": [
    "Оператор assert позволяет нам писать проверки работоспособности нашего кода. Эти проверки обычно называют утверждениями. Мы используем такие утверждения для того чтобы убедиться, остаются ли верными определенные условия во время разработки программы."
   ],
   "metadata": {
    "collapsed": false
   },
   "id": "c8f93aaea18ab50b"
  },
  {
   "cell_type": "markdown",
   "source": [
    "Если какое-либо из утверждений оказывается ложным, то это означает, что в программе есть ошибка. Если все утверждения истинны, то в программе ошибок нет."
   ],
   "metadata": {
    "collapsed": false
   },
   "id": "502f0d6153c51f4d"
  },
  {
   "cell_type": "markdown",
   "source": [
    "Таким образом, утверждения — это удобный инструмент для документирования, отладки и тестирования кода во время разработки. После того как мы отладили и протестировали наш код с помощью утверждений, мы можем их отключить."
   ],
   "metadata": {
    "collapsed": false
   },
   "id": "aff535f8d9ef4cdd"
  },
  {
   "cell_type": "markdown",
   "source": [
    "Утверждения могут сделать код более эффективным, устойчивым и надежным."
   ],
   "metadata": {
    "collapsed": false
   },
   "id": "310fa1c744885803"
  },
  {
   "cell_type": "markdown",
   "source": [
    "Оператор assert – это встроенный оператор используемый для проверки того, является ли заданное утверждение истинным или ложным. Если утверждение истинно, то ничего не происходит и выполняется следующая строка кода. Если же утверждение ложно, оператор assert останавливает выполнение программы и подобно оператору raise возбуждает исключение AssertionError"
   ],
   "metadata": {
    "collapsed": false
   },
   "id": "29afea43b7023cf1"
  },
  {
   "cell_type": "markdown",
   "source": [
    "Синтаксис использования оператора assert следующий:"
   ],
   "metadata": {
    "collapsed": false
   },
   "id": "18f050f3a9960cee"
  },
  {
   "cell_type": "markdown",
   "source": [
    "assert <утверждение>"
   ],
   "metadata": {
    "collapsed": false
   },
   "id": "6ceacff929fa620"
  },
  {
   "cell_type": "markdown",
   "source": [
    "Также можно добавить дополнительное сообщение, которое описывает подробности возникновения исключительной ситуации. В таком случае синтаксис оператора assert будет следующий:"
   ],
   "metadata": {
    "collapsed": false
   },
   "id": "501b4f69dbd0910a"
  },
  {
   "cell_type": "markdown",
   "source": [
    "assert <утверждение>, <сообщение>"
   ],
   "metadata": {
    "collapsed": false
   },
   "id": "f04ae964635f405c"
  },
  {
   "cell_type": "markdown",
   "source": [
    "Примеры использования оператора assert"
   ],
   "metadata": {
    "collapsed": false
   },
   "id": "44b19779d5fba9a8"
  },
  {
   "cell_type": "code",
   "execution_count": 25,
   "outputs": [],
   "source": [
    "age = 29                # возраст человека\n",
    "\n",
    "assert age > 0, 'Возраст должен быть положительным числом'"
   ],
   "metadata": {
    "collapsed": false,
    "ExecuteTime": {
     "end_time": "2024-12-02T13:03:06.591453100Z",
     "start_time": "2024-12-02T13:03:06.589452800Z"
    }
   },
   "id": "76d4e3873d7f2c72"
  },
  {
   "cell_type": "markdown",
   "source": [
    "использует оператор assert для проверки того, является ли возраст положительным числом. В данном случае утверждение age > 0 истинно, поэтому оператор assert ничего не делает. Если бы переменная age имела отрицательное значение, то оператором assert было бы возбуждено исключение AssertionError"
   ],
   "metadata": {
    "collapsed": false
   },
   "id": "6c363fa5d24c3216"
  },
  {
   "cell_type": "code",
   "execution_count": 26,
   "outputs": [
    {
     "ename": "AssertionError",
     "evalue": "Возраст должен быть положительным числом",
     "output_type": "error",
     "traceback": [
      "\u001B[1;31m---------------------------------------------------------------------------\u001B[0m",
      "\u001B[1;31mAssertionError\u001B[0m                            Traceback (most recent call last)",
      "Cell \u001B[1;32mIn[26], line 3\u001B[0m\n\u001B[0;32m      1\u001B[0m age \u001B[38;5;241m=\u001B[39m \u001B[38;5;241m-\u001B[39m\u001B[38;5;241m5\u001B[39m                \u001B[38;5;66;03m# возраст человека\u001B[39;00m\n\u001B[1;32m----> 3\u001B[0m \u001B[38;5;28;01massert\u001B[39;00m age \u001B[38;5;241m>\u001B[39m \u001B[38;5;241m0\u001B[39m, \u001B[38;5;124m'\u001B[39m\u001B[38;5;124mВозраст должен быть положительным числом\u001B[39m\u001B[38;5;124m'\u001B[39m\n",
      "\u001B[1;31mAssertionError\u001B[0m: Возраст должен быть положительным числом"
     ]
    }
   ],
   "source": [
    "age = -5                # возраст человека\n",
    "\n",
    "assert age > 0, 'Возраст должен быть положительным числом'"
   ],
   "metadata": {
    "collapsed": false,
    "ExecuteTime": {
     "end_time": "2024-12-02T13:03:44.850985600Z",
     "start_time": "2024-12-02T13:03:44.612331300Z"
    }
   },
   "id": "e14923bf27cb122d"
  },
  {
   "cell_type": "markdown",
   "source": [
    "Пример 2. При выполнении операции деления следует учитывать, что на ноль делить нельзя. Если делитель окажется равным нулю, будет возбуждено исключение ZeroDivisionError."
   ],
   "metadata": {
    "collapsed": false
   },
   "id": "f5740665421f67a9"
  },
  {
   "cell_type": "code",
   "execution_count": 27,
   "outputs": [
    {
     "ename": "AssertionError",
     "evalue": "Делитель равен нулю.",
     "output_type": "error",
     "traceback": [
      "\u001B[1;31m---------------------------------------------------------------------------\u001B[0m",
      "\u001B[1;31mAssertionError\u001B[0m                            Traceback (most recent call last)",
      "Cell \u001B[1;32mIn[27], line 4\u001B[0m\n\u001B[0;32m      1\u001B[0m num1 \u001B[38;5;241m=\u001B[39m \u001B[38;5;241m20\u001B[39m\n\u001B[0;32m      2\u001B[0m num2 \u001B[38;5;241m=\u001B[39m \u001B[38;5;241m0\u001B[39m\n\u001B[1;32m----> 4\u001B[0m \u001B[38;5;28;01massert\u001B[39;00m num2 \u001B[38;5;241m!=\u001B[39m \u001B[38;5;241m0\u001B[39m, \u001B[38;5;124m'\u001B[39m\u001B[38;5;124mДелитель равен нулю.\u001B[39m\u001B[38;5;124m'\u001B[39m\n\u001B[0;32m      6\u001B[0m \u001B[38;5;28mprint\u001B[39m(\u001B[38;5;124m'\u001B[39m\u001B[38;5;124mЧастное равно:\u001B[39m\u001B[38;5;124m'\u001B[39m, num1 \u001B[38;5;241m/\u001B[39m num2)\n",
      "\u001B[1;31mAssertionError\u001B[0m: Делитель равен нулю."
     ]
    }
   ],
   "source": [
    "num1 = 20\n",
    "num2 = 0\n",
    "\n",
    "assert num2 != 0, 'Делитель равен нулю.'\n",
    "\n",
    "print('Частное равно:', num1 / num2)"
   ],
   "metadata": {
    "collapsed": false,
    "ExecuteTime": {
     "end_time": "2024-12-02T13:04:18.272863600Z",
     "start_time": "2024-12-02T13:04:18.261139300Z"
    }
   },
   "id": "2f0e9416118d8313"
  },
  {
   "cell_type": "markdown",
   "source": [
    "использует оператор assert для проверки того, не равен ли нулю делитель. В данном случае утверждение num2 != 0 ложно, поэтому оператором assert будет возбуждено исключение AssertionError вместе с добавленным нами сообщением."
   ],
   "metadata": {
    "collapsed": false
   },
   "id": "3b81eff3327f9703"
  },
  {
   "cell_type": "markdown",
   "source": [
    "Если изменить значение переменной num2 на 10 и выполнить нашу программу снова, то на этот раз утверждение num2 != 0 окажется истинным и исключение возбуждено не будет. Таким образом, на экран выведется результат деления:"
   ],
   "metadata": {
    "collapsed": false
   },
   "id": "9192b065c8954f98"
  },
  {
   "cell_type": "code",
   "execution_count": 28,
   "outputs": [
    {
     "name": "stdout",
     "output_type": "stream",
     "text": [
      "Частное равно: 2.0\n"
     ]
    }
   ],
   "source": [
    "num1 = 20\n",
    "num2 = 10\n",
    "\n",
    "assert num2 != 0, 'Делитель равен нулю.'\n",
    "\n",
    "print('Частное равно:', num1 / num2)"
   ],
   "metadata": {
    "collapsed": false,
    "ExecuteTime": {
     "end_time": "2024-12-02T13:05:13.498244Z",
     "start_time": "2024-12-02T13:05:13.495429500Z"
    }
   },
   "id": "11d28b0f7bf92113"
  },
  {
   "cell_type": "markdown",
   "source": [
    "Примечания"
   ],
   "metadata": {
    "collapsed": false
   },
   "id": "ced9c18e365b3c61"
  },
  {
   "cell_type": "markdown",
   "source": [
    " Примечание 1. Запись "
   ],
   "metadata": {
    "collapsed": false
   },
   "id": "9218492d2d3da2bc"
  },
  {
   "cell_type": "markdown",
   "source": [
    "assert <утверждение>, <сообщение>"
   ],
   "metadata": {
    "collapsed": false
   },
   "id": "148322837eaecc6a"
  },
  {
   "cell_type": "markdown",
   "source": [
    "примерно эквивалентна записи: "
   ],
   "metadata": {
    "collapsed": false
   },
   "id": "f95e47dcfe772db7"
  },
  {
   "cell_type": "markdown",
   "source": [
    "if not <утверждение>:\n",
    "    raise AssertionError(<сообщение>)"
   ],
   "metadata": {
    "collapsed": false
   },
   "id": "729dbcb665f1c2c4"
  },
  {
   "cell_type": "markdown",
   "source": [
    "Примечание 2. Обратите внимание на то, что assert – это именно оператор, а не функция. При использовании assert мы не указываем круглые скобки."
   ],
   "metadata": {
    "collapsed": false
   },
   "id": "7e0cabb8ede85299"
  },
  {
   "cell_type": "markdown",
   "source": [
    "Код с ошибкой:"
   ],
   "metadata": {
    "collapsed": false
   },
   "id": "285f7314e6a65b28"
  },
  {
   "cell_type": "markdown",
   "source": [
    "assert(2 + 2 == 5, \"Houston we've got a problem\")"
   ],
   "metadata": {
    "collapsed": false
   },
   "id": "fa139fb50ef9aec"
  },
  {
   "cell_type": "markdown",
   "source": [
    "Правильный код:"
   ],
   "metadata": {
    "collapsed": false
   },
   "id": "a5474c8e182275cc"
  },
  {
   "cell_type": "markdown",
   "source": [
    "assert 2 + 2 == 5, \"Houston we've got a problem\""
   ],
   "metadata": {
    "collapsed": false
   },
   "id": "6a7a0f7c11d7f11d"
  },
  {
   "cell_type": "markdown",
   "source": [
    "Причина по которой код со скобками содержит ошибку заключается в том, что оператору assert подается на вход кортеж:"
   ],
   "metadata": {
    "collapsed": false
   },
   "id": "45fdb3cc2dc885a8"
  },
  {
   "cell_type": "markdown",
   "source": [
    "(2 + 2 == 5, \"Houston we've got a problem\")"
   ],
   "metadata": {
    "collapsed": false
   },
   "id": "c29ce25bc0664c10"
  },
  {
   "cell_type": "markdown",
   "source": [
    "который эквивалентен кортежу:"
   ],
   "metadata": {
    "collapsed": false
   },
   "id": "33ad74f51175a97f"
  },
  {
   "cell_type": "markdown",
   "source": [
    "(False, \"Houston we've got a problem\")"
   ],
   "metadata": {
    "collapsed": false
   },
   "id": "b68ca5b92a34f3bb"
  },
  {
   "cell_type": "markdown",
   "source": [
    "и имеет значение True с точки зрения языка Python, поскольку любой непустой кортеж в Python приводится к значению True."
   ],
   "metadata": {
    "collapsed": false
   },
   "id": "fc708c6c69420fd"
  },
  {
   "cell_type": "markdown",
   "source": [
    "Примечание 3. Оператор assert — это средство отладки, а не механизм обработки ошибок времени выполнения программы (исключений). Цель использования оператора assert состоит в том, чтобы позволить разра­ботчикам как можно скорее найти вероятную первопричину ошибки. Если в программе ошибки нет, то исключение AssertionError никогда не должно возникнуть. В связи с этим не следует писать код, который явно обрабатывает исключения AssertionError с помощью конструкции try-except."
   ],
   "metadata": {
    "collapsed": false
   },
   "id": "9b87e2cfda3c33ae"
  },
  {
   "cell_type": "markdown",
   "source": [
    "Примечание 4. Инструкция assert предназначена для того чтобы сооб­щать разработчикам о неустранённых ошибках в программе. Инструкция assert не предназначена для того чтобы сигнализировать об ожидаемых ошибочных условиях, таких как ошибка «Файл не найден», где пользователь может предпринять корректирующие действия или просто попро­бовать еще раз."
   ],
   "metadata": {
    "collapsed": false
   },
   "id": "5a169c23320f8f9f"
  },
  {
   "cell_type": "markdown",
   "source": [
    "Примечание 5. Сформулируем основные тезисы относительно оператора assert:\n",
    "\n",
    "оператор assert — это средство отладки, которое проверяет утверждение, выступающее в качестве внутренней самопроверки вашей программы\n",
    "оператор assert должен применяться только для того чтобы по­могать разработчикам идентифицировать ошибки. Он не является механизмом обработки ошибок времени выполнения программы (исключений)\n",
    "оператор assert может быть глобально отключен в настройках интерпретатора"
   ],
   "metadata": {
    "collapsed": false
   },
   "id": "f2eaa462e709b67b"
  },
  {
   "cell_type": "code",
   "execution_count": 30,
   "outputs": [
    {
     "ename": "AssertionError",
     "evalue": "",
     "output_type": "error",
     "traceback": [
      "\u001B[1;31m---------------------------------------------------------------------------\u001B[0m",
      "\u001B[1;31mAssertionError\u001B[0m                            Traceback (most recent call last)",
      "Cell \u001B[1;32mIn[30], line 3\u001B[0m\n\u001B[0;32m      1\u001B[0m name \u001B[38;5;241m=\u001B[39m \u001B[38;5;241m9991\u001B[39m\n\u001B[1;32m----> 3\u001B[0m \u001B[38;5;28;01massert\u001B[39;00m \u001B[38;5;28misinstance\u001B[39m(name, \u001B[38;5;28mstr\u001B[39m)\n",
      "\u001B[1;31mAssertionError\u001B[0m: "
     ]
    }
   ],
   "source": [
    "name = 9991\n",
    "\n",
    "assert isinstance(name, str)"
   ],
   "metadata": {
    "collapsed": false,
    "ExecuteTime": {
     "end_time": "2024-12-02T13:39:14.000774400Z",
     "start_time": "2024-12-02T13:39:13.989432900Z"
    }
   },
   "id": "232e85a0ccf9a5b1"
  },
  {
   "cell_type": "code",
   "execution_count": 33,
   "outputs": [
    {
     "ename": "AssertionError",
     "evalue": "Длина списка должна быть не больше пяти",
     "output_type": "error",
     "traceback": [
      "\u001B[1;31m---------------------------------------------------------------------------\u001B[0m",
      "\u001B[1;31mAssertionError\u001B[0m                            Traceback (most recent call last)",
      "Cell \u001B[1;32mIn[33], line 8\u001B[0m\n\u001B[0;32m      4\u001B[0m     numbers\u001B[38;5;241m.\u001B[39mappend(\u001B[38;5;241m0\u001B[39m)\n\u001B[0;32m      6\u001B[0m append_zero()\n\u001B[1;32m----> 8\u001B[0m \u001B[38;5;28;01massert\u001B[39;00m \u001B[38;5;28mlen\u001B[39m(numbers) \u001B[38;5;241m<\u001B[39m\u001B[38;5;241m=\u001B[39m \u001B[38;5;241m5\u001B[39m, \u001B[38;5;124m'\u001B[39m\u001B[38;5;124mДлина списка должна быть не больше пяти\u001B[39m\u001B[38;5;124m'\u001B[39m\n",
      "\u001B[1;31mAssertionError\u001B[0m: Длина списка должна быть не больше пяти"
     ]
    }
   ],
   "source": [
    "numbers = [1, 2, 3, 4, 5]\n",
    "\n",
    "def append_zero():\n",
    "    numbers.append(0)\n",
    "    \n",
    "append_zero()\n",
    "\n",
    "assert len(numbers) <= 5, 'Длина списка должна быть не больше пяти'"
   ],
   "metadata": {
    "collapsed": false,
    "ExecuteTime": {
     "end_time": "2024-12-02T13:43:26.939913500Z",
     "start_time": "2024-12-02T13:43:26.928911800Z"
    }
   },
   "id": "51b04632def3a274"
  }
 ],
 "metadata": {
  "kernelspec": {
   "display_name": "Python 3",
   "language": "python",
   "name": "python3"
  },
  "language_info": {
   "codemirror_mode": {
    "name": "ipython",
    "version": 2
   },
   "file_extension": ".py",
   "mimetype": "text/x-python",
   "name": "python",
   "nbconvert_exporter": "python",
   "pygments_lexer": "ipython2",
   "version": "2.7.6"
  }
 },
 "nbformat": 4,
 "nbformat_minor": 5
}
